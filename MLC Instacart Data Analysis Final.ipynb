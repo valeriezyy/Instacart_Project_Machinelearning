{
 "cells": [
  {
   "cell_type": "code",
   "execution_count": 3,
   "metadata": {},
   "outputs": [],
   "source": [
    "import pandas as pd\n",
    "import matplotlib.pyplot as plt\n",
    "import numpy as np\n",
    "import seaborn as sns\n"
   ]
  },
  {
   "cell_type": "code",
   "execution_count": 4,
   "metadata": {},
   "outputs": [],
   "source": [
    "#Read in csv files\n",
    "\n",
    "\n",
    "#full order record\n",
    "#order_id, user_id, eval_set, order_number, order_dow, order_hour_of_day, days_since_prior_order\n",
    "orders = pd.read_csv('Data/orders.csv')\n",
    "\n",
    "#product info: product_id, product_name, aisle_id, department_id\n",
    "products = pd.read_csv('Data/products.csv')\n",
    "#aisles info: aisle_id, aisle\n",
    "aisles = pd.read_csv('Data/aisles.csv')\n",
    "#food departments info: department_id, department\n",
    "departments = pd.read_csv('Data/departments.csv')\n",
    "\n",
    "#order_id,product_id,add_to_cart_order,reordered\n",
    "#data training file \n",
    "order_products_train = pd.read_csv('Data/order_products__train.csv') #1384617 rows\n",
    "#data testing file \n",
    "orders_products_test = orders[orders.loc[:,'eval_set']== 'test'] #75000 rows × 7 columns\n",
    "\n",
    "#order details: order_id, product_id, add_to_cart_order, reordered\n",
    "order_products_prior = pd.read_csv('Data/order_products__prior.csv') #32434489 rows\n",
    "\n"
   ]
  },
  {
   "cell_type": "markdown",
   "metadata": {},
   "source": [
    "### I. Exploratory Data Analysis"
   ]
  },
  {
   "cell_type": "code",
   "execution_count": 5,
   "metadata": {},
   "outputs": [
    {
     "data": {
      "text/html": [
       "<div>\n",
       "<style scoped>\n",
       "    .dataframe tbody tr th:only-of-type {\n",
       "        vertical-align: middle;\n",
       "    }\n",
       "\n",
       "    .dataframe tbody tr th {\n",
       "        vertical-align: top;\n",
       "    }\n",
       "\n",
       "    .dataframe thead th {\n",
       "        text-align: right;\n",
       "    }\n",
       "</style>\n",
       "<table border=\"1\" class=\"dataframe\">\n",
       "  <thead>\n",
       "    <tr style=\"text-align: right;\">\n",
       "      <th></th>\n",
       "      <th>order_id</th>\n",
       "      <th>user_id</th>\n",
       "      <th>eval_set</th>\n",
       "      <th>order_number</th>\n",
       "      <th>order_dow</th>\n",
       "      <th>order_hour_of_day</th>\n",
       "      <th>days_since_prior_order</th>\n",
       "    </tr>\n",
       "  </thead>\n",
       "  <tbody>\n",
       "    <tr>\n",
       "      <th>0</th>\n",
       "      <td>2539329</td>\n",
       "      <td>1</td>\n",
       "      <td>prior</td>\n",
       "      <td>1</td>\n",
       "      <td>2</td>\n",
       "      <td>8</td>\n",
       "      <td>NaN</td>\n",
       "    </tr>\n",
       "    <tr>\n",
       "      <th>1</th>\n",
       "      <td>2398795</td>\n",
       "      <td>1</td>\n",
       "      <td>prior</td>\n",
       "      <td>2</td>\n",
       "      <td>3</td>\n",
       "      <td>7</td>\n",
       "      <td>15.0</td>\n",
       "    </tr>\n",
       "    <tr>\n",
       "      <th>2</th>\n",
       "      <td>473747</td>\n",
       "      <td>1</td>\n",
       "      <td>prior</td>\n",
       "      <td>3</td>\n",
       "      <td>3</td>\n",
       "      <td>12</td>\n",
       "      <td>21.0</td>\n",
       "    </tr>\n",
       "    <tr>\n",
       "      <th>3</th>\n",
       "      <td>2254736</td>\n",
       "      <td>1</td>\n",
       "      <td>prior</td>\n",
       "      <td>4</td>\n",
       "      <td>4</td>\n",
       "      <td>7</td>\n",
       "      <td>29.0</td>\n",
       "    </tr>\n",
       "    <tr>\n",
       "      <th>4</th>\n",
       "      <td>431534</td>\n",
       "      <td>1</td>\n",
       "      <td>prior</td>\n",
       "      <td>5</td>\n",
       "      <td>4</td>\n",
       "      <td>15</td>\n",
       "      <td>28.0</td>\n",
       "    </tr>\n",
       "  </tbody>\n",
       "</table>\n",
       "</div>"
      ],
      "text/plain": [
       "   order_id  user_id eval_set  order_number  order_dow  order_hour_of_day  \\\n",
       "0   2539329        1    prior             1          2                  8   \n",
       "1   2398795        1    prior             2          3                  7   \n",
       "2    473747        1    prior             3          3                 12   \n",
       "3   2254736        1    prior             4          4                  7   \n",
       "4    431534        1    prior             5          4                 15   \n",
       "\n",
       "   days_since_prior_order  \n",
       "0                     NaN  \n",
       "1                    15.0  \n",
       "2                    21.0  \n",
       "3                    29.0  \n",
       "4                    28.0  "
      ]
     },
     "execution_count": 5,
     "metadata": {},
     "output_type": "execute_result"
    }
   ],
   "source": [
    "#Peeak at the first 5 line in order\n",
    "orders.head()\n"
   ]
  },
  {
   "cell_type": "code",
   "execution_count": 6,
   "metadata": {},
   "outputs": [
    {
     "data": {
      "text/html": [
       "<div>\n",
       "<style scoped>\n",
       "    .dataframe tbody tr th:only-of-type {\n",
       "        vertical-align: middle;\n",
       "    }\n",
       "\n",
       "    .dataframe tbody tr th {\n",
       "        vertical-align: top;\n",
       "    }\n",
       "\n",
       "    .dataframe thead th {\n",
       "        text-align: right;\n",
       "    }\n",
       "</style>\n",
       "<table border=\"1\" class=\"dataframe\">\n",
       "  <thead>\n",
       "    <tr style=\"text-align: right;\">\n",
       "      <th></th>\n",
       "      <th>order_id</th>\n",
       "      <th>product_id</th>\n",
       "      <th>add_to_cart_order</th>\n",
       "      <th>reordered</th>\n",
       "    </tr>\n",
       "  </thead>\n",
       "  <tbody>\n",
       "    <tr>\n",
       "      <th>0</th>\n",
       "      <td>2</td>\n",
       "      <td>33120</td>\n",
       "      <td>1</td>\n",
       "      <td>1</td>\n",
       "    </tr>\n",
       "    <tr>\n",
       "      <th>1</th>\n",
       "      <td>2</td>\n",
       "      <td>28985</td>\n",
       "      <td>2</td>\n",
       "      <td>1</td>\n",
       "    </tr>\n",
       "    <tr>\n",
       "      <th>2</th>\n",
       "      <td>2</td>\n",
       "      <td>9327</td>\n",
       "      <td>3</td>\n",
       "      <td>0</td>\n",
       "    </tr>\n",
       "    <tr>\n",
       "      <th>3</th>\n",
       "      <td>2</td>\n",
       "      <td>45918</td>\n",
       "      <td>4</td>\n",
       "      <td>1</td>\n",
       "    </tr>\n",
       "    <tr>\n",
       "      <th>4</th>\n",
       "      <td>2</td>\n",
       "      <td>30035</td>\n",
       "      <td>5</td>\n",
       "      <td>0</td>\n",
       "    </tr>\n",
       "  </tbody>\n",
       "</table>\n",
       "</div>"
      ],
      "text/plain": [
       "   order_id  product_id  add_to_cart_order  reordered\n",
       "0         2       33120                  1          1\n",
       "1         2       28985                  2          1\n",
       "2         2        9327                  3          0\n",
       "3         2       45918                  4          1\n",
       "4         2       30035                  5          0"
      ]
     },
     "execution_count": 6,
     "metadata": {},
     "output_type": "execute_result"
    }
   ],
   "source": [
    "order_products_prior.head()"
   ]
  },
  {
   "cell_type": "code",
   "execution_count": 7,
   "metadata": {},
   "outputs": [
    {
     "data": {
      "text/html": [
       "<div>\n",
       "<style scoped>\n",
       "    .dataframe tbody tr th:only-of-type {\n",
       "        vertical-align: middle;\n",
       "    }\n",
       "\n",
       "    .dataframe tbody tr th {\n",
       "        vertical-align: top;\n",
       "    }\n",
       "\n",
       "    .dataframe thead th {\n",
       "        text-align: right;\n",
       "    }\n",
       "</style>\n",
       "<table border=\"1\" class=\"dataframe\">\n",
       "  <thead>\n",
       "    <tr style=\"text-align: right;\">\n",
       "      <th></th>\n",
       "      <th>product_id</th>\n",
       "      <th>product_name</th>\n",
       "      <th>aisle_id</th>\n",
       "      <th>department_id</th>\n",
       "    </tr>\n",
       "  </thead>\n",
       "  <tbody>\n",
       "    <tr>\n",
       "      <th>0</th>\n",
       "      <td>1</td>\n",
       "      <td>Chocolate Sandwich Cookies</td>\n",
       "      <td>61</td>\n",
       "      <td>19</td>\n",
       "    </tr>\n",
       "    <tr>\n",
       "      <th>1</th>\n",
       "      <td>2</td>\n",
       "      <td>All-Seasons Salt</td>\n",
       "      <td>104</td>\n",
       "      <td>13</td>\n",
       "    </tr>\n",
       "    <tr>\n",
       "      <th>2</th>\n",
       "      <td>3</td>\n",
       "      <td>Robust Golden Unsweetened Oolong Tea</td>\n",
       "      <td>94</td>\n",
       "      <td>7</td>\n",
       "    </tr>\n",
       "    <tr>\n",
       "      <th>3</th>\n",
       "      <td>4</td>\n",
       "      <td>Smart Ones Classic Favorites Mini Rigatoni Wit...</td>\n",
       "      <td>38</td>\n",
       "      <td>1</td>\n",
       "    </tr>\n",
       "    <tr>\n",
       "      <th>4</th>\n",
       "      <td>5</td>\n",
       "      <td>Green Chile Anytime Sauce</td>\n",
       "      <td>5</td>\n",
       "      <td>13</td>\n",
       "    </tr>\n",
       "  </tbody>\n",
       "</table>\n",
       "</div>"
      ],
      "text/plain": [
       "   product_id                                       product_name  aisle_id  \\\n",
       "0           1                         Chocolate Sandwich Cookies        61   \n",
       "1           2                                   All-Seasons Salt       104   \n",
       "2           3               Robust Golden Unsweetened Oolong Tea        94   \n",
       "3           4  Smart Ones Classic Favorites Mini Rigatoni Wit...        38   \n",
       "4           5                          Green Chile Anytime Sauce         5   \n",
       "\n",
       "   department_id  \n",
       "0             19  \n",
       "1             13  \n",
       "2              7  \n",
       "3              1  \n",
       "4             13  "
      ]
     },
     "execution_count": 7,
     "metadata": {},
     "output_type": "execute_result"
    }
   ],
   "source": [
    "products.head() #321 4874\n"
   ]
  },
  {
   "cell_type": "code",
   "execution_count": 8,
   "metadata": {},
   "outputs": [],
   "source": [
    "#Merge orders and order_products_prior on order_id\n",
    "orders_products1 = orders.merge(order_products_prior, left_on = 'order_id', right_on = 'order_id', left_index = True)\n"
   ]
  },
  {
   "cell_type": "code",
   "execution_count": 9,
   "metadata": {},
   "outputs": [],
   "source": [
    "#Merge orders_products and product on product_id\n",
    "orders_products = orders_products1.merge(products, left_on = 'product_id', right_on = 'product_id', left_index = True)\n"
   ]
  },
  {
   "cell_type": "code",
   "execution_count": 10,
   "metadata": {},
   "outputs": [
    {
     "data": {
      "text/plain": [
       "(32434489, 13)"
      ]
     },
     "execution_count": 10,
     "metadata": {},
     "output_type": "execute_result"
    }
   ],
   "source": [
    "orders_products.shape"
   ]
  },
  {
   "cell_type": "code",
   "execution_count": 11,
   "metadata": {},
   "outputs": [
    {
     "data": {
      "text/html": [
       "<div>\n",
       "<style scoped>\n",
       "    .dataframe tbody tr th:only-of-type {\n",
       "        vertical-align: middle;\n",
       "    }\n",
       "\n",
       "    .dataframe tbody tr th {\n",
       "        vertical-align: top;\n",
       "    }\n",
       "\n",
       "    .dataframe thead th {\n",
       "        text-align: right;\n",
       "    }\n",
       "</style>\n",
       "<table border=\"1\" class=\"dataframe\">\n",
       "  <thead>\n",
       "    <tr style=\"text-align: right;\">\n",
       "      <th></th>\n",
       "      <th>order_id</th>\n",
       "      <th>user_id</th>\n",
       "      <th>eval_set</th>\n",
       "      <th>order_number</th>\n",
       "      <th>order_dow</th>\n",
       "      <th>order_hour_of_day</th>\n",
       "      <th>days_since_prior_order</th>\n",
       "      <th>product_id</th>\n",
       "      <th>add_to_cart_order</th>\n",
       "      <th>reordered</th>\n",
       "      <th>product_name</th>\n",
       "      <th>aisle_id</th>\n",
       "      <th>department_id</th>\n",
       "    </tr>\n",
       "  </thead>\n",
       "  <tbody>\n",
       "    <tr>\n",
       "      <th>195</th>\n",
       "      <td>2539329</td>\n",
       "      <td>1</td>\n",
       "      <td>prior</td>\n",
       "      <td>1</td>\n",
       "      <td>2</td>\n",
       "      <td>8</td>\n",
       "      <td>NaN</td>\n",
       "      <td>196</td>\n",
       "      <td>1</td>\n",
       "      <td>0</td>\n",
       "      <td>Soda</td>\n",
       "      <td>77</td>\n",
       "      <td>7</td>\n",
       "    </tr>\n",
       "    <tr>\n",
       "      <th>195</th>\n",
       "      <td>2398795</td>\n",
       "      <td>1</td>\n",
       "      <td>prior</td>\n",
       "      <td>2</td>\n",
       "      <td>3</td>\n",
       "      <td>7</td>\n",
       "      <td>15.0</td>\n",
       "      <td>196</td>\n",
       "      <td>1</td>\n",
       "      <td>1</td>\n",
       "      <td>Soda</td>\n",
       "      <td>77</td>\n",
       "      <td>7</td>\n",
       "    </tr>\n",
       "    <tr>\n",
       "      <th>195</th>\n",
       "      <td>473747</td>\n",
       "      <td>1</td>\n",
       "      <td>prior</td>\n",
       "      <td>3</td>\n",
       "      <td>3</td>\n",
       "      <td>12</td>\n",
       "      <td>21.0</td>\n",
       "      <td>196</td>\n",
       "      <td>1</td>\n",
       "      <td>1</td>\n",
       "      <td>Soda</td>\n",
       "      <td>77</td>\n",
       "      <td>7</td>\n",
       "    </tr>\n",
       "    <tr>\n",
       "      <th>195</th>\n",
       "      <td>2254736</td>\n",
       "      <td>1</td>\n",
       "      <td>prior</td>\n",
       "      <td>4</td>\n",
       "      <td>4</td>\n",
       "      <td>7</td>\n",
       "      <td>29.0</td>\n",
       "      <td>196</td>\n",
       "      <td>1</td>\n",
       "      <td>1</td>\n",
       "      <td>Soda</td>\n",
       "      <td>77</td>\n",
       "      <td>7</td>\n",
       "    </tr>\n",
       "    <tr>\n",
       "      <th>195</th>\n",
       "      <td>431534</td>\n",
       "      <td>1</td>\n",
       "      <td>prior</td>\n",
       "      <td>5</td>\n",
       "      <td>4</td>\n",
       "      <td>15</td>\n",
       "      <td>28.0</td>\n",
       "      <td>196</td>\n",
       "      <td>1</td>\n",
       "      <td>1</td>\n",
       "      <td>Soda</td>\n",
       "      <td>77</td>\n",
       "      <td>7</td>\n",
       "    </tr>\n",
       "  </tbody>\n",
       "</table>\n",
       "</div>"
      ],
      "text/plain": [
       "     order_id  user_id eval_set  order_number  order_dow  order_hour_of_day  \\\n",
       "195   2539329        1    prior             1          2                  8   \n",
       "195   2398795        1    prior             2          3                  7   \n",
       "195    473747        1    prior             3          3                 12   \n",
       "195   2254736        1    prior             4          4                  7   \n",
       "195    431534        1    prior             5          4                 15   \n",
       "\n",
       "     days_since_prior_order  product_id  add_to_cart_order  reordered  \\\n",
       "195                     NaN         196                  1          0   \n",
       "195                    15.0         196                  1          1   \n",
       "195                    21.0         196                  1          1   \n",
       "195                    29.0         196                  1          1   \n",
       "195                    28.0         196                  1          1   \n",
       "\n",
       "    product_name  aisle_id  department_id  \n",
       "195         Soda        77              7  \n",
       "195         Soda        77              7  \n",
       "195         Soda        77              7  \n",
       "195         Soda        77              7  \n",
       "195         Soda        77              7  "
      ]
     },
     "execution_count": 11,
     "metadata": {},
     "output_type": "execute_result"
    }
   ],
   "source": [
    "orders_products.head()"
   ]
  },
  {
   "cell_type": "code",
   "execution_count": 12,
   "metadata": {},
   "outputs": [
    {
     "data": {
      "text/plain": [
       "206209"
      ]
     },
     "execution_count": 12,
     "metadata": {},
     "output_type": "execute_result"
    }
   ],
   "source": [
    "#order count group by 'user_id'\n",
    "order_count_userID = orders_products.groupby('order_id').count() #3214874 rows\n",
    "#find unique users\n",
    "users = orders_products['user_id'].unique() #206209 users\n",
    "len(users)"
   ]
  },
  {
   "cell_type": "code",
   "execution_count": 13,
   "metadata": {},
   "outputs": [],
   "source": [
    "#order count group by 'order_dow'\n",
    "order_count_dow = orders_products.groupby(['order_dow']).agg({'order_id': pd.Series.nunique})    # count()\n",
    "order_count_dow = order_count_dow.rename(columns = {\"order_id\": \"unique_order_count\"})"
   ]
  },
  {
   "cell_type": "code",
   "execution_count": 14,
   "metadata": {},
   "outputs": [
    {
     "data": {
      "text/html": [
       "<div>\n",
       "<style scoped>\n",
       "    .dataframe tbody tr th:only-of-type {\n",
       "        vertical-align: middle;\n",
       "    }\n",
       "\n",
       "    .dataframe tbody tr th {\n",
       "        vertical-align: top;\n",
       "    }\n",
       "\n",
       "    .dataframe thead th {\n",
       "        text-align: right;\n",
       "    }\n",
       "</style>\n",
       "<table border=\"1\" class=\"dataframe\">\n",
       "  <thead>\n",
       "    <tr style=\"text-align: right;\">\n",
       "      <th></th>\n",
       "      <th>unique_order_count</th>\n",
       "    </tr>\n",
       "    <tr>\n",
       "      <th>order_dow</th>\n",
       "      <th></th>\n",
       "    </tr>\n",
       "  </thead>\n",
       "  <tbody>\n",
       "    <tr>\n",
       "      <th>0</th>\n",
       "      <td>557772</td>\n",
       "    </tr>\n",
       "    <tr>\n",
       "      <th>1</th>\n",
       "      <td>556705</td>\n",
       "    </tr>\n",
       "    <tr>\n",
       "      <th>2</th>\n",
       "      <td>441955</td>\n",
       "    </tr>\n",
       "    <tr>\n",
       "      <th>3</th>\n",
       "      <td>412400</td>\n",
       "    </tr>\n",
       "    <tr>\n",
       "      <th>4</th>\n",
       "      <td>401212</td>\n",
       "    </tr>\n",
       "    <tr>\n",
       "      <th>5</th>\n",
       "      <td>425982</td>\n",
       "    </tr>\n",
       "    <tr>\n",
       "      <th>6</th>\n",
       "      <td>418848</td>\n",
       "    </tr>\n",
       "  </tbody>\n",
       "</table>\n",
       "</div>"
      ],
      "text/plain": [
       "           unique_order_count\n",
       "order_dow                    \n",
       "0                      557772\n",
       "1                      556705\n",
       "2                      441955\n",
       "3                      412400\n",
       "4                      401212\n",
       "5                      425982\n",
       "6                      418848"
      ]
     },
     "execution_count": 14,
     "metadata": {},
     "output_type": "execute_result"
    }
   ],
   "source": [
    "order_count_dow"
   ]
  },
  {
   "cell_type": "code",
   "execution_count": 15,
   "metadata": {},
   "outputs": [
    {
     "data": {
      "text/plain": [
       "Text(0, 0.5, 'Unique Order Count')"
      ]
     },
     "execution_count": 15,
     "metadata": {},
     "output_type": "execute_result"
    },
    {
     "data": {
      "image/png": "[encoded data removed]",
      "text/plain": [
       "<Figure size 432x288 with 1 Axes>"
      ]
     },
     "metadata": {
      "needs_background": "light"
     },
     "output_type": "display_data"
    }
   ],
   "source": [
    "#plot dow vs. order count\n",
    "\n",
    "#plt = order_count_dow['order_id'].plot()\n",
    "#plt.title('Day of week VS. Order Count')\n",
    "#plt.show()\n",
    "\n",
    "ax = sns.barplot(x = order_count_dow.index , y = \"unique_order_count\", data=order_count_dow, capsize=.2)\n",
    "ax.set_title(\"Day of week VS. Unique Order Count\")\n",
    "ax.set_xlabel('Day of Week')\n",
    "ax.set_ylabel('Unique Order Count')\n"
   ]
  },
  {
   "cell_type": "code",
   "execution_count": 16,
   "metadata": {},
   "outputs": [],
   "source": [
    "#Group by order_hour_of_day and count the number of orders\n",
    "order_count_hod = orders_products.groupby(['order_hour_of_day']).agg({'order_id': pd.Series.nunique}).reset_index()\n",
    "order_count_hod = order_count_hod.rename(columns = {\"order_id\": \"unique_order_count\"})\n"
   ]
  },
  {
   "cell_type": "code",
   "execution_count": 17,
   "metadata": {},
   "outputs": [
    {
     "data": {
      "text/plain": [
       "[(0, 24)]"
      ]
     },
     "execution_count": 17,
     "metadata": {},
     "output_type": "execute_result"
    },
    {
     "data": {
      "image/png": "[encoded data removed]",
      "text/plain": [
       "<Figure size 1080x576 with 1 Axes>"
      ]
     },
     "metadata": {
      "needs_background": "light"
     },
     "output_type": "display_data"
    }
   ],
   "source": [
    "#plot order_hour_of_day vs. order count\n",
    "import matplotlib.pyplot as plt\n",
    "\n",
    "fig_dims = (15, 8)\n",
    "fig, ax = plt.subplots(figsize=fig_dims)\n",
    "sns.barplot(x = 'order_hour_of_day' , y = 'unique_order_count',  ax=ax, data=order_count_hod, capsize=.2)\n",
    "ax.set_title(\"Hour of Day VS. Unique Order Count\")\n",
    "ax.set_xlabel('Hour of Day')\n",
    "ax.set_ylabel('Unique Order Count')\n",
    "ax.set(xlim=(0,24))\n"
   ]
  },
  {
   "cell_type": "code",
   "execution_count": 18,
   "metadata": {},
   "outputs": [],
   "source": [
    "#Group by product_id and count the number of orders\n",
    "order_count_productId = orders_products.groupby(['product_id'])['order_id'].count() \\\n",
    "                        .reset_index().sort_values(by=['order_id'],ascending=False)\n",
    "order_count_productId = order_count_productId.rename(columns = {\"order_id\": \"total_order_count\"})\n"
   ]
  },
  {
   "cell_type": "code",
   "execution_count": 19,
   "metadata": {},
   "outputs": [],
   "source": [
    "#Merge order_count_productId with products info\n",
    "order_count_productIdInfo = order_count_productId.merge(products, left_on = 'product_id', right_on = 'product_id',left_index = True)\n",
    "#Get the top 20 popular products \n",
    "product_top20 = order_count_productIdInfo.head(20)\n"
   ]
  },
  {
   "cell_type": "code",
   "execution_count": 20,
   "metadata": {},
   "outputs": [
    {
     "data": {
      "text/plain": [
       "Text(0, 0.5, 'Total Order Count')"
      ]
     },
     "execution_count": 20,
     "metadata": {},
     "output_type": "execute_result"
    },
    {
     "data": {
      "image/png": "[encoded data removed]",
      "text/plain": [
       "<Figure size 1800x1080 with 1 Axes>"
      ]
     },
     "metadata": {
      "needs_background": "light"
     },
     "output_type": "display_data"
    }
   ],
   "source": [
    "#Product Name VS. Order Count\n",
    "fig_dims = (25, 15)\n",
    "fig, ax = plt.subplots(figsize=fig_dims)\n",
    "sns.barplot(x = 'total_order_count' , y = 'product_name',  ax=ax, data=product_top20, capsize=.2)\n",
    "ax.set_title(\"Product Name VS. Total Order Count\")\n",
    "ax.set_xlabel('Product Name')\n",
    "ax.set_ylabel('Total Order Count')\n",
    "#ax.set(xlim=(0,20))\n"
   ]
  },
  {
   "cell_type": "code",
   "execution_count": 21,
   "metadata": {},
   "outputs": [],
   "source": [
    "#Group by user_id and count the number of orders (order_id) by each user\n",
    "userID_order = orders_products.groupby('user_id').agg({'order_id': pd.Series.nunique}).reset_index()\n",
    "#userID_order = orders_products.groupby('user_id')['order_number'].count().reset_index()\n",
    "userID_order = userID_order.rename(columns = {\"order_id\": \"unique_order_count\"})\n"
   ]
  },
  {
   "cell_type": "code",
   "execution_count": 22,
   "metadata": {},
   "outputs": [
    {
     "data": {
      "text/html": [
       "<div>\n",
       "<style scoped>\n",
       "    .dataframe tbody tr th:only-of-type {\n",
       "        vertical-align: middle;\n",
       "    }\n",
       "\n",
       "    .dataframe tbody tr th {\n",
       "        vertical-align: top;\n",
       "    }\n",
       "\n",
       "    .dataframe thead th {\n",
       "        text-align: right;\n",
       "    }\n",
       "</style>\n",
       "<table border=\"1\" class=\"dataframe\">\n",
       "  <thead>\n",
       "    <tr style=\"text-align: right;\">\n",
       "      <th></th>\n",
       "      <th>user_id</th>\n",
       "      <th>unique_order_count</th>\n",
       "    </tr>\n",
       "  </thead>\n",
       "  <tbody>\n",
       "    <tr>\n",
       "      <th>0</th>\n",
       "      <td>1</td>\n",
       "      <td>10</td>\n",
       "    </tr>\n",
       "    <tr>\n",
       "      <th>1</th>\n",
       "      <td>2</td>\n",
       "      <td>14</td>\n",
       "    </tr>\n",
       "    <tr>\n",
       "      <th>2</th>\n",
       "      <td>3</td>\n",
       "      <td>12</td>\n",
       "    </tr>\n",
       "    <tr>\n",
       "      <th>3</th>\n",
       "      <td>4</td>\n",
       "      <td>5</td>\n",
       "    </tr>\n",
       "    <tr>\n",
       "      <th>4</th>\n",
       "      <td>5</td>\n",
       "      <td>4</td>\n",
       "    </tr>\n",
       "    <tr>\n",
       "      <th>5</th>\n",
       "      <td>6</td>\n",
       "      <td>3</td>\n",
       "    </tr>\n",
       "    <tr>\n",
       "      <th>6</th>\n",
       "      <td>7</td>\n",
       "      <td>20</td>\n",
       "    </tr>\n",
       "    <tr>\n",
       "      <th>7</th>\n",
       "      <td>8</td>\n",
       "      <td>3</td>\n",
       "    </tr>\n",
       "    <tr>\n",
       "      <th>8</th>\n",
       "      <td>9</td>\n",
       "      <td>3</td>\n",
       "    </tr>\n",
       "    <tr>\n",
       "      <th>9</th>\n",
       "      <td>10</td>\n",
       "      <td>5</td>\n",
       "    </tr>\n",
       "  </tbody>\n",
       "</table>\n",
       "</div>"
      ],
      "text/plain": [
       "   user_id  unique_order_count\n",
       "0        1                  10\n",
       "1        2                  14\n",
       "2        3                  12\n",
       "3        4                   5\n",
       "4        5                   4\n",
       "5        6                   3\n",
       "6        7                  20\n",
       "7        8                   3\n",
       "8        9                   3\n",
       "9       10                   5"
      ]
     },
     "execution_count": 22,
     "metadata": {},
     "output_type": "execute_result"
    }
   ],
   "source": [
    "userID_order.head(10)"
   ]
  },
  {
   "cell_type": "code",
   "execution_count": 23,
   "metadata": {},
   "outputs": [],
   "source": [
    "#Group by unique_order_count and count the number of users\n",
    "userID_order2 = userID_order.groupby('unique_order_count').count().reset_index()\n",
    "userID_order2 = userID_order2.rename(columns = {\"user_id\": \"user_id_count\"})\n"
   ]
  },
  {
   "cell_type": "code",
   "execution_count": 24,
   "metadata": {},
   "outputs": [
    {
     "data": {
      "text/plain": [
       "(97, 2)"
      ]
     },
     "execution_count": 24,
     "metadata": {},
     "output_type": "execute_result"
    }
   ],
   "source": [
    "userID_order2.shape"
   ]
  },
  {
   "cell_type": "code",
   "execution_count": 25,
   "metadata": {},
   "outputs": [
    {
     "data": {
      "text/html": [
       "<div>\n",
       "<style scoped>\n",
       "    .dataframe tbody tr th:only-of-type {\n",
       "        vertical-align: middle;\n",
       "    }\n",
       "\n",
       "    .dataframe tbody tr th {\n",
       "        vertical-align: top;\n",
       "    }\n",
       "\n",
       "    .dataframe thead th {\n",
       "        text-align: right;\n",
       "    }\n",
       "</style>\n",
       "<table border=\"1\" class=\"dataframe\">\n",
       "  <thead>\n",
       "    <tr style=\"text-align: right;\">\n",
       "      <th></th>\n",
       "      <th>unique_order_count</th>\n",
       "      <th>user_id_count</th>\n",
       "    </tr>\n",
       "  </thead>\n",
       "  <tbody>\n",
       "    <tr>\n",
       "      <th>92</th>\n",
       "      <td>95</td>\n",
       "      <td>67</td>\n",
       "    </tr>\n",
       "    <tr>\n",
       "      <th>93</th>\n",
       "      <td>96</td>\n",
       "      <td>54</td>\n",
       "    </tr>\n",
       "    <tr>\n",
       "      <th>94</th>\n",
       "      <td>97</td>\n",
       "      <td>50</td>\n",
       "    </tr>\n",
       "    <tr>\n",
       "      <th>95</th>\n",
       "      <td>98</td>\n",
       "      <td>47</td>\n",
       "    </tr>\n",
       "    <tr>\n",
       "      <th>96</th>\n",
       "      <td>99</td>\n",
       "      <td>1374</td>\n",
       "    </tr>\n",
       "  </tbody>\n",
       "</table>\n",
       "</div>"
      ],
      "text/plain": [
       "    unique_order_count  user_id_count\n",
       "92                  95             67\n",
       "93                  96             54\n",
       "94                  97             50\n",
       "95                  98             47\n",
       "96                  99           1374"
      ]
     },
     "execution_count": 25,
     "metadata": {},
     "output_type": "execute_result"
    }
   ],
   "source": [
    "userID_order2.tail()"
   ]
  },
  {
   "cell_type": "code",
   "execution_count": 26,
   "metadata": {
    "scrolled": false
   },
   "outputs": [
    {
     "data": {
      "text/plain": [
       "Text(0, 0.5, 'Count of Users')"
      ]
     },
     "execution_count": 26,
     "metadata": {},
     "output_type": "execute_result"
    },
    {
     "data": {
      "image/png": "[encoded data removed]",
      "text/plain": [
       "<Figure size 720x576 with 1 Axes>"
      ]
     },
     "metadata": {
      "needs_background": "light"
     },
     "output_type": "display_data"
    }
   ],
   "source": [
    "#plot: Count of Total Orders VS. Count of Users\n",
    "fig_dims = (10, 8)\n",
    "fig, ax = plt.subplots(figsize=fig_dims)\n",
    "sns.lineplot(x = 'unique_order_count' , y = 'user_id_count',  ax=ax, data=userID_order2)\n",
    "ax.set_title(\"Total Unique Order Counts VS. Unique Users\")\n",
    "ax.set_xlabel('Count of Unique Orders')\n",
    "ax.set_ylabel('Count of Users')\n",
    "#ax.set(xlim=(0,20))\n"
   ]
  },
  {
   "cell_type": "code",
   "execution_count": 27,
   "metadata": {},
   "outputs": [
    {
     "data": {
      "text/plain": [
       "user_id               103105.000000\n",
       "unique_order_count        15.590367\n",
       "dtype: float64"
      ]
     },
     "execution_count": 27,
     "metadata": {},
     "output_type": "execute_result"
    }
   ],
   "source": [
    "userID_order.mean() #.sort_values(ascending = False)[:100]"
   ]
  },
  {
   "cell_type": "code",
   "execution_count": 28,
   "metadata": {},
   "outputs": [],
   "source": [
    "#Group by order_dow and order_hour_of_day to find the count of unique orders\n",
    "dow_hod_order_count = orders_products.loc[:,['order_dow','order_hour_of_day','order_id']].\\\n",
    "                    groupby(['order_dow','order_hour_of_day']).agg({'order_id': pd.Series.nunique}).reset_index()\n",
    "dow_hod_order_count = dow_hod_order_count.rename(columns = {\"order_id\": \"unique_order_count\"})\n"
   ]
  },
  {
   "cell_type": "code",
   "execution_count": 29,
   "metadata": {},
   "outputs": [
    {
     "data": {
      "text/html": [
       "<div>\n",
       "<style scoped>\n",
       "    .dataframe tbody tr th:only-of-type {\n",
       "        vertical-align: middle;\n",
       "    }\n",
       "\n",
       "    .dataframe tbody tr th {\n",
       "        vertical-align: top;\n",
       "    }\n",
       "\n",
       "    .dataframe thead th {\n",
       "        text-align: right;\n",
       "    }\n",
       "</style>\n",
       "<table border=\"1\" class=\"dataframe\">\n",
       "  <thead>\n",
       "    <tr style=\"text-align: right;\">\n",
       "      <th></th>\n",
       "      <th>order_dow</th>\n",
       "      <th>order_hour_of_day</th>\n",
       "      <th>unique_order_count</th>\n",
       "    </tr>\n",
       "  </thead>\n",
       "  <tbody>\n",
       "    <tr>\n",
       "      <th>0</th>\n",
       "      <td>0</td>\n",
       "      <td>0</td>\n",
       "      <td>3692</td>\n",
       "    </tr>\n",
       "    <tr>\n",
       "      <th>1</th>\n",
       "      <td>0</td>\n",
       "      <td>1</td>\n",
       "      <td>2235</td>\n",
       "    </tr>\n",
       "    <tr>\n",
       "      <th>2</th>\n",
       "      <td>0</td>\n",
       "      <td>2</td>\n",
       "      <td>1299</td>\n",
       "    </tr>\n",
       "    <tr>\n",
       "      <th>3</th>\n",
       "      <td>0</td>\n",
       "      <td>3</td>\n",
       "      <td>888</td>\n",
       "    </tr>\n",
       "    <tr>\n",
       "      <th>4</th>\n",
       "      <td>0</td>\n",
       "      <td>4</td>\n",
       "      <td>750</td>\n",
       "    </tr>\n",
       "  </tbody>\n",
       "</table>\n",
       "</div>"
      ],
      "text/plain": [
       "   order_dow  order_hour_of_day  unique_order_count\n",
       "0          0                  0                3692\n",
       "1          0                  1                2235\n",
       "2          0                  2                1299\n",
       "3          0                  3                 888\n",
       "4          0                  4                 750"
      ]
     },
     "execution_count": 29,
     "metadata": {},
     "output_type": "execute_result"
    }
   ],
   "source": [
    "dow_hod_order_count.head()"
   ]
  },
  {
   "cell_type": "code",
   "execution_count": 30,
   "metadata": {},
   "outputs": [
    {
     "data": {
      "image/png": "[encoded data removed]",
      "text/plain": [
       "<Figure size 864x432 with 2 Axes>"
      ]
     },
     "metadata": {
      "needs_background": "light"
     },
     "output_type": "display_data"
    }
   ],
   "source": [
    "#plot a heatmap\n",
    "#y: order_dow\n",
    "#x: order_hour_of_day\n",
    "#value: order_id\n",
    "#dataframe: dow_hod_order_count\n",
    "\n",
    "#Make a pivot table \n",
    "dow_hod_heat = dow_hod_order_count.pivot_table(index='order_dow', columns='order_hour_of_day', values='unique_order_count')\n",
    "#Draw a heat map\n",
    "plt.figure(figsize=(12,6))\n",
    "sns.heatmap(dow_hod_heat,cmap=\"YlGnBu\")\n",
    "plt.title(\"Count of Unique Orders Heatmap VS. Day and Hour\")\n",
    "plt.show()"
   ]
  },
  {
   "cell_type": "code",
   "execution_count": 31,
   "metadata": {},
   "outputs": [
    {
     "data": {
      "text/html": [
       "<div>\n",
       "<style scoped>\n",
       "    .dataframe tbody tr th:only-of-type {\n",
       "        vertical-align: middle;\n",
       "    }\n",
       "\n",
       "    .dataframe tbody tr th {\n",
       "        vertical-align: top;\n",
       "    }\n",
       "\n",
       "    .dataframe thead th {\n",
       "        text-align: right;\n",
       "    }\n",
       "</style>\n",
       "<table border=\"1\" class=\"dataframe\">\n",
       "  <thead>\n",
       "    <tr style=\"text-align: right;\">\n",
       "      <th>order_hour_of_day</th>\n",
       "      <th>0</th>\n",
       "      <th>1</th>\n",
       "      <th>2</th>\n",
       "      <th>3</th>\n",
       "      <th>4</th>\n",
       "      <th>5</th>\n",
       "      <th>6</th>\n",
       "      <th>7</th>\n",
       "      <th>8</th>\n",
       "      <th>9</th>\n",
       "      <th>...</th>\n",
       "      <th>14</th>\n",
       "      <th>15</th>\n",
       "      <th>16</th>\n",
       "      <th>17</th>\n",
       "      <th>18</th>\n",
       "      <th>19</th>\n",
       "      <th>20</th>\n",
       "      <th>21</th>\n",
       "      <th>22</th>\n",
       "      <th>23</th>\n",
       "    </tr>\n",
       "    <tr>\n",
       "      <th>order_dow</th>\n",
       "      <th></th>\n",
       "      <th></th>\n",
       "      <th></th>\n",
       "      <th></th>\n",
       "      <th></th>\n",
       "      <th></th>\n",
       "      <th></th>\n",
       "      <th></th>\n",
       "      <th></th>\n",
       "      <th></th>\n",
       "      <th></th>\n",
       "      <th></th>\n",
       "      <th></th>\n",
       "      <th></th>\n",
       "      <th></th>\n",
       "      <th></th>\n",
       "      <th></th>\n",
       "      <th></th>\n",
       "      <th></th>\n",
       "      <th></th>\n",
       "      <th></th>\n",
       "    </tr>\n",
       "  </thead>\n",
       "  <tbody>\n",
       "    <tr>\n",
       "      <th>0</th>\n",
       "      <td>3692</td>\n",
       "      <td>2235</td>\n",
       "      <td>1299</td>\n",
       "      <td>888</td>\n",
       "      <td>750</td>\n",
       "      <td>1076</td>\n",
       "      <td>3138</td>\n",
       "      <td>11530</td>\n",
       "      <td>26223</td>\n",
       "      <td>37990</td>\n",
       "      <td>...</td>\n",
       "      <td>50484</td>\n",
       "      <td>50020</td>\n",
       "      <td>45930</td>\n",
       "      <td>36874</td>\n",
       "      <td>27347</td>\n",
       "      <td>20972</td>\n",
       "      <td>16984</td>\n",
       "      <td>13425</td>\n",
       "      <td>10440</td>\n",
       "      <td>6393</td>\n",
       "    </tr>\n",
       "    <tr>\n",
       "      <th>1</th>\n",
       "      <td>3475</td>\n",
       "      <td>1735</td>\n",
       "      <td>1063</td>\n",
       "      <td>711</td>\n",
       "      <td>761</td>\n",
       "      <td>1523</td>\n",
       "      <td>5101</td>\n",
       "      <td>15792</td>\n",
       "      <td>32563</td>\n",
       "      <td>49533</td>\n",
       "      <td>...</td>\n",
       "      <td>44220</td>\n",
       "      <td>43913</td>\n",
       "      <td>42200</td>\n",
       "      <td>34610</td>\n",
       "      <td>27293</td>\n",
       "      <td>20926</td>\n",
       "      <td>15422</td>\n",
       "      <td>11292</td>\n",
       "      <td>8458</td>\n",
       "      <td>5322</td>\n",
       "    </tr>\n",
       "    <tr>\n",
       "      <th>2</th>\n",
       "      <td>2906</td>\n",
       "      <td>1485</td>\n",
       "      <td>892</td>\n",
       "      <td>679</td>\n",
       "      <td>700</td>\n",
       "      <td>1330</td>\n",
       "      <td>4524</td>\n",
       "      <td>12550</td>\n",
       "      <td>23488</td>\n",
       "      <td>34499</td>\n",
       "      <td>...</td>\n",
       "      <td>35102</td>\n",
       "      <td>35408</td>\n",
       "      <td>35482</td>\n",
       "      <td>30216</td>\n",
       "      <td>24886</td>\n",
       "      <td>18922</td>\n",
       "      <td>14223</td>\n",
       "      <td>10071</td>\n",
       "      <td>7671</td>\n",
       "      <td>5079</td>\n",
       "    </tr>\n",
       "    <tr>\n",
       "      <th>3</th>\n",
       "      <td>2767</td>\n",
       "      <td>1407</td>\n",
       "      <td>889</td>\n",
       "      <td>605</td>\n",
       "      <td>666</td>\n",
       "      <td>1265</td>\n",
       "      <td>4314</td>\n",
       "      <td>11739</td>\n",
       "      <td>21305</td>\n",
       "      <td>30653</td>\n",
       "      <td>...</td>\n",
       "      <td>32863</td>\n",
       "      <td>33909</td>\n",
       "      <td>33284</td>\n",
       "      <td>28619</td>\n",
       "      <td>23536</td>\n",
       "      <td>18105</td>\n",
       "      <td>13064</td>\n",
       "      <td>9718</td>\n",
       "      <td>7732</td>\n",
       "      <td>4895</td>\n",
       "    </tr>\n",
       "    <tr>\n",
       "      <th>4</th>\n",
       "      <td>2476</td>\n",
       "      <td>1414</td>\n",
       "      <td>837</td>\n",
       "      <td>640</td>\n",
       "      <td>694</td>\n",
       "      <td>1251</td>\n",
       "      <td>4135</td>\n",
       "      <td>11823</td>\n",
       "      <td>20597</td>\n",
       "      <td>29645</td>\n",
       "      <td>...</td>\n",
       "      <td>31665</td>\n",
       "      <td>32095</td>\n",
       "      <td>32175</td>\n",
       "      <td>27577</td>\n",
       "      <td>22872</td>\n",
       "      <td>18194</td>\n",
       "      <td>13351</td>\n",
       "      <td>10169</td>\n",
       "      <td>8274</td>\n",
       "      <td>5308</td>\n",
       "    </tr>\n",
       "    <tr>\n",
       "      <th>5</th>\n",
       "      <td>2989</td>\n",
       "      <td>1539</td>\n",
       "      <td>953</td>\n",
       "      <td>796</td>\n",
       "      <td>857</td>\n",
       "      <td>1466</td>\n",
       "      <td>4573</td>\n",
       "      <td>12590</td>\n",
       "      <td>22623</td>\n",
       "      <td>32258</td>\n",
       "      <td>...</td>\n",
       "      <td>35131</td>\n",
       "      <td>35218</td>\n",
       "      <td>33700</td>\n",
       "      <td>28086</td>\n",
       "      <td>22700</td>\n",
       "      <td>17513</td>\n",
       "      <td>12557</td>\n",
       "      <td>8956</td>\n",
       "      <td>7006</td>\n",
       "      <td>4953</td>\n",
       "    </tr>\n",
       "    <tr>\n",
       "      <th>6</th>\n",
       "      <td>3067</td>\n",
       "      <td>1781</td>\n",
       "      <td>1137</td>\n",
       "      <td>801</td>\n",
       "      <td>747</td>\n",
       "      <td>1061</td>\n",
       "      <td>3007</td>\n",
       "      <td>10632</td>\n",
       "      <td>21522</td>\n",
       "      <td>28918</td>\n",
       "      <td>...</td>\n",
       "      <td>36091</td>\n",
       "      <td>35569</td>\n",
       "      <td>33178</td>\n",
       "      <td>28098</td>\n",
       "      <td>22364</td>\n",
       "      <td>16988</td>\n",
       "      <td>12508</td>\n",
       "      <td>9805</td>\n",
       "      <td>7959</td>\n",
       "      <td>5663</td>\n",
       "    </tr>\n",
       "  </tbody>\n",
       "</table>\n",
       "<p>7 rows × 24 columns</p>\n",
       "</div>"
      ],
      "text/plain": [
       "order_hour_of_day    0     1     2    3    4     5     6      7      8   \\\n",
       "order_dow                                                                 \n",
       "0                  3692  2235  1299  888  750  1076  3138  11530  26223   \n",
       "1                  3475  1735  1063  711  761  1523  5101  15792  32563   \n",
       "2                  2906  1485   892  679  700  1330  4524  12550  23488   \n",
       "3                  2767  1407   889  605  666  1265  4314  11739  21305   \n",
       "4                  2476  1414   837  640  694  1251  4135  11823  20597   \n",
       "5                  2989  1539   953  796  857  1466  4573  12590  22623   \n",
       "6                  3067  1781  1137  801  747  1061  3007  10632  21522   \n",
       "\n",
       "order_hour_of_day     9   ...     14     15     16     17     18     19  \\\n",
       "order_dow                 ...                                             \n",
       "0                  37990  ...  50484  50020  45930  36874  27347  20972   \n",
       "1                  49533  ...  44220  43913  42200  34610  27293  20926   \n",
       "2                  34499  ...  35102  35408  35482  30216  24886  18922   \n",
       "3                  30653  ...  32863  33909  33284  28619  23536  18105   \n",
       "4                  29645  ...  31665  32095  32175  27577  22872  18194   \n",
       "5                  32258  ...  35131  35218  33700  28086  22700  17513   \n",
       "6                  28918  ...  36091  35569  33178  28098  22364  16988   \n",
       "\n",
       "order_hour_of_day     20     21     22    23  \n",
       "order_dow                                     \n",
       "0                  16984  13425  10440  6393  \n",
       "1                  15422  11292   8458  5322  \n",
       "2                  14223  10071   7671  5079  \n",
       "3                  13064   9718   7732  4895  \n",
       "4                  13351  10169   8274  5308  \n",
       "5                  12557   8956   7006  4953  \n",
       "6                  12508   9805   7959  5663  \n",
       "\n",
       "[7 rows x 24 columns]"
      ]
     },
     "execution_count": 31,
     "metadata": {},
     "output_type": "execute_result"
    }
   ],
   "source": [
    "dow_hod_heat"
   ]
  },
  {
   "cell_type": "markdown",
   "metadata": {},
   "source": [
    "### K-means cluster: cluster users by some selected features."
   ]
  },
  {
   "cell_type": "markdown",
   "metadata": {},
   "source": [
    "#### i) Data Cleaning & Feature Selection"
   ]
  },
  {
   "cell_type": "code",
   "execution_count": 32,
   "metadata": {},
   "outputs": [],
   "source": [
    "#K-means features:\n",
    "#For example: a user has placed 5 order; for each order, the user bought 1,4,5,6,13 items; \n",
    "#orders are placed on different day of a week ,at different time of a day\n",
    "\n",
    "#days_since_prior_order_mean, eg. mean(18,15,11,14,9)\n",
    "#order_dow: [0,1] :  eg.2   -> need to normalize by unique_order_id\n",
    "#order_dow: [2,6] :  eg.3   -> need to normalize by unique_order_id\n",
    "#order_hour_of_day: [:,12]:  eg.3    -> need to normalize by unique_order_id\n",
    "#order_hour_of_day: [12,17]: eg.2   -> need to normalize by unique_order_id\n",
    "#order_hour_of_day: [17, :]: eg.0   -> need to normalize by unique_order_id\n",
    "#median of items bought, which should be [max(add_to_cart_order) for each order]:  [1,4,5,6,13]  -> median: 5\n"
   ]
  },
  {
   "cell_type": "markdown",
   "metadata": {},
   "source": [
    "#####calculate days_since_prior_order_mean######\n"
   ]
  },
  {
   "cell_type": "code",
   "execution_count": 33,
   "metadata": {},
   "outputs": [],
   "source": [
    "#Replace NAN values with 0, since we are not counting the first order  \n",
    "orders_products_noNA = orders_products.dropna().loc[:,['order_id','user_id','days_since_prior_order']]"
   ]
  },
  {
   "cell_type": "code",
   "execution_count": 34,
   "metadata": {},
   "outputs": [
    {
     "data": {
      "text/html": [
       "<div>\n",
       "<style scoped>\n",
       "    .dataframe tbody tr th:only-of-type {\n",
       "        vertical-align: middle;\n",
       "    }\n",
       "\n",
       "    .dataframe tbody tr th {\n",
       "        vertical-align: top;\n",
       "    }\n",
       "\n",
       "    .dataframe thead th {\n",
       "        text-align: right;\n",
       "    }\n",
       "</style>\n",
       "<table border=\"1\" class=\"dataframe\">\n",
       "  <thead>\n",
       "    <tr style=\"text-align: right;\">\n",
       "      <th></th>\n",
       "      <th>order_id</th>\n",
       "      <th>user_id</th>\n",
       "      <th>days_since_prior_order</th>\n",
       "    </tr>\n",
       "  </thead>\n",
       "  <tbody>\n",
       "    <tr>\n",
       "      <th>195</th>\n",
       "      <td>2398795</td>\n",
       "      <td>1</td>\n",
       "      <td>15.0</td>\n",
       "    </tr>\n",
       "    <tr>\n",
       "      <th>195</th>\n",
       "      <td>473747</td>\n",
       "      <td>1</td>\n",
       "      <td>21.0</td>\n",
       "    </tr>\n",
       "    <tr>\n",
       "      <th>195</th>\n",
       "      <td>2254736</td>\n",
       "      <td>1</td>\n",
       "      <td>29.0</td>\n",
       "    </tr>\n",
       "    <tr>\n",
       "      <th>195</th>\n",
       "      <td>431534</td>\n",
       "      <td>1</td>\n",
       "      <td>28.0</td>\n",
       "    </tr>\n",
       "    <tr>\n",
       "      <th>195</th>\n",
       "      <td>3367565</td>\n",
       "      <td>1</td>\n",
       "      <td>19.0</td>\n",
       "    </tr>\n",
       "  </tbody>\n",
       "</table>\n",
       "</div>"
      ],
      "text/plain": [
       "     order_id  user_id  days_since_prior_order\n",
       "195   2398795        1                    15.0\n",
       "195    473747        1                    21.0\n",
       "195   2254736        1                    29.0\n",
       "195    431534        1                    28.0\n",
       "195   3367565        1                    19.0"
      ]
     },
     "execution_count": 34,
     "metadata": {},
     "output_type": "execute_result"
    }
   ],
   "source": [
    "orders_products_noNA.head()"
   ]
  },
  {
   "cell_type": "code",
   "execution_count": 35,
   "metadata": {},
   "outputs": [
    {
     "data": {
      "text/plain": [
       "(30356421, 3)"
      ]
     },
     "execution_count": 35,
     "metadata": {},
     "output_type": "execute_result"
    }
   ],
   "source": [
    "orders_products_noNA.shape"
   ]
  },
  {
   "cell_type": "code",
   "execution_count": 36,
   "metadata": {},
   "outputs": [
    {
     "data": {
      "text/plain": [
       "(3008665, 3)"
      ]
     },
     "execution_count": 36,
     "metadata": {},
     "output_type": "execute_result"
    }
   ],
   "source": [
    "#Drop duplicate order_id\n",
    "orders_products_noNA.drop_duplicates(subset =\"order_id\", keep = 'first', inplace = True) \n",
    "orders_products_noNA.shape"
   ]
  },
  {
   "cell_type": "code",
   "execution_count": 37,
   "metadata": {},
   "outputs": [],
   "source": [
    "#count unique order id\n",
    "unique_order_id = orders_products_noNA.groupby('user_id')['order_id'].count()\n",
    "#sum by days_since_prior_order\n",
    "days_since_prior_order_sum = orders_products_noNA.groupby('user_id')['days_since_prior_order'].sum()\n"
   ]
  },
  {
   "cell_type": "code",
   "execution_count": 38,
   "metadata": {},
   "outputs": [],
   "source": [
    "#Calculate the mean of days_since_prior_order\n",
    "days_since_prior_order_mean = days_since_prior_order_sum/unique_order_id\n"
   ]
  },
  {
   "cell_type": "markdown",
   "metadata": {},
   "source": [
    "#####split dow into two classes, count the number of orders and normalize#####"
   ]
  },
  {
   "cell_type": "code",
   "execution_count": 39,
   "metadata": {},
   "outputs": [],
   "source": [
    "#Day of Week\n",
    "#order_dow: [0,1] :  eg.2   -> normalize by unique_order_id\n",
    "#order_dow: [2,6] :  eg.3   -> normalize by unique_order_id\n",
    "order_dow = orders_products.loc[:,['order_id','user_id','order_dow']]\n",
    "order_dow.drop_duplicates(subset =\"order_id\", keep = 'first', inplace = True)  #Drop duplicates\n",
    "\n",
    "#split order_dow into two classes\n",
    "order_dow1 = order_dow[order_dow['order_dow'] <= 1 ]  #[0,1]\n",
    "order_dow2 = order_dow[order_dow['order_dow'] >= 2 ]  #[2,6]"
   ]
  },
  {
   "cell_type": "code",
   "execution_count": 40,
   "metadata": {},
   "outputs": [],
   "source": [
    "#count the number of unique orders for each class\n",
    "order_dow1_cnt = order_dow1.groupby('user_id')['order_dow'].count()\n",
    "order_dow2_cnt = order_dow2.groupby('user_id')['order_dow'].count()\n"
   ]
  },
  {
   "cell_type": "code",
   "execution_count": 41,
   "metadata": {},
   "outputs": [],
   "source": [
    "#Merge days_since_prior_order_mean & order_dow1_cnt & order_dow2_cnt\n",
    "order_dow_kmean = pd.DataFrame(days_since_prior_order_mean).merge(order_dow1_cnt, \\\n",
    "                        left_on = 'user_id', right_on = 'user_id', how = 'left', left_index = True)\n"
   ]
  },
  {
   "cell_type": "code",
   "execution_count": 42,
   "metadata": {},
   "outputs": [],
   "source": [
    "order_dow_kmean = order_dow_kmean.merge(order_dow2_cnt, \\\n",
    "                        left_on = 'user_id', right_on = 'user_id', how = 'left', left_index = True)"
   ]
  },
  {
   "cell_type": "code",
   "execution_count": 43,
   "metadata": {},
   "outputs": [
    {
     "data": {
      "text/html": [
       "<div>\n",
       "<style scoped>\n",
       "    .dataframe tbody tr th:only-of-type {\n",
       "        vertical-align: middle;\n",
       "    }\n",
       "\n",
       "    .dataframe tbody tr th {\n",
       "        vertical-align: top;\n",
       "    }\n",
       "\n",
       "    .dataframe thead th {\n",
       "        text-align: right;\n",
       "    }\n",
       "</style>\n",
       "<table border=\"1\" class=\"dataframe\">\n",
       "  <thead>\n",
       "    <tr style=\"text-align: right;\">\n",
       "      <th></th>\n",
       "      <th>0</th>\n",
       "      <th>order_dow_x</th>\n",
       "      <th>order_dow_y</th>\n",
       "    </tr>\n",
       "    <tr>\n",
       "      <th>user_id</th>\n",
       "      <th></th>\n",
       "      <th></th>\n",
       "      <th></th>\n",
       "    </tr>\n",
       "  </thead>\n",
       "  <tbody>\n",
       "    <tr>\n",
       "      <th>1</th>\n",
       "      <td>19.555556</td>\n",
       "      <td>3.0</td>\n",
       "      <td>7.0</td>\n",
       "    </tr>\n",
       "    <tr>\n",
       "      <th>2</th>\n",
       "      <td>15.230769</td>\n",
       "      <td>5.0</td>\n",
       "      <td>9.0</td>\n",
       "    </tr>\n",
       "    <tr>\n",
       "      <th>3</th>\n",
       "      <td>12.090909</td>\n",
       "      <td>8.0</td>\n",
       "      <td>4.0</td>\n",
       "    </tr>\n",
       "    <tr>\n",
       "      <th>4</th>\n",
       "      <td>13.750000</td>\n",
       "      <td>NaN</td>\n",
       "      <td>5.0</td>\n",
       "    </tr>\n",
       "    <tr>\n",
       "      <th>5</th>\n",
       "      <td>13.333333</td>\n",
       "      <td>2.0</td>\n",
       "      <td>2.0</td>\n",
       "    </tr>\n",
       "  </tbody>\n",
       "</table>\n",
       "</div>"
      ],
      "text/plain": [
       "                 0  order_dow_x  order_dow_y\n",
       "user_id                                     \n",
       "1        19.555556          3.0          7.0\n",
       "2        15.230769          5.0          9.0\n",
       "3        12.090909          8.0          4.0\n",
       "4        13.750000          NaN          5.0\n",
       "5        13.333333          2.0          2.0"
      ]
     },
     "execution_count": 43,
     "metadata": {},
     "output_type": "execute_result"
    }
   ],
   "source": [
    "order_dow_kmean.head()"
   ]
  },
  {
   "cell_type": "markdown",
   "metadata": {},
   "source": [
    "#####split order_hour_of_day into three classes, count the number of orders and normalize #####"
   ]
  },
  {
   "cell_type": "code",
   "execution_count": 44,
   "metadata": {},
   "outputs": [],
   "source": [
    "#Hour of Day\n",
    "#order_hour_of_day: [:,12]: 3    -> normalize by unique_order_id\n",
    "#order_hour_of_day: [12,17]: 1   -> normalize by unique_order_id\n",
    "#order_hour_of_day: [17, :]: 0   -> normalize by unique_order_id\n",
    "\n",
    "order_hour_of_day = orders_products.loc[:,['order_id','user_id','order_hour_of_day']]\n",
    "order_hour_of_day.drop_duplicates(subset =\"order_id\", keep = 'first', inplace = True) #Drop duplicates\n",
    "\n",
    "#split order_hour_of_day into two classes\n",
    "order_hour_of_day1 = order_hour_of_day[order_hour_of_day['order_hour_of_day'] <= 12 ]  #[0,12]\n",
    "order_hour_of_day2 = order_hour_of_day[(order_hour_of_day['order_hour_of_day'] >= 13) & (order_hour_of_day['order_hour_of_day'] <= 18)]  #[13,18]\n",
    "order_hour_of_day3 = order_hour_of_day[order_hour_of_day['order_hour_of_day'] >= 19 ]  #[19,23]\n",
    "\n"
   ]
  },
  {
   "cell_type": "code",
   "execution_count": 45,
   "metadata": {},
   "outputs": [],
   "source": [
    "#count the number of unique orders for each class\n",
    "order_hour_of_day1_cnt = order_hour_of_day1.groupby('user_id')['order_hour_of_day'].count()\n",
    "order_hour_of_day2_cnt = order_hour_of_day2.groupby('user_id')['order_hour_of_day'].count()\n",
    "order_hour_of_day3_cnt = order_hour_of_day3.groupby('user_id')['order_hour_of_day'].count()\n"
   ]
  },
  {
   "cell_type": "code",
   "execution_count": 46,
   "metadata": {},
   "outputs": [],
   "source": [
    "#Merge order_dow_kmean & order_hour_of_day1_cnt & order_hour_of_day2_cnt & order_hour_of_day3_cnt\n",
    "order_dow_hod_kmean = order_dow_kmean.merge(order_hour_of_day1_cnt, \\\n",
    "                        left_on = 'user_id', right_on = 'user_id', how = 'left', left_index = True)"
   ]
  },
  {
   "cell_type": "code",
   "execution_count": 47,
   "metadata": {},
   "outputs": [],
   "source": [
    "order_dow_hod_kmean = order_dow_hod_kmean.merge(order_hour_of_day2_cnt, \\\n",
    "                        left_on = 'user_id', right_on = 'user_id', how = 'left', left_index = True)"
   ]
  },
  {
   "cell_type": "code",
   "execution_count": 48,
   "metadata": {},
   "outputs": [],
   "source": [
    "order_dow_hod_kmean = order_dow_hod_kmean.merge(order_hour_of_day3_cnt, \\\n",
    "                        left_on = 'user_id', right_on = 'user_id', how = 'left', left_index = True)"
   ]
  },
  {
   "cell_type": "code",
   "execution_count": 49,
   "metadata": {},
   "outputs": [
    {
     "data": {
      "text/html": [
       "<div>\n",
       "<style scoped>\n",
       "    .dataframe tbody tr th:only-of-type {\n",
       "        vertical-align: middle;\n",
       "    }\n",
       "\n",
       "    .dataframe tbody tr th {\n",
       "        vertical-align: top;\n",
       "    }\n",
       "\n",
       "    .dataframe thead th {\n",
       "        text-align: right;\n",
       "    }\n",
       "</style>\n",
       "<table border=\"1\" class=\"dataframe\">\n",
       "  <thead>\n",
       "    <tr style=\"text-align: right;\">\n",
       "      <th></th>\n",
       "      <th>0</th>\n",
       "      <th>order_dow_x</th>\n",
       "      <th>order_dow_y</th>\n",
       "      <th>order_hour_of_day_x</th>\n",
       "      <th>order_hour_of_day_y</th>\n",
       "      <th>order_hour_of_day</th>\n",
       "    </tr>\n",
       "    <tr>\n",
       "      <th>user_id</th>\n",
       "      <th></th>\n",
       "      <th></th>\n",
       "      <th></th>\n",
       "      <th></th>\n",
       "      <th></th>\n",
       "      <th></th>\n",
       "    </tr>\n",
       "  </thead>\n",
       "  <tbody>\n",
       "    <tr>\n",
       "      <th>1</th>\n",
       "      <td>19.555556</td>\n",
       "      <td>3.0</td>\n",
       "      <td>7.0</td>\n",
       "      <td>7.0</td>\n",
       "      <td>3.0</td>\n",
       "      <td>NaN</td>\n",
       "    </tr>\n",
       "    <tr>\n",
       "      <th>2</th>\n",
       "      <td>15.230769</td>\n",
       "      <td>5.0</td>\n",
       "      <td>9.0</td>\n",
       "      <td>13.0</td>\n",
       "      <td>1.0</td>\n",
       "      <td>NaN</td>\n",
       "    </tr>\n",
       "    <tr>\n",
       "      <th>3</th>\n",
       "      <td>12.090909</td>\n",
       "      <td>8.0</td>\n",
       "      <td>4.0</td>\n",
       "      <td>NaN</td>\n",
       "      <td>11.0</td>\n",
       "      <td>1.0</td>\n",
       "    </tr>\n",
       "    <tr>\n",
       "      <th>4</th>\n",
       "      <td>13.750000</td>\n",
       "      <td>NaN</td>\n",
       "      <td>5.0</td>\n",
       "      <td>2.0</td>\n",
       "      <td>3.0</td>\n",
       "      <td>NaN</td>\n",
       "    </tr>\n",
       "    <tr>\n",
       "      <th>5</th>\n",
       "      <td>13.333333</td>\n",
       "      <td>2.0</td>\n",
       "      <td>2.0</td>\n",
       "      <td>1.0</td>\n",
       "      <td>3.0</td>\n",
       "      <td>NaN</td>\n",
       "    </tr>\n",
       "  </tbody>\n",
       "</table>\n",
       "</div>"
      ],
      "text/plain": [
       "                 0  order_dow_x  order_dow_y  order_hour_of_day_x  \\\n",
       "user_id                                                             \n",
       "1        19.555556          3.0          7.0                  7.0   \n",
       "2        15.230769          5.0          9.0                 13.0   \n",
       "3        12.090909          8.0          4.0                  NaN   \n",
       "4        13.750000          NaN          5.0                  2.0   \n",
       "5        13.333333          2.0          2.0                  1.0   \n",
       "\n",
       "         order_hour_of_day_y  order_hour_of_day  \n",
       "user_id                                          \n",
       "1                        3.0                NaN  \n",
       "2                        1.0                NaN  \n",
       "3                       11.0                1.0  \n",
       "4                        3.0                NaN  \n",
       "5                        3.0                NaN  "
      ]
     },
     "execution_count": 49,
     "metadata": {},
     "output_type": "execute_result"
    }
   ],
   "source": [
    "order_dow_hod_kmean.head()"
   ]
  },
  {
   "cell_type": "code",
   "execution_count": 50,
   "metadata": {},
   "outputs": [],
   "source": [
    "order_dow_hod_kmean.fillna(0, inplace = True)\n"
   ]
  },
  {
   "cell_type": "code",
   "execution_count": 51,
   "metadata": {},
   "outputs": [],
   "source": [
    "order_dow_hod_kmean.rename(columns = {0:'days_since_prior_order_mean',\\\n",
    "                            'order_dow_x': 'order_dow1_cnt', 'order_dow_y': 'order_dow2_cnt',\\\n",
    "                            'order_hour_of_day_x': 'order_hour_of_day1_cnt', 'order_hour_of_day_y': 'order_hour_of_day2_cnt',\\\n",
    "                            'order_hour_of_day': 'order_hour_of_day3_cnt'}, inplace = True)\n"
   ]
  },
  {
   "cell_type": "code",
   "execution_count": 52,
   "metadata": {},
   "outputs": [
    {
     "data": {
      "text/html": [
       "<div>\n",
       "<style scoped>\n",
       "    .dataframe tbody tr th:only-of-type {\n",
       "        vertical-align: middle;\n",
       "    }\n",
       "\n",
       "    .dataframe tbody tr th {\n",
       "        vertical-align: top;\n",
       "    }\n",
       "\n",
       "    .dataframe thead th {\n",
       "        text-align: right;\n",
       "    }\n",
       "</style>\n",
       "<table border=\"1\" class=\"dataframe\">\n",
       "  <thead>\n",
       "    <tr style=\"text-align: right;\">\n",
       "      <th></th>\n",
       "      <th>days_since_prior_order_mean</th>\n",
       "      <th>order_dow1_cnt</th>\n",
       "      <th>order_dow2_cnt</th>\n",
       "      <th>order_hour_of_day1_cnt</th>\n",
       "      <th>order_hour_of_day2_cnt</th>\n",
       "      <th>order_hour_of_day3_cnt</th>\n",
       "    </tr>\n",
       "    <tr>\n",
       "      <th>user_id</th>\n",
       "      <th></th>\n",
       "      <th></th>\n",
       "      <th></th>\n",
       "      <th></th>\n",
       "      <th></th>\n",
       "      <th></th>\n",
       "    </tr>\n",
       "  </thead>\n",
       "  <tbody>\n",
       "    <tr>\n",
       "      <th>1</th>\n",
       "      <td>19.555556</td>\n",
       "      <td>3.0</td>\n",
       "      <td>7.0</td>\n",
       "      <td>7.0</td>\n",
       "      <td>3.0</td>\n",
       "      <td>0.0</td>\n",
       "    </tr>\n",
       "    <tr>\n",
       "      <th>2</th>\n",
       "      <td>15.230769</td>\n",
       "      <td>5.0</td>\n",
       "      <td>9.0</td>\n",
       "      <td>13.0</td>\n",
       "      <td>1.0</td>\n",
       "      <td>0.0</td>\n",
       "    </tr>\n",
       "    <tr>\n",
       "      <th>3</th>\n",
       "      <td>12.090909</td>\n",
       "      <td>8.0</td>\n",
       "      <td>4.0</td>\n",
       "      <td>0.0</td>\n",
       "      <td>11.0</td>\n",
       "      <td>1.0</td>\n",
       "    </tr>\n",
       "    <tr>\n",
       "      <th>4</th>\n",
       "      <td>13.750000</td>\n",
       "      <td>0.0</td>\n",
       "      <td>5.0</td>\n",
       "      <td>2.0</td>\n",
       "      <td>3.0</td>\n",
       "      <td>0.0</td>\n",
       "    </tr>\n",
       "    <tr>\n",
       "      <th>5</th>\n",
       "      <td>13.333333</td>\n",
       "      <td>2.0</td>\n",
       "      <td>2.0</td>\n",
       "      <td>1.0</td>\n",
       "      <td>3.0</td>\n",
       "      <td>0.0</td>\n",
       "    </tr>\n",
       "  </tbody>\n",
       "</table>\n",
       "</div>"
      ],
      "text/plain": [
       "         days_since_prior_order_mean  order_dow1_cnt  order_dow2_cnt  \\\n",
       "user_id                                                                \n",
       "1                          19.555556             3.0             7.0   \n",
       "2                          15.230769             5.0             9.0   \n",
       "3                          12.090909             8.0             4.0   \n",
       "4                          13.750000             0.0             5.0   \n",
       "5                          13.333333             2.0             2.0   \n",
       "\n",
       "         order_hour_of_day1_cnt  order_hour_of_day2_cnt  \\\n",
       "user_id                                                   \n",
       "1                           7.0                     3.0   \n",
       "2                          13.0                     1.0   \n",
       "3                           0.0                    11.0   \n",
       "4                           2.0                     3.0   \n",
       "5                           1.0                     3.0   \n",
       "\n",
       "         order_hour_of_day3_cnt  \n",
       "user_id                          \n",
       "1                           0.0  \n",
       "2                           0.0  \n",
       "3                           1.0  \n",
       "4                           0.0  \n",
       "5                           0.0  "
      ]
     },
     "execution_count": 52,
     "metadata": {},
     "output_type": "execute_result"
    }
   ],
   "source": [
    "order_dow_hod_kmean.head()"
   ]
  },
  {
   "cell_type": "code",
   "execution_count": 53,
   "metadata": {},
   "outputs": [],
   "source": [
    "#normalize: order_dow_cnt, order_hour_of_day_cnt\n",
    "order_dow_hod_kmean['order_dow1_cnt_norm'] = order_dow_hod_kmean['order_dow1_cnt']/(order_dow_hod_kmean['order_dow1_cnt']+order_dow_hod_kmean['order_dow2_cnt'])\n",
    "order_dow_hod_kmean['order_dow2_cnt_norm'] = order_dow_hod_kmean['order_dow2_cnt']/(order_dow_hod_kmean['order_dow1_cnt']+order_dow_hod_kmean['order_dow2_cnt'])\n"
   ]
  },
  {
   "cell_type": "code",
   "execution_count": 54,
   "metadata": {},
   "outputs": [],
   "source": [
    "#normalize: order_hour_of_day1_cnt, order_hour_of_day2_cnt, order_hour_of_day3_cnt\n",
    "order_dow_hod_kmean['order_hour_of_day1_cnt_norm'] = order_dow_hod_kmean['order_hour_of_day1_cnt']/(order_dow_hod_kmean['order_hour_of_day1_cnt']+order_dow_hod_kmean['order_hour_of_day2_cnt']+order_dow_hod_kmean['order_hour_of_day3_cnt'])\n",
    "order_dow_hod_kmean['order_hour_of_day2_cnt_norm'] = order_dow_hod_kmean['order_hour_of_day2_cnt']/(order_dow_hod_kmean['order_hour_of_day1_cnt']+order_dow_hod_kmean['order_hour_of_day2_cnt']+order_dow_hod_kmean['order_hour_of_day3_cnt'])\n",
    "order_dow_hod_kmean['order_hour_of_day3_cnt_norm'] = order_dow_hod_kmean['order_hour_of_day3_cnt']/(order_dow_hod_kmean['order_hour_of_day1_cnt']+order_dow_hod_kmean['order_hour_of_day2_cnt']+order_dow_hod_kmean['order_hour_of_day3_cnt'])\n"
   ]
  },
  {
   "cell_type": "markdown",
   "metadata": {},
   "source": [
    "#####find median_itemsCnt_per_order######\n"
   ]
  },
  {
   "cell_type": "code",
   "execution_count": 55,
   "metadata": {},
   "outputs": [],
   "source": [
    "#median of [max(add_to_cart_order) for each order]:  [1,4,5,6,13]  -> median: 5\n",
    "orders_items_median = orders_products.loc[:,['order_id','user_id','add_to_cart_order']]\n"
   ]
  },
  {
   "cell_type": "code",
   "execution_count": 56,
   "metadata": {},
   "outputs": [],
   "source": [
    "#Group by user_id & order_id, find the max add_to_cart_order\n",
    "orders_items = orders_items_median.groupby(['user_id','order_id'])['add_to_cart_order'].max().reset_index()\n"
   ]
  },
  {
   "cell_type": "code",
   "execution_count": 57,
   "metadata": {},
   "outputs": [],
   "source": [
    "#Group by user_id and aggregate all max add_to_cart_order to a list\n",
    "user_median_list = orders_items.groupby('user_id')['add_to_cart_order'].agg(pd.Series.tolist) \n"
   ]
  },
  {
   "cell_type": "code",
   "execution_count": 58,
   "metadata": {},
   "outputs": [],
   "source": [
    "#Find the median for each list in user_median_list\n",
    "medians = [np.median(x) for x in user_median_list]"
   ]
  },
  {
   "cell_type": "code",
   "execution_count": 59,
   "metadata": {},
   "outputs": [],
   "source": [
    "order_dow_hod_kmean['median_itemsCnt_per_order'] = medians"
   ]
  },
  {
   "cell_type": "code",
   "execution_count": 60,
   "metadata": {
    "scrolled": true
   },
   "outputs": [
    {
     "data": {
      "text/html": [
       "<div>\n",
       "<style scoped>\n",
       "    .dataframe tbody tr th:only-of-type {\n",
       "        vertical-align: middle;\n",
       "    }\n",
       "\n",
       "    .dataframe tbody tr th {\n",
       "        vertical-align: top;\n",
       "    }\n",
       "\n",
       "    .dataframe thead th {\n",
       "        text-align: right;\n",
       "    }\n",
       "</style>\n",
       "<table border=\"1\" class=\"dataframe\">\n",
       "  <thead>\n",
       "    <tr style=\"text-align: right;\">\n",
       "      <th></th>\n",
       "      <th>days_since_prior_order_mean</th>\n",
       "      <th>order_dow1_cnt</th>\n",
       "      <th>order_dow2_cnt</th>\n",
       "      <th>order_hour_of_day1_cnt</th>\n",
       "      <th>order_hour_of_day2_cnt</th>\n",
       "      <th>order_hour_of_day3_cnt</th>\n",
       "      <th>order_dow1_cnt_norm</th>\n",
       "      <th>order_dow2_cnt_norm</th>\n",
       "      <th>order_hour_of_day1_cnt_norm</th>\n",
       "      <th>order_hour_of_day2_cnt_norm</th>\n",
       "      <th>order_hour_of_day3_cnt_norm</th>\n",
       "      <th>median_itemsCnt_per_order</th>\n",
       "    </tr>\n",
       "    <tr>\n",
       "      <th>user_id</th>\n",
       "      <th></th>\n",
       "      <th></th>\n",
       "      <th></th>\n",
       "      <th></th>\n",
       "      <th></th>\n",
       "      <th></th>\n",
       "      <th></th>\n",
       "      <th></th>\n",
       "      <th></th>\n",
       "      <th></th>\n",
       "      <th></th>\n",
       "      <th></th>\n",
       "    </tr>\n",
       "  </thead>\n",
       "  <tbody>\n",
       "    <tr>\n",
       "      <th>1</th>\n",
       "      <td>19.555556</td>\n",
       "      <td>3.0</td>\n",
       "      <td>7.0</td>\n",
       "      <td>7.0</td>\n",
       "      <td>3.0</td>\n",
       "      <td>0.0</td>\n",
       "      <td>0.300000</td>\n",
       "      <td>0.700000</td>\n",
       "      <td>0.700000</td>\n",
       "      <td>0.300000</td>\n",
       "      <td>0.000000</td>\n",
       "      <td>5.5</td>\n",
       "    </tr>\n",
       "    <tr>\n",
       "      <th>2</th>\n",
       "      <td>15.230769</td>\n",
       "      <td>5.0</td>\n",
       "      <td>9.0</td>\n",
       "      <td>13.0</td>\n",
       "      <td>1.0</td>\n",
       "      <td>0.0</td>\n",
       "      <td>0.357143</td>\n",
       "      <td>0.642857</td>\n",
       "      <td>0.928571</td>\n",
       "      <td>0.071429</td>\n",
       "      <td>0.000000</td>\n",
       "      <td>13.5</td>\n",
       "    </tr>\n",
       "    <tr>\n",
       "      <th>3</th>\n",
       "      <td>12.090909</td>\n",
       "      <td>8.0</td>\n",
       "      <td>4.0</td>\n",
       "      <td>0.0</td>\n",
       "      <td>11.0</td>\n",
       "      <td>1.0</td>\n",
       "      <td>0.666667</td>\n",
       "      <td>0.333333</td>\n",
       "      <td>0.000000</td>\n",
       "      <td>0.916667</td>\n",
       "      <td>0.083333</td>\n",
       "      <td>7.0</td>\n",
       "    </tr>\n",
       "    <tr>\n",
       "      <th>4</th>\n",
       "      <td>13.750000</td>\n",
       "      <td>0.0</td>\n",
       "      <td>5.0</td>\n",
       "      <td>2.0</td>\n",
       "      <td>3.0</td>\n",
       "      <td>0.0</td>\n",
       "      <td>0.000000</td>\n",
       "      <td>1.000000</td>\n",
       "      <td>0.400000</td>\n",
       "      <td>0.600000</td>\n",
       "      <td>0.000000</td>\n",
       "      <td>3.0</td>\n",
       "    </tr>\n",
       "    <tr>\n",
       "      <th>5</th>\n",
       "      <td>13.333333</td>\n",
       "      <td>2.0</td>\n",
       "      <td>2.0</td>\n",
       "      <td>1.0</td>\n",
       "      <td>3.0</td>\n",
       "      <td>0.0</td>\n",
       "      <td>0.500000</td>\n",
       "      <td>0.500000</td>\n",
       "      <td>0.250000</td>\n",
       "      <td>0.750000</td>\n",
       "      <td>0.000000</td>\n",
       "      <td>10.0</td>\n",
       "    </tr>\n",
       "  </tbody>\n",
       "</table>\n",
       "</div>"
      ],
      "text/plain": [
       "         days_since_prior_order_mean  order_dow1_cnt  order_dow2_cnt  \\\n",
       "user_id                                                                \n",
       "1                          19.555556             3.0             7.0   \n",
       "2                          15.230769             5.0             9.0   \n",
       "3                          12.090909             8.0             4.0   \n",
       "4                          13.750000             0.0             5.0   \n",
       "5                          13.333333             2.0             2.0   \n",
       "\n",
       "         order_hour_of_day1_cnt  order_hour_of_day2_cnt  \\\n",
       "user_id                                                   \n",
       "1                           7.0                     3.0   \n",
       "2                          13.0                     1.0   \n",
       "3                           0.0                    11.0   \n",
       "4                           2.0                     3.0   \n",
       "5                           1.0                     3.0   \n",
       "\n",
       "         order_hour_of_day3_cnt  order_dow1_cnt_norm  order_dow2_cnt_norm  \\\n",
       "user_id                                                                     \n",
       "1                           0.0             0.300000             0.700000   \n",
       "2                           0.0             0.357143             0.642857   \n",
       "3                           1.0             0.666667             0.333333   \n",
       "4                           0.0             0.000000             1.000000   \n",
       "5                           0.0             0.500000             0.500000   \n",
       "\n",
       "         order_hour_of_day1_cnt_norm  order_hour_of_day2_cnt_norm  \\\n",
       "user_id                                                             \n",
       "1                           0.700000                     0.300000   \n",
       "2                           0.928571                     0.071429   \n",
       "3                           0.000000                     0.916667   \n",
       "4                           0.400000                     0.600000   \n",
       "5                           0.250000                     0.750000   \n",
       "\n",
       "         order_hour_of_day3_cnt_norm  median_itemsCnt_per_order  \n",
       "user_id                                                          \n",
       "1                           0.000000                        5.5  \n",
       "2                           0.000000                       13.5  \n",
       "3                           0.083333                        7.0  \n",
       "4                           0.000000                        3.0  \n",
       "5                           0.000000                       10.0  "
      ]
     },
     "execution_count": 60,
     "metadata": {},
     "output_type": "execute_result"
    }
   ],
   "source": [
    "order_dow_hod_kmean.head()"
   ]
  },
  {
   "cell_type": "markdown",
   "metadata": {},
   "source": [
    "#### ii) Modeling "
   ]
  },
  {
   "cell_type": "code",
   "execution_count": 61,
   "metadata": {},
   "outputs": [],
   "source": [
    "#Divide into train set and test set\n",
    "from sklearn.metrics import silhouette_samples, silhouette_score\n",
    "from sklearn.cluster import KMeans\n",
    "import matplotlib.cm as cm\n",
    "from sklearn.decomposition import PCA\n"
   ]
  },
  {
   "cell_type": "code",
   "execution_count": 149,
   "metadata": {},
   "outputs": [],
   "source": [
    "X=order_dow_hod_kmean.loc[:,['days_since_prior_order_mean','order_dow1_cnt_norm', 'order_dow2_cnt_norm',\\\n",
    "       'order_hour_of_day1_cnt_norm', 'order_hour_of_day2_cnt_norm',\\\n",
    "       'order_hour_of_day3_cnt_norm', 'median_itemsCnt_per_order']]\n"
   ]
  },
  {
   "cell_type": "code",
   "execution_count": 63,
   "metadata": {},
   "outputs": [
    {
     "data": {
      "text/plain": [
       "(206209, 7)"
      ]
     },
     "execution_count": 63,
     "metadata": {},
     "output_type": "execute_result"
    }
   ],
   "source": [
    "X.shape"
   ]
  },
  {
   "cell_type": "code",
   "execution_count": 64,
   "metadata": {},
   "outputs": [],
   "source": [
    "#X_test=order_dow_hod_kmean.loc[:,['days_since_prior_order_mean']]"
   ]
  },
  {
   "cell_type": "code",
   "execution_count": 151,
   "metadata": {},
   "outputs": [
    {
     "name": "stdout",
     "output_type": "stream",
     "text": [
      "The 1 time:\n",
      "For n_clusters = 2 the average silhouette_score is: 0.3783239012447758\n",
      "For n_clusters = 3 the average silhouette_score is: 0.4046198103985214\n",
      "For n_clusters = 4 the average silhouette_score is: 0.3462933280401561\n",
      "For n_clusters = 5 the average silhouette_score is: 0.355616448026688\n",
      "For n_clusters = 6 the average silhouette_score is: 0.3497644187757714\n",
      "For n_clusters = 7 the average silhouette_score is: 0.34067410093344136\n",
      "For n_clusters = 8 the average silhouette_score is: 0.32708306182530933\n",
      "For n_clusters = 9 the average silhouette_score is: 0.3277584598847259\n",
      "The 2 time:\n",
      "For n_clusters = 2 the average silhouette_score is: 0.3921293308509157\n",
      "For n_clusters = 3 the average silhouette_score is: 0.40925550411838957\n",
      "For n_clusters = 4 the average silhouette_score is: 0.3445554554500948\n",
      "For n_clusters = 5 the average silhouette_score is: 0.3571123410484235\n",
      "For n_clusters = 6 the average silhouette_score is: 0.3541934690839409\n",
      "For n_clusters = 7 the average silhouette_score is: 0.3430253994664932\n",
      "For n_clusters = 8 the average silhouette_score is: 0.3299868499910918\n",
      "For n_clusters = 9 the average silhouette_score is: 0.33353635875475174\n",
      "The 3 time:\n",
      "For n_clusters = 2 the average silhouette_score is: 0.3829522885347147\n",
      "For n_clusters = 3 the average silhouette_score is: 0.40657664575618196\n",
      "For n_clusters = 4 the average silhouette_score is: 0.3428975361762985\n",
      "For n_clusters = 5 the average silhouette_score is: 0.35180455399540594\n",
      "For n_clusters = 6 the average silhouette_score is: 0.3511482480392167\n",
      "For n_clusters = 7 the average silhouette_score is: 0.34152731663115327\n",
      "For n_clusters = 8 the average silhouette_score is: 0.329201761753792\n",
      "For n_clusters = 9 the average silhouette_score is: 0.3298018444583599\n",
      "The 4 time:\n",
      "For n_clusters = 2 the average silhouette_score is: 0.3864589020982702\n",
      "For n_clusters = 3 the average silhouette_score is: 0.4090791844608322\n",
      "For n_clusters = 4 the average silhouette_score is: 0.3458306802083708\n",
      "For n_clusters = 5 the average silhouette_score is: 0.3572055708281505\n",
      "For n_clusters = 6 the average silhouette_score is: 0.3541273907421775\n",
      "For n_clusters = 7 the average silhouette_score is: 0.3394560020657407\n",
      "For n_clusters = 8 the average silhouette_score is: 0.3263576509578629\n",
      "For n_clusters = 9 the average silhouette_score is: 0.3307743154386401\n",
      "The 5 time:\n",
      "For n_clusters = 2 the average silhouette_score is: 0.3875297713529856\n",
      "For n_clusters = 3 the average silhouette_score is: 0.4090078481492951\n",
      "For n_clusters = 4 the average silhouette_score is: 0.34852557689687524\n",
      "For n_clusters = 5 the average silhouette_score is: 0.3557256962326825\n",
      "For n_clusters = 6 the average silhouette_score is: 0.35169496796989613\n",
      "For n_clusters = 7 the average silhouette_score is: 0.3430095698212427\n",
      "For n_clusters = 8 the average silhouette_score is: 0.32819446428156557\n",
      "For n_clusters = 9 the average silhouette_score is: 0.3315420552685234\n"
     ]
    }
   ],
   "source": [
    "#Randomly select 5% of rows from X for 5 times\n",
    "#Find the best n_clusters\n",
    "range_n_clusters = [2,3,4,5,6,7,8,9]\n",
    "for n in range(5):\n",
    "    X1 = X.sample(frac = 0.05) \n",
    "    print('The {} time:'.format(n+1))\n",
    "    for n_clusters in range_n_clusters:\n",
    "        km = KMeans(n_clusters=n_clusters, random_state=324)\n",
    "        cluster_labels = km.fit_predict(X1)\n",
    "        silhouette_avg = silhouette_score(X1, cluster_labels)\n",
    "        print('For n_clusters = {} the average silhouette_score is: {}'.format(n_clusters, silhouette_avg))\n",
    "        sample_silhouette_values = silhouette_samples(X1, cluster_labels)\n"
   ]
  },
  {
   "cell_type": "markdown",
   "metadata": {},
   "source": [
    "### When n_clusters = 3, the average silhouette_score is maximum."
   ]
  },
  {
   "cell_type": "code",
   "execution_count": 66,
   "metadata": {},
   "outputs": [
    {
     "data": {
      "text/plain": [
       "206209"
      ]
     },
     "execution_count": 66,
     "metadata": {},
     "output_type": "execute_result"
    }
   ],
   "source": [
    "len(X)"
   ]
  },
  {
   "cell_type": "code",
   "execution_count": 67,
   "metadata": {},
   "outputs": [
    {
     "data": {
      "text/plain": [
       "10310.45"
      ]
     },
     "execution_count": 67,
     "metadata": {},
     "output_type": "execute_result"
    }
   ],
   "source": [
    "len(X)*0.05"
   ]
  },
  {
   "cell_type": "code",
   "execution_count": null,
   "metadata": {},
   "outputs": [],
   "source": [
    "def kmeans_modeling_plot(X):\n",
    "    #sample for 5 %\n",
    "    X1 = X.sample(frac = 0.05) \n",
    "    #n_clusters=3\n",
    "    km = KMeans(random_state=n,n_clusters=3)\n",
    "    res=km.fit(X1)\n",
    "    \n",
    "    print('\\nCluster centers:\\n',res.cluster_centers_)\n",
    "    print('\\nSum of squared errors:',res.inertia_)\n",
    "\n",
    "    pca=PCA(2)\n",
    "    Xproj=pca.fit_transform(X1)\n",
    "    plt.scatter(Xproj[:,0],Xproj[:,1],c=res.labels_)\n",
    "    plt.show()\n",
    "    return res,X1"
   ]
  },
  {
   "cell_type": "code",
   "execution_count": null,
   "metadata": {
    "scrolled": true
   },
   "outputs": [],
   "source": [
    "for n in range(5):\n",
    "    kmeans_modeling_plot(X)\n",
    "\n",
    "# # plot points and cluster assigments\n",
    "# plt.figure(figsize=(3,3))\n",
    "# plt.scatter(X[:,0],X[:,1],c=res.labels_,cmap=plt.cm.cool)\n",
    "# plt.scatter(res.cluster_centers_[0,0],res.cluster_centers_[0,1],c=\"b\",s=100)\n",
    "# plt.scatter(res.cluster_centers_[1,0],res.cluster_centers_[1,1],c=\"r\",s=100)\n",
    "# plt.show()"
   ]
  },
  {
   "cell_type": "code",
   "execution_count": 70,
   "metadata": {},
   "outputs": [],
   "source": [
    "#sample 5% of data with fixed random_state\n",
    "X1 = X.sample(frac = 0.05, random_state = 324) \n",
    "km = KMeans(random_state=n,n_clusters=3)\n",
    "random_km_res=km.fit(X1)\n"
   ]
  },
  {
   "cell_type": "code",
   "execution_count": 71,
   "metadata": {},
   "outputs": [
    {
     "data": {
      "text/plain": [
       "array([0, 0, 0, 1, 1, 0, 2, 1, 1, 1, 2, 1, 1, 0, 0, 0, 0, 2, 0, 1, 1, 0,\n",
       "       1, 0, 0, 0, 1, 2, 1, 1, 0, 1, 0, 2, 0, 0, 1, 1, 1, 0, 2, 2, 0, 2,\n",
       "       1, 1, 1, 2, 2, 1], dtype=int32)"
      ]
     },
     "execution_count": 71,
     "metadata": {},
     "output_type": "execute_result"
    }
   ],
   "source": [
    "random_km_res.labels_[:50]"
   ]
  },
  {
   "cell_type": "code",
   "execution_count": 72,
   "metadata": {},
   "outputs": [],
   "source": [
    "X1['Label'] = random_km_res.labels_"
   ]
  },
  {
   "cell_type": "code",
   "execution_count": 73,
   "metadata": {},
   "outputs": [
    {
     "data": {
      "text/html": [
       "<div>\n",
       "<style scoped>\n",
       "    .dataframe tbody tr th:only-of-type {\n",
       "        vertical-align: middle;\n",
       "    }\n",
       "\n",
       "    .dataframe tbody tr th {\n",
       "        vertical-align: top;\n",
       "    }\n",
       "\n",
       "    .dataframe thead th {\n",
       "        text-align: right;\n",
       "    }\n",
       "</style>\n",
       "<table border=\"1\" class=\"dataframe\">\n",
       "  <thead>\n",
       "    <tr style=\"text-align: right;\">\n",
       "      <th></th>\n",
       "      <th>days_since_prior_order_mean</th>\n",
       "      <th>order_dow1_cnt_norm</th>\n",
       "      <th>order_dow2_cnt_norm</th>\n",
       "      <th>order_hour_of_day1_cnt_norm</th>\n",
       "      <th>order_hour_of_day2_cnt_norm</th>\n",
       "      <th>order_hour_of_day3_cnt_norm</th>\n",
       "      <th>median_itemsCnt_per_order</th>\n",
       "      <th>Label</th>\n",
       "    </tr>\n",
       "    <tr>\n",
       "      <th>user_id</th>\n",
       "      <th></th>\n",
       "      <th></th>\n",
       "      <th></th>\n",
       "      <th></th>\n",
       "      <th></th>\n",
       "      <th></th>\n",
       "      <th></th>\n",
       "      <th></th>\n",
       "    </tr>\n",
       "  </thead>\n",
       "  <tbody>\n",
       "    <tr>\n",
       "      <th>128267</th>\n",
       "      <td>25.666667</td>\n",
       "      <td>0.285714</td>\n",
       "      <td>0.714286</td>\n",
       "      <td>0.428571</td>\n",
       "      <td>0.571429</td>\n",
       "      <td>0.000000</td>\n",
       "      <td>7.0</td>\n",
       "      <td>0</td>\n",
       "    </tr>\n",
       "    <tr>\n",
       "      <th>27209</th>\n",
       "      <td>23.000000</td>\n",
       "      <td>0.400000</td>\n",
       "      <td>0.600000</td>\n",
       "      <td>0.000000</td>\n",
       "      <td>0.800000</td>\n",
       "      <td>0.200000</td>\n",
       "      <td>10.0</td>\n",
       "      <td>0</td>\n",
       "    </tr>\n",
       "    <tr>\n",
       "      <th>79604</th>\n",
       "      <td>30.000000</td>\n",
       "      <td>0.428571</td>\n",
       "      <td>0.571429</td>\n",
       "      <td>0.285714</td>\n",
       "      <td>0.428571</td>\n",
       "      <td>0.285714</td>\n",
       "      <td>5.0</td>\n",
       "      <td>0</td>\n",
       "    </tr>\n",
       "    <tr>\n",
       "      <th>100837</th>\n",
       "      <td>9.346154</td>\n",
       "      <td>0.370370</td>\n",
       "      <td>0.629630</td>\n",
       "      <td>0.185185</td>\n",
       "      <td>0.666667</td>\n",
       "      <td>0.148148</td>\n",
       "      <td>12.0</td>\n",
       "      <td>1</td>\n",
       "    </tr>\n",
       "    <tr>\n",
       "      <th>204805</th>\n",
       "      <td>7.200000</td>\n",
       "      <td>0.363636</td>\n",
       "      <td>0.636364</td>\n",
       "      <td>0.454545</td>\n",
       "      <td>0.363636</td>\n",
       "      <td>0.181818</td>\n",
       "      <td>13.0</td>\n",
       "      <td>1</td>\n",
       "    </tr>\n",
       "    <tr>\n",
       "      <th>46805</th>\n",
       "      <td>25.600000</td>\n",
       "      <td>0.666667</td>\n",
       "      <td>0.333333</td>\n",
       "      <td>0.333333</td>\n",
       "      <td>0.500000</td>\n",
       "      <td>0.166667</td>\n",
       "      <td>3.0</td>\n",
       "      <td>0</td>\n",
       "    </tr>\n",
       "    <tr>\n",
       "      <th>159690</th>\n",
       "      <td>15.181818</td>\n",
       "      <td>0.333333</td>\n",
       "      <td>0.666667</td>\n",
       "      <td>0.500000</td>\n",
       "      <td>0.000000</td>\n",
       "      <td>0.500000</td>\n",
       "      <td>14.0</td>\n",
       "      <td>2</td>\n",
       "    </tr>\n",
       "    <tr>\n",
       "      <th>32479</th>\n",
       "      <td>8.666667</td>\n",
       "      <td>0.250000</td>\n",
       "      <td>0.750000</td>\n",
       "      <td>0.500000</td>\n",
       "      <td>0.250000</td>\n",
       "      <td>0.250000</td>\n",
       "      <td>5.0</td>\n",
       "      <td>1</td>\n",
       "    </tr>\n",
       "    <tr>\n",
       "      <th>57976</th>\n",
       "      <td>7.833333</td>\n",
       "      <td>0.142857</td>\n",
       "      <td>0.857143</td>\n",
       "      <td>0.714286</td>\n",
       "      <td>0.142857</td>\n",
       "      <td>0.142857</td>\n",
       "      <td>9.0</td>\n",
       "      <td>1</td>\n",
       "    </tr>\n",
       "    <tr>\n",
       "      <th>94274</th>\n",
       "      <td>7.750000</td>\n",
       "      <td>0.400000</td>\n",
       "      <td>0.600000</td>\n",
       "      <td>0.400000</td>\n",
       "      <td>0.600000</td>\n",
       "      <td>0.000000</td>\n",
       "      <td>9.0</td>\n",
       "      <td>1</td>\n",
       "    </tr>\n",
       "  </tbody>\n",
       "</table>\n",
       "</div>"
      ],
      "text/plain": [
       "         days_since_prior_order_mean  order_dow1_cnt_norm  \\\n",
       "user_id                                                     \n",
       "128267                     25.666667             0.285714   \n",
       "27209                      23.000000             0.400000   \n",
       "79604                      30.000000             0.428571   \n",
       "100837                      9.346154             0.370370   \n",
       "204805                      7.200000             0.363636   \n",
       "46805                      25.600000             0.666667   \n",
       "159690                     15.181818             0.333333   \n",
       "32479                       8.666667             0.250000   \n",
       "57976                       7.833333             0.142857   \n",
       "94274                       7.750000             0.400000   \n",
       "\n",
       "         order_dow2_cnt_norm  order_hour_of_day1_cnt_norm  \\\n",
       "user_id                                                     \n",
       "128267              0.714286                     0.428571   \n",
       "27209               0.600000                     0.000000   \n",
       "79604               0.571429                     0.285714   \n",
       "100837              0.629630                     0.185185   \n",
       "204805              0.636364                     0.454545   \n",
       "46805               0.333333                     0.333333   \n",
       "159690              0.666667                     0.500000   \n",
       "32479               0.750000                     0.500000   \n",
       "57976               0.857143                     0.714286   \n",
       "94274               0.600000                     0.400000   \n",
       "\n",
       "         order_hour_of_day2_cnt_norm  order_hour_of_day3_cnt_norm  \\\n",
       "user_id                                                             \n",
       "128267                      0.571429                     0.000000   \n",
       "27209                       0.800000                     0.200000   \n",
       "79604                       0.428571                     0.285714   \n",
       "100837                      0.666667                     0.148148   \n",
       "204805                      0.363636                     0.181818   \n",
       "46805                       0.500000                     0.166667   \n",
       "159690                      0.000000                     0.500000   \n",
       "32479                       0.250000                     0.250000   \n",
       "57976                       0.142857                     0.142857   \n",
       "94274                       0.600000                     0.000000   \n",
       "\n",
       "         median_itemsCnt_per_order  Label  \n",
       "user_id                                    \n",
       "128267                         7.0      0  \n",
       "27209                         10.0      0  \n",
       "79604                          5.0      0  \n",
       "100837                        12.0      1  \n",
       "204805                        13.0      1  \n",
       "46805                          3.0      0  \n",
       "159690                        14.0      2  \n",
       "32479                          5.0      1  \n",
       "57976                          9.0      1  \n",
       "94274                          9.0      1  "
      ]
     },
     "execution_count": 73,
     "metadata": {},
     "output_type": "execute_result"
    }
   ],
   "source": [
    "X1.head(10)# DF with Labels"
   ]
  },
  {
   "cell_type": "code",
   "execution_count": 74,
   "metadata": {},
   "outputs": [
    {
     "data": {
      "text/html": [
       "<div>\n",
       "<style scoped>\n",
       "    .dataframe tbody tr th:only-of-type {\n",
       "        vertical-align: middle;\n",
       "    }\n",
       "\n",
       "    .dataframe tbody tr th {\n",
       "        vertical-align: top;\n",
       "    }\n",
       "\n",
       "    .dataframe thead th {\n",
       "        text-align: right;\n",
       "    }\n",
       "</style>\n",
       "<table border=\"1\" class=\"dataframe\">\n",
       "  <thead>\n",
       "    <tr style=\"text-align: right;\">\n",
       "      <th></th>\n",
       "      <th>days_since_prior_order_mean</th>\n",
       "      <th>order_dow1_cnt_norm</th>\n",
       "      <th>order_dow2_cnt_norm</th>\n",
       "      <th>order_hour_of_day1_cnt_norm</th>\n",
       "      <th>order_hour_of_day2_cnt_norm</th>\n",
       "      <th>order_hour_of_day3_cnt_norm</th>\n",
       "      <th>median_itemsCnt_per_order</th>\n",
       "      <th>Label</th>\n",
       "    </tr>\n",
       "  </thead>\n",
       "  <tbody>\n",
       "    <tr>\n",
       "      <th>count</th>\n",
       "      <td>3610.000000</td>\n",
       "      <td>3610.000000</td>\n",
       "      <td>3610.000000</td>\n",
       "      <td>3610.000000</td>\n",
       "      <td>3610.000000</td>\n",
       "      <td>3610.000000</td>\n",
       "      <td>3610.000000</td>\n",
       "      <td>3610.0</td>\n",
       "    </tr>\n",
       "    <tr>\n",
       "      <th>mean</th>\n",
       "      <td>22.489218</td>\n",
       "      <td>0.357583</td>\n",
       "      <td>0.642417</td>\n",
       "      <td>0.402405</td>\n",
       "      <td>0.469186</td>\n",
       "      <td>0.128409</td>\n",
       "      <td>7.263712</td>\n",
       "      <td>0.0</td>\n",
       "    </tr>\n",
       "    <tr>\n",
       "      <th>std</th>\n",
       "      <td>4.300449</td>\n",
       "      <td>0.240254</td>\n",
       "      <td>0.240254</td>\n",
       "      <td>0.263942</td>\n",
       "      <td>0.259087</td>\n",
       "      <td>0.175202</td>\n",
       "      <td>3.882699</td>\n",
       "      <td>0.0</td>\n",
       "    </tr>\n",
       "    <tr>\n",
       "      <th>min</th>\n",
       "      <td>16.083333</td>\n",
       "      <td>0.000000</td>\n",
       "      <td>0.000000</td>\n",
       "      <td>0.000000</td>\n",
       "      <td>0.000000</td>\n",
       "      <td>0.000000</td>\n",
       "      <td>1.000000</td>\n",
       "      <td>0.0</td>\n",
       "    </tr>\n",
       "    <tr>\n",
       "      <th>25%</th>\n",
       "      <td>18.833333</td>\n",
       "      <td>0.200000</td>\n",
       "      <td>0.500000</td>\n",
       "      <td>0.200000</td>\n",
       "      <td>0.285714</td>\n",
       "      <td>0.000000</td>\n",
       "      <td>4.000000</td>\n",
       "      <td>0.0</td>\n",
       "    </tr>\n",
       "    <tr>\n",
       "      <th>50%</th>\n",
       "      <td>21.707143</td>\n",
       "      <td>0.333333</td>\n",
       "      <td>0.666667</td>\n",
       "      <td>0.375000</td>\n",
       "      <td>0.500000</td>\n",
       "      <td>0.000000</td>\n",
       "      <td>7.000000</td>\n",
       "      <td>0.0</td>\n",
       "    </tr>\n",
       "    <tr>\n",
       "      <th>75%</th>\n",
       "      <td>25.666667</td>\n",
       "      <td>0.500000</td>\n",
       "      <td>0.800000</td>\n",
       "      <td>0.600000</td>\n",
       "      <td>0.666667</td>\n",
       "      <td>0.222222</td>\n",
       "      <td>10.000000</td>\n",
       "      <td>0.0</td>\n",
       "    </tr>\n",
       "    <tr>\n",
       "      <th>max</th>\n",
       "      <td>30.000000</td>\n",
       "      <td>1.000000</td>\n",
       "      <td>1.000000</td>\n",
       "      <td>1.000000</td>\n",
       "      <td>1.000000</td>\n",
       "      <td>1.000000</td>\n",
       "      <td>20.000000</td>\n",
       "      <td>0.0</td>\n",
       "    </tr>\n",
       "  </tbody>\n",
       "</table>\n",
       "</div>"
      ],
      "text/plain": [
       "       days_since_prior_order_mean  order_dow1_cnt_norm  order_dow2_cnt_norm  \\\n",
       "count                  3610.000000          3610.000000          3610.000000   \n",
       "mean                     22.489218             0.357583             0.642417   \n",
       "std                       4.300449             0.240254             0.240254   \n",
       "min                      16.083333             0.000000             0.000000   \n",
       "25%                      18.833333             0.200000             0.500000   \n",
       "50%                      21.707143             0.333333             0.666667   \n",
       "75%                      25.666667             0.500000             0.800000   \n",
       "max                      30.000000             1.000000             1.000000   \n",
       "\n",
       "       order_hour_of_day1_cnt_norm  order_hour_of_day2_cnt_norm  \\\n",
       "count                  3610.000000                  3610.000000   \n",
       "mean                      0.402405                     0.469186   \n",
       "std                       0.263942                     0.259087   \n",
       "min                       0.000000                     0.000000   \n",
       "25%                       0.200000                     0.285714   \n",
       "50%                       0.375000                     0.500000   \n",
       "75%                       0.600000                     0.666667   \n",
       "max                       1.000000                     1.000000   \n",
       "\n",
       "       order_hour_of_day3_cnt_norm  median_itemsCnt_per_order   Label  \n",
       "count                  3610.000000                3610.000000  3610.0  \n",
       "mean                      0.128409                   7.263712     0.0  \n",
       "std                       0.175202                   3.882699     0.0  \n",
       "min                       0.000000                   1.000000     0.0  \n",
       "25%                       0.000000                   4.000000     0.0  \n",
       "50%                       0.000000                   7.000000     0.0  \n",
       "75%                       0.222222                  10.000000     0.0  \n",
       "max                       1.000000                  20.000000     0.0  "
      ]
     },
     "execution_count": 74,
     "metadata": {},
     "output_type": "execute_result"
    }
   ],
   "source": [
    "X1[X1['Label'] == 0].describe()"
   ]
  },
  {
   "cell_type": "code",
   "execution_count": 76,
   "metadata": {},
   "outputs": [
    {
     "data": {
      "text/html": [
       "<div>\n",
       "<style scoped>\n",
       "    .dataframe tbody tr th:only-of-type {\n",
       "        vertical-align: middle;\n",
       "    }\n",
       "\n",
       "    .dataframe tbody tr th {\n",
       "        vertical-align: top;\n",
       "    }\n",
       "\n",
       "    .dataframe thead th {\n",
       "        text-align: right;\n",
       "    }\n",
       "</style>\n",
       "<table border=\"1\" class=\"dataframe\">\n",
       "  <thead>\n",
       "    <tr style=\"text-align: right;\">\n",
       "      <th></th>\n",
       "      <th>days_since_prior_order_mean</th>\n",
       "      <th>order_dow1_cnt_norm</th>\n",
       "      <th>order_dow2_cnt_norm</th>\n",
       "      <th>order_hour_of_day1_cnt_norm</th>\n",
       "      <th>order_hour_of_day2_cnt_norm</th>\n",
       "      <th>order_hour_of_day3_cnt_norm</th>\n",
       "      <th>median_itemsCnt_per_order</th>\n",
       "      <th>Label</th>\n",
       "    </tr>\n",
       "  </thead>\n",
       "  <tbody>\n",
       "    <tr>\n",
       "      <th>count</th>\n",
       "      <td>4900.000000</td>\n",
       "      <td>4900.000000</td>\n",
       "      <td>4900.000000</td>\n",
       "      <td>4900.000000</td>\n",
       "      <td>4900.000000</td>\n",
       "      <td>4900.000000</td>\n",
       "      <td>4900.000000</td>\n",
       "      <td>4900.0</td>\n",
       "    </tr>\n",
       "    <tr>\n",
       "      <th>mean</th>\n",
       "      <td>9.886518</td>\n",
       "      <td>0.338420</td>\n",
       "      <td>0.661580</td>\n",
       "      <td>0.422701</td>\n",
       "      <td>0.454240</td>\n",
       "      <td>0.123058</td>\n",
       "      <td>7.525408</td>\n",
       "      <td>1.0</td>\n",
       "    </tr>\n",
       "    <tr>\n",
       "      <th>std</th>\n",
       "      <td>3.610311</td>\n",
       "      <td>0.191701</td>\n",
       "      <td>0.191701</td>\n",
       "      <td>0.227306</td>\n",
       "      <td>0.215419</td>\n",
       "      <td>0.145818</td>\n",
       "      <td>3.433638</td>\n",
       "      <td>0.0</td>\n",
       "    </tr>\n",
       "    <tr>\n",
       "      <th>min</th>\n",
       "      <td>0.295918</td>\n",
       "      <td>0.000000</td>\n",
       "      <td>0.000000</td>\n",
       "      <td>0.000000</td>\n",
       "      <td>0.000000</td>\n",
       "      <td>0.000000</td>\n",
       "      <td>1.000000</td>\n",
       "      <td>1.0</td>\n",
       "    </tr>\n",
       "    <tr>\n",
       "      <th>25%</th>\n",
       "      <td>7.000000</td>\n",
       "      <td>0.218124</td>\n",
       "      <td>0.566667</td>\n",
       "      <td>0.262446</td>\n",
       "      <td>0.307692</td>\n",
       "      <td>0.000000</td>\n",
       "      <td>5.000000</td>\n",
       "      <td>1.0</td>\n",
       "    </tr>\n",
       "    <tr>\n",
       "      <th>50%</th>\n",
       "      <td>9.952381</td>\n",
       "      <td>0.324324</td>\n",
       "      <td>0.675676</td>\n",
       "      <td>0.407651</td>\n",
       "      <td>0.444444</td>\n",
       "      <td>0.080552</td>\n",
       "      <td>7.000000</td>\n",
       "      <td>1.0</td>\n",
       "    </tr>\n",
       "    <tr>\n",
       "      <th>75%</th>\n",
       "      <td>13.000000</td>\n",
       "      <td>0.433333</td>\n",
       "      <td>0.781876</td>\n",
       "      <td>0.571429</td>\n",
       "      <td>0.600000</td>\n",
       "      <td>0.193548</td>\n",
       "      <td>10.000000</td>\n",
       "      <td>1.0</td>\n",
       "    </tr>\n",
       "    <tr>\n",
       "      <th>max</th>\n",
       "      <td>16.230769</td>\n",
       "      <td>1.000000</td>\n",
       "      <td>1.000000</td>\n",
       "      <td>1.000000</td>\n",
       "      <td>1.000000</td>\n",
       "      <td>1.000000</td>\n",
       "      <td>17.000000</td>\n",
       "      <td>1.0</td>\n",
       "    </tr>\n",
       "  </tbody>\n",
       "</table>\n",
       "</div>"
      ],
      "text/plain": [
       "       days_since_prior_order_mean  order_dow1_cnt_norm  order_dow2_cnt_norm  \\\n",
       "count                  4900.000000          4900.000000          4900.000000   \n",
       "mean                      9.886518             0.338420             0.661580   \n",
       "std                       3.610311             0.191701             0.191701   \n",
       "min                       0.295918             0.000000             0.000000   \n",
       "25%                       7.000000             0.218124             0.566667   \n",
       "50%                       9.952381             0.324324             0.675676   \n",
       "75%                      13.000000             0.433333             0.781876   \n",
       "max                      16.230769             1.000000             1.000000   \n",
       "\n",
       "       order_hour_of_day1_cnt_norm  order_hour_of_day2_cnt_norm  \\\n",
       "count                  4900.000000                  4900.000000   \n",
       "mean                      0.422701                     0.454240   \n",
       "std                       0.227306                     0.215419   \n",
       "min                       0.000000                     0.000000   \n",
       "25%                       0.262446                     0.307692   \n",
       "50%                       0.407651                     0.444444   \n",
       "75%                       0.571429                     0.600000   \n",
       "max                       1.000000                     1.000000   \n",
       "\n",
       "       order_hour_of_day3_cnt_norm  median_itemsCnt_per_order   Label  \n",
       "count                  4900.000000                4900.000000  4900.0  \n",
       "mean                      0.123058                   7.525408     1.0  \n",
       "std                       0.145818                   3.433638     0.0  \n",
       "min                       0.000000                   1.000000     1.0  \n",
       "25%                       0.000000                   5.000000     1.0  \n",
       "50%                       0.080552                   7.000000     1.0  \n",
       "75%                       0.193548                  10.000000     1.0  \n",
       "max                       1.000000                  17.000000     1.0  "
      ]
     },
     "execution_count": 76,
     "metadata": {},
     "output_type": "execute_result"
    }
   ],
   "source": [
    "X1[X1['Label'] == 1].describe()"
   ]
  },
  {
   "cell_type": "code",
   "execution_count": 77,
   "metadata": {},
   "outputs": [
    {
     "data": {
      "text/html": [
       "<div>\n",
       "<style scoped>\n",
       "    .dataframe tbody tr th:only-of-type {\n",
       "        vertical-align: middle;\n",
       "    }\n",
       "\n",
       "    .dataframe tbody tr th {\n",
       "        vertical-align: top;\n",
       "    }\n",
       "\n",
       "    .dataframe thead th {\n",
       "        text-align: right;\n",
       "    }\n",
       "</style>\n",
       "<table border=\"1\" class=\"dataframe\">\n",
       "  <thead>\n",
       "    <tr style=\"text-align: right;\">\n",
       "      <th></th>\n",
       "      <th>days_since_prior_order_mean</th>\n",
       "      <th>order_dow1_cnt_norm</th>\n",
       "      <th>order_dow2_cnt_norm</th>\n",
       "      <th>order_hour_of_day1_cnt_norm</th>\n",
       "      <th>order_hour_of_day2_cnt_norm</th>\n",
       "      <th>order_hour_of_day3_cnt_norm</th>\n",
       "      <th>median_itemsCnt_per_order</th>\n",
       "      <th>Label</th>\n",
       "    </tr>\n",
       "  </thead>\n",
       "  <tbody>\n",
       "    <tr>\n",
       "      <th>count</th>\n",
       "      <td>1800.000000</td>\n",
       "      <td>1800.000000</td>\n",
       "      <td>1800.000000</td>\n",
       "      <td>1800.000000</td>\n",
       "      <td>1800.000000</td>\n",
       "      <td>1800.000000</td>\n",
       "      <td>1800.000000</td>\n",
       "      <td>1800.0</td>\n",
       "    </tr>\n",
       "    <tr>\n",
       "      <th>mean</th>\n",
       "      <td>15.006986</td>\n",
       "      <td>0.385837</td>\n",
       "      <td>0.614163</td>\n",
       "      <td>0.412542</td>\n",
       "      <td>0.452821</td>\n",
       "      <td>0.134637</td>\n",
       "      <td>19.416667</td>\n",
       "      <td>2.0</td>\n",
       "    </tr>\n",
       "    <tr>\n",
       "      <th>std</th>\n",
       "      <td>5.621325</td>\n",
       "      <td>0.228149</td>\n",
       "      <td>0.228149</td>\n",
       "      <td>0.239154</td>\n",
       "      <td>0.242834</td>\n",
       "      <td>0.169070</td>\n",
       "      <td>5.417813</td>\n",
       "      <td>0.0</td>\n",
       "    </tr>\n",
       "    <tr>\n",
       "      <th>min</th>\n",
       "      <td>2.357143</td>\n",
       "      <td>0.000000</td>\n",
       "      <td>0.000000</td>\n",
       "      <td>0.000000</td>\n",
       "      <td>0.000000</td>\n",
       "      <td>0.000000</td>\n",
       "      <td>12.000000</td>\n",
       "      <td>2.0</td>\n",
       "    </tr>\n",
       "    <tr>\n",
       "      <th>25%</th>\n",
       "      <td>10.860837</td>\n",
       "      <td>0.232111</td>\n",
       "      <td>0.500000</td>\n",
       "      <td>0.250000</td>\n",
       "      <td>0.285714</td>\n",
       "      <td>0.000000</td>\n",
       "      <td>16.000000</td>\n",
       "      <td>2.0</td>\n",
       "    </tr>\n",
       "    <tr>\n",
       "      <th>50%</th>\n",
       "      <td>14.946779</td>\n",
       "      <td>0.360000</td>\n",
       "      <td>0.640000</td>\n",
       "      <td>0.400000</td>\n",
       "      <td>0.440588</td>\n",
       "      <td>0.083333</td>\n",
       "      <td>18.000000</td>\n",
       "      <td>2.0</td>\n",
       "    </tr>\n",
       "    <tr>\n",
       "      <th>75%</th>\n",
       "      <td>18.546703</td>\n",
       "      <td>0.500000</td>\n",
       "      <td>0.767889</td>\n",
       "      <td>0.594595</td>\n",
       "      <td>0.625000</td>\n",
       "      <td>0.200000</td>\n",
       "      <td>22.000000</td>\n",
       "      <td>2.0</td>\n",
       "    </tr>\n",
       "    <tr>\n",
       "      <th>max</th>\n",
       "      <td>30.000000</td>\n",
       "      <td>1.000000</td>\n",
       "      <td>1.000000</td>\n",
       "      <td>1.000000</td>\n",
       "      <td>1.000000</td>\n",
       "      <td>1.000000</td>\n",
       "      <td>73.500000</td>\n",
       "      <td>2.0</td>\n",
       "    </tr>\n",
       "  </tbody>\n",
       "</table>\n",
       "</div>"
      ],
      "text/plain": [
       "       days_since_prior_order_mean  order_dow1_cnt_norm  order_dow2_cnt_norm  \\\n",
       "count                  1800.000000          1800.000000          1800.000000   \n",
       "mean                     15.006986             0.385837             0.614163   \n",
       "std                       5.621325             0.228149             0.228149   \n",
       "min                       2.357143             0.000000             0.000000   \n",
       "25%                      10.860837             0.232111             0.500000   \n",
       "50%                      14.946779             0.360000             0.640000   \n",
       "75%                      18.546703             0.500000             0.767889   \n",
       "max                      30.000000             1.000000             1.000000   \n",
       "\n",
       "       order_hour_of_day1_cnt_norm  order_hour_of_day2_cnt_norm  \\\n",
       "count                  1800.000000                  1800.000000   \n",
       "mean                      0.412542                     0.452821   \n",
       "std                       0.239154                     0.242834   \n",
       "min                       0.000000                     0.000000   \n",
       "25%                       0.250000                     0.285714   \n",
       "50%                       0.400000                     0.440588   \n",
       "75%                       0.594595                     0.625000   \n",
       "max                       1.000000                     1.000000   \n",
       "\n",
       "       order_hour_of_day3_cnt_norm  median_itemsCnt_per_order   Label  \n",
       "count                  1800.000000                1800.000000  1800.0  \n",
       "mean                      0.134637                  19.416667     2.0  \n",
       "std                       0.169070                   5.417813     0.0  \n",
       "min                       0.000000                  12.000000     2.0  \n",
       "25%                       0.000000                  16.000000     2.0  \n",
       "50%                       0.083333                  18.000000     2.0  \n",
       "75%                       0.200000                  22.000000     2.0  \n",
       "max                       1.000000                  73.500000     2.0  "
      ]
     },
     "execution_count": 77,
     "metadata": {},
     "output_type": "execute_result"
    }
   ],
   "source": [
    "X1[X1['Label'] == 2].describe()"
   ]
  },
  {
   "cell_type": "code",
   "execution_count": 78,
   "metadata": {},
   "outputs": [],
   "source": [
    "# remove mean of prior order days, we only consider time as factor"
   ]
  },
  {
   "cell_type": "code",
   "execution_count": 79,
   "metadata": {},
   "outputs": [],
   "source": [
    "#USER: user_purchase_behavior,  item_variety "
   ]
  },
  {
   "cell_type": "code",
   "execution_count": 80,
   "metadata": {},
   "outputs": [],
   "source": [
    "#"
   ]
  },
  {
   "cell_type": "markdown",
   "metadata": {},
   "source": [
    "### K-mean clustering on product selection based on department_id"
   ]
  },
  {
   "cell_type": "markdown",
   "metadata": {},
   "source": [
    "#####find user buy items from what departments and what is/are the most frequently bought item(s)#####"
   ]
  },
  {
   "cell_type": "code",
   "execution_count": 81,
   "metadata": {},
   "outputs": [],
   "source": [
    "#quantify the product type for each user\n",
    "orders_items_type = orders_products.loc[:,['order_id','user_id','department_id']]\n"
   ]
  },
  {
   "cell_type": "code",
   "execution_count": 82,
   "metadata": {},
   "outputs": [
    {
     "data": {
      "text/html": [
       "<div>\n",
       "<style scoped>\n",
       "    .dataframe tbody tr th:only-of-type {\n",
       "        vertical-align: middle;\n",
       "    }\n",
       "\n",
       "    .dataframe tbody tr th {\n",
       "        vertical-align: top;\n",
       "    }\n",
       "\n",
       "    .dataframe thead th {\n",
       "        text-align: right;\n",
       "    }\n",
       "</style>\n",
       "<table border=\"1\" class=\"dataframe\">\n",
       "  <thead>\n",
       "    <tr style=\"text-align: right;\">\n",
       "      <th></th>\n",
       "      <th>order_id</th>\n",
       "      <th>user_id</th>\n",
       "      <th>department_id</th>\n",
       "    </tr>\n",
       "  </thead>\n",
       "  <tbody>\n",
       "    <tr>\n",
       "      <th>195</th>\n",
       "      <td>2539329</td>\n",
       "      <td>1</td>\n",
       "      <td>7</td>\n",
       "    </tr>\n",
       "    <tr>\n",
       "      <th>195</th>\n",
       "      <td>2398795</td>\n",
       "      <td>1</td>\n",
       "      <td>7</td>\n",
       "    </tr>\n",
       "    <tr>\n",
       "      <th>195</th>\n",
       "      <td>473747</td>\n",
       "      <td>1</td>\n",
       "      <td>7</td>\n",
       "    </tr>\n",
       "    <tr>\n",
       "      <th>195</th>\n",
       "      <td>2254736</td>\n",
       "      <td>1</td>\n",
       "      <td>7</td>\n",
       "    </tr>\n",
       "    <tr>\n",
       "      <th>195</th>\n",
       "      <td>431534</td>\n",
       "      <td>1</td>\n",
       "      <td>7</td>\n",
       "    </tr>\n",
       "  </tbody>\n",
       "</table>\n",
       "</div>"
      ],
      "text/plain": [
       "     order_id  user_id  department_id\n",
       "195   2539329        1              7\n",
       "195   2398795        1              7\n",
       "195    473747        1              7\n",
       "195   2254736        1              7\n",
       "195    431534        1              7"
      ]
     },
     "execution_count": 82,
     "metadata": {},
     "output_type": "execute_result"
    }
   ],
   "source": [
    "orders_items_type.head()"
   ]
  },
  {
   "cell_type": "code",
   "execution_count": 83,
   "metadata": {},
   "outputs": [],
   "source": [
    "# User Purchase Preference\n",
    "# EX.\n",
    "# user A:\n",
    "# order: 10202 [1,9,20]\n",
    "# order: 10203 [1,20]\n",
    "# order: 10204 [7]\n",
    "# user A: [1,9,20,1,20,7]  UNIQUE: 4  FAV:[1,20]  CNT:2"
   ]
  },
  {
   "cell_type": "code",
   "execution_count": 84,
   "metadata": {},
   "outputs": [],
   "source": [
    "#Group by user_id; find all items' department_id the user ordered\n",
    "user_items_types = orders_items_type.groupby(['user_id'])['department_id'].agg(pd.Series.tolist).reset_index()\n"
   ]
  },
  {
   "cell_type": "code",
   "execution_count": 85,
   "metadata": {},
   "outputs": [],
   "source": [
    "from collections import Counter\n",
    "\n",
    "def multimode(my_list):\n",
    "    counter = Counter(my_list)\n",
    "    max_count = max(counter.values())\n",
    "    mode = [k for k,v in counter.items() if v == max_count]\n",
    "    #if has multimodes, only return the first mode\n",
    "    return mode\n",
    "\n",
    "def maxCount(my_list):\n",
    "    counter = Counter(my_list)\n",
    "    return max(counter.values())"
   ]
  },
  {
   "cell_type": "code",
   "execution_count": 86,
   "metadata": {},
   "outputs": [],
   "source": [
    "user_items_types['unique_departments'] = [len(set(x)) for x in user_items_types['department_id']]\n",
    "user_items_types['max_freq_departments'] = [multimode(x) for x in user_items_types['department_id']]\n",
    "user_items_types['max_freq_departments_cnt'] = [maxCount(x) for x in user_items_types['department_id']]\n"
   ]
  },
  {
   "cell_type": "code",
   "execution_count": 87,
   "metadata": {},
   "outputs": [],
   "source": [
    "#take either department id if there are two modes\n",
    "max_freq_departments = [x[0] for x in user_items_types['max_freq_departments']] \n",
    "user_items_types['max_freq_departments1'] = max_freq_departments"
   ]
  },
  {
   "cell_type": "code",
   "execution_count": 88,
   "metadata": {},
   "outputs": [
    {
     "data": {
      "text/html": [
       "<div>\n",
       "<style scoped>\n",
       "    .dataframe tbody tr th:only-of-type {\n",
       "        vertical-align: middle;\n",
       "    }\n",
       "\n",
       "    .dataframe tbody tr th {\n",
       "        vertical-align: top;\n",
       "    }\n",
       "\n",
       "    .dataframe thead th {\n",
       "        text-align: right;\n",
       "    }\n",
       "</style>\n",
       "<table border=\"1\" class=\"dataframe\">\n",
       "  <thead>\n",
       "    <tr style=\"text-align: right;\">\n",
       "      <th></th>\n",
       "      <th>user_id</th>\n",
       "      <th>department_id</th>\n",
       "      <th>unique_departments</th>\n",
       "      <th>max_freq_departments</th>\n",
       "      <th>max_freq_departments_cnt</th>\n",
       "      <th>max_freq_departments1</th>\n",
       "    </tr>\n",
       "  </thead>\n",
       "  <tbody>\n",
       "    <tr>\n",
       "      <th>0</th>\n",
       "      <td>1</td>\n",
       "      <td>[7, 7, 7, 7, 7, 7, 7, 7, 7, 7, 16, 19, 19, 19,...</td>\n",
       "      <td>7</td>\n",
       "      <td>[19]</td>\n",
       "      <td>22</td>\n",
       "      <td>19</td>\n",
       "    </tr>\n",
       "    <tr>\n",
       "      <th>1</th>\n",
       "      <td>2</td>\n",
       "      <td>[4, 4, 4, 19, 19, 19, 19, 19, 19, 19, 19, 19, ...</td>\n",
       "      <td>13</td>\n",
       "      <td>[16]</td>\n",
       "      <td>48</td>\n",
       "      <td>16</td>\n",
       "    </tr>\n",
       "    <tr>\n",
       "      <th>2</th>\n",
       "      <td>3</td>\n",
       "      <td>[4, 4, 4, 4, 4, 4, 4, 4, 4, 4, 4, 4, 4, 4, 4, ...</td>\n",
       "      <td>9</td>\n",
       "      <td>[4]</td>\n",
       "      <td>38</td>\n",
       "      <td>4</td>\n",
       "    </tr>\n",
       "    <tr>\n",
       "      <th>3</th>\n",
       "      <td>4</td>\n",
       "      <td>[4, 4, 3, 7, 1, 1, 17, 5, 17, 15, 7, 3, 1, 5, ...</td>\n",
       "      <td>9</td>\n",
       "      <td>[7, 1]</td>\n",
       "      <td>3</td>\n",
       "      <td>7</td>\n",
       "    </tr>\n",
       "    <tr>\n",
       "      <th>4</th>\n",
       "      <td>5</td>\n",
       "      <td>[20, 13, 6, 6, 4, 4, 4, 4, 4, 4, 4, 4, 4, 4, 4...</td>\n",
       "      <td>9</td>\n",
       "      <td>[4]</td>\n",
       "      <td>19</td>\n",
       "      <td>4</td>\n",
       "    </tr>\n",
       "  </tbody>\n",
       "</table>\n",
       "</div>"
      ],
      "text/plain": [
       "   user_id                                      department_id  \\\n",
       "0        1  [7, 7, 7, 7, 7, 7, 7, 7, 7, 7, 16, 19, 19, 19,...   \n",
       "1        2  [4, 4, 4, 19, 19, 19, 19, 19, 19, 19, 19, 19, ...   \n",
       "2        3  [4, 4, 4, 4, 4, 4, 4, 4, 4, 4, 4, 4, 4, 4, 4, ...   \n",
       "3        4  [4, 4, 3, 7, 1, 1, 17, 5, 17, 15, 7, 3, 1, 5, ...   \n",
       "4        5  [20, 13, 6, 6, 4, 4, 4, 4, 4, 4, 4, 4, 4, 4, 4...   \n",
       "\n",
       "   unique_departments max_freq_departments  max_freq_departments_cnt  \\\n",
       "0                   7                 [19]                        22   \n",
       "1                  13                 [16]                        48   \n",
       "2                   9                  [4]                        38   \n",
       "3                   9               [7, 1]                         3   \n",
       "4                   9                  [4]                        19   \n",
       "\n",
       "   max_freq_departments1  \n",
       "0                     19  \n",
       "1                     16  \n",
       "2                      4  \n",
       "3                      7  \n",
       "4                      4  "
      ]
     },
     "execution_count": 88,
     "metadata": {},
     "output_type": "execute_result"
    }
   ],
   "source": [
    "user_items_types.head()"
   ]
  },
  {
   "cell_type": "code",
   "execution_count": 89,
   "metadata": {},
   "outputs": [
    {
     "data": {
      "text/plain": [
       "(206209, 6)"
      ]
     },
     "execution_count": 89,
     "metadata": {},
     "output_type": "execute_result"
    }
   ],
   "source": [
    "user_items_types.shape"
   ]
  },
  {
   "cell_type": "code",
   "execution_count": 90,
   "metadata": {},
   "outputs": [],
   "source": [
    "#problem: small selection of features"
   ]
  },
  {
   "cell_type": "code",
   "execution_count": 152,
   "metadata": {},
   "outputs": [],
   "source": [
    "X_department=user_items_types.loc[:,['unique_departments','max_freq_departments1','max_freq_departments_cnt']]"
   ]
  },
  {
   "cell_type": "code",
   "execution_count": 92,
   "metadata": {},
   "outputs": [],
   "source": [
    "#X_department = order_dow_hod_kmean.merge(user_items_types, left_on = 'user_id', right_on = 'user_id', left_index = True)\n",
    "# X_department1 = X_department.loc[:,['days_since_prior_order_mean','order_dow1_cnt_norm', 'order_dow2_cnt_norm',\\\n",
    "#        'order_hour_of_day1_cnt_norm', 'order_hour_of_day2_cnt_norm',\\\n",
    "#        'order_hour_of_day3_cnt_norm', 'median_itemsCnt_per_order','unique_departments']]"
   ]
  },
  {
   "cell_type": "code",
   "execution_count": 153,
   "metadata": {},
   "outputs": [
    {
     "name": "stdout",
     "output_type": "stream",
     "text": [
      "The 1 time:\n",
      "For n_clusters = 2 the average silhouette_score is: 0.7792728970190662\n",
      "For n_clusters = 3 the average silhouette_score is: 0.6847063519254912\n",
      "For n_clusters = 4 the average silhouette_score is: 0.6544079651401215\n",
      "For n_clusters = 5 the average silhouette_score is: 0.6073488733568452\n",
      "The 2 time:\n",
      "For n_clusters = 2 the average silhouette_score is: 0.7751561721741745\n",
      "For n_clusters = 3 the average silhouette_score is: 0.6923638644975867\n",
      "For n_clusters = 4 the average silhouette_score is: 0.6258684856328914\n",
      "For n_clusters = 5 the average silhouette_score is: 0.5957348409300456\n",
      "The 3 time:\n",
      "For n_clusters = 2 the average silhouette_score is: 0.778761920022622\n",
      "For n_clusters = 3 the average silhouette_score is: 0.6937802284370851\n",
      "For n_clusters = 4 the average silhouette_score is: 0.6411919620358613\n",
      "For n_clusters = 5 the average silhouette_score is: 0.6033328728732493\n",
      "The 4 time:\n",
      "For n_clusters = 2 the average silhouette_score is: 0.7643234016603844\n",
      "For n_clusters = 3 the average silhouette_score is: 0.6954919114585695\n",
      "For n_clusters = 4 the average silhouette_score is: 0.629443641501678\n",
      "For n_clusters = 5 the average silhouette_score is: 0.5876396916773303\n",
      "The 5 time:\n",
      "For n_clusters = 2 the average silhouette_score is: 0.7734659108128412\n",
      "For n_clusters = 3 the average silhouette_score is: 0.7009455860335988\n",
      "For n_clusters = 4 the average silhouette_score is: 0.6401701806013539\n",
      "For n_clusters = 5 the average silhouette_score is: 0.5867390619748496\n"
     ]
    }
   ],
   "source": [
    "range_n_clusters = [2,3,4,5]\n",
    "for n in range(5):\n",
    "    department2 = X_department.sample(frac = 0.05)  \n",
    "    print('The {} time:'.format(n+1))\n",
    "    for n_clusters in range_n_clusters:\n",
    "        km = KMeans(n_clusters=n_clusters, random_state=324)\n",
    "        cluster_labels = km.fit_predict(department2)\n",
    "        silhouette_avg = silhouette_score(department2, cluster_labels)\n",
    "        print('For n_clusters = {} the average silhouette_score is: {}'.format(n_clusters, silhouette_avg))\n",
    "        sample_silhouette_values = silhouette_samples(department2, cluster_labels)\n"
   ]
  },
  {
   "cell_type": "code",
   "execution_count": 154,
   "metadata": {},
   "outputs": [],
   "source": [
    "def kmeans_modeling_plot2(X):\n",
    "    #sample for 5 times\n",
    "    department1 = X.sample(frac = 0.05) \n",
    "    #n_clusters=2\n",
    "    km = KMeans(random_state=n,n_clusters=2)\n",
    "    res=km.fit(department1)\n",
    "    \n",
    "    print('\\nCluster centers:\\n',res.cluster_centers_)\n",
    "    print('\\nSum of squared errors:',res.inertia_)\n",
    "\n",
    "    pca=PCA(2)\n",
    "    Xproj=pca.fit_transform(department1)\n",
    "    plt.scatter(Xproj[:,0],Xproj[:,1],c=res.labels_)\n",
    "    plt.show()\n",
    "    return res,department1"
   ]
  },
  {
   "cell_type": "code",
   "execution_count": 155,
   "metadata": {},
   "outputs": [
    {
     "name": "stdout",
     "output_type": "stream",
     "text": [
      "\n",
      "Cluster centers:\n",
      " [[ 10.46844139   7.64501932  34.61464148]\n",
      " [ 14.44668008   6.06136821 245.9778672 ]]\n",
      "\n",
      "Sum of squared errors: 22879417.80723003\n"
     ]
    },
    {
     "data": {
      "image/png": "[encoded data removed]",
      "text/plain": [
       "<Figure size 432x288 with 1 Axes>"
      ]
     },
     "metadata": {
      "needs_background": "light"
     },
     "output_type": "display_data"
    },
    {
     "name": "stdout",
     "output_type": "stream",
     "text": [
      "\n",
      "Cluster centers:\n",
      " [[ 10.44011142   7.70794943  34.82569102]\n",
      " [ 14.36270492   6.1875     234.92213115]]\n",
      "\n",
      "Sum of squared errors: 20748484.530539185\n"
     ]
    },
    {
     "data": {
      "image/png": "[encoded data removed]",
      "text/plain": [
       "<Figure size 432x288 with 1 Axes>"
      ]
     },
     "metadata": {
      "needs_background": "light"
     },
     "output_type": "display_data"
    },
    {
     "name": "stdout",
     "output_type": "stream",
     "text": [
      "\n",
      "Cluster centers:\n",
      " [[ 10.40058543   7.64559844  33.93603643]\n",
      " [ 14.54511971   5.87753223 227.16574586]]\n",
      "\n",
      "Sum of squared errors: 18718749.726293724\n"
     ]
    },
    {
     "data": {
      "image/png": "[encoded data removed]",
      "text/plain": [
       "<Figure size 432x288 with 1 Axes>"
      ]
     },
     "metadata": {
      "needs_background": "light"
     },
     "output_type": "display_data"
    },
    {
     "name": "stdout",
     "output_type": "stream",
     "text": [
      "\n",
      "Cluster centers:\n",
      " [[ 10.44823554   7.60905612  35.30771684]\n",
      " [ 14.61197339   6.41019956 249.92682927]]\n",
      "\n",
      "Sum of squared errors: 21079558.646469202\n"
     ]
    },
    {
     "data": {
      "image/png": "[encoded data removed]",
      "text/plain": [
       "<Figure size 432x288 with 1 Axes>"
      ]
     },
     "metadata": {
      "needs_background": "light"
     },
     "output_type": "display_data"
    },
    {
     "name": "stdout",
     "output_type": "stream",
     "text": [
      "\n",
      "Cluster centers:\n",
      " [[ 10.43483451   7.61573521  34.49115572]\n",
      " [ 14.44018265   5.90502283 224.32511416]]\n",
      "\n",
      "Sum of squared errors: 19831904.179406714\n"
     ]
    },
    {
     "data": {
      "image/png": "[encoded data removed]",
      "text/plain": [
       "<Figure size 432x288 with 1 Axes>"
      ]
     },
     "metadata": {
      "needs_background": "light"
     },
     "output_type": "display_data"
    }
   ],
   "source": [
    "for n in range(5):\n",
    "    kmeans_modeling_plot2(X_department)"
   ]
  },
  {
   "cell_type": "code",
   "execution_count": null,
   "metadata": {},
   "outputs": [],
   "source": []
  },
  {
   "cell_type": "markdown",
   "metadata": {},
   "source": [
    "#### Adding more feature into consideration, such as product type "
   ]
  },
  {
   "cell_type": "code",
   "execution_count": 96,
   "metadata": {},
   "outputs": [],
   "source": [
    "#try1=orders_items_type.drop_duplicates()# check behavior of Varity"
   ]
  },
  {
   "cell_type": "code",
   "execution_count": 97,
   "metadata": {},
   "outputs": [
    {
     "data": {
      "text/html": [
       "<div>\n",
       "<style scoped>\n",
       "    .dataframe tbody tr th:only-of-type {\n",
       "        vertical-align: middle;\n",
       "    }\n",
       "\n",
       "    .dataframe tbody tr th {\n",
       "        vertical-align: top;\n",
       "    }\n",
       "\n",
       "    .dataframe thead th {\n",
       "        text-align: right;\n",
       "    }\n",
       "</style>\n",
       "<table border=\"1\" class=\"dataframe\">\n",
       "  <thead>\n",
       "    <tr style=\"text-align: right;\">\n",
       "      <th></th>\n",
       "      <th>order_id</th>\n",
       "      <th>user_id</th>\n",
       "      <th>department_id</th>\n",
       "    </tr>\n",
       "  </thead>\n",
       "  <tbody>\n",
       "    <tr>\n",
       "      <th>195</th>\n",
       "      <td>2539329</td>\n",
       "      <td>1</td>\n",
       "      <td>7</td>\n",
       "    </tr>\n",
       "    <tr>\n",
       "      <th>195</th>\n",
       "      <td>2398795</td>\n",
       "      <td>1</td>\n",
       "      <td>7</td>\n",
       "    </tr>\n",
       "    <tr>\n",
       "      <th>195</th>\n",
       "      <td>473747</td>\n",
       "      <td>1</td>\n",
       "      <td>7</td>\n",
       "    </tr>\n",
       "    <tr>\n",
       "      <th>195</th>\n",
       "      <td>2254736</td>\n",
       "      <td>1</td>\n",
       "      <td>7</td>\n",
       "    </tr>\n",
       "    <tr>\n",
       "      <th>195</th>\n",
       "      <td>431534</td>\n",
       "      <td>1</td>\n",
       "      <td>7</td>\n",
       "    </tr>\n",
       "  </tbody>\n",
       "</table>\n",
       "</div>"
      ],
      "text/plain": [
       "     order_id  user_id  department_id\n",
       "195   2539329        1              7\n",
       "195   2398795        1              7\n",
       "195    473747        1              7\n",
       "195   2254736        1              7\n",
       "195    431534        1              7"
      ]
     },
     "execution_count": 97,
     "metadata": {},
     "output_type": "execute_result"
    }
   ],
   "source": [
    "orders_items_type.head()"
   ]
  },
  {
   "cell_type": "code",
   "execution_count": 98,
   "metadata": {},
   "outputs": [
    {
     "data": {
      "text/html": [
       "<div>\n",
       "<style scoped>\n",
       "    .dataframe tbody tr th:only-of-type {\n",
       "        vertical-align: middle;\n",
       "    }\n",
       "\n",
       "    .dataframe tbody tr th {\n",
       "        vertical-align: top;\n",
       "    }\n",
       "\n",
       "    .dataframe thead th {\n",
       "        text-align: right;\n",
       "    }\n",
       "</style>\n",
       "<table border=\"1\" class=\"dataframe\">\n",
       "  <thead>\n",
       "    <tr style=\"text-align: right;\">\n",
       "      <th></th>\n",
       "      <th>user_id</th>\n",
       "      <th>department_id</th>\n",
       "    </tr>\n",
       "  </thead>\n",
       "  <tbody>\n",
       "    <tr>\n",
       "      <th>195</th>\n",
       "      <td>1</td>\n",
       "      <td>7</td>\n",
       "    </tr>\n",
       "    <tr>\n",
       "      <th>195</th>\n",
       "      <td>1</td>\n",
       "      <td>7</td>\n",
       "    </tr>\n",
       "    <tr>\n",
       "      <th>195</th>\n",
       "      <td>1</td>\n",
       "      <td>7</td>\n",
       "    </tr>\n",
       "    <tr>\n",
       "      <th>195</th>\n",
       "      <td>1</td>\n",
       "      <td>7</td>\n",
       "    </tr>\n",
       "    <tr>\n",
       "      <th>195</th>\n",
       "      <td>1</td>\n",
       "      <td>7</td>\n",
       "    </tr>\n",
       "    <tr>\n",
       "      <th>195</th>\n",
       "      <td>1</td>\n",
       "      <td>7</td>\n",
       "    </tr>\n",
       "    <tr>\n",
       "      <th>195</th>\n",
       "      <td>1</td>\n",
       "      <td>7</td>\n",
       "    </tr>\n",
       "    <tr>\n",
       "      <th>195</th>\n",
       "      <td>1</td>\n",
       "      <td>7</td>\n",
       "    </tr>\n",
       "    <tr>\n",
       "      <th>195</th>\n",
       "      <td>1</td>\n",
       "      <td>7</td>\n",
       "    </tr>\n",
       "    <tr>\n",
       "      <th>195</th>\n",
       "      <td>1</td>\n",
       "      <td>7</td>\n",
       "    </tr>\n",
       "  </tbody>\n",
       "</table>\n",
       "</div>"
      ],
      "text/plain": [
       "     user_id  department_id\n",
       "195        1              7\n",
       "195        1              7\n",
       "195        1              7\n",
       "195        1              7\n",
       "195        1              7\n",
       "195        1              7\n",
       "195        1              7\n",
       "195        1              7\n",
       "195        1              7\n",
       "195        1              7"
      ]
     },
     "execution_count": 98,
     "metadata": {},
     "output_type": "execute_result"
    }
   ],
   "source": [
    "try2=orders_items_type.iloc[:,1:]\n",
    "try2[:10]"
   ]
  },
  {
   "cell_type": "code",
   "execution_count": 99,
   "metadata": {},
   "outputs": [],
   "source": [
    "department_cross=pd.crosstab(try2['user_id'],try2['department_id'])"
   ]
  },
  {
   "cell_type": "code",
   "execution_count": 100,
   "metadata": {},
   "outputs": [
    {
     "data": {
      "text/html": [
       "<div>\n",
       "<style scoped>\n",
       "    .dataframe tbody tr th:only-of-type {\n",
       "        vertical-align: middle;\n",
       "    }\n",
       "\n",
       "    .dataframe tbody tr th {\n",
       "        vertical-align: top;\n",
       "    }\n",
       "\n",
       "    .dataframe thead th {\n",
       "        text-align: right;\n",
       "    }\n",
       "</style>\n",
       "<table border=\"1\" class=\"dataframe\">\n",
       "  <thead>\n",
       "    <tr style=\"text-align: right;\">\n",
       "      <th>department_id</th>\n",
       "      <th>1</th>\n",
       "      <th>2</th>\n",
       "      <th>3</th>\n",
       "      <th>4</th>\n",
       "      <th>5</th>\n",
       "      <th>6</th>\n",
       "      <th>7</th>\n",
       "      <th>8</th>\n",
       "      <th>9</th>\n",
       "      <th>10</th>\n",
       "      <th>...</th>\n",
       "      <th>12</th>\n",
       "      <th>13</th>\n",
       "      <th>14</th>\n",
       "      <th>15</th>\n",
       "      <th>16</th>\n",
       "      <th>17</th>\n",
       "      <th>18</th>\n",
       "      <th>19</th>\n",
       "      <th>20</th>\n",
       "      <th>21</th>\n",
       "    </tr>\n",
       "    <tr>\n",
       "      <th>user_id</th>\n",
       "      <th></th>\n",
       "      <th></th>\n",
       "      <th></th>\n",
       "      <th></th>\n",
       "      <th></th>\n",
       "      <th></th>\n",
       "      <th></th>\n",
       "      <th></th>\n",
       "      <th></th>\n",
       "      <th></th>\n",
       "      <th></th>\n",
       "      <th></th>\n",
       "      <th></th>\n",
       "      <th></th>\n",
       "      <th></th>\n",
       "      <th></th>\n",
       "      <th></th>\n",
       "      <th></th>\n",
       "      <th></th>\n",
       "      <th></th>\n",
       "      <th></th>\n",
       "    </tr>\n",
       "  </thead>\n",
       "  <tbody>\n",
       "    <tr>\n",
       "      <th>1</th>\n",
       "      <td>0</td>\n",
       "      <td>0</td>\n",
       "      <td>0</td>\n",
       "      <td>5</td>\n",
       "      <td>0</td>\n",
       "      <td>0</td>\n",
       "      <td>13</td>\n",
       "      <td>0</td>\n",
       "      <td>0</td>\n",
       "      <td>0</td>\n",
       "      <td>...</td>\n",
       "      <td>0</td>\n",
       "      <td>1</td>\n",
       "      <td>3</td>\n",
       "      <td>0</td>\n",
       "      <td>13</td>\n",
       "      <td>2</td>\n",
       "      <td>0</td>\n",
       "      <td>22</td>\n",
       "      <td>0</td>\n",
       "      <td>0</td>\n",
       "    </tr>\n",
       "    <tr>\n",
       "      <th>2</th>\n",
       "      <td>17</td>\n",
       "      <td>0</td>\n",
       "      <td>2</td>\n",
       "      <td>36</td>\n",
       "      <td>0</td>\n",
       "      <td>3</td>\n",
       "      <td>9</td>\n",
       "      <td>0</td>\n",
       "      <td>0</td>\n",
       "      <td>0</td>\n",
       "      <td>...</td>\n",
       "      <td>1</td>\n",
       "      <td>11</td>\n",
       "      <td>3</td>\n",
       "      <td>1</td>\n",
       "      <td>48</td>\n",
       "      <td>0</td>\n",
       "      <td>0</td>\n",
       "      <td>42</td>\n",
       "      <td>21</td>\n",
       "      <td>0</td>\n",
       "    </tr>\n",
       "    <tr>\n",
       "      <th>3</th>\n",
       "      <td>6</td>\n",
       "      <td>0</td>\n",
       "      <td>0</td>\n",
       "      <td>38</td>\n",
       "      <td>0</td>\n",
       "      <td>0</td>\n",
       "      <td>3</td>\n",
       "      <td>0</td>\n",
       "      <td>4</td>\n",
       "      <td>0</td>\n",
       "      <td>...</td>\n",
       "      <td>0</td>\n",
       "      <td>4</td>\n",
       "      <td>0</td>\n",
       "      <td>0</td>\n",
       "      <td>21</td>\n",
       "      <td>1</td>\n",
       "      <td>0</td>\n",
       "      <td>9</td>\n",
       "      <td>2</td>\n",
       "      <td>0</td>\n",
       "    </tr>\n",
       "    <tr>\n",
       "      <th>4</th>\n",
       "      <td>3</td>\n",
       "      <td>0</td>\n",
       "      <td>2</td>\n",
       "      <td>2</td>\n",
       "      <td>2</td>\n",
       "      <td>0</td>\n",
       "      <td>3</td>\n",
       "      <td>0</td>\n",
       "      <td>0</td>\n",
       "      <td>0</td>\n",
       "      <td>...</td>\n",
       "      <td>0</td>\n",
       "      <td>0</td>\n",
       "      <td>0</td>\n",
       "      <td>1</td>\n",
       "      <td>0</td>\n",
       "      <td>2</td>\n",
       "      <td>0</td>\n",
       "      <td>1</td>\n",
       "      <td>2</td>\n",
       "      <td>0</td>\n",
       "    </tr>\n",
       "    <tr>\n",
       "      <th>5</th>\n",
       "      <td>2</td>\n",
       "      <td>0</td>\n",
       "      <td>0</td>\n",
       "      <td>19</td>\n",
       "      <td>0</td>\n",
       "      <td>2</td>\n",
       "      <td>0</td>\n",
       "      <td>0</td>\n",
       "      <td>1</td>\n",
       "      <td>0</td>\n",
       "      <td>...</td>\n",
       "      <td>0</td>\n",
       "      <td>2</td>\n",
       "      <td>0</td>\n",
       "      <td>1</td>\n",
       "      <td>8</td>\n",
       "      <td>0</td>\n",
       "      <td>0</td>\n",
       "      <td>1</td>\n",
       "      <td>1</td>\n",
       "      <td>0</td>\n",
       "    </tr>\n",
       "  </tbody>\n",
       "</table>\n",
       "<p>5 rows × 21 columns</p>\n",
       "</div>"
      ],
      "text/plain": [
       "department_id  1   2   3   4   5   6   7   8   9   10  ...  12  13  14  15  \\\n",
       "user_id                                                ...                   \n",
       "1               0   0   0   5   0   0  13   0   0   0  ...   0   1   3   0   \n",
       "2              17   0   2  36   0   3   9   0   0   0  ...   1  11   3   1   \n",
       "3               6   0   0  38   0   0   3   0   4   0  ...   0   4   0   0   \n",
       "4               3   0   2   2   2   0   3   0   0   0  ...   0   0   0   1   \n",
       "5               2   0   0  19   0   2   0   0   1   0  ...   0   2   0   1   \n",
       "\n",
       "department_id  16  17  18  19  20  21  \n",
       "user_id                                \n",
       "1              13   2   0  22   0   0  \n",
       "2              48   0   0  42  21   0  \n",
       "3              21   1   0   9   2   0  \n",
       "4               0   2   0   1   2   0  \n",
       "5               8   0   0   1   1   0  \n",
       "\n",
       "[5 rows x 21 columns]"
      ]
     },
     "execution_count": 100,
     "metadata": {},
     "output_type": "execute_result"
    }
   ],
   "source": [
    "department_cross_clean=department_cross.iloc[:,:21]\n",
    "department_cross_clean.head()"
   ]
  },
  {
   "cell_type": "code",
   "execution_count": 101,
   "metadata": {},
   "outputs": [
    {
     "data": {
      "text/html": [
       "<div>\n",
       "<style scoped>\n",
       "    .dataframe tbody tr th:only-of-type {\n",
       "        vertical-align: middle;\n",
       "    }\n",
       "\n",
       "    .dataframe tbody tr th {\n",
       "        vertical-align: top;\n",
       "    }\n",
       "\n",
       "    .dataframe thead th {\n",
       "        text-align: right;\n",
       "    }\n",
       "</style>\n",
       "<table border=\"1\" class=\"dataframe\">\n",
       "  <thead>\n",
       "    <tr style=\"text-align: right;\">\n",
       "      <th>department_id</th>\n",
       "      <th>1</th>\n",
       "      <th>2</th>\n",
       "      <th>3</th>\n",
       "      <th>4</th>\n",
       "      <th>5</th>\n",
       "      <th>6</th>\n",
       "      <th>7</th>\n",
       "      <th>8</th>\n",
       "      <th>9</th>\n",
       "      <th>10</th>\n",
       "      <th>...</th>\n",
       "      <th>12</th>\n",
       "      <th>13</th>\n",
       "      <th>14</th>\n",
       "      <th>15</th>\n",
       "      <th>16</th>\n",
       "      <th>17</th>\n",
       "      <th>18</th>\n",
       "      <th>19</th>\n",
       "      <th>20</th>\n",
       "      <th>21</th>\n",
       "    </tr>\n",
       "    <tr>\n",
       "      <th>user_id</th>\n",
       "      <th></th>\n",
       "      <th></th>\n",
       "      <th></th>\n",
       "      <th></th>\n",
       "      <th></th>\n",
       "      <th></th>\n",
       "      <th></th>\n",
       "      <th></th>\n",
       "      <th></th>\n",
       "      <th></th>\n",
       "      <th></th>\n",
       "      <th></th>\n",
       "      <th></th>\n",
       "      <th></th>\n",
       "      <th></th>\n",
       "      <th></th>\n",
       "      <th></th>\n",
       "      <th></th>\n",
       "      <th></th>\n",
       "      <th></th>\n",
       "      <th></th>\n",
       "    </tr>\n",
       "  </thead>\n",
       "  <tbody>\n",
       "    <tr>\n",
       "      <th>1</th>\n",
       "      <td>0</td>\n",
       "      <td>0</td>\n",
       "      <td>0</td>\n",
       "      <td>1</td>\n",
       "      <td>0</td>\n",
       "      <td>0</td>\n",
       "      <td>1</td>\n",
       "      <td>0</td>\n",
       "      <td>0</td>\n",
       "      <td>0</td>\n",
       "      <td>...</td>\n",
       "      <td>0</td>\n",
       "      <td>1</td>\n",
       "      <td>1</td>\n",
       "      <td>0</td>\n",
       "      <td>1</td>\n",
       "      <td>1</td>\n",
       "      <td>0</td>\n",
       "      <td>1</td>\n",
       "      <td>0</td>\n",
       "      <td>0</td>\n",
       "    </tr>\n",
       "    <tr>\n",
       "      <th>2</th>\n",
       "      <td>1</td>\n",
       "      <td>0</td>\n",
       "      <td>1</td>\n",
       "      <td>1</td>\n",
       "      <td>0</td>\n",
       "      <td>1</td>\n",
       "      <td>1</td>\n",
       "      <td>0</td>\n",
       "      <td>0</td>\n",
       "      <td>0</td>\n",
       "      <td>...</td>\n",
       "      <td>1</td>\n",
       "      <td>1</td>\n",
       "      <td>1</td>\n",
       "      <td>1</td>\n",
       "      <td>1</td>\n",
       "      <td>0</td>\n",
       "      <td>0</td>\n",
       "      <td>1</td>\n",
       "      <td>1</td>\n",
       "      <td>0</td>\n",
       "    </tr>\n",
       "    <tr>\n",
       "      <th>3</th>\n",
       "      <td>1</td>\n",
       "      <td>0</td>\n",
       "      <td>0</td>\n",
       "      <td>1</td>\n",
       "      <td>0</td>\n",
       "      <td>0</td>\n",
       "      <td>1</td>\n",
       "      <td>0</td>\n",
       "      <td>1</td>\n",
       "      <td>0</td>\n",
       "      <td>...</td>\n",
       "      <td>0</td>\n",
       "      <td>1</td>\n",
       "      <td>0</td>\n",
       "      <td>0</td>\n",
       "      <td>1</td>\n",
       "      <td>1</td>\n",
       "      <td>0</td>\n",
       "      <td>1</td>\n",
       "      <td>1</td>\n",
       "      <td>0</td>\n",
       "    </tr>\n",
       "    <tr>\n",
       "      <th>4</th>\n",
       "      <td>1</td>\n",
       "      <td>0</td>\n",
       "      <td>1</td>\n",
       "      <td>1</td>\n",
       "      <td>1</td>\n",
       "      <td>0</td>\n",
       "      <td>1</td>\n",
       "      <td>0</td>\n",
       "      <td>0</td>\n",
       "      <td>0</td>\n",
       "      <td>...</td>\n",
       "      <td>0</td>\n",
       "      <td>0</td>\n",
       "      <td>0</td>\n",
       "      <td>1</td>\n",
       "      <td>0</td>\n",
       "      <td>1</td>\n",
       "      <td>0</td>\n",
       "      <td>1</td>\n",
       "      <td>1</td>\n",
       "      <td>0</td>\n",
       "    </tr>\n",
       "    <tr>\n",
       "      <th>5</th>\n",
       "      <td>1</td>\n",
       "      <td>0</td>\n",
       "      <td>0</td>\n",
       "      <td>1</td>\n",
       "      <td>0</td>\n",
       "      <td>1</td>\n",
       "      <td>0</td>\n",
       "      <td>0</td>\n",
       "      <td>1</td>\n",
       "      <td>0</td>\n",
       "      <td>...</td>\n",
       "      <td>0</td>\n",
       "      <td>1</td>\n",
       "      <td>0</td>\n",
       "      <td>1</td>\n",
       "      <td>1</td>\n",
       "      <td>0</td>\n",
       "      <td>0</td>\n",
       "      <td>1</td>\n",
       "      <td>1</td>\n",
       "      <td>0</td>\n",
       "    </tr>\n",
       "  </tbody>\n",
       "</table>\n",
       "<p>5 rows × 21 columns</p>\n",
       "</div>"
      ],
      "text/plain": [
       "department_id  1   2   3   4   5   6   7   8   9   10  ...  12  13  14  15  \\\n",
       "user_id                                                ...                   \n",
       "1               0   0   0   1   0   0   1   0   0   0  ...   0   1   1   0   \n",
       "2               1   0   1   1   0   1   1   0   0   0  ...   1   1   1   1   \n",
       "3               1   0   0   1   0   0   1   0   1   0  ...   0   1   0   0   \n",
       "4               1   0   1   1   1   0   1   0   0   0  ...   0   0   0   1   \n",
       "5               1   0   0   1   0   1   0   0   1   0  ...   0   1   0   1   \n",
       "\n",
       "department_id  16  17  18  19  20  21  \n",
       "user_id                                \n",
       "1               1   1   0   1   0   0  \n",
       "2               1   0   0   1   1   0  \n",
       "3               1   1   0   1   1   0  \n",
       "4               0   1   0   1   1   0  \n",
       "5               1   0   0   1   1   0  \n",
       "\n",
       "[5 rows x 21 columns]"
      ]
     },
     "execution_count": 101,
     "metadata": {},
     "output_type": "execute_result"
    }
   ],
   "source": [
    "department_cross_aprior=department_cross_clean.astype(bool).astype(int)\n",
    "department_cross_aprior.head()"
   ]
  },
  {
   "cell_type": "code",
   "execution_count": 102,
   "metadata": {},
   "outputs": [],
   "source": [
    "#Kmean \n",
    "X_cross=department_cross_clean\n"
   ]
  },
  {
   "cell_type": "code",
   "execution_count": 103,
   "metadata": {},
   "outputs": [
    {
     "data": {
      "text/html": [
       "<div>\n",
       "<style scoped>\n",
       "    .dataframe tbody tr th:only-of-type {\n",
       "        vertical-align: middle;\n",
       "    }\n",
       "\n",
       "    .dataframe tbody tr th {\n",
       "        vertical-align: top;\n",
       "    }\n",
       "\n",
       "    .dataframe thead th {\n",
       "        text-align: right;\n",
       "    }\n",
       "</style>\n",
       "<table border=\"1\" class=\"dataframe\">\n",
       "  <thead>\n",
       "    <tr style=\"text-align: right;\">\n",
       "      <th>department_id</th>\n",
       "      <th>1</th>\n",
       "      <th>2</th>\n",
       "      <th>3</th>\n",
       "      <th>4</th>\n",
       "      <th>5</th>\n",
       "      <th>6</th>\n",
       "      <th>7</th>\n",
       "      <th>8</th>\n",
       "      <th>9</th>\n",
       "      <th>10</th>\n",
       "      <th>...</th>\n",
       "      <th>12</th>\n",
       "      <th>13</th>\n",
       "      <th>14</th>\n",
       "      <th>15</th>\n",
       "      <th>16</th>\n",
       "      <th>17</th>\n",
       "      <th>18</th>\n",
       "      <th>19</th>\n",
       "      <th>20</th>\n",
       "      <th>21</th>\n",
       "    </tr>\n",
       "    <tr>\n",
       "      <th>user_id</th>\n",
       "      <th></th>\n",
       "      <th></th>\n",
       "      <th></th>\n",
       "      <th></th>\n",
       "      <th></th>\n",
       "      <th></th>\n",
       "      <th></th>\n",
       "      <th></th>\n",
       "      <th></th>\n",
       "      <th></th>\n",
       "      <th></th>\n",
       "      <th></th>\n",
       "      <th></th>\n",
       "      <th></th>\n",
       "      <th></th>\n",
       "      <th></th>\n",
       "      <th></th>\n",
       "      <th></th>\n",
       "      <th></th>\n",
       "      <th></th>\n",
       "      <th></th>\n",
       "    </tr>\n",
       "  </thead>\n",
       "  <tbody>\n",
       "    <tr>\n",
       "      <th>1</th>\n",
       "      <td>0</td>\n",
       "      <td>0</td>\n",
       "      <td>0</td>\n",
       "      <td>5</td>\n",
       "      <td>0</td>\n",
       "      <td>0</td>\n",
       "      <td>13</td>\n",
       "      <td>0</td>\n",
       "      <td>0</td>\n",
       "      <td>0</td>\n",
       "      <td>...</td>\n",
       "      <td>0</td>\n",
       "      <td>1</td>\n",
       "      <td>3</td>\n",
       "      <td>0</td>\n",
       "      <td>13</td>\n",
       "      <td>2</td>\n",
       "      <td>0</td>\n",
       "      <td>22</td>\n",
       "      <td>0</td>\n",
       "      <td>0</td>\n",
       "    </tr>\n",
       "    <tr>\n",
       "      <th>2</th>\n",
       "      <td>17</td>\n",
       "      <td>0</td>\n",
       "      <td>2</td>\n",
       "      <td>36</td>\n",
       "      <td>0</td>\n",
       "      <td>3</td>\n",
       "      <td>9</td>\n",
       "      <td>0</td>\n",
       "      <td>0</td>\n",
       "      <td>0</td>\n",
       "      <td>...</td>\n",
       "      <td>1</td>\n",
       "      <td>11</td>\n",
       "      <td>3</td>\n",
       "      <td>1</td>\n",
       "      <td>48</td>\n",
       "      <td>0</td>\n",
       "      <td>0</td>\n",
       "      <td>42</td>\n",
       "      <td>21</td>\n",
       "      <td>0</td>\n",
       "    </tr>\n",
       "    <tr>\n",
       "      <th>3</th>\n",
       "      <td>6</td>\n",
       "      <td>0</td>\n",
       "      <td>0</td>\n",
       "      <td>38</td>\n",
       "      <td>0</td>\n",
       "      <td>0</td>\n",
       "      <td>3</td>\n",
       "      <td>0</td>\n",
       "      <td>4</td>\n",
       "      <td>0</td>\n",
       "      <td>...</td>\n",
       "      <td>0</td>\n",
       "      <td>4</td>\n",
       "      <td>0</td>\n",
       "      <td>0</td>\n",
       "      <td>21</td>\n",
       "      <td>1</td>\n",
       "      <td>0</td>\n",
       "      <td>9</td>\n",
       "      <td>2</td>\n",
       "      <td>0</td>\n",
       "    </tr>\n",
       "    <tr>\n",
       "      <th>4</th>\n",
       "      <td>3</td>\n",
       "      <td>0</td>\n",
       "      <td>2</td>\n",
       "      <td>2</td>\n",
       "      <td>2</td>\n",
       "      <td>0</td>\n",
       "      <td>3</td>\n",
       "      <td>0</td>\n",
       "      <td>0</td>\n",
       "      <td>0</td>\n",
       "      <td>...</td>\n",
       "      <td>0</td>\n",
       "      <td>0</td>\n",
       "      <td>0</td>\n",
       "      <td>1</td>\n",
       "      <td>0</td>\n",
       "      <td>2</td>\n",
       "      <td>0</td>\n",
       "      <td>1</td>\n",
       "      <td>2</td>\n",
       "      <td>0</td>\n",
       "    </tr>\n",
       "    <tr>\n",
       "      <th>5</th>\n",
       "      <td>2</td>\n",
       "      <td>0</td>\n",
       "      <td>0</td>\n",
       "      <td>19</td>\n",
       "      <td>0</td>\n",
       "      <td>2</td>\n",
       "      <td>0</td>\n",
       "      <td>0</td>\n",
       "      <td>1</td>\n",
       "      <td>0</td>\n",
       "      <td>...</td>\n",
       "      <td>0</td>\n",
       "      <td>2</td>\n",
       "      <td>0</td>\n",
       "      <td>1</td>\n",
       "      <td>8</td>\n",
       "      <td>0</td>\n",
       "      <td>0</td>\n",
       "      <td>1</td>\n",
       "      <td>1</td>\n",
       "      <td>0</td>\n",
       "    </tr>\n",
       "  </tbody>\n",
       "</table>\n",
       "<p>5 rows × 21 columns</p>\n",
       "</div>"
      ],
      "text/plain": [
       "department_id  1   2   3   4   5   6   7   8   9   10  ...  12  13  14  15  \\\n",
       "user_id                                                ...                   \n",
       "1               0   0   0   5   0   0  13   0   0   0  ...   0   1   3   0   \n",
       "2              17   0   2  36   0   3   9   0   0   0  ...   1  11   3   1   \n",
       "3               6   0   0  38   0   0   3   0   4   0  ...   0   4   0   0   \n",
       "4               3   0   2   2   2   0   3   0   0   0  ...   0   0   0   1   \n",
       "5               2   0   0  19   0   2   0   0   1   0  ...   0   2   0   1   \n",
       "\n",
       "department_id  16  17  18  19  20  21  \n",
       "user_id                                \n",
       "1              13   2   0  22   0   0  \n",
       "2              48   0   0  42  21   0  \n",
       "3              21   1   0   9   2   0  \n",
       "4               0   2   0   1   2   0  \n",
       "5               8   0   0   1   1   0  \n",
       "\n",
       "[5 rows x 21 columns]"
      ]
     },
     "execution_count": 103,
     "metadata": {},
     "output_type": "execute_result"
    }
   ],
   "source": [
    "X_cross.head()"
   ]
  },
  {
   "cell_type": "code",
   "execution_count": 104,
   "metadata": {},
   "outputs": [
    {
     "data": {
      "text/plain": [
       "10310.45"
      ]
     },
     "execution_count": 104,
     "metadata": {},
     "output_type": "execute_result"
    }
   ],
   "source": [
    "len(X_cross)*0.05"
   ]
  },
  {
   "cell_type": "code",
   "execution_count": 105,
   "metadata": {},
   "outputs": [
    {
     "name": "stdout",
     "output_type": "stream",
     "text": [
      "The 1 time:\n",
      "For n_clusters = 2 the average silhouette_score is: 0.7096206891517725\n",
      "For n_clusters = 3 the average silhouette_score is: 0.5850532789945724\n",
      "For n_clusters = 4 the average silhouette_score is: 0.4806397063387389\n",
      "For n_clusters = 5 the average silhouette_score is: 0.46689155198000803\n",
      "The 2 time:\n",
      "For n_clusters = 2 the average silhouette_score is: 0.7039111337169969\n",
      "For n_clusters = 3 the average silhouette_score is: 0.5751062417965099\n",
      "For n_clusters = 4 the average silhouette_score is: 0.4822872480724153\n",
      "For n_clusters = 5 the average silhouette_score is: 0.4650785805225712\n",
      "The 3 time:\n",
      "For n_clusters = 2 the average silhouette_score is: 0.7031930027560932\n",
      "For n_clusters = 3 the average silhouette_score is: 0.5831031810572539\n",
      "For n_clusters = 4 the average silhouette_score is: 0.47287076227437014\n",
      "For n_clusters = 5 the average silhouette_score is: 0.46043361915450154\n",
      "The 4 time:\n",
      "For n_clusters = 2 the average silhouette_score is: 0.7133759958368066\n",
      "For n_clusters = 3 the average silhouette_score is: 0.5798696161921604\n",
      "For n_clusters = 4 the average silhouette_score is: 0.49200059653974376\n",
      "For n_clusters = 5 the average silhouette_score is: 0.4681840298768809\n",
      "The 5 time:\n",
      "For n_clusters = 2 the average silhouette_score is: 0.7109457008490504\n",
      "For n_clusters = 3 the average silhouette_score is: 0.585308067741214\n",
      "For n_clusters = 4 the average silhouette_score is: 0.5005557720219026\n",
      "For n_clusters = 5 the average silhouette_score is: 0.4818417788457799\n"
     ]
    }
   ],
   "source": [
    "range_n_clusters = [2,3,4,5]\n",
    "for n in range(5):\n",
    "    department2 = X_cross.sample(frac = 0.1)  \n",
    "    print('The {} time:'.format(n+1))\n",
    "    for n_clusters in range_n_clusters:\n",
    "        km = KMeans(n_clusters=n_clusters, random_state=324)\n",
    "        cluster_labels = km.fit_predict(department2)\n",
    "        silhouette_avg = silhouette_score(department2, cluster_labels)\n",
    "        print('For n_clusters = {} the average silhouette_score is: {}'.format(n_clusters, silhouette_avg))\n",
    "        sample_silhouette_values = silhouette_samples(department2, cluster_labels)\n"
   ]
  },
  {
   "cell_type": "code",
   "execution_count": 106,
   "metadata": {},
   "outputs": [],
   "source": [
    "def kmeans_modeling_plot3(X):\n",
    "    #sample for 5 times\n",
    "    department2 = X.sample(frac = 0.05) \n",
    "    #n_clusters=2\n",
    "    km = KMeans(random_state=n,n_clusters=2)\n",
    "    res=km.fit(department2)\n",
    "    \n",
    "    print('\\nCluster centers:\\n',res.cluster_centers_)\n",
    "    print('\\nSum of squared errors:',res.inertia_)\n",
    "\n",
    "    pca=PCA(2)\n",
    "    Xproj=pca.fit_transform(department2)\n",
    "    plt.scatter(Xproj[:,0],Xproj[:,1],c=res.labels_)\n",
    "    plt.show()\n",
    "    return res,department2"
   ]
  },
  {
   "cell_type": "code",
   "execution_count": 107,
   "metadata": {},
   "outputs": [
    {
     "name": "stdout",
     "output_type": "stream",
     "text": [
      "\n",
      "Cluster centers:\n",
      " [[7.84637145e+00 1.28930475e-01 3.77271244e+00 2.66511805e+01\n",
      "  7.50081602e-01 9.20574475e-01 9.45163747e+00 3.73843978e-01\n",
      "  2.90980307e+00 9.33521924e-02 1.68795561e+00 2.37351757e+00\n",
      "  6.22946361e+00 2.35012512e+00 3.51865956e+00 1.65384615e+01\n",
      "  2.88020890e+00 1.11609183e+00 9.35545642e+00 3.35632684e+00\n",
      "  2.63192253e-01]\n",
      " [3.53637176e+01 5.44235925e-01 2.16050045e+01 2.09467382e+02\n",
      "  1.12332440e+00 4.61215371e+00 4.06175156e+01 8.77569258e-01\n",
      "  1.51581769e+01 7.45308311e-01 6.19481680e+00 1.24915103e+01\n",
      "  3.33610366e+01 1.22600536e+01 1.94209115e+01 1.07329759e+02\n",
      "  9.54602324e+00 9.41554960e+00 5.02984808e+01 1.96309205e+01\n",
      "  1.02412869e+00]]\n",
      "\n",
      "Sum of squared errors: 52449667.355532266\n"
     ]
    },
    {
     "data": {
      "image/png": "[encoded data removed]",
      "text/plain": [
       "<Figure size 432x288 with 1 Axes>"
      ]
     },
     "metadata": {
      "needs_background": "light"
     },
     "output_type": "display_data"
    },
    {
     "name": "stdout",
     "output_type": "stream",
     "text": [
      "\n",
      "Cluster centers:\n",
      " [[7.95235529e+00 1.29998922e-01 3.86396464e+00 2.75914628e+01\n",
      "  7.72016816e-01 8.84229816e-01 9.54953110e+00 4.09615177e-01\n",
      "  2.78613776e+00 8.65581546e-02 1.66713377e+00 2.33965722e+00\n",
      "  6.32036219e+00 2.34687938e+00 3.49552657e+00 1.66303762e+01\n",
      "  2.77902339e+00 1.18087744e+00 9.36272502e+00 3.42373612e+00\n",
      "  2.44044411e-01]\n",
      " [3.66166505e+01 4.76282672e-01 2.16999032e+01 2.10397870e+02\n",
      "  8.51887706e-01 4.87705712e+00 4.59486931e+01 8.96418199e-01\n",
      "  1.57395934e+01 7.10551791e-01 5.76766699e+00 1.28973863e+01\n",
      "  3.30271055e+01 1.22391094e+01 1.92042594e+01 1.11873185e+02\n",
      "  9.32817038e+00 1.16282672e+01 5.09709584e+01 2.05237173e+01\n",
      "  1.08518877e+00]]\n",
      "\n",
      "Sum of squared errors: 54170998.318261415\n"
     ]
    },
    {
     "data": {
      "image/png": "[encoded data removed]",
      "text/plain": [
       "<Figure size 432x288 with 1 Axes>"
      ]
     },
     "metadata": {
      "needs_background": "light"
     },
     "output_type": "display_data"
    },
    {
     "name": "stdout",
     "output_type": "stream",
     "text": [
      "\n",
      "Cluster centers:\n",
      " [[7.87677468e+00 1.33196055e-01 3.86008453e+00 2.75426466e+01\n",
      "  7.85087244e-01 8.98666956e-01 9.75777609e+00 4.68733066e-01\n",
      "  2.82865503e+00 9.79733391e-02 1.70141975e+00 2.30649182e+00\n",
      "  6.43058416e+00 2.35710415e+00 3.50612333e+00 1.70086702e+01\n",
      "  2.89173079e+00 1.14771865e+00 9.64842311e+00 3.37065135e+00\n",
      "  2.65958600e-01]\n",
      " [3.60729455e+01 3.92428440e-01 2.21006464e+01 2.07228994e+02\n",
      "  7.11911357e-01 4.91689751e+00 4.33342567e+01 1.66851339e+00\n",
      "  1.63647276e+01 8.10710988e-01 6.01108033e+00 1.36943675e+01\n",
      "  3.39362881e+01 1.20951062e+01 1.99806094e+01 1.10097876e+02\n",
      "  1.00664820e+01 9.76915974e+00 5.53037858e+01 2.08439520e+01\n",
      "  1.03785780e+00]]\n",
      "\n",
      "Sum of squared errors: 53273140.013121195\n"
     ]
    },
    {
     "data": {
      "image/png": "[encoded data removed]",
      "text/plain": [
       "<Figure size 432x288 with 1 Axes>"
      ]
     },
     "metadata": {
      "needs_background": "light"
     },
     "output_type": "display_data"
    },
    {
     "name": "stdout",
     "output_type": "stream",
     "text": [
      "\n",
      "Cluster centers:\n",
      " [[7.84160757e+00 1.34321943e-01 3.82355470e+00 2.72546744e+01\n",
      "  6.49795831e-01 9.17042768e-01 9.66774124e+00 4.50354610e-01\n",
      "  2.88942618e+00 9.24134967e-02 1.71921341e+00 2.37405975e+00\n",
      "  6.39136041e+00 2.47206104e+00 3.53094778e+00 1.70824199e+01\n",
      "  2.91500107e+00 1.10702772e+00 9.62615517e+00 3.43702987e+00\n",
      "  2.45218139e-01]\n",
      " [3.54282869e+01 4.57171315e-01 2.24601594e+01 2.16869522e+02\n",
      "  1.01992032e+00 5.06175299e+00 4.09880478e+01 1.01195219e+00\n",
      "  1.65318725e+01 8.07768924e-01 5.93924303e+00 1.33745020e+01\n",
      "  3.37808765e+01 1.28545817e+01 1.99651394e+01 1.08159363e+02\n",
      "  8.83764940e+00 9.01294821e+00 5.30667331e+01 2.01304781e+01\n",
      "  1.11752988e+00]]\n",
      "\n",
      "Sum of squared errors: 50336860.91280034\n"
     ]
    },
    {
     "data": {
      "image/png": "[encoded data removed]",
      "text/plain": [
       "<Figure size 432x288 with 1 Axes>"
      ]
     },
     "metadata": {
      "needs_background": "light"
     },
     "output_type": "display_data"
    },
    {
     "name": "stdout",
     "output_type": "stream",
     "text": [
      "\n",
      "Cluster centers:\n",
      " [[7.88365019e+00 1.42422596e-01 3.76719174e+00 2.68749593e+01\n",
      "  6.29766431e-01 9.03096143e-01 9.56230310e+00 3.96958175e-01\n",
      "  2.86159696e+00 9.58174905e-02 1.65040739e+00 2.29538294e+00\n",
      "  6.19598045e+00 2.36545356e+00 3.50744161e+00 1.66513851e+01\n",
      "  2.91363389e+00 1.25812059e+00 9.49353612e+00 3.33297121e+00\n",
      "  2.40304183e-01]\n",
      " [3.87556561e+01 5.11312217e-01 2.32036199e+01 2.05551131e+02\n",
      "  1.40542986e+00 4.95294118e+00 4.21819005e+01 1.16380090e+00\n",
      "  1.58570136e+01 6.96832579e-01 5.83981900e+00 1.28461538e+01\n",
      "  3.35638009e+01 1.32850679e+01 1.99701357e+01 1.11422624e+02\n",
      "  1.01167421e+01 9.74932127e+00 5.27366516e+01 2.06588235e+01\n",
      "  1.15022624e+00]]\n",
      "\n",
      "Sum of squared errors: 53382471.25741615\n"
     ]
    },
    {
     "data": {
      "image/png": "[encoded data removed]",
      "text/plain": [
       "<Figure size 432x288 with 1 Axes>"
      ]
     },
     "metadata": {
      "needs_background": "light"
     },
     "output_type": "display_data"
    }
   ],
   "source": [
    "for n in range(5):\n",
    "    kmeans_modeling_plot2(X_cross)"
   ]
  },
  {
   "cell_type": "code",
   "execution_count": 108,
   "metadata": {},
   "outputs": [
    {
     "name": "stdout",
     "output_type": "stream",
     "text": [
      "\n",
      "Cluster centers:\n",
      " [[3.86638177e+01 6.59069326e-01 2.33333333e+01 2.13573599e+02\n",
      "  1.60968661e+00 5.09876543e+00 4.22317189e+01 1.45109212e+00\n",
      "  1.68195632e+01 8.29059829e-01 6.70370370e+00 1.26315290e+01\n",
      "  3.40189934e+01 1.22003799e+01 1.96524217e+01 1.10644824e+02\n",
      "  1.02668566e+01 1.15413105e+01 5.19791073e+01 2.13352327e+01\n",
      "  1.13010446e+00]\n",
      " [8.21724101e+00 1.40002161e-01 3.83385546e+00 2.74810414e+01\n",
      "  7.45489900e-01 9.61110511e-01 9.82132440e+00 4.12876742e-01\n",
      "  2.93691261e+00 1.02408988e-01 1.77606136e+00 2.38878686e+00\n",
      "  6.51409744e+00 2.45759965e+00 3.72442476e+00 1.68172194e+01\n",
      "  2.94512261e+00 1.13643729e+00 9.83990494e+00 3.42659609e+00\n",
      "  2.52241547e-01]]\n",
      "\n",
      "Sum of squared errors: 53373234.51941433\n"
     ]
    },
    {
     "data": {
      "image/png": "[encoded data removed]",
      "text/plain": [
       "<Figure size 432x288 with 1 Axes>"
      ]
     },
     "metadata": {
      "needs_background": "light"
     },
     "output_type": "display_data"
    }
   ],
   "source": [
    "random_km_res_cross, department2 =  kmeans_modeling_plot3(X_cross)"
   ]
  },
  {
   "cell_type": "code",
   "execution_count": 109,
   "metadata": {},
   "outputs": [
    {
     "data": {
      "text/plain": [
       "10310"
      ]
     },
     "execution_count": 109,
     "metadata": {},
     "output_type": "execute_result"
    }
   ],
   "source": [
    "len(random_km_res_cross.labels_)"
   ]
  },
  {
   "cell_type": "code",
   "execution_count": 110,
   "metadata": {},
   "outputs": [
    {
     "data": {
      "text/html": [
       "<div>\n",
       "<style scoped>\n",
       "    .dataframe tbody tr th:only-of-type {\n",
       "        vertical-align: middle;\n",
       "    }\n",
       "\n",
       "    .dataframe tbody tr th {\n",
       "        vertical-align: top;\n",
       "    }\n",
       "\n",
       "    .dataframe thead th {\n",
       "        text-align: right;\n",
       "    }\n",
       "</style>\n",
       "<table border=\"1\" class=\"dataframe\">\n",
       "  <thead>\n",
       "    <tr style=\"text-align: right;\">\n",
       "      <th>department_id</th>\n",
       "      <th>1</th>\n",
       "      <th>2</th>\n",
       "      <th>3</th>\n",
       "      <th>4</th>\n",
       "      <th>5</th>\n",
       "      <th>6</th>\n",
       "      <th>7</th>\n",
       "      <th>8</th>\n",
       "      <th>9</th>\n",
       "      <th>10</th>\n",
       "      <th>...</th>\n",
       "      <th>13</th>\n",
       "      <th>14</th>\n",
       "      <th>15</th>\n",
       "      <th>16</th>\n",
       "      <th>17</th>\n",
       "      <th>18</th>\n",
       "      <th>19</th>\n",
       "      <th>20</th>\n",
       "      <th>21</th>\n",
       "      <th>Label</th>\n",
       "    </tr>\n",
       "    <tr>\n",
       "      <th>user_id</th>\n",
       "      <th></th>\n",
       "      <th></th>\n",
       "      <th></th>\n",
       "      <th></th>\n",
       "      <th></th>\n",
       "      <th></th>\n",
       "      <th></th>\n",
       "      <th></th>\n",
       "      <th></th>\n",
       "      <th></th>\n",
       "      <th></th>\n",
       "      <th></th>\n",
       "      <th></th>\n",
       "      <th></th>\n",
       "      <th></th>\n",
       "      <th></th>\n",
       "      <th></th>\n",
       "      <th></th>\n",
       "      <th></th>\n",
       "      <th></th>\n",
       "      <th></th>\n",
       "    </tr>\n",
       "  </thead>\n",
       "  <tbody>\n",
       "    <tr>\n",
       "      <th>195775</th>\n",
       "      <td>0</td>\n",
       "      <td>0</td>\n",
       "      <td>0</td>\n",
       "      <td>99</td>\n",
       "      <td>0</td>\n",
       "      <td>4</td>\n",
       "      <td>12</td>\n",
       "      <td>0</td>\n",
       "      <td>0</td>\n",
       "      <td>0</td>\n",
       "      <td>...</td>\n",
       "      <td>7</td>\n",
       "      <td>1</td>\n",
       "      <td>0</td>\n",
       "      <td>139</td>\n",
       "      <td>0</td>\n",
       "      <td>0</td>\n",
       "      <td>61</td>\n",
       "      <td>0</td>\n",
       "      <td>5</td>\n",
       "      <td>0</td>\n",
       "    </tr>\n",
       "    <tr>\n",
       "      <th>72183</th>\n",
       "      <td>4</td>\n",
       "      <td>0</td>\n",
       "      <td>5</td>\n",
       "      <td>79</td>\n",
       "      <td>0</td>\n",
       "      <td>0</td>\n",
       "      <td>5</td>\n",
       "      <td>0</td>\n",
       "      <td>0</td>\n",
       "      <td>0</td>\n",
       "      <td>...</td>\n",
       "      <td>3</td>\n",
       "      <td>4</td>\n",
       "      <td>2</td>\n",
       "      <td>9</td>\n",
       "      <td>0</td>\n",
       "      <td>0</td>\n",
       "      <td>3</td>\n",
       "      <td>9</td>\n",
       "      <td>0</td>\n",
       "      <td>1</td>\n",
       "    </tr>\n",
       "    <tr>\n",
       "      <th>161898</th>\n",
       "      <td>8</td>\n",
       "      <td>0</td>\n",
       "      <td>4</td>\n",
       "      <td>8</td>\n",
       "      <td>0</td>\n",
       "      <td>0</td>\n",
       "      <td>2</td>\n",
       "      <td>0</td>\n",
       "      <td>1</td>\n",
       "      <td>0</td>\n",
       "      <td>...</td>\n",
       "      <td>4</td>\n",
       "      <td>5</td>\n",
       "      <td>1</td>\n",
       "      <td>12</td>\n",
       "      <td>0</td>\n",
       "      <td>0</td>\n",
       "      <td>8</td>\n",
       "      <td>1</td>\n",
       "      <td>0</td>\n",
       "      <td>1</td>\n",
       "    </tr>\n",
       "    <tr>\n",
       "      <th>78608</th>\n",
       "      <td>52</td>\n",
       "      <td>0</td>\n",
       "      <td>18</td>\n",
       "      <td>66</td>\n",
       "      <td>0</td>\n",
       "      <td>0</td>\n",
       "      <td>8</td>\n",
       "      <td>0</td>\n",
       "      <td>13</td>\n",
       "      <td>0</td>\n",
       "      <td>...</td>\n",
       "      <td>13</td>\n",
       "      <td>1</td>\n",
       "      <td>9</td>\n",
       "      <td>98</td>\n",
       "      <td>1</td>\n",
       "      <td>15</td>\n",
       "      <td>35</td>\n",
       "      <td>9</td>\n",
       "      <td>2</td>\n",
       "      <td>1</td>\n",
       "    </tr>\n",
       "    <tr>\n",
       "      <th>202896</th>\n",
       "      <td>53</td>\n",
       "      <td>0</td>\n",
       "      <td>5</td>\n",
       "      <td>174</td>\n",
       "      <td>0</td>\n",
       "      <td>4</td>\n",
       "      <td>99</td>\n",
       "      <td>0</td>\n",
       "      <td>0</td>\n",
       "      <td>0</td>\n",
       "      <td>...</td>\n",
       "      <td>28</td>\n",
       "      <td>13</td>\n",
       "      <td>15</td>\n",
       "      <td>59</td>\n",
       "      <td>0</td>\n",
       "      <td>0</td>\n",
       "      <td>53</td>\n",
       "      <td>24</td>\n",
       "      <td>0</td>\n",
       "      <td>0</td>\n",
       "    </tr>\n",
       "  </tbody>\n",
       "</table>\n",
       "<p>5 rows × 22 columns</p>\n",
       "</div>"
      ],
      "text/plain": [
       "department_id   1  2   3    4  5  6   7  8   9  10  ...  13  14  15   16  17  \\\n",
       "user_id                                             ...                        \n",
       "195775          0  0   0   99  0  4  12  0   0   0  ...   7   1   0  139   0   \n",
       "72183           4  0   5   79  0  0   5  0   0   0  ...   3   4   2    9   0   \n",
       "161898          8  0   4    8  0  0   2  0   1   0  ...   4   5   1   12   0   \n",
       "78608          52  0  18   66  0  0   8  0  13   0  ...  13   1   9   98   1   \n",
       "202896         53  0   5  174  0  4  99  0   0   0  ...  28  13  15   59   0   \n",
       "\n",
       "department_id  18  19  20  21  Label  \n",
       "user_id                               \n",
       "195775          0  61   0   5      0  \n",
       "72183           0   3   9   0      1  \n",
       "161898          0   8   1   0      1  \n",
       "78608          15  35   9   2      1  \n",
       "202896          0  53  24   0      0  \n",
       "\n",
       "[5 rows x 22 columns]"
      ]
     },
     "execution_count": 110,
     "metadata": {},
     "output_type": "execute_result"
    }
   ],
   "source": [
    "department2['Label'] = random_km_res_cross.labels_\n",
    "department2.head()"
   ]
  },
  {
   "cell_type": "code",
   "execution_count": 111,
   "metadata": {},
   "outputs": [
    {
     "data": {
      "text/html": [
       "<div>\n",
       "<style scoped>\n",
       "    .dataframe tbody tr th:only-of-type {\n",
       "        vertical-align: middle;\n",
       "    }\n",
       "\n",
       "    .dataframe tbody tr th {\n",
       "        vertical-align: top;\n",
       "    }\n",
       "\n",
       "    .dataframe thead th {\n",
       "        text-align: right;\n",
       "    }\n",
       "</style>\n",
       "<table border=\"1\" class=\"dataframe\">\n",
       "  <thead>\n",
       "    <tr style=\"text-align: right;\">\n",
       "      <th>department_id</th>\n",
       "      <th>1</th>\n",
       "      <th>2</th>\n",
       "      <th>3</th>\n",
       "      <th>4</th>\n",
       "      <th>5</th>\n",
       "      <th>6</th>\n",
       "      <th>7</th>\n",
       "      <th>8</th>\n",
       "      <th>9</th>\n",
       "      <th>10</th>\n",
       "      <th>...</th>\n",
       "      <th>13</th>\n",
       "      <th>14</th>\n",
       "      <th>15</th>\n",
       "      <th>16</th>\n",
       "      <th>17</th>\n",
       "      <th>18</th>\n",
       "      <th>19</th>\n",
       "      <th>20</th>\n",
       "      <th>21</th>\n",
       "      <th>Label</th>\n",
       "    </tr>\n",
       "  </thead>\n",
       "  <tbody>\n",
       "    <tr>\n",
       "      <th>count</th>\n",
       "      <td>1053.000000</td>\n",
       "      <td>1053.000000</td>\n",
       "      <td>1053.000000</td>\n",
       "      <td>1053.000000</td>\n",
       "      <td>1053.000000</td>\n",
       "      <td>1053.000000</td>\n",
       "      <td>1053.000000</td>\n",
       "      <td>1053.000000</td>\n",
       "      <td>1053.000000</td>\n",
       "      <td>1053.000000</td>\n",
       "      <td>...</td>\n",
       "      <td>1053.000000</td>\n",
       "      <td>1053.000000</td>\n",
       "      <td>1053.000000</td>\n",
       "      <td>1053.000000</td>\n",
       "      <td>1053.000000</td>\n",
       "      <td>1053.000000</td>\n",
       "      <td>1053.000000</td>\n",
       "      <td>1053.000000</td>\n",
       "      <td>1053.000000</td>\n",
       "      <td>1053.0</td>\n",
       "    </tr>\n",
       "    <tr>\n",
       "      <th>mean</th>\n",
       "      <td>38.663818</td>\n",
       "      <td>0.659069</td>\n",
       "      <td>23.333333</td>\n",
       "      <td>213.573599</td>\n",
       "      <td>1.609687</td>\n",
       "      <td>5.098765</td>\n",
       "      <td>42.231719</td>\n",
       "      <td>1.451092</td>\n",
       "      <td>16.819563</td>\n",
       "      <td>0.829060</td>\n",
       "      <td>...</td>\n",
       "      <td>34.018993</td>\n",
       "      <td>12.200380</td>\n",
       "      <td>19.652422</td>\n",
       "      <td>110.644824</td>\n",
       "      <td>10.266857</td>\n",
       "      <td>11.541311</td>\n",
       "      <td>51.979107</td>\n",
       "      <td>21.335233</td>\n",
       "      <td>1.130104</td>\n",
       "      <td>0.0</td>\n",
       "    </tr>\n",
       "    <tr>\n",
       "      <th>std</th>\n",
       "      <td>37.663017</td>\n",
       "      <td>2.555209</td>\n",
       "      <td>27.848313</td>\n",
       "      <td>114.545197</td>\n",
       "      <td>14.258964</td>\n",
       "      <td>8.066367</td>\n",
       "      <td>47.795324</td>\n",
       "      <td>11.348302</td>\n",
       "      <td>16.996861</td>\n",
       "      <td>3.160959</td>\n",
       "      <td>...</td>\n",
       "      <td>25.562970</td>\n",
       "      <td>15.249843</td>\n",
       "      <td>19.762968</td>\n",
       "      <td>69.891504</td>\n",
       "      <td>19.451754</td>\n",
       "      <td>34.733333</td>\n",
       "      <td>50.350516</td>\n",
       "      <td>24.827363</td>\n",
       "      <td>2.793116</td>\n",
       "      <td>0.0</td>\n",
       "    </tr>\n",
       "    <tr>\n",
       "      <th>min</th>\n",
       "      <td>0.000000</td>\n",
       "      <td>0.000000</td>\n",
       "      <td>0.000000</td>\n",
       "      <td>5.000000</td>\n",
       "      <td>0.000000</td>\n",
       "      <td>0.000000</td>\n",
       "      <td>0.000000</td>\n",
       "      <td>0.000000</td>\n",
       "      <td>0.000000</td>\n",
       "      <td>0.000000</td>\n",
       "      <td>...</td>\n",
       "      <td>0.000000</td>\n",
       "      <td>0.000000</td>\n",
       "      <td>0.000000</td>\n",
       "      <td>0.000000</td>\n",
       "      <td>0.000000</td>\n",
       "      <td>0.000000</td>\n",
       "      <td>0.000000</td>\n",
       "      <td>0.000000</td>\n",
       "      <td>0.000000</td>\n",
       "      <td>0.0</td>\n",
       "    </tr>\n",
       "    <tr>\n",
       "      <th>25%</th>\n",
       "      <td>13.000000</td>\n",
       "      <td>0.000000</td>\n",
       "      <td>7.000000</td>\n",
       "      <td>140.000000</td>\n",
       "      <td>0.000000</td>\n",
       "      <td>0.000000</td>\n",
       "      <td>12.000000</td>\n",
       "      <td>0.000000</td>\n",
       "      <td>5.000000</td>\n",
       "      <td>0.000000</td>\n",
       "      <td>...</td>\n",
       "      <td>17.000000</td>\n",
       "      <td>2.000000</td>\n",
       "      <td>6.000000</td>\n",
       "      <td>61.000000</td>\n",
       "      <td>1.000000</td>\n",
       "      <td>0.000000</td>\n",
       "      <td>18.000000</td>\n",
       "      <td>6.000000</td>\n",
       "      <td>0.000000</td>\n",
       "      <td>0.0</td>\n",
       "    </tr>\n",
       "    <tr>\n",
       "      <th>50%</th>\n",
       "      <td>29.000000</td>\n",
       "      <td>0.000000</td>\n",
       "      <td>17.000000</td>\n",
       "      <td>184.000000</td>\n",
       "      <td>0.000000</td>\n",
       "      <td>2.000000</td>\n",
       "      <td>28.000000</td>\n",
       "      <td>0.000000</td>\n",
       "      <td>12.000000</td>\n",
       "      <td>0.000000</td>\n",
       "      <td>...</td>\n",
       "      <td>28.000000</td>\n",
       "      <td>7.000000</td>\n",
       "      <td>15.000000</td>\n",
       "      <td>96.000000</td>\n",
       "      <td>3.000000</td>\n",
       "      <td>0.000000</td>\n",
       "      <td>39.000000</td>\n",
       "      <td>15.000000</td>\n",
       "      <td>0.000000</td>\n",
       "      <td>0.0</td>\n",
       "    </tr>\n",
       "    <tr>\n",
       "      <th>75%</th>\n",
       "      <td>52.000000</td>\n",
       "      <td>0.000000</td>\n",
       "      <td>32.000000</td>\n",
       "      <td>258.000000</td>\n",
       "      <td>0.000000</td>\n",
       "      <td>7.000000</td>\n",
       "      <td>57.000000</td>\n",
       "      <td>0.000000</td>\n",
       "      <td>23.000000</td>\n",
       "      <td>0.000000</td>\n",
       "      <td>...</td>\n",
       "      <td>45.000000</td>\n",
       "      <td>17.000000</td>\n",
       "      <td>26.000000</td>\n",
       "      <td>142.000000</td>\n",
       "      <td>12.000000</td>\n",
       "      <td>6.000000</td>\n",
       "      <td>67.000000</td>\n",
       "      <td>29.000000</td>\n",
       "      <td>1.000000</td>\n",
       "      <td>0.0</td>\n",
       "    </tr>\n",
       "    <tr>\n",
       "      <th>max</th>\n",
       "      <td>336.000000</td>\n",
       "      <td>37.000000</td>\n",
       "      <td>564.000000</td>\n",
       "      <td>1112.000000</td>\n",
       "      <td>245.000000</td>\n",
       "      <td>106.000000</td>\n",
       "      <td>480.000000</td>\n",
       "      <td>217.000000</td>\n",
       "      <td>126.000000</td>\n",
       "      <td>46.000000</td>\n",
       "      <td>...</td>\n",
       "      <td>239.000000</td>\n",
       "      <td>146.000000</td>\n",
       "      <td>191.000000</td>\n",
       "      <td>562.000000</td>\n",
       "      <td>233.000000</td>\n",
       "      <td>546.000000</td>\n",
       "      <td>439.000000</td>\n",
       "      <td>429.000000</td>\n",
       "      <td>43.000000</td>\n",
       "      <td>0.0</td>\n",
       "    </tr>\n",
       "  </tbody>\n",
       "</table>\n",
       "<p>8 rows × 22 columns</p>\n",
       "</div>"
      ],
      "text/plain": [
       "department_id            1            2            3            4  \\\n",
       "count          1053.000000  1053.000000  1053.000000  1053.000000   \n",
       "mean             38.663818     0.659069    23.333333   213.573599   \n",
       "std              37.663017     2.555209    27.848313   114.545197   \n",
       "min               0.000000     0.000000     0.000000     5.000000   \n",
       "25%              13.000000     0.000000     7.000000   140.000000   \n",
       "50%              29.000000     0.000000    17.000000   184.000000   \n",
       "75%              52.000000     0.000000    32.000000   258.000000   \n",
       "max             336.000000    37.000000   564.000000  1112.000000   \n",
       "\n",
       "department_id            5            6            7            8  \\\n",
       "count          1053.000000  1053.000000  1053.000000  1053.000000   \n",
       "mean              1.609687     5.098765    42.231719     1.451092   \n",
       "std              14.258964     8.066367    47.795324    11.348302   \n",
       "min               0.000000     0.000000     0.000000     0.000000   \n",
       "25%               0.000000     0.000000    12.000000     0.000000   \n",
       "50%               0.000000     2.000000    28.000000     0.000000   \n",
       "75%               0.000000     7.000000    57.000000     0.000000   \n",
       "max             245.000000   106.000000   480.000000   217.000000   \n",
       "\n",
       "department_id            9           10  ...           13           14  \\\n",
       "count          1053.000000  1053.000000  ...  1053.000000  1053.000000   \n",
       "mean             16.819563     0.829060  ...    34.018993    12.200380   \n",
       "std              16.996861     3.160959  ...    25.562970    15.249843   \n",
       "min               0.000000     0.000000  ...     0.000000     0.000000   \n",
       "25%               5.000000     0.000000  ...    17.000000     2.000000   \n",
       "50%              12.000000     0.000000  ...    28.000000     7.000000   \n",
       "75%              23.000000     0.000000  ...    45.000000    17.000000   \n",
       "max             126.000000    46.000000  ...   239.000000   146.000000   \n",
       "\n",
       "department_id           15           16           17           18  \\\n",
       "count          1053.000000  1053.000000  1053.000000  1053.000000   \n",
       "mean             19.652422   110.644824    10.266857    11.541311   \n",
       "std              19.762968    69.891504    19.451754    34.733333   \n",
       "min               0.000000     0.000000     0.000000     0.000000   \n",
       "25%               6.000000    61.000000     1.000000     0.000000   \n",
       "50%              15.000000    96.000000     3.000000     0.000000   \n",
       "75%              26.000000   142.000000    12.000000     6.000000   \n",
       "max             191.000000   562.000000   233.000000   546.000000   \n",
       "\n",
       "department_id           19           20           21   Label  \n",
       "count          1053.000000  1053.000000  1053.000000  1053.0  \n",
       "mean             51.979107    21.335233     1.130104     0.0  \n",
       "std              50.350516    24.827363     2.793116     0.0  \n",
       "min               0.000000     0.000000     0.000000     0.0  \n",
       "25%              18.000000     6.000000     0.000000     0.0  \n",
       "50%              39.000000    15.000000     0.000000     0.0  \n",
       "75%              67.000000    29.000000     1.000000     0.0  \n",
       "max             439.000000   429.000000    43.000000     0.0  \n",
       "\n",
       "[8 rows x 22 columns]"
      ]
     },
     "execution_count": 111,
     "metadata": {},
     "output_type": "execute_result"
    }
   ],
   "source": [
    "#Check the description of label == 0 \n",
    "department2[department2['Label']==0].describe()"
   ]
  },
  {
   "cell_type": "code",
   "execution_count": 112,
   "metadata": {},
   "outputs": [
    {
     "data": {
      "text/html": [
       "<div>\n",
       "<style scoped>\n",
       "    .dataframe tbody tr th:only-of-type {\n",
       "        vertical-align: middle;\n",
       "    }\n",
       "\n",
       "    .dataframe tbody tr th {\n",
       "        vertical-align: top;\n",
       "    }\n",
       "\n",
       "    .dataframe thead th {\n",
       "        text-align: right;\n",
       "    }\n",
       "</style>\n",
       "<table border=\"1\" class=\"dataframe\">\n",
       "  <thead>\n",
       "    <tr style=\"text-align: right;\">\n",
       "      <th>department_id</th>\n",
       "      <th>1</th>\n",
       "      <th>2</th>\n",
       "      <th>3</th>\n",
       "      <th>4</th>\n",
       "      <th>5</th>\n",
       "      <th>6</th>\n",
       "      <th>7</th>\n",
       "      <th>8</th>\n",
       "      <th>9</th>\n",
       "      <th>10</th>\n",
       "      <th>...</th>\n",
       "      <th>13</th>\n",
       "      <th>14</th>\n",
       "      <th>15</th>\n",
       "      <th>16</th>\n",
       "      <th>17</th>\n",
       "      <th>18</th>\n",
       "      <th>19</th>\n",
       "      <th>20</th>\n",
       "      <th>21</th>\n",
       "      <th>Label</th>\n",
       "    </tr>\n",
       "  </thead>\n",
       "  <tbody>\n",
       "    <tr>\n",
       "      <th>count</th>\n",
       "      <td>9257.000000</td>\n",
       "      <td>9257.000000</td>\n",
       "      <td>9257.000000</td>\n",
       "      <td>9257.000000</td>\n",
       "      <td>9257.000000</td>\n",
       "      <td>9257.000000</td>\n",
       "      <td>9257.000000</td>\n",
       "      <td>9257.000000</td>\n",
       "      <td>9257.000000</td>\n",
       "      <td>9257.000000</td>\n",
       "      <td>...</td>\n",
       "      <td>9257.000000</td>\n",
       "      <td>9257.0000</td>\n",
       "      <td>9257.000000</td>\n",
       "      <td>9257.000000</td>\n",
       "      <td>9257.000000</td>\n",
       "      <td>9257.000000</td>\n",
       "      <td>9257.000000</td>\n",
       "      <td>9257.000000</td>\n",
       "      <td>9257.000000</td>\n",
       "      <td>9257.0</td>\n",
       "    </tr>\n",
       "    <tr>\n",
       "      <th>mean</th>\n",
       "      <td>8.217241</td>\n",
       "      <td>0.140002</td>\n",
       "      <td>3.833855</td>\n",
       "      <td>27.481041</td>\n",
       "      <td>0.745490</td>\n",
       "      <td>0.961111</td>\n",
       "      <td>9.821324</td>\n",
       "      <td>0.412877</td>\n",
       "      <td>2.936913</td>\n",
       "      <td>0.102409</td>\n",
       "      <td>...</td>\n",
       "      <td>6.514097</td>\n",
       "      <td>2.4576</td>\n",
       "      <td>3.724425</td>\n",
       "      <td>16.817219</td>\n",
       "      <td>2.945123</td>\n",
       "      <td>1.136437</td>\n",
       "      <td>9.839905</td>\n",
       "      <td>3.426596</td>\n",
       "      <td>0.252242</td>\n",
       "      <td>1.0</td>\n",
       "    </tr>\n",
       "    <tr>\n",
       "      <th>std</th>\n",
       "      <td>13.111821</td>\n",
       "      <td>0.801263</td>\n",
       "      <td>6.429547</td>\n",
       "      <td>29.202825</td>\n",
       "      <td>6.494566</td>\n",
       "      <td>2.492383</td>\n",
       "      <td>16.214185</td>\n",
       "      <td>3.804906</td>\n",
       "      <td>5.226970</td>\n",
       "      <td>0.830420</td>\n",
       "      <td>...</td>\n",
       "      <td>8.605216</td>\n",
       "      <td>5.0352</td>\n",
       "      <td>6.285453</td>\n",
       "      <td>19.900125</td>\n",
       "      <td>7.106473</td>\n",
       "      <td>6.062202</td>\n",
       "      <td>17.064613</td>\n",
       "      <td>5.855878</td>\n",
       "      <td>1.043564</td>\n",
       "      <td>0.0</td>\n",
       "    </tr>\n",
       "    <tr>\n",
       "      <th>min</th>\n",
       "      <td>0.000000</td>\n",
       "      <td>0.000000</td>\n",
       "      <td>0.000000</td>\n",
       "      <td>0.000000</td>\n",
       "      <td>0.000000</td>\n",
       "      <td>0.000000</td>\n",
       "      <td>0.000000</td>\n",
       "      <td>0.000000</td>\n",
       "      <td>0.000000</td>\n",
       "      <td>0.000000</td>\n",
       "      <td>...</td>\n",
       "      <td>0.000000</td>\n",
       "      <td>0.0000</td>\n",
       "      <td>0.000000</td>\n",
       "      <td>0.000000</td>\n",
       "      <td>0.000000</td>\n",
       "      <td>0.000000</td>\n",
       "      <td>0.000000</td>\n",
       "      <td>0.000000</td>\n",
       "      <td>0.000000</td>\n",
       "      <td>1.0</td>\n",
       "    </tr>\n",
       "    <tr>\n",
       "      <th>25%</th>\n",
       "      <td>1.000000</td>\n",
       "      <td>0.000000</td>\n",
       "      <td>0.000000</td>\n",
       "      <td>6.000000</td>\n",
       "      <td>0.000000</td>\n",
       "      <td>0.000000</td>\n",
       "      <td>1.000000</td>\n",
       "      <td>0.000000</td>\n",
       "      <td>0.000000</td>\n",
       "      <td>0.000000</td>\n",
       "      <td>...</td>\n",
       "      <td>1.000000</td>\n",
       "      <td>0.0000</td>\n",
       "      <td>0.000000</td>\n",
       "      <td>4.000000</td>\n",
       "      <td>0.000000</td>\n",
       "      <td>0.000000</td>\n",
       "      <td>1.000000</td>\n",
       "      <td>0.000000</td>\n",
       "      <td>0.000000</td>\n",
       "      <td>1.0</td>\n",
       "    </tr>\n",
       "    <tr>\n",
       "      <th>50%</th>\n",
       "      <td>4.000000</td>\n",
       "      <td>0.000000</td>\n",
       "      <td>2.000000</td>\n",
       "      <td>17.000000</td>\n",
       "      <td>0.000000</td>\n",
       "      <td>0.000000</td>\n",
       "      <td>5.000000</td>\n",
       "      <td>0.000000</td>\n",
       "      <td>1.000000</td>\n",
       "      <td>0.000000</td>\n",
       "      <td>...</td>\n",
       "      <td>4.000000</td>\n",
       "      <td>1.0000</td>\n",
       "      <td>1.000000</td>\n",
       "      <td>10.000000</td>\n",
       "      <td>1.000000</td>\n",
       "      <td>0.000000</td>\n",
       "      <td>5.000000</td>\n",
       "      <td>1.000000</td>\n",
       "      <td>0.000000</td>\n",
       "      <td>1.0</td>\n",
       "    </tr>\n",
       "    <tr>\n",
       "      <th>75%</th>\n",
       "      <td>10.000000</td>\n",
       "      <td>0.000000</td>\n",
       "      <td>5.000000</td>\n",
       "      <td>39.000000</td>\n",
       "      <td>0.000000</td>\n",
       "      <td>1.000000</td>\n",
       "      <td>11.000000</td>\n",
       "      <td>0.000000</td>\n",
       "      <td>4.000000</td>\n",
       "      <td>0.000000</td>\n",
       "      <td>...</td>\n",
       "      <td>9.000000</td>\n",
       "      <td>3.0000</td>\n",
       "      <td>5.000000</td>\n",
       "      <td>22.000000</td>\n",
       "      <td>3.000000</td>\n",
       "      <td>0.000000</td>\n",
       "      <td>12.000000</td>\n",
       "      <td>4.000000</td>\n",
       "      <td>0.000000</td>\n",
       "      <td>1.0</td>\n",
       "    </tr>\n",
       "    <tr>\n",
       "      <th>max</th>\n",
       "      <td>232.000000</td>\n",
       "      <td>32.000000</td>\n",
       "      <td>94.000000</td>\n",
       "      <td>158.000000</td>\n",
       "      <td>433.000000</td>\n",
       "      <td>92.000000</td>\n",
       "      <td>226.000000</td>\n",
       "      <td>223.000000</td>\n",
       "      <td>128.000000</td>\n",
       "      <td>28.000000</td>\n",
       "      <td>...</td>\n",
       "      <td>159.000000</td>\n",
       "      <td>102.0000</td>\n",
       "      <td>106.000000</td>\n",
       "      <td>301.000000</td>\n",
       "      <td>126.000000</td>\n",
       "      <td>137.000000</td>\n",
       "      <td>507.000000</td>\n",
       "      <td>79.000000</td>\n",
       "      <td>22.000000</td>\n",
       "      <td>1.0</td>\n",
       "    </tr>\n",
       "  </tbody>\n",
       "</table>\n",
       "<p>8 rows × 22 columns</p>\n",
       "</div>"
      ],
      "text/plain": [
       "department_id            1            2            3            4  \\\n",
       "count          9257.000000  9257.000000  9257.000000  9257.000000   \n",
       "mean              8.217241     0.140002     3.833855    27.481041   \n",
       "std              13.111821     0.801263     6.429547    29.202825   \n",
       "min               0.000000     0.000000     0.000000     0.000000   \n",
       "25%               1.000000     0.000000     0.000000     6.000000   \n",
       "50%               4.000000     0.000000     2.000000    17.000000   \n",
       "75%              10.000000     0.000000     5.000000    39.000000   \n",
       "max             232.000000    32.000000    94.000000   158.000000   \n",
       "\n",
       "department_id            5            6            7            8  \\\n",
       "count          9257.000000  9257.000000  9257.000000  9257.000000   \n",
       "mean              0.745490     0.961111     9.821324     0.412877   \n",
       "std               6.494566     2.492383    16.214185     3.804906   \n",
       "min               0.000000     0.000000     0.000000     0.000000   \n",
       "25%               0.000000     0.000000     1.000000     0.000000   \n",
       "50%               0.000000     0.000000     5.000000     0.000000   \n",
       "75%               0.000000     1.000000    11.000000     0.000000   \n",
       "max             433.000000    92.000000   226.000000   223.000000   \n",
       "\n",
       "department_id            9           10  ...           13         14  \\\n",
       "count          9257.000000  9257.000000  ...  9257.000000  9257.0000   \n",
       "mean              2.936913     0.102409  ...     6.514097     2.4576   \n",
       "std               5.226970     0.830420  ...     8.605216     5.0352   \n",
       "min               0.000000     0.000000  ...     0.000000     0.0000   \n",
       "25%               0.000000     0.000000  ...     1.000000     0.0000   \n",
       "50%               1.000000     0.000000  ...     4.000000     1.0000   \n",
       "75%               4.000000     0.000000  ...     9.000000     3.0000   \n",
       "max             128.000000    28.000000  ...   159.000000   102.0000   \n",
       "\n",
       "department_id           15           16           17           18  \\\n",
       "count          9257.000000  9257.000000  9257.000000  9257.000000   \n",
       "mean              3.724425    16.817219     2.945123     1.136437   \n",
       "std               6.285453    19.900125     7.106473     6.062202   \n",
       "min               0.000000     0.000000     0.000000     0.000000   \n",
       "25%               0.000000     4.000000     0.000000     0.000000   \n",
       "50%               1.000000    10.000000     1.000000     0.000000   \n",
       "75%               5.000000    22.000000     3.000000     0.000000   \n",
       "max             106.000000   301.000000   126.000000   137.000000   \n",
       "\n",
       "department_id           19           20           21   Label  \n",
       "count          9257.000000  9257.000000  9257.000000  9257.0  \n",
       "mean              9.839905     3.426596     0.252242     1.0  \n",
       "std              17.064613     5.855878     1.043564     0.0  \n",
       "min               0.000000     0.000000     0.000000     1.0  \n",
       "25%               1.000000     0.000000     0.000000     1.0  \n",
       "50%               5.000000     1.000000     0.000000     1.0  \n",
       "75%              12.000000     4.000000     0.000000     1.0  \n",
       "max             507.000000    79.000000    22.000000     1.0  \n",
       "\n",
       "[8 rows x 22 columns]"
      ]
     },
     "execution_count": 112,
     "metadata": {},
     "output_type": "execute_result"
    }
   ],
   "source": [
    "#Check the description of label == 0 \n",
    "department2[department2['Label']==1].describe()"
   ]
  },
  {
   "cell_type": "markdown",
   "metadata": {},
   "source": [
    "### Random Forest "
   ]
  },
  {
   "cell_type": "code",
   "execution_count": 113,
   "metadata": {},
   "outputs": [],
   "source": [
    "from sklearn.model_selection import train_test_split\n",
    "from sklearn.ensemble import RandomForestClassifier\n",
    "from sklearn.model_selection import GridSearchCV\n",
    "from sklearn.metrics import roc_auc_score\n",
    "from sklearn.metrics import confusion_matrix \n",
    "from sklearn.metrics import accuracy_score"
   ]
  },
  {
   "cell_type": "code",
   "execution_count": 114,
   "metadata": {},
   "outputs": [
    {
     "data": {
      "text/html": [
       "<div>\n",
       "<style scoped>\n",
       "    .dataframe tbody tr th:only-of-type {\n",
       "        vertical-align: middle;\n",
       "    }\n",
       "\n",
       "    .dataframe tbody tr th {\n",
       "        vertical-align: top;\n",
       "    }\n",
       "\n",
       "    .dataframe thead th {\n",
       "        text-align: right;\n",
       "    }\n",
       "</style>\n",
       "<table border=\"1\" class=\"dataframe\">\n",
       "  <thead>\n",
       "    <tr style=\"text-align: right;\">\n",
       "      <th></th>\n",
       "      <th>days_since_prior_order_mean</th>\n",
       "      <th>order_dow1_cnt_norm</th>\n",
       "      <th>order_dow2_cnt_norm</th>\n",
       "      <th>order_hour_of_day1_cnt_norm</th>\n",
       "      <th>order_hour_of_day2_cnt_norm</th>\n",
       "      <th>order_hour_of_day3_cnt_norm</th>\n",
       "      <th>median_itemsCnt_per_order</th>\n",
       "    </tr>\n",
       "    <tr>\n",
       "      <th>user_id</th>\n",
       "      <th></th>\n",
       "      <th></th>\n",
       "      <th></th>\n",
       "      <th></th>\n",
       "      <th></th>\n",
       "      <th></th>\n",
       "      <th></th>\n",
       "    </tr>\n",
       "  </thead>\n",
       "  <tbody>\n",
       "    <tr>\n",
       "      <th>1</th>\n",
       "      <td>19.555556</td>\n",
       "      <td>0.300000</td>\n",
       "      <td>0.700000</td>\n",
       "      <td>0.700000</td>\n",
       "      <td>0.300000</td>\n",
       "      <td>0.000000</td>\n",
       "      <td>5.5</td>\n",
       "    </tr>\n",
       "    <tr>\n",
       "      <th>2</th>\n",
       "      <td>15.230769</td>\n",
       "      <td>0.357143</td>\n",
       "      <td>0.642857</td>\n",
       "      <td>0.928571</td>\n",
       "      <td>0.071429</td>\n",
       "      <td>0.000000</td>\n",
       "      <td>13.5</td>\n",
       "    </tr>\n",
       "    <tr>\n",
       "      <th>3</th>\n",
       "      <td>12.090909</td>\n",
       "      <td>0.666667</td>\n",
       "      <td>0.333333</td>\n",
       "      <td>0.000000</td>\n",
       "      <td>0.916667</td>\n",
       "      <td>0.083333</td>\n",
       "      <td>7.0</td>\n",
       "    </tr>\n",
       "    <tr>\n",
       "      <th>4</th>\n",
       "      <td>13.750000</td>\n",
       "      <td>0.000000</td>\n",
       "      <td>1.000000</td>\n",
       "      <td>0.400000</td>\n",
       "      <td>0.600000</td>\n",
       "      <td>0.000000</td>\n",
       "      <td>3.0</td>\n",
       "    </tr>\n",
       "    <tr>\n",
       "      <th>5</th>\n",
       "      <td>13.333333</td>\n",
       "      <td>0.500000</td>\n",
       "      <td>0.500000</td>\n",
       "      <td>0.250000</td>\n",
       "      <td>0.750000</td>\n",
       "      <td>0.000000</td>\n",
       "      <td>10.0</td>\n",
       "    </tr>\n",
       "  </tbody>\n",
       "</table>\n",
       "</div>"
      ],
      "text/plain": [
       "         days_since_prior_order_mean  order_dow1_cnt_norm  \\\n",
       "user_id                                                     \n",
       "1                          19.555556             0.300000   \n",
       "2                          15.230769             0.357143   \n",
       "3                          12.090909             0.666667   \n",
       "4                          13.750000             0.000000   \n",
       "5                          13.333333             0.500000   \n",
       "\n",
       "         order_dow2_cnt_norm  order_hour_of_day1_cnt_norm  \\\n",
       "user_id                                                     \n",
       "1                   0.700000                     0.700000   \n",
       "2                   0.642857                     0.928571   \n",
       "3                   0.333333                     0.000000   \n",
       "4                   1.000000                     0.400000   \n",
       "5                   0.500000                     0.250000   \n",
       "\n",
       "         order_hour_of_day2_cnt_norm  order_hour_of_day3_cnt_norm  \\\n",
       "user_id                                                             \n",
       "1                           0.300000                     0.000000   \n",
       "2                           0.071429                     0.000000   \n",
       "3                           0.916667                     0.083333   \n",
       "4                           0.600000                     0.000000   \n",
       "5                           0.750000                     0.000000   \n",
       "\n",
       "         median_itemsCnt_per_order  \n",
       "user_id                             \n",
       "1                              5.5  \n",
       "2                             13.5  \n",
       "3                              7.0  \n",
       "4                              3.0  \n",
       "5                             10.0  "
      ]
     },
     "execution_count": 114,
     "metadata": {},
     "output_type": "execute_result"
    }
   ],
   "source": [
    "#Use the k-means cluster with attributes related to order time\n",
    "X.head()"
   ]
  },
  {
   "cell_type": "code",
   "execution_count": 115,
   "metadata": {},
   "outputs": [
    {
     "name": "stdout",
     "output_type": "stream",
     "text": [
      "\n",
      "Cluster centers:\n",
      " [[22.48514476  0.35762767  0.64237233  0.40246185  0.46904795  0.12849021\n",
      "   7.26079734]\n",
      " [ 9.88236117  0.33816131  0.66183869  0.42284479  0.45411982  0.12303539\n",
      "   7.52237434]\n",
      " [15.00109388  0.38632246  0.61367754  0.41208306  0.45341202  0.13450492\n",
      "  19.40465632]]\n",
      "\n",
      "Sum of squared errors: 354831.2604067668\n"
     ]
    },
    {
     "data": {
      "image/png": "[encoded data removed]",
      "text/plain": [
       "<Figure size 432x288 with 1 Axes>"
      ]
     },
     "metadata": {
      "needs_background": "light"
     },
     "output_type": "display_data"
    }
   ],
   "source": [
    "X1 = X.sample(frac = 0.05, random_state = 324) \n",
    "#n_clusters=3\n",
    "km = KMeans(random_state=324,n_clusters=3)\n",
    "random_km_res=km.fit(X1)\n",
    "\n",
    "print('\\nCluster centers:\\n',random_km_res.cluster_centers_)\n",
    "print('\\nSum of squared errors:',random_km_res.inertia_)\n",
    "\n",
    "pca=PCA(2)\n",
    "Xproj=pca.fit_transform(X1)\n",
    "plt.scatter(Xproj[:,0],Xproj[:,1],c=random_km_res.labels_)\n",
    "plt.show()\n"
   ]
  },
  {
   "cell_type": "code",
   "execution_count": 156,
   "metadata": {},
   "outputs": [
    {
     "data": {
      "text/plain": [
       "(10310, 7)"
      ]
     },
     "execution_count": 156,
     "metadata": {},
     "output_type": "execute_result"
    }
   ],
   "source": [
    "X1.shape"
   ]
  },
  {
   "cell_type": "code",
   "execution_count": 116,
   "metadata": {},
   "outputs": [],
   "source": [
    "# split data as train and test \n",
    "X_train, X_test, y_train, y_test = train_test_split(X1, random_km_res.labels_, test_size=0.33, random_state=123)\n"
   ]
  },
  {
   "cell_type": "code",
   "execution_count": 117,
   "metadata": {},
   "outputs": [
    {
     "name": "stdout",
     "output_type": "stream",
     "text": [
      "{'max_leaf_nodes': 97, 'n_estimators': 21}\n",
      "0.9835439318248604\n"
     ]
    }
   ],
   "source": [
    "#Using the GridSearchCV to \n",
    "param_grid = {'n_estimators':range(1,101,5), 'max_leaf_nodes':range(2,101,5)}#This enables searching over any sequence of parameter settings.\n",
    "rf = RandomForestClassifier(random_state=3)\n",
    "gr=GridSearchCV(rf,param_grid=param_grid,scoring='accuracy')\n",
    "rs=gr.fit(X_train,y_train)\n",
    "print(rs.best_params_)\n",
    "print(rs.score(X_test,y_test))"
   ]
  },
  {
   "cell_type": "code",
   "execution_count": 231,
   "metadata": {},
   "outputs": [
    {
     "name": "stdout",
     "output_type": "stream",
     "text": [
      "Collecting scikit-learn\n",
      "  Using cached https://files.pythonhosted.org/packages/64/57/23176044d9371e1af286176fd61cf7f74ed46d0b99122624ab93b3f32715/scikit_learn-0.22.2.post1-cp37-cp37m-macosx_10_9_x86_64.whl\n",
      "Requirement already satisfied, skipping upgrade: scipy>=0.17.0 in /anaconda3/lib/python3.7/site-packages (from scikit-learn) (1.3.0)\n",
      "Requirement already satisfied, skipping upgrade: joblib>=0.11 in /anaconda3/lib/python3.7/site-packages (from scikit-learn) (0.13.2)\n",
      "Requirement already satisfied, skipping upgrade: numpy>=1.11.0 in /anaconda3/lib/python3.7/site-packages (from scikit-learn) (1.16.4)\n",
      "Installing collected packages: scikit-learn\n",
      "  Found existing installation: scikit-learn 0.21.2\n",
      "    Uninstalling scikit-learn-0.21.2:\n",
      "      Successfully uninstalled scikit-learn-0.21.2\n",
      "Successfully installed scikit-learn-0.22.2.post1\n",
      "Note: you may need to restart the kernel to use updated packages.\n"
     ]
    }
   ],
   "source": [
    "#pip install -U scikit-learn"
   ]
  },
  {
   "cell_type": "code",
   "execution_count": 118,
   "metadata": {},
   "outputs": [
    {
     "name": "stdout",
     "output_type": "stream",
     "text": [
      "0.9992692314321787\n"
     ]
    }
   ],
   "source": [
    "rf = RandomForestClassifier(n_estimators=rs.best_params_['n_estimators'], n_jobs=-1, max_leaf_nodes=rs.best_params_['max_leaf_nodes'])\n",
    "rf.fit(X_train, y_train)\n",
    "pred=rf.predict_proba(X_test)\n",
    "print(roc_auc_score(y_test,pred, average = 'weighted', multi_class = 'ovr'))\n"
   ]
  },
  {
   "cell_type": "code",
   "execution_count": 165,
   "metadata": {},
   "outputs": [
    {
     "name": "stdout",
     "output_type": "stream",
     "text": [
      "0.9992125363652283\n"
     ]
    }
   ],
   "source": [
    "#if using average = 'macro'\n",
    "print(roc_auc_score(y_test,pred, average = 'macro', multi_class = 'ovr'))\n"
   ]
  },
  {
   "cell_type": "code",
   "execution_count": 167,
   "metadata": {},
   "outputs": [],
   "source": [
    "from sklearn.preprocessing import LabelBinarizer"
   ]
  },
  {
   "cell_type": "code",
   "execution_count": 125,
   "metadata": {},
   "outputs": [],
   "source": [
    "#get feature importances\n",
    "importances = rf.feature_importances_\n",
    "indices = np.argsort(importances)[::-1]\n",
    "std = np.std([tree.feature_importances_ for tree in rf.estimators_],axis=0)"
   ]
  },
  {
   "cell_type": "code",
   "execution_count": 142,
   "metadata": {},
   "outputs": [
    {
     "data": {
      "image/png": "[encoded data removed]",
      "text/plain": [
       "<Figure size 432x288 with 1 Axes>"
      ]
     },
     "metadata": {
      "needs_background": "light"
     },
     "output_type": "display_data"
    }
   ],
   "source": [
    "#plot feature importances\n",
    "plt.figure()\n",
    "plt.title(\"Feature importances\")\n",
    "plt.bar(range(X_train.shape[1]), importances[indices],\n",
    "       color=\"coral\", yerr=std[indices], align=\"center\")\n",
    "plt.xticks(range(X_train.shape[1]), indices)\n",
    "plt.xlim([-1, X_train.shape[1]])\n",
    "plt.show()"
   ]
  },
  {
   "cell_type": "code",
   "execution_count": 143,
   "metadata": {},
   "outputs": [
    {
     "name": "stdout",
     "output_type": "stream",
     "text": [
      "['days_since_prior_order_mean', 'median_itemsCnt_per_order', 'order_hour_of_day3_cnt_norm', 'order_dow1_cnt_norm', 'order_dow2_cnt_norm', 'order_hour_of_day1_cnt_norm', 'order_hour_of_day2_cnt_norm']\n"
     ]
    }
   ],
   "source": [
    "print([X_train.columns[i] for i in indices])"
   ]
  },
  {
   "cell_type": "code",
   "execution_count": 136,
   "metadata": {},
   "outputs": [],
   "source": [
    "###############################################################\n",
    "###########   Recommendation System     #######################\n",
    "###############################################################\n",
    "\n",
    "\n",
    "\n",
    "###############################################################\n",
    "##########   Inspired By Moorissa Tjokro  #####################\n",
    "###############################################################\n",
    "\n",
    "# https://medium.com/datadriveninvestor/how-to-build-a-recommendation-system-for-purchase-data-step-by-step-d6d7a78800b6"
   ]
  },
  {
   "cell_type": "code",
   "execution_count": 169,
   "metadata": {},
   "outputs": [],
   "source": [
    "# Pivot table of user_id vs department_id\n",
    "rs_sample = department_cross_clean.iloc[:10000,]"
   ]
  },
  {
   "cell_type": "code",
   "execution_count": 170,
   "metadata": {},
   "outputs": [
    {
     "name": "stderr",
     "output_type": "stream",
     "text": [
      "/Users/zehui/opt/anaconda3/lib/python3.7/site-packages/pandas/core/frame.py:4278: SettingWithCopyWarning: \n",
      "A value is trying to be set on a copy of a slice from a DataFrame\n",
      "\n",
      "See the caveats in the documentation: http://pandas.pydata.org/pandas-docs/stable/user_guide/indexing.html#returning-a-view-versus-a-copy\n",
      "  method=method,\n"
     ]
    }
   ],
   "source": [
    "rs_sample.replace(0, np.nan, inplace = True)"
   ]
  },
  {
   "cell_type": "code",
   "execution_count": 171,
   "metadata": {},
   "outputs": [
    {
     "data": {
      "text/html": [
       "<div>\n",
       "<style scoped>\n",
       "    .dataframe tbody tr th:only-of-type {\n",
       "        vertical-align: middle;\n",
       "    }\n",
       "\n",
       "    .dataframe tbody tr th {\n",
       "        vertical-align: top;\n",
       "    }\n",
       "\n",
       "    .dataframe thead th {\n",
       "        text-align: right;\n",
       "    }\n",
       "</style>\n",
       "<table border=\"1\" class=\"dataframe\">\n",
       "  <thead>\n",
       "    <tr style=\"text-align: right;\">\n",
       "      <th>department_id</th>\n",
       "      <th>1</th>\n",
       "      <th>2</th>\n",
       "      <th>3</th>\n",
       "      <th>4</th>\n",
       "      <th>5</th>\n",
       "      <th>6</th>\n",
       "      <th>7</th>\n",
       "      <th>8</th>\n",
       "      <th>9</th>\n",
       "      <th>10</th>\n",
       "      <th>...</th>\n",
       "      <th>12</th>\n",
       "      <th>13</th>\n",
       "      <th>14</th>\n",
       "      <th>15</th>\n",
       "      <th>16</th>\n",
       "      <th>17</th>\n",
       "      <th>18</th>\n",
       "      <th>19</th>\n",
       "      <th>20</th>\n",
       "      <th>21</th>\n",
       "    </tr>\n",
       "    <tr>\n",
       "      <th>user_id</th>\n",
       "      <th></th>\n",
       "      <th></th>\n",
       "      <th></th>\n",
       "      <th></th>\n",
       "      <th></th>\n",
       "      <th></th>\n",
       "      <th></th>\n",
       "      <th></th>\n",
       "      <th></th>\n",
       "      <th></th>\n",
       "      <th></th>\n",
       "      <th></th>\n",
       "      <th></th>\n",
       "      <th></th>\n",
       "      <th></th>\n",
       "      <th></th>\n",
       "      <th></th>\n",
       "      <th></th>\n",
       "      <th></th>\n",
       "      <th></th>\n",
       "      <th></th>\n",
       "    </tr>\n",
       "  </thead>\n",
       "  <tbody>\n",
       "    <tr>\n",
       "      <th>1</th>\n",
       "      <td>NaN</td>\n",
       "      <td>NaN</td>\n",
       "      <td>NaN</td>\n",
       "      <td>5.0</td>\n",
       "      <td>NaN</td>\n",
       "      <td>NaN</td>\n",
       "      <td>13.0</td>\n",
       "      <td>NaN</td>\n",
       "      <td>NaN</td>\n",
       "      <td>NaN</td>\n",
       "      <td>...</td>\n",
       "      <td>NaN</td>\n",
       "      <td>1.0</td>\n",
       "      <td>3.0</td>\n",
       "      <td>NaN</td>\n",
       "      <td>13.0</td>\n",
       "      <td>2.0</td>\n",
       "      <td>NaN</td>\n",
       "      <td>22.0</td>\n",
       "      <td>NaN</td>\n",
       "      <td>NaN</td>\n",
       "    </tr>\n",
       "    <tr>\n",
       "      <th>2</th>\n",
       "      <td>17.0</td>\n",
       "      <td>NaN</td>\n",
       "      <td>2.0</td>\n",
       "      <td>36.0</td>\n",
       "      <td>NaN</td>\n",
       "      <td>3.0</td>\n",
       "      <td>9.0</td>\n",
       "      <td>NaN</td>\n",
       "      <td>NaN</td>\n",
       "      <td>NaN</td>\n",
       "      <td>...</td>\n",
       "      <td>1.0</td>\n",
       "      <td>11.0</td>\n",
       "      <td>3.0</td>\n",
       "      <td>1.0</td>\n",
       "      <td>48.0</td>\n",
       "      <td>NaN</td>\n",
       "      <td>NaN</td>\n",
       "      <td>42.0</td>\n",
       "      <td>21.0</td>\n",
       "      <td>NaN</td>\n",
       "    </tr>\n",
       "    <tr>\n",
       "      <th>3</th>\n",
       "      <td>6.0</td>\n",
       "      <td>NaN</td>\n",
       "      <td>NaN</td>\n",
       "      <td>38.0</td>\n",
       "      <td>NaN</td>\n",
       "      <td>NaN</td>\n",
       "      <td>3.0</td>\n",
       "      <td>NaN</td>\n",
       "      <td>4.0</td>\n",
       "      <td>NaN</td>\n",
       "      <td>...</td>\n",
       "      <td>NaN</td>\n",
       "      <td>4.0</td>\n",
       "      <td>NaN</td>\n",
       "      <td>NaN</td>\n",
       "      <td>21.0</td>\n",
       "      <td>1.0</td>\n",
       "      <td>NaN</td>\n",
       "      <td>9.0</td>\n",
       "      <td>2.0</td>\n",
       "      <td>NaN</td>\n",
       "    </tr>\n",
       "    <tr>\n",
       "      <th>4</th>\n",
       "      <td>3.0</td>\n",
       "      <td>NaN</td>\n",
       "      <td>2.0</td>\n",
       "      <td>2.0</td>\n",
       "      <td>2.0</td>\n",
       "      <td>NaN</td>\n",
       "      <td>3.0</td>\n",
       "      <td>NaN</td>\n",
       "      <td>NaN</td>\n",
       "      <td>NaN</td>\n",
       "      <td>...</td>\n",
       "      <td>NaN</td>\n",
       "      <td>NaN</td>\n",
       "      <td>NaN</td>\n",
       "      <td>1.0</td>\n",
       "      <td>NaN</td>\n",
       "      <td>2.0</td>\n",
       "      <td>NaN</td>\n",
       "      <td>1.0</td>\n",
       "      <td>2.0</td>\n",
       "      <td>NaN</td>\n",
       "    </tr>\n",
       "    <tr>\n",
       "      <th>5</th>\n",
       "      <td>2.0</td>\n",
       "      <td>NaN</td>\n",
       "      <td>NaN</td>\n",
       "      <td>19.0</td>\n",
       "      <td>NaN</td>\n",
       "      <td>2.0</td>\n",
       "      <td>NaN</td>\n",
       "      <td>NaN</td>\n",
       "      <td>1.0</td>\n",
       "      <td>NaN</td>\n",
       "      <td>...</td>\n",
       "      <td>NaN</td>\n",
       "      <td>2.0</td>\n",
       "      <td>NaN</td>\n",
       "      <td>1.0</td>\n",
       "      <td>8.0</td>\n",
       "      <td>NaN</td>\n",
       "      <td>NaN</td>\n",
       "      <td>1.0</td>\n",
       "      <td>1.0</td>\n",
       "      <td>NaN</td>\n",
       "    </tr>\n",
       "  </tbody>\n",
       "</table>\n",
       "<p>5 rows × 21 columns</p>\n",
       "</div>"
      ],
      "text/plain": [
       "department_id    1   2    3     4    5    6     7   8    9   10  ...   12  \\\n",
       "user_id                                                          ...        \n",
       "1               NaN NaN  NaN   5.0  NaN  NaN  13.0 NaN  NaN NaN  ...  NaN   \n",
       "2              17.0 NaN  2.0  36.0  NaN  3.0   9.0 NaN  NaN NaN  ...  1.0   \n",
       "3               6.0 NaN  NaN  38.0  NaN  NaN   3.0 NaN  4.0 NaN  ...  NaN   \n",
       "4               3.0 NaN  2.0   2.0  2.0  NaN   3.0 NaN  NaN NaN  ...  NaN   \n",
       "5               2.0 NaN  NaN  19.0  NaN  2.0   NaN NaN  1.0 NaN  ...  NaN   \n",
       "\n",
       "department_id    13   14   15    16   17  18    19    20  21  \n",
       "user_id                                                       \n",
       "1               1.0  3.0  NaN  13.0  2.0 NaN  22.0   NaN NaN  \n",
       "2              11.0  3.0  1.0  48.0  NaN NaN  42.0  21.0 NaN  \n",
       "3               4.0  NaN  NaN  21.0  1.0 NaN   9.0   2.0 NaN  \n",
       "4               NaN  NaN  1.0   NaN  2.0 NaN   1.0   2.0 NaN  \n",
       "5               2.0  NaN  1.0   8.0  NaN NaN   1.0   1.0 NaN  \n",
       "\n",
       "[5 rows x 21 columns]"
      ]
     },
     "execution_count": 171,
     "metadata": {},
     "output_type": "execute_result"
    }
   ],
   "source": [
    "rs_sample.head()"
   ]
  },
  {
   "cell_type": "code",
   "execution_count": 157,
   "metadata": {},
   "outputs": [],
   "source": [
    "# Normalize\n",
    "rs_norm = (rs_sample - rs_sample.min())/(rs_sample.max() - rs_sample.min())"
   ]
  },
  {
   "cell_type": "code",
   "execution_count": 158,
   "metadata": {},
   "outputs": [
    {
     "data": {
      "text/html": [
       "<div>\n",
       "<style scoped>\n",
       "    .dataframe tbody tr th:only-of-type {\n",
       "        vertical-align: middle;\n",
       "    }\n",
       "\n",
       "    .dataframe tbody tr th {\n",
       "        vertical-align: top;\n",
       "    }\n",
       "\n",
       "    .dataframe thead th {\n",
       "        text-align: right;\n",
       "    }\n",
       "</style>\n",
       "<table border=\"1\" class=\"dataframe\">\n",
       "  <thead>\n",
       "    <tr style=\"text-align: right;\">\n",
       "      <th>department_id</th>\n",
       "      <th>1</th>\n",
       "      <th>2</th>\n",
       "      <th>3</th>\n",
       "      <th>4</th>\n",
       "      <th>5</th>\n",
       "      <th>6</th>\n",
       "      <th>7</th>\n",
       "      <th>8</th>\n",
       "      <th>9</th>\n",
       "      <th>10</th>\n",
       "      <th>...</th>\n",
       "      <th>12</th>\n",
       "      <th>13</th>\n",
       "      <th>14</th>\n",
       "      <th>15</th>\n",
       "      <th>16</th>\n",
       "      <th>17</th>\n",
       "      <th>18</th>\n",
       "      <th>19</th>\n",
       "      <th>20</th>\n",
       "      <th>21</th>\n",
       "    </tr>\n",
       "    <tr>\n",
       "      <th>user_id</th>\n",
       "      <th></th>\n",
       "      <th></th>\n",
       "      <th></th>\n",
       "      <th></th>\n",
       "      <th></th>\n",
       "      <th></th>\n",
       "      <th></th>\n",
       "      <th></th>\n",
       "      <th></th>\n",
       "      <th></th>\n",
       "      <th></th>\n",
       "      <th></th>\n",
       "      <th></th>\n",
       "      <th></th>\n",
       "      <th></th>\n",
       "      <th></th>\n",
       "      <th></th>\n",
       "      <th></th>\n",
       "      <th></th>\n",
       "      <th></th>\n",
       "      <th></th>\n",
       "    </tr>\n",
       "  </thead>\n",
       "  <tbody>\n",
       "    <tr>\n",
       "      <th>1</th>\n",
       "      <td>NaN</td>\n",
       "      <td>NaN</td>\n",
       "      <td>NaN</td>\n",
       "      <td>0.004975</td>\n",
       "      <td>NaN</td>\n",
       "      <td>NaN</td>\n",
       "      <td>0.019355</td>\n",
       "      <td>NaN</td>\n",
       "      <td>NaN</td>\n",
       "      <td>NaN</td>\n",
       "      <td>...</td>\n",
       "      <td>NaN</td>\n",
       "      <td>0.000000</td>\n",
       "      <td>0.00409</td>\n",
       "      <td>NaN</td>\n",
       "      <td>0.017778</td>\n",
       "      <td>0.003559</td>\n",
       "      <td>NaN</td>\n",
       "      <td>0.029330</td>\n",
       "      <td>NaN</td>\n",
       "      <td>NaN</td>\n",
       "    </tr>\n",
       "    <tr>\n",
       "      <th>2</th>\n",
       "      <td>0.082474</td>\n",
       "      <td>NaN</td>\n",
       "      <td>0.005435</td>\n",
       "      <td>0.043532</td>\n",
       "      <td>NaN</td>\n",
       "      <td>0.028571</td>\n",
       "      <td>0.012903</td>\n",
       "      <td>NaN</td>\n",
       "      <td>NaN</td>\n",
       "      <td>NaN</td>\n",
       "      <td>...</td>\n",
       "      <td>0.0</td>\n",
       "      <td>0.045455</td>\n",
       "      <td>0.00409</td>\n",
       "      <td>0.0</td>\n",
       "      <td>0.069630</td>\n",
       "      <td>NaN</td>\n",
       "      <td>NaN</td>\n",
       "      <td>0.057263</td>\n",
       "      <td>0.055249</td>\n",
       "      <td>NaN</td>\n",
       "    </tr>\n",
       "    <tr>\n",
       "      <th>3</th>\n",
       "      <td>0.025773</td>\n",
       "      <td>NaN</td>\n",
       "      <td>NaN</td>\n",
       "      <td>0.046020</td>\n",
       "      <td>NaN</td>\n",
       "      <td>NaN</td>\n",
       "      <td>0.003226</td>\n",
       "      <td>NaN</td>\n",
       "      <td>0.025</td>\n",
       "      <td>NaN</td>\n",
       "      <td>...</td>\n",
       "      <td>NaN</td>\n",
       "      <td>0.013636</td>\n",
       "      <td>NaN</td>\n",
       "      <td>NaN</td>\n",
       "      <td>0.029630</td>\n",
       "      <td>0.000000</td>\n",
       "      <td>NaN</td>\n",
       "      <td>0.011173</td>\n",
       "      <td>0.002762</td>\n",
       "      <td>NaN</td>\n",
       "    </tr>\n",
       "    <tr>\n",
       "      <th>4</th>\n",
       "      <td>0.010309</td>\n",
       "      <td>NaN</td>\n",
       "      <td>0.005435</td>\n",
       "      <td>0.001244</td>\n",
       "      <td>0.004762</td>\n",
       "      <td>NaN</td>\n",
       "      <td>0.003226</td>\n",
       "      <td>NaN</td>\n",
       "      <td>NaN</td>\n",
       "      <td>NaN</td>\n",
       "      <td>...</td>\n",
       "      <td>NaN</td>\n",
       "      <td>NaN</td>\n",
       "      <td>NaN</td>\n",
       "      <td>0.0</td>\n",
       "      <td>NaN</td>\n",
       "      <td>0.003559</td>\n",
       "      <td>NaN</td>\n",
       "      <td>0.000000</td>\n",
       "      <td>0.002762</td>\n",
       "      <td>NaN</td>\n",
       "    </tr>\n",
       "    <tr>\n",
       "      <th>5</th>\n",
       "      <td>0.005155</td>\n",
       "      <td>NaN</td>\n",
       "      <td>NaN</td>\n",
       "      <td>0.022388</td>\n",
       "      <td>NaN</td>\n",
       "      <td>0.014286</td>\n",
       "      <td>NaN</td>\n",
       "      <td>NaN</td>\n",
       "      <td>0.000</td>\n",
       "      <td>NaN</td>\n",
       "      <td>...</td>\n",
       "      <td>NaN</td>\n",
       "      <td>0.004545</td>\n",
       "      <td>NaN</td>\n",
       "      <td>0.0</td>\n",
       "      <td>0.010370</td>\n",
       "      <td>NaN</td>\n",
       "      <td>NaN</td>\n",
       "      <td>0.000000</td>\n",
       "      <td>0.000000</td>\n",
       "      <td>NaN</td>\n",
       "    </tr>\n",
       "  </tbody>\n",
       "</table>\n",
       "<p>5 rows × 21 columns</p>\n",
       "</div>"
      ],
      "text/plain": [
       "department_id        1   2         3         4         5         6         7   \\\n",
       "user_id                                                                         \n",
       "1                   NaN NaN       NaN  0.004975       NaN       NaN  0.019355   \n",
       "2              0.082474 NaN  0.005435  0.043532       NaN  0.028571  0.012903   \n",
       "3              0.025773 NaN       NaN  0.046020       NaN       NaN  0.003226   \n",
       "4              0.010309 NaN  0.005435  0.001244  0.004762       NaN  0.003226   \n",
       "5              0.005155 NaN       NaN  0.022388       NaN  0.014286       NaN   \n",
       "\n",
       "department_id  8      9   10  ...   12        13       14   15        16  \\\n",
       "user_id                       ...                                          \n",
       "1             NaN    NaN NaN  ...  NaN  0.000000  0.00409  NaN  0.017778   \n",
       "2             NaN    NaN NaN  ...  0.0  0.045455  0.00409  0.0  0.069630   \n",
       "3             NaN  0.025 NaN  ...  NaN  0.013636      NaN  NaN  0.029630   \n",
       "4             NaN    NaN NaN  ...  NaN       NaN      NaN  0.0       NaN   \n",
       "5             NaN  0.000 NaN  ...  NaN  0.004545      NaN  0.0  0.010370   \n",
       "\n",
       "department_id        17  18        19        20  21  \n",
       "user_id                                              \n",
       "1              0.003559 NaN  0.029330       NaN NaN  \n",
       "2                   NaN NaN  0.057263  0.055249 NaN  \n",
       "3              0.000000 NaN  0.011173  0.002762 NaN  \n",
       "4              0.003559 NaN  0.000000  0.002762 NaN  \n",
       "5                   NaN NaN  0.000000  0.000000 NaN  \n",
       "\n",
       "[5 rows x 21 columns]"
      ]
     },
     "execution_count": 158,
     "metadata": {},
     "output_type": "execute_result"
    }
   ],
   "source": [
    "rs_norm.head()"
   ]
  },
  {
   "cell_type": "code",
   "execution_count": 159,
   "metadata": {},
   "outputs": [
    {
     "name": "stdout",
     "output_type": "stream",
     "text": [
      "(107488, 3)\n"
     ]
    },
    {
     "data": {
      "text/html": [
       "<div>\n",
       "<style scoped>\n",
       "    .dataframe tbody tr th:only-of-type {\n",
       "        vertical-align: middle;\n",
       "    }\n",
       "\n",
       "    .dataframe tbody tr th {\n",
       "        vertical-align: top;\n",
       "    }\n",
       "\n",
       "    .dataframe thead th {\n",
       "        text-align: right;\n",
       "    }\n",
       "</style>\n",
       "<table border=\"1\" class=\"dataframe\">\n",
       "  <thead>\n",
       "    <tr style=\"text-align: right;\">\n",
       "      <th></th>\n",
       "      <th>user_id</th>\n",
       "      <th>department_id</th>\n",
       "      <th>scaled_purchase_freq</th>\n",
       "    </tr>\n",
       "  </thead>\n",
       "  <tbody>\n",
       "    <tr>\n",
       "      <th>1</th>\n",
       "      <td>2</td>\n",
       "      <td>1</td>\n",
       "      <td>0.082474</td>\n",
       "    </tr>\n",
       "    <tr>\n",
       "      <th>2</th>\n",
       "      <td>3</td>\n",
       "      <td>1</td>\n",
       "      <td>0.025773</td>\n",
       "    </tr>\n",
       "    <tr>\n",
       "      <th>3</th>\n",
       "      <td>4</td>\n",
       "      <td>1</td>\n",
       "      <td>0.010309</td>\n",
       "    </tr>\n",
       "    <tr>\n",
       "      <th>4</th>\n",
       "      <td>5</td>\n",
       "      <td>1</td>\n",
       "      <td>0.005155</td>\n",
       "    </tr>\n",
       "    <tr>\n",
       "      <th>6</th>\n",
       "      <td>7</td>\n",
       "      <td>1</td>\n",
       "      <td>0.015464</td>\n",
       "    </tr>\n",
       "  </tbody>\n",
       "</table>\n",
       "</div>"
      ],
      "text/plain": [
       "   user_id department_id  scaled_purchase_freq\n",
       "1        2             1              0.082474\n",
       "2        3             1              0.025773\n",
       "3        4             1              0.010309\n",
       "4        5             1              0.005155\n",
       "6        7             1              0.015464"
      ]
     },
     "execution_count": 159,
     "metadata": {},
     "output_type": "execute_result"
    }
   ],
   "source": [
    "# Table for input to the model\n",
    "d = rs_norm.reset_index()\n",
    "d.index.names = [\"scaled_purchase_freq\"]\n",
    "data_norm = pd.melt(d, id_vars = [\"user_id\"], value_name = \"scaled_purchase_freq\").dropna()\n",
    "print(data_norm.shape)\n",
    "data_norm.head()"
   ]
  },
  {
   "cell_type": "code",
   "execution_count": 172,
   "metadata": {},
   "outputs": [],
   "source": [
    "data_rs = pd.melt(rs_sample.reset_index(), id_vars = [\"user_id\"], value_name = \"scaled_purchase_freq\").dropna()"
   ]
  },
  {
   "cell_type": "code",
   "execution_count": 137,
   "metadata": {},
   "outputs": [
    {
     "data": {
      "text/html": [
       "<div>\n",
       "<style scoped>\n",
       "    .dataframe tbody tr th:only-of-type {\n",
       "        vertical-align: middle;\n",
       "    }\n",
       "\n",
       "    .dataframe tbody tr th {\n",
       "        vertical-align: top;\n",
       "    }\n",
       "\n",
       "    .dataframe thead th {\n",
       "        text-align: right;\n",
       "    }\n",
       "</style>\n",
       "<table border=\"1\" class=\"dataframe\">\n",
       "  <thead>\n",
       "    <tr style=\"text-align: right;\">\n",
       "      <th></th>\n",
       "      <th>user_id</th>\n",
       "      <th>department_id</th>\n",
       "      <th>scaled_purchase_freq</th>\n",
       "    </tr>\n",
       "  </thead>\n",
       "  <tbody>\n",
       "    <tr>\n",
       "      <th>209995</th>\n",
       "      <td>9996</td>\n",
       "      <td>21</td>\n",
       "      <td>0.000000</td>\n",
       "    </tr>\n",
       "    <tr>\n",
       "      <th>209996</th>\n",
       "      <td>9997</td>\n",
       "      <td>21</td>\n",
       "      <td>0.000000</td>\n",
       "    </tr>\n",
       "    <tr>\n",
       "      <th>209997</th>\n",
       "      <td>9998</td>\n",
       "      <td>21</td>\n",
       "      <td>0.018182</td>\n",
       "    </tr>\n",
       "    <tr>\n",
       "      <th>209998</th>\n",
       "      <td>9999</td>\n",
       "      <td>21</td>\n",
       "      <td>0.000000</td>\n",
       "    </tr>\n",
       "    <tr>\n",
       "      <th>209999</th>\n",
       "      <td>10000</td>\n",
       "      <td>21</td>\n",
       "      <td>0.000000</td>\n",
       "    </tr>\n",
       "  </tbody>\n",
       "</table>\n",
       "</div>"
      ],
      "text/plain": [
       "        user_id department_id  scaled_purchase_freq\n",
       "209995     9996            21              0.000000\n",
       "209996     9997            21              0.000000\n",
       "209997     9998            21              0.018182\n",
       "209998     9999            21              0.000000\n",
       "209999    10000            21              0.000000"
      ]
     },
     "execution_count": 137,
     "metadata": {},
     "output_type": "execute_result"
    }
   ],
   "source": [
    "data_norm.tail()"
   ]
  },
  {
   "cell_type": "code",
   "execution_count": 178,
   "metadata": {},
   "outputs": [],
   "source": [
    "user_id = 'user_id'\n",
    "depart_id = 'department_id'\n",
    "users_to_recommend = list(data_norm[\"user_id\"])\n",
    "n_rec = 5 # number of items to recommend\n",
    "n_display = 30 # to display the first few rows in an output dataset"
   ]
  },
  {
   "cell_type": "code",
   "execution_count": 143,
   "metadata": {},
   "outputs": [],
   "source": [
    "import turicreate as tc"
   ]
  },
  {
   "cell_type": "code",
   "execution_count": 150,
   "metadata": {},
   "outputs": [],
   "source": [
    "def model(data, name, user_id, depart_id, target, users_to_recommend, n_rec, n_display):\n",
    "    model = tc.item_similarity_recommender.create(data, \n",
    "                                                    user_id=user_id, \n",
    "                                                    item_id=depart_id, \n",
    "                                                    target=target, \n",
    "                                                    similarity_type='pearson')\n",
    "        \n",
    "    recom = model.recommend(users=users_to_recommend, k=n_rec)\n",
    "    recom.print_rows(n_display)\n",
    "    return model"
   ]
  },
  {
   "cell_type": "code",
   "execution_count": 160,
   "metadata": {},
   "outputs": [],
   "source": [
    "data_norm = tc.SFrame(data_norm)"
   ]
  },
  {
   "cell_type": "code",
   "execution_count": 173,
   "metadata": {},
   "outputs": [],
   "source": [
    "data_rs = tc.SFrame(data_rs)"
   ]
  },
  {
   "cell_type": "code",
   "execution_count": 161,
   "metadata": {},
   "outputs": [
    {
     "data": {
      "text/html": [
       "<div style=\"max-height:1000px;max-width:1500px;overflow:auto;\"><table frame=\"box\" rules=\"cols\">\n",
       "    <tr>\n",
       "        <th style=\"padding-left: 1em; padding-right: 1em; text-align: center\">user_id</th>\n",
       "        <th style=\"padding-left: 1em; padding-right: 1em; text-align: center\">department_id</th>\n",
       "        <th style=\"padding-left: 1em; padding-right: 1em; text-align: center\">scaled_purchase_freq</th>\n",
       "    </tr>\n",
       "    <tr>\n",
       "        <td style=\"padding-left: 1em; padding-right: 1em; text-align: center; vertical-align: top\">2</td>\n",
       "        <td style=\"padding-left: 1em; padding-right: 1em; text-align: center; vertical-align: top\">1</td>\n",
       "        <td style=\"padding-left: 1em; padding-right: 1em; text-align: center; vertical-align: top\">0.08247422680412371</td>\n",
       "    </tr>\n",
       "    <tr>\n",
       "        <td style=\"padding-left: 1em; padding-right: 1em; text-align: center; vertical-align: top\">3</td>\n",
       "        <td style=\"padding-left: 1em; padding-right: 1em; text-align: center; vertical-align: top\">1</td>\n",
       "        <td style=\"padding-left: 1em; padding-right: 1em; text-align: center; vertical-align: top\">0.02577319587628866</td>\n",
       "    </tr>\n",
       "    <tr>\n",
       "        <td style=\"padding-left: 1em; padding-right: 1em; text-align: center; vertical-align: top\">4</td>\n",
       "        <td style=\"padding-left: 1em; padding-right: 1em; text-align: center; vertical-align: top\">1</td>\n",
       "        <td style=\"padding-left: 1em; padding-right: 1em; text-align: center; vertical-align: top\">0.010309278350515464</td>\n",
       "    </tr>\n",
       "    <tr>\n",
       "        <td style=\"padding-left: 1em; padding-right: 1em; text-align: center; vertical-align: top\">5</td>\n",
       "        <td style=\"padding-left: 1em; padding-right: 1em; text-align: center; vertical-align: top\">1</td>\n",
       "        <td style=\"padding-left: 1em; padding-right: 1em; text-align: center; vertical-align: top\">0.005154639175257732</td>\n",
       "    </tr>\n",
       "    <tr>\n",
       "        <td style=\"padding-left: 1em; padding-right: 1em; text-align: center; vertical-align: top\">7</td>\n",
       "        <td style=\"padding-left: 1em; padding-right: 1em; text-align: center; vertical-align: top\">1</td>\n",
       "        <td style=\"padding-left: 1em; padding-right: 1em; text-align: center; vertical-align: top\">0.015463917525773196</td>\n",
       "    </tr>\n",
       "    <tr>\n",
       "        <td style=\"padding-left: 1em; padding-right: 1em; text-align: center; vertical-align: top\">9</td>\n",
       "        <td style=\"padding-left: 1em; padding-right: 1em; text-align: center; vertical-align: top\">1</td>\n",
       "        <td style=\"padding-left: 1em; padding-right: 1em; text-align: center; vertical-align: top\">0.0</td>\n",
       "    </tr>\n",
       "    <tr>\n",
       "        <td style=\"padding-left: 1em; padding-right: 1em; text-align: center; vertical-align: top\">10</td>\n",
       "        <td style=\"padding-left: 1em; padding-right: 1em; text-align: center; vertical-align: top\">1</td>\n",
       "        <td style=\"padding-left: 1em; padding-right: 1em; text-align: center; vertical-align: top\">0.0</td>\n",
       "    </tr>\n",
       "    <tr>\n",
       "        <td style=\"padding-left: 1em; padding-right: 1em; text-align: center; vertical-align: top\">11</td>\n",
       "        <td style=\"padding-left: 1em; padding-right: 1em; text-align: center; vertical-align: top\">1</td>\n",
       "        <td style=\"padding-left: 1em; padding-right: 1em; text-align: center; vertical-align: top\">0.005154639175257732</td>\n",
       "    </tr>\n",
       "    <tr>\n",
       "        <td style=\"padding-left: 1em; padding-right: 1em; text-align: center; vertical-align: top\">12</td>\n",
       "        <td style=\"padding-left: 1em; padding-right: 1em; text-align: center; vertical-align: top\">1</td>\n",
       "        <td style=\"padding-left: 1em; padding-right: 1em; text-align: center; vertical-align: top\">0.005154639175257732</td>\n",
       "    </tr>\n",
       "    <tr>\n",
       "        <td style=\"padding-left: 1em; padding-right: 1em; text-align: center; vertical-align: top\">14</td>\n",
       "        <td style=\"padding-left: 1em; padding-right: 1em; text-align: center; vertical-align: top\">1</td>\n",
       "        <td style=\"padding-left: 1em; padding-right: 1em; text-align: center; vertical-align: top\">0.17525773195876287</td>\n",
       "    </tr>\n",
       "</table>\n",
       "[10 rows x 3 columns]<br/>\n",
       "</div>"
      ],
      "text/plain": [
       "Columns:\n",
       "\tuser_id\tint\n",
       "\tdepartment_id\tint\n",
       "\tscaled_purchase_freq\tfloat\n",
       "\n",
       "Rows: 10\n",
       "\n",
       "Data:\n",
       "+---------+---------------+----------------------+\n",
       "| user_id | department_id | scaled_purchase_freq |\n",
       "+---------+---------------+----------------------+\n",
       "|    2    |       1       | 0.08247422680412371  |\n",
       "|    3    |       1       | 0.02577319587628866  |\n",
       "|    4    |       1       | 0.010309278350515464 |\n",
       "|    5    |       1       | 0.005154639175257732 |\n",
       "|    7    |       1       | 0.015463917525773196 |\n",
       "|    9    |       1       |         0.0          |\n",
       "|    10   |       1       |         0.0          |\n",
       "|    11   |       1       | 0.005154639175257732 |\n",
       "|    12   |       1       | 0.005154639175257732 |\n",
       "|    14   |       1       | 0.17525773195876287  |\n",
       "+---------+---------------+----------------------+\n",
       "[10 rows x 3 columns]"
      ]
     },
     "execution_count": 161,
     "metadata": {},
     "output_type": "execute_result"
    }
   ],
   "source": [
    "data_norm.head()"
   ]
  },
  {
   "cell_type": "code",
   "execution_count": 162,
   "metadata": {},
   "outputs": [
    {
     "data": {
      "text/html": [
       "<pre>Preparing data set.</pre>"
      ],
      "text/plain": [
       "Preparing data set."
      ]
     },
     "metadata": {},
     "output_type": "display_data"
    },
    {
     "data": {
      "text/html": [
       "<pre>    Data has 107488 observations with 10000 users and 21 items.</pre>"
      ],
      "text/plain": [
       "    Data has 107488 observations with 10000 users and 21 items."
      ]
     },
     "metadata": {},
     "output_type": "display_data"
    },
    {
     "data": {
      "text/html": [
       "<pre>    Data prepared in: 0.139246s</pre>"
      ],
      "text/plain": [
       "    Data prepared in: 0.139246s"
      ]
     },
     "metadata": {},
     "output_type": "display_data"
    },
    {
     "data": {
      "text/html": [
       "<pre>Training model from provided data.</pre>"
      ],
      "text/plain": [
       "Training model from provided data."
      ]
     },
     "metadata": {},
     "output_type": "display_data"
    },
    {
     "data": {
      "text/html": [
       "<pre>Gathering per-item and per-user statistics.</pre>"
      ],
      "text/plain": [
       "Gathering per-item and per-user statistics."
      ]
     },
     "metadata": {},
     "output_type": "display_data"
    },
    {
     "data": {
      "text/html": [
       "<pre>+--------------------------------+------------+</pre>"
      ],
      "text/plain": [
       "+--------------------------------+------------+"
      ]
     },
     "metadata": {},
     "output_type": "display_data"
    },
    {
     "data": {
      "text/html": [
       "<pre>| Elapsed Time (Item Statistics) | % Complete |</pre>"
      ],
      "text/plain": [
       "| Elapsed Time (Item Statistics) | % Complete |"
      ]
     },
     "metadata": {},
     "output_type": "display_data"
    },
    {
     "data": {
      "text/html": [
       "<pre>+--------------------------------+------------+</pre>"
      ],
      "text/plain": [
       "+--------------------------------+------------+"
      ]
     },
     "metadata": {},
     "output_type": "display_data"
    },
    {
     "data": {
      "text/html": [
       "<pre>| 661us                          | 10         |</pre>"
      ],
      "text/plain": [
       "| 661us                          | 10         |"
      ]
     },
     "metadata": {},
     "output_type": "display_data"
    },
    {
     "data": {
      "text/html": [
       "<pre>| 3.012ms                        | 100        |</pre>"
      ],
      "text/plain": [
       "| 3.012ms                        | 100        |"
      ]
     },
     "metadata": {},
     "output_type": "display_data"
    },
    {
     "data": {
      "text/html": [
       "<pre>+--------------------------------+------------+</pre>"
      ],
      "text/plain": [
       "+--------------------------------+------------+"
      ]
     },
     "metadata": {},
     "output_type": "display_data"
    },
    {
     "data": {
      "text/html": [
       "<pre>Setting up lookup tables.</pre>"
      ],
      "text/plain": [
       "Setting up lookup tables."
      ]
     },
     "metadata": {},
     "output_type": "display_data"
    },
    {
     "data": {
      "text/html": [
       "<pre>Processing data in one pass using dense lookup tables.</pre>"
      ],
      "text/plain": [
       "Processing data in one pass using dense lookup tables."
      ]
     },
     "metadata": {},
     "output_type": "display_data"
    },
    {
     "data": {
      "text/html": [
       "<pre>+-------------------------------------+------------------+-----------------+</pre>"
      ],
      "text/plain": [
       "+-------------------------------------+------------------+-----------------+"
      ]
     },
     "metadata": {},
     "output_type": "display_data"
    },
    {
     "data": {
      "text/html": [
       "<pre>| Elapsed Time (Constructing Lookups) | Total % Complete | Items Processed |</pre>"
      ],
      "text/plain": [
       "| Elapsed Time (Constructing Lookups) | Total % Complete | Items Processed |"
      ]
     },
     "metadata": {},
     "output_type": "display_data"
    },
    {
     "data": {
      "text/html": [
       "<pre>+-------------------------------------+------------------+-----------------+</pre>"
      ],
      "text/plain": [
       "+-------------------------------------+------------------+-----------------+"
      ]
     },
     "metadata": {},
     "output_type": "display_data"
    },
    {
     "data": {
      "text/html": [
       "<pre>| 3.995ms                             | 0                | 0               |</pre>"
      ],
      "text/plain": [
       "| 3.995ms                             | 0                | 0               |"
      ]
     },
     "metadata": {},
     "output_type": "display_data"
    },
    {
     "data": {
      "text/html": [
       "<pre>| 10.255ms                            | 100              | 21              |</pre>"
      ],
      "text/plain": [
       "| 10.255ms                            | 100              | 21              |"
      ]
     },
     "metadata": {},
     "output_type": "display_data"
    },
    {
     "data": {
      "text/html": [
       "<pre>+-------------------------------------+------------------+-----------------+</pre>"
      ],
      "text/plain": [
       "+-------------------------------------+------------------+-----------------+"
      ]
     },
     "metadata": {},
     "output_type": "display_data"
    },
    {
     "data": {
      "text/html": [
       "<pre>Finalizing lookup tables.</pre>"
      ],
      "text/plain": [
       "Finalizing lookup tables."
      ]
     },
     "metadata": {},
     "output_type": "display_data"
    },
    {
     "data": {
      "text/html": [
       "<pre>Generating candidate set for working with new users.</pre>"
      ],
      "text/plain": [
       "Generating candidate set for working with new users."
      ]
     },
     "metadata": {},
     "output_type": "display_data"
    },
    {
     "data": {
      "text/html": [
       "<pre>Finished training in 0.025955s</pre>"
      ],
      "text/plain": [
       "Finished training in 0.025955s"
      ]
     },
     "metadata": {},
     "output_type": "display_data"
    },
    {
     "data": {
      "text/html": [
       "<pre>recommendations finished on 1000/210000 queries. users per second: 324675</pre>"
      ],
      "text/plain": [
       "recommendations finished on 1000/210000 queries. users per second: 324675"
      ]
     },
     "metadata": {},
     "output_type": "display_data"
    },
    {
     "data": {
      "text/html": [
       "<pre>recommendations finished on 2000/210000 queries. users per second: 375305</pre>"
      ],
      "text/plain": [
       "recommendations finished on 2000/210000 queries. users per second: 375305"
      ]
     },
     "metadata": {},
     "output_type": "display_data"
    },
    {
     "data": {
      "text/html": [
       "<pre>recommendations finished on 3000/210000 queries. users per second: 361489</pre>"
      ],
      "text/plain": [
       "recommendations finished on 3000/210000 queries. users per second: 361489"
      ]
     },
     "metadata": {},
     "output_type": "display_data"
    },
    {
     "data": {
      "text/html": [
       "<pre>recommendations finished on 4000/210000 queries. users per second: 374287</pre>"
      ],
      "text/plain": [
       "recommendations finished on 4000/210000 queries. users per second: 374287"
      ]
     },
     "metadata": {},
     "output_type": "display_data"
    },
    {
     "data": {
      "text/html": [
       "<pre>recommendations finished on 5000/210000 queries. users per second: 385119</pre>"
      ],
      "text/plain": [
       "recommendations finished on 5000/210000 queries. users per second: 385119"
      ]
     },
     "metadata": {},
     "output_type": "display_data"
    },
    {
     "data": {
      "text/html": [
       "<pre>recommendations finished on 6000/210000 queries. users per second: 384295</pre>"
      ],
      "text/plain": [
       "recommendations finished on 6000/210000 queries. users per second: 384295"
      ]
     },
     "metadata": {},
     "output_type": "display_data"
    },
    {
     "data": {
      "text/html": [
       "<pre>recommendations finished on 7000/210000 queries. users per second: 372916</pre>"
      ],
      "text/plain": [
       "recommendations finished on 7000/210000 queries. users per second: 372916"
      ]
     },
     "metadata": {},
     "output_type": "display_data"
    },
    {
     "data": {
      "text/html": [
       "<pre>recommendations finished on 8000/210000 queries. users per second: 179590</pre>"
      ],
      "text/plain": [
       "recommendations finished on 8000/210000 queries. users per second: 179590"
      ]
     },
     "metadata": {},
     "output_type": "display_data"
    },
    {
     "data": {
      "text/html": [
       "<pre>recommendations finished on 9000/210000 queries. users per second: 181178</pre>"
      ],
      "text/plain": [
       "recommendations finished on 9000/210000 queries. users per second: 181178"
      ]
     },
     "metadata": {},
     "output_type": "display_data"
    },
    {
     "data": {
      "text/html": [
       "<pre>recommendations finished on 10000/210000 queries. users per second: 188374</pre>"
      ],
      "text/plain": [
       "recommendations finished on 10000/210000 queries. users per second: 188374"
      ]
     },
     "metadata": {},
     "output_type": "display_data"
    },
    {
     "data": {
      "text/html": [
       "<pre>recommendations finished on 11000/210000 queries. users per second: 192688</pre>"
      ],
      "text/plain": [
       "recommendations finished on 11000/210000 queries. users per second: 192688"
      ]
     },
     "metadata": {},
     "output_type": "display_data"
    },
    {
     "data": {
      "text/html": [
       "<pre>recommendations finished on 12000/210000 queries. users per second: 202877</pre>"
      ],
      "text/plain": [
       "recommendations finished on 12000/210000 queries. users per second: 202877"
      ]
     },
     "metadata": {},
     "output_type": "display_data"
    },
    {
     "data": {
      "text/html": [
       "<pre>recommendations finished on 13000/210000 queries. users per second: 200775</pre>"
      ],
      "text/plain": [
       "recommendations finished on 13000/210000 queries. users per second: 200775"
      ]
     },
     "metadata": {},
     "output_type": "display_data"
    },
    {
     "data": {
      "text/html": [
       "<pre>recommendations finished on 14000/210000 queries. users per second: 196282</pre>"
      ],
      "text/plain": [
       "recommendations finished on 14000/210000 queries. users per second: 196282"
      ]
     },
     "metadata": {},
     "output_type": "display_data"
    },
    {
     "data": {
      "text/html": [
       "<pre>recommendations finished on 15000/210000 queries. users per second: 201532</pre>"
      ],
      "text/plain": [
       "recommendations finished on 15000/210000 queries. users per second: 201532"
      ]
     },
     "metadata": {},
     "output_type": "display_data"
    },
    {
     "data": {
      "text/html": [
       "<pre>recommendations finished on 16000/210000 queries. users per second: 209109</pre>"
      ],
      "text/plain": [
       "recommendations finished on 16000/210000 queries. users per second: 209109"
      ]
     },
     "metadata": {},
     "output_type": "display_data"
    },
    {
     "data": {
      "text/html": [
       "<pre>recommendations finished on 17000/210000 queries. users per second: 212628</pre>"
      ],
      "text/plain": [
       "recommendations finished on 17000/210000 queries. users per second: 212628"
      ]
     },
     "metadata": {},
     "output_type": "display_data"
    },
    {
     "data": {
      "text/html": [
       "<pre>recommendations finished on 18000/210000 queries. users per second: 220483</pre>"
      ],
      "text/plain": [
       "recommendations finished on 18000/210000 queries. users per second: 220483"
      ]
     },
     "metadata": {},
     "output_type": "display_data"
    },
    {
     "data": {
      "text/html": [
       "<pre>recommendations finished on 19000/210000 queries. users per second: 224602</pre>"
      ],
      "text/plain": [
       "recommendations finished on 19000/210000 queries. users per second: 224602"
      ]
     },
     "metadata": {},
     "output_type": "display_data"
    },
    {
     "data": {
      "text/html": [
       "<pre>recommendations finished on 20000/210000 queries. users per second: 230582</pre>"
      ],
      "text/plain": [
       "recommendations finished on 20000/210000 queries. users per second: 230582"
      ]
     },
     "metadata": {},
     "output_type": "display_data"
    },
    {
     "data": {
      "text/html": [
       "<pre>recommendations finished on 21000/210000 queries. users per second: 234543</pre>"
      ],
      "text/plain": [
       "recommendations finished on 21000/210000 queries. users per second: 234543"
      ]
     },
     "metadata": {},
     "output_type": "display_data"
    },
    {
     "data": {
      "text/html": [
       "<pre>recommendations finished on 22000/210000 queries. users per second: 240125</pre>"
      ],
      "text/plain": [
       "recommendations finished on 22000/210000 queries. users per second: 240125"
      ]
     },
     "metadata": {},
     "output_type": "display_data"
    },
    {
     "data": {
      "text/html": [
       "<pre>recommendations finished on 23000/210000 queries. users per second: 234814</pre>"
      ],
      "text/plain": [
       "recommendations finished on 23000/210000 queries. users per second: 234814"
      ]
     },
     "metadata": {},
     "output_type": "display_data"
    },
    {
     "data": {
      "text/html": [
       "<pre>recommendations finished on 24000/210000 queries. users per second: 237833</pre>"
      ],
      "text/plain": [
       "recommendations finished on 24000/210000 queries. users per second: 237833"
      ]
     },
     "metadata": {},
     "output_type": "display_data"
    },
    {
     "data": {
      "text/html": [
       "<pre>recommendations finished on 25000/210000 queries. users per second: 238029</pre>"
      ],
      "text/plain": [
       "recommendations finished on 25000/210000 queries. users per second: 238029"
      ]
     },
     "metadata": {},
     "output_type": "display_data"
    },
    {
     "data": {
      "text/html": [
       "<pre>recommendations finished on 26000/210000 queries. users per second: 239312</pre>"
      ],
      "text/plain": [
       "recommendations finished on 26000/210000 queries. users per second: 239312"
      ]
     },
     "metadata": {},
     "output_type": "display_data"
    },
    {
     "data": {
      "text/html": [
       "<pre>recommendations finished on 27000/210000 queries. users per second: 241708</pre>"
      ],
      "text/plain": [
       "recommendations finished on 27000/210000 queries. users per second: 241708"
      ]
     },
     "metadata": {},
     "output_type": "display_data"
    },
    {
     "data": {
      "text/html": [
       "<pre>recommendations finished on 28000/210000 queries. users per second: 245877</pre>"
      ],
      "text/plain": [
       "recommendations finished on 28000/210000 queries. users per second: 245877"
      ]
     },
     "metadata": {},
     "output_type": "display_data"
    },
    {
     "data": {
      "text/html": [
       "<pre>recommendations finished on 29000/210000 queries. users per second: 248859</pre>"
      ],
      "text/plain": [
       "recommendations finished on 29000/210000 queries. users per second: 248859"
      ]
     },
     "metadata": {},
     "output_type": "display_data"
    },
    {
     "data": {
      "text/html": [
       "<pre>recommendations finished on 30000/210000 queries. users per second: 249437</pre>"
      ],
      "text/plain": [
       "recommendations finished on 30000/210000 queries. users per second: 249437"
      ]
     },
     "metadata": {},
     "output_type": "display_data"
    },
    {
     "data": {
      "text/html": [
       "<pre>recommendations finished on 31000/210000 queries. users per second: 253475</pre>"
      ],
      "text/plain": [
       "recommendations finished on 31000/210000 queries. users per second: 253475"
      ]
     },
     "metadata": {},
     "output_type": "display_data"
    },
    {
     "data": {
      "text/html": [
       "<pre>recommendations finished on 32000/210000 queries. users per second: 258692</pre>"
      ],
      "text/plain": [
       "recommendations finished on 32000/210000 queries. users per second: 258692"
      ]
     },
     "metadata": {},
     "output_type": "display_data"
    },
    {
     "data": {
      "text/html": [
       "<pre>recommendations finished on 33000/210000 queries. users per second: 261446</pre>"
      ],
      "text/plain": [
       "recommendations finished on 33000/210000 queries. users per second: 261446"
      ]
     },
     "metadata": {},
     "output_type": "display_data"
    },
    {
     "data": {
      "text/html": [
       "<pre>recommendations finished on 34000/210000 queries. users per second: 262897</pre>"
      ],
      "text/plain": [
       "recommendations finished on 34000/210000 queries. users per second: 262897"
      ]
     },
     "metadata": {},
     "output_type": "display_data"
    },
    {
     "data": {
      "text/html": [
       "<pre>recommendations finished on 35000/210000 queries. users per second: 265968</pre>"
      ],
      "text/plain": [
       "recommendations finished on 35000/210000 queries. users per second: 265968"
      ]
     },
     "metadata": {},
     "output_type": "display_data"
    },
    {
     "data": {
      "text/html": [
       "<pre>recommendations finished on 36000/210000 queries. users per second: 267909</pre>"
      ],
      "text/plain": [
       "recommendations finished on 36000/210000 queries. users per second: 267909"
      ]
     },
     "metadata": {},
     "output_type": "display_data"
    },
    {
     "data": {
      "text/html": [
       "<pre>recommendations finished on 37000/210000 queries. users per second: 268050</pre>"
      ],
      "text/plain": [
       "recommendations finished on 37000/210000 queries. users per second: 268050"
      ]
     },
     "metadata": {},
     "output_type": "display_data"
    },
    {
     "data": {
      "text/html": [
       "<pre>recommendations finished on 38000/210000 queries. users per second: 264709</pre>"
      ],
      "text/plain": [
       "recommendations finished on 38000/210000 queries. users per second: 264709"
      ]
     },
     "metadata": {},
     "output_type": "display_data"
    },
    {
     "data": {
      "text/html": [
       "<pre>recommendations finished on 39000/210000 queries. users per second: 263515</pre>"
      ],
      "text/plain": [
       "recommendations finished on 39000/210000 queries. users per second: 263515"
      ]
     },
     "metadata": {},
     "output_type": "display_data"
    },
    {
     "data": {
      "text/html": [
       "<pre>recommendations finished on 40000/210000 queries. users per second: 256840</pre>"
      ],
      "text/plain": [
       "recommendations finished on 40000/210000 queries. users per second: 256840"
      ]
     },
     "metadata": {},
     "output_type": "display_data"
    },
    {
     "data": {
      "text/html": [
       "<pre>recommendations finished on 41000/210000 queries. users per second: 254676</pre>"
      ],
      "text/plain": [
       "recommendations finished on 41000/210000 queries. users per second: 254676"
      ]
     },
     "metadata": {},
     "output_type": "display_data"
    },
    {
     "data": {
      "text/html": [
       "<pre>recommendations finished on 42000/210000 queries. users per second: 257451</pre>"
      ],
      "text/plain": [
       "recommendations finished on 42000/210000 queries. users per second: 257451"
      ]
     },
     "metadata": {},
     "output_type": "display_data"
    },
    {
     "data": {
      "text/html": [
       "<pre>recommendations finished on 43000/210000 queries. users per second: 256637</pre>"
      ],
      "text/plain": [
       "recommendations finished on 43000/210000 queries. users per second: 256637"
      ]
     },
     "metadata": {},
     "output_type": "display_data"
    },
    {
     "data": {
      "text/html": [
       "<pre>recommendations finished on 44000/210000 queries. users per second: 256814</pre>"
      ],
      "text/plain": [
       "recommendations finished on 44000/210000 queries. users per second: 256814"
      ]
     },
     "metadata": {},
     "output_type": "display_data"
    },
    {
     "data": {
      "text/html": [
       "<pre>recommendations finished on 45000/210000 queries. users per second: 258539</pre>"
      ],
      "text/plain": [
       "recommendations finished on 45000/210000 queries. users per second: 258539"
      ]
     },
     "metadata": {},
     "output_type": "display_data"
    },
    {
     "data": {
      "text/html": [
       "<pre>recommendations finished on 46000/210000 queries. users per second: 259232</pre>"
      ],
      "text/plain": [
       "recommendations finished on 46000/210000 queries. users per second: 259232"
      ]
     },
     "metadata": {},
     "output_type": "display_data"
    },
    {
     "data": {
      "text/html": [
       "<pre>recommendations finished on 47000/210000 queries. users per second: 255185</pre>"
      ],
      "text/plain": [
       "recommendations finished on 47000/210000 queries. users per second: 255185"
      ]
     },
     "metadata": {},
     "output_type": "display_data"
    },
    {
     "data": {
      "text/html": [
       "<pre>recommendations finished on 48000/210000 queries. users per second: 257471</pre>"
      ],
      "text/plain": [
       "recommendations finished on 48000/210000 queries. users per second: 257471"
      ]
     },
     "metadata": {},
     "output_type": "display_data"
    },
    {
     "data": {
      "text/html": [
       "<pre>recommendations finished on 49000/210000 queries. users per second: 258145</pre>"
      ],
      "text/plain": [
       "recommendations finished on 49000/210000 queries. users per second: 258145"
      ]
     },
     "metadata": {},
     "output_type": "display_data"
    },
    {
     "data": {
      "text/html": [
       "<pre>recommendations finished on 50000/210000 queries. users per second: 258494</pre>"
      ],
      "text/plain": [
       "recommendations finished on 50000/210000 queries. users per second: 258494"
      ]
     },
     "metadata": {},
     "output_type": "display_data"
    },
    {
     "data": {
      "text/html": [
       "<pre>recommendations finished on 51000/210000 queries. users per second: 261292</pre>"
      ],
      "text/plain": [
       "recommendations finished on 51000/210000 queries. users per second: 261292"
      ]
     },
     "metadata": {},
     "output_type": "display_data"
    },
    {
     "data": {
      "text/html": [
       "<pre>recommendations finished on 52000/210000 queries. users per second: 264051</pre>"
      ],
      "text/plain": [
       "recommendations finished on 52000/210000 queries. users per second: 264051"
      ]
     },
     "metadata": {},
     "output_type": "display_data"
    },
    {
     "data": {
      "text/html": [
       "<pre>recommendations finished on 53000/210000 queries. users per second: 265988</pre>"
      ],
      "text/plain": [
       "recommendations finished on 53000/210000 queries. users per second: 265988"
      ]
     },
     "metadata": {},
     "output_type": "display_data"
    },
    {
     "data": {
      "text/html": [
       "<pre>recommendations finished on 54000/210000 queries. users per second: 268645</pre>"
      ],
      "text/plain": [
       "recommendations finished on 54000/210000 queries. users per second: 268645"
      ]
     },
     "metadata": {},
     "output_type": "display_data"
    },
    {
     "data": {
      "text/html": [
       "<pre>recommendations finished on 55000/210000 queries. users per second: 269898</pre>"
      ],
      "text/plain": [
       "recommendations finished on 55000/210000 queries. users per second: 269898"
      ]
     },
     "metadata": {},
     "output_type": "display_data"
    },
    {
     "data": {
      "text/html": [
       "<pre>recommendations finished on 56000/210000 queries. users per second: 269041</pre>"
      ],
      "text/plain": [
       "recommendations finished on 56000/210000 queries. users per second: 269041"
      ]
     },
     "metadata": {},
     "output_type": "display_data"
    },
    {
     "data": {
      "text/html": [
       "<pre>recommendations finished on 57000/210000 queries. users per second: 267061</pre>"
      ],
      "text/plain": [
       "recommendations finished on 57000/210000 queries. users per second: 267061"
      ]
     },
     "metadata": {},
     "output_type": "display_data"
    },
    {
     "data": {
      "text/html": [
       "<pre>recommendations finished on 58000/210000 queries. users per second: 269000</pre>"
      ],
      "text/plain": [
       "recommendations finished on 58000/210000 queries. users per second: 269000"
      ]
     },
     "metadata": {},
     "output_type": "display_data"
    },
    {
     "data": {
      "text/html": [
       "<pre>recommendations finished on 59000/210000 queries. users per second: 271585</pre>"
      ],
      "text/plain": [
       "recommendations finished on 59000/210000 queries. users per second: 271585"
      ]
     },
     "metadata": {},
     "output_type": "display_data"
    },
    {
     "data": {
      "text/html": [
       "<pre>recommendations finished on 60000/210000 queries. users per second: 271649</pre>"
      ],
      "text/plain": [
       "recommendations finished on 60000/210000 queries. users per second: 271649"
      ]
     },
     "metadata": {},
     "output_type": "display_data"
    },
    {
     "data": {
      "text/html": [
       "<pre>recommendations finished on 61000/210000 queries. users per second: 267065</pre>"
      ],
      "text/plain": [
       "recommendations finished on 61000/210000 queries. users per second: 267065"
      ]
     },
     "metadata": {},
     "output_type": "display_data"
    },
    {
     "data": {
      "text/html": [
       "<pre>recommendations finished on 62000/210000 queries. users per second: 264722</pre>"
      ],
      "text/plain": [
       "recommendations finished on 62000/210000 queries. users per second: 264722"
      ]
     },
     "metadata": {},
     "output_type": "display_data"
    },
    {
     "data": {
      "text/html": [
       "<pre>recommendations finished on 63000/210000 queries. users per second: 263999</pre>"
      ],
      "text/plain": [
       "recommendations finished on 63000/210000 queries. users per second: 263999"
      ]
     },
     "metadata": {},
     "output_type": "display_data"
    },
    {
     "data": {
      "text/html": [
       "<pre>recommendations finished on 64000/210000 queries. users per second: 265579</pre>"
      ],
      "text/plain": [
       "recommendations finished on 64000/210000 queries. users per second: 265579"
      ]
     },
     "metadata": {},
     "output_type": "display_data"
    },
    {
     "data": {
      "text/html": [
       "<pre>recommendations finished on 65000/210000 queries. users per second: 267439</pre>"
      ],
      "text/plain": [
       "recommendations finished on 65000/210000 queries. users per second: 267439"
      ]
     },
     "metadata": {},
     "output_type": "display_data"
    },
    {
     "data": {
      "text/html": [
       "<pre>recommendations finished on 66000/210000 queries. users per second: 269738</pre>"
      ],
      "text/plain": [
       "recommendations finished on 66000/210000 queries. users per second: 269738"
      ]
     },
     "metadata": {},
     "output_type": "display_data"
    },
    {
     "data": {
      "text/html": [
       "<pre>recommendations finished on 67000/210000 queries. users per second: 270363</pre>"
      ],
      "text/plain": [
       "recommendations finished on 67000/210000 queries. users per second: 270363"
      ]
     },
     "metadata": {},
     "output_type": "display_data"
    },
    {
     "data": {
      "text/html": [
       "<pre>recommendations finished on 68000/210000 queries. users per second: 271444</pre>"
      ],
      "text/plain": [
       "recommendations finished on 68000/210000 queries. users per second: 271444"
      ]
     },
     "metadata": {},
     "output_type": "display_data"
    },
    {
     "data": {
      "text/html": [
       "<pre>recommendations finished on 69000/210000 queries. users per second: 273973</pre>"
      ],
      "text/plain": [
       "recommendations finished on 69000/210000 queries. users per second: 273973"
      ]
     },
     "metadata": {},
     "output_type": "display_data"
    },
    {
     "data": {
      "text/html": [
       "<pre>recommendations finished on 70000/210000 queries. users per second: 276043</pre>"
      ],
      "text/plain": [
       "recommendations finished on 70000/210000 queries. users per second: 276043"
      ]
     },
     "metadata": {},
     "output_type": "display_data"
    },
    {
     "data": {
      "text/html": [
       "<pre>recommendations finished on 71000/210000 queries. users per second: 277689</pre>"
      ],
      "text/plain": [
       "recommendations finished on 71000/210000 queries. users per second: 277689"
      ]
     },
     "metadata": {},
     "output_type": "display_data"
    },
    {
     "data": {
      "text/html": [
       "<pre>recommendations finished on 72000/210000 queries. users per second: 273477</pre>"
      ],
      "text/plain": [
       "recommendations finished on 72000/210000 queries. users per second: 273477"
      ]
     },
     "metadata": {},
     "output_type": "display_data"
    },
    {
     "data": {
      "text/html": [
       "<pre>recommendations finished on 73000/210000 queries. users per second: 269563</pre>"
      ],
      "text/plain": [
       "recommendations finished on 73000/210000 queries. users per second: 269563"
      ]
     },
     "metadata": {},
     "output_type": "display_data"
    },
    {
     "data": {
      "text/html": [
       "<pre>recommendations finished on 74000/210000 queries. users per second: 268892</pre>"
      ],
      "text/plain": [
       "recommendations finished on 74000/210000 queries. users per second: 268892"
      ]
     },
     "metadata": {},
     "output_type": "display_data"
    },
    {
     "data": {
      "text/html": [
       "<pre>recommendations finished on 75000/210000 queries. users per second: 270734</pre>"
      ],
      "text/plain": [
       "recommendations finished on 75000/210000 queries. users per second: 270734"
      ]
     },
     "metadata": {},
     "output_type": "display_data"
    },
    {
     "data": {
      "text/html": [
       "<pre>recommendations finished on 76000/210000 queries. users per second: 271319</pre>"
      ],
      "text/plain": [
       "recommendations finished on 76000/210000 queries. users per second: 271319"
      ]
     },
     "metadata": {},
     "output_type": "display_data"
    },
    {
     "data": {
      "text/html": [
       "<pre>recommendations finished on 77000/210000 queries. users per second: 270411</pre>"
      ],
      "text/plain": [
       "recommendations finished on 77000/210000 queries. users per second: 270411"
      ]
     },
     "metadata": {},
     "output_type": "display_data"
    },
    {
     "data": {
      "text/html": [
       "<pre>recommendations finished on 78000/210000 queries. users per second: 271926</pre>"
      ],
      "text/plain": [
       "recommendations finished on 78000/210000 queries. users per second: 271926"
      ]
     },
     "metadata": {},
     "output_type": "display_data"
    },
    {
     "data": {
      "text/html": [
       "<pre>recommendations finished on 79000/210000 queries. users per second: 272814</pre>"
      ],
      "text/plain": [
       "recommendations finished on 79000/210000 queries. users per second: 272814"
      ]
     },
     "metadata": {},
     "output_type": "display_data"
    },
    {
     "data": {
      "text/html": [
       "<pre>recommendations finished on 80000/210000 queries. users per second: 270302</pre>"
      ],
      "text/plain": [
       "recommendations finished on 80000/210000 queries. users per second: 270302"
      ]
     },
     "metadata": {},
     "output_type": "display_data"
    },
    {
     "data": {
      "text/html": [
       "<pre>recommendations finished on 81000/210000 queries. users per second: 271669</pre>"
      ],
      "text/plain": [
       "recommendations finished on 81000/210000 queries. users per second: 271669"
      ]
     },
     "metadata": {},
     "output_type": "display_data"
    },
    {
     "data": {
      "text/html": [
       "<pre>recommendations finished on 82000/210000 queries. users per second: 273312</pre>"
      ],
      "text/plain": [
       "recommendations finished on 82000/210000 queries. users per second: 273312"
      ]
     },
     "metadata": {},
     "output_type": "display_data"
    },
    {
     "data": {
      "text/html": [
       "<pre>recommendations finished on 83000/210000 queries. users per second: 266476</pre>"
      ],
      "text/plain": [
       "recommendations finished on 83000/210000 queries. users per second: 266476"
      ]
     },
     "metadata": {},
     "output_type": "display_data"
    },
    {
     "data": {
      "text/html": [
       "<pre>recommendations finished on 84000/210000 queries. users per second: 266051</pre>"
      ],
      "text/plain": [
       "recommendations finished on 84000/210000 queries. users per second: 266051"
      ]
     },
     "metadata": {},
     "output_type": "display_data"
    },
    {
     "data": {
      "text/html": [
       "<pre>recommendations finished on 85000/210000 queries. users per second: 266553</pre>"
      ],
      "text/plain": [
       "recommendations finished on 85000/210000 queries. users per second: 266553"
      ]
     },
     "metadata": {},
     "output_type": "display_data"
    },
    {
     "data": {
      "text/html": [
       "<pre>recommendations finished on 86000/210000 queries. users per second: 268060</pre>"
      ],
      "text/plain": [
       "recommendations finished on 86000/210000 queries. users per second: 268060"
      ]
     },
     "metadata": {},
     "output_type": "display_data"
    },
    {
     "data": {
      "text/html": [
       "<pre>recommendations finished on 87000/210000 queries. users per second: 268518</pre>"
      ],
      "text/plain": [
       "recommendations finished on 87000/210000 queries. users per second: 268518"
      ]
     },
     "metadata": {},
     "output_type": "display_data"
    },
    {
     "data": {
      "text/html": [
       "<pre>recommendations finished on 88000/210000 queries. users per second: 265745</pre>"
      ],
      "text/plain": [
       "recommendations finished on 88000/210000 queries. users per second: 265745"
      ]
     },
     "metadata": {},
     "output_type": "display_data"
    },
    {
     "data": {
      "text/html": [
       "<pre>recommendations finished on 90000/210000 queries. users per second: 263440</pre>"
      ],
      "text/plain": [
       "recommendations finished on 90000/210000 queries. users per second: 263440"
      ]
     },
     "metadata": {},
     "output_type": "display_data"
    },
    {
     "data": {
      "text/html": [
       "<pre>recommendations finished on 91000/210000 queries. users per second: 263495</pre>"
      ],
      "text/plain": [
       "recommendations finished on 91000/210000 queries. users per second: 263495"
      ]
     },
     "metadata": {},
     "output_type": "display_data"
    },
    {
     "data": {
      "text/html": [
       "<pre>recommendations finished on 92000/210000 queries. users per second: 260345</pre>"
      ],
      "text/plain": [
       "recommendations finished on 92000/210000 queries. users per second: 260345"
      ]
     },
     "metadata": {},
     "output_type": "display_data"
    },
    {
     "data": {
      "text/html": [
       "<pre>recommendations finished on 89000/210000 queries. users per second: 251738</pre>"
      ],
      "text/plain": [
       "recommendations finished on 89000/210000 queries. users per second: 251738"
      ]
     },
     "metadata": {},
     "output_type": "display_data"
    },
    {
     "data": {
      "text/html": [
       "<pre>recommendations finished on 93000/210000 queries. users per second: 261668</pre>"
      ],
      "text/plain": [
       "recommendations finished on 93000/210000 queries. users per second: 261668"
      ]
     },
     "metadata": {},
     "output_type": "display_data"
    },
    {
     "data": {
      "text/html": [
       "<pre>recommendations finished on 94000/210000 queries. users per second: 261765</pre>"
      ],
      "text/plain": [
       "recommendations finished on 94000/210000 queries. users per second: 261765"
      ]
     },
     "metadata": {},
     "output_type": "display_data"
    },
    {
     "data": {
      "text/html": [
       "<pre>recommendations finished on 95000/210000 queries. users per second: 263209</pre>"
      ],
      "text/plain": [
       "recommendations finished on 95000/210000 queries. users per second: 263209"
      ]
     },
     "metadata": {},
     "output_type": "display_data"
    },
    {
     "data": {
      "text/html": [
       "<pre>recommendations finished on 96000/210000 queries. users per second: 264559</pre>"
      ],
      "text/plain": [
       "recommendations finished on 96000/210000 queries. users per second: 264559"
      ]
     },
     "metadata": {},
     "output_type": "display_data"
    },
    {
     "data": {
      "text/html": [
       "<pre>recommendations finished on 97000/210000 queries. users per second: 265982</pre>"
      ],
      "text/plain": [
       "recommendations finished on 97000/210000 queries. users per second: 265982"
      ]
     },
     "metadata": {},
     "output_type": "display_data"
    },
    {
     "data": {
      "text/html": [
       "<pre>recommendations finished on 98000/210000 queries. users per second: 266569</pre>"
      ],
      "text/plain": [
       "recommendations finished on 98000/210000 queries. users per second: 266569"
      ]
     },
     "metadata": {},
     "output_type": "display_data"
    },
    {
     "data": {
      "text/html": [
       "<pre>recommendations finished on 99000/210000 queries. users per second: 267097</pre>"
      ],
      "text/plain": [
       "recommendations finished on 99000/210000 queries. users per second: 267097"
      ]
     },
     "metadata": {},
     "output_type": "display_data"
    },
    {
     "data": {
      "text/html": [
       "<pre>recommendations finished on 100000/210000 queries. users per second: 267613</pre>"
      ],
      "text/plain": [
       "recommendations finished on 100000/210000 queries. users per second: 267613"
      ]
     },
     "metadata": {},
     "output_type": "display_data"
    },
    {
     "data": {
      "text/html": [
       "<pre>recommendations finished on 101000/210000 queries. users per second: 267749</pre>"
      ],
      "text/plain": [
       "recommendations finished on 101000/210000 queries. users per second: 267749"
      ]
     },
     "metadata": {},
     "output_type": "display_data"
    },
    {
     "data": {
      "text/html": [
       "<pre>recommendations finished on 102000/210000 queries. users per second: 268270</pre>"
      ],
      "text/plain": [
       "recommendations finished on 102000/210000 queries. users per second: 268270"
      ]
     },
     "metadata": {},
     "output_type": "display_data"
    },
    {
     "data": {
      "text/html": [
       "<pre>recommendations finished on 103000/210000 queries. users per second: 267022</pre>"
      ],
      "text/plain": [
       "recommendations finished on 103000/210000 queries. users per second: 267022"
      ]
     },
     "metadata": {},
     "output_type": "display_data"
    },
    {
     "data": {
      "text/html": [
       "<pre>recommendations finished on 104000/210000 queries. users per second: 267841</pre>"
      ],
      "text/plain": [
       "recommendations finished on 104000/210000 queries. users per second: 267841"
      ]
     },
     "metadata": {},
     "output_type": "display_data"
    },
    {
     "data": {
      "text/html": [
       "<pre>recommendations finished on 105000/210000 queries. users per second: 267661</pre>"
      ],
      "text/plain": [
       "recommendations finished on 105000/210000 queries. users per second: 267661"
      ]
     },
     "metadata": {},
     "output_type": "display_data"
    },
    {
     "data": {
      "text/html": [
       "<pre>recommendations finished on 106000/210000 queries. users per second: 268303</pre>"
      ],
      "text/plain": [
       "recommendations finished on 106000/210000 queries. users per second: 268303"
      ]
     },
     "metadata": {},
     "output_type": "display_data"
    },
    {
     "data": {
      "text/html": [
       "<pre>recommendations finished on 107000/210000 queries. users per second: 269225</pre>"
      ],
      "text/plain": [
       "recommendations finished on 107000/210000 queries. users per second: 269225"
      ]
     },
     "metadata": {},
     "output_type": "display_data"
    },
    {
     "data": {
      "text/html": [
       "<pre>recommendations finished on 108000/210000 queries. users per second: 269852</pre>"
      ],
      "text/plain": [
       "recommendations finished on 108000/210000 queries. users per second: 269852"
      ]
     },
     "metadata": {},
     "output_type": "display_data"
    },
    {
     "data": {
      "text/html": [
       "<pre>recommendations finished on 109000/210000 queries. users per second: 271166</pre>"
      ],
      "text/plain": [
       "recommendations finished on 109000/210000 queries. users per second: 271166"
      ]
     },
     "metadata": {},
     "output_type": "display_data"
    },
    {
     "data": {
      "text/html": [
       "<pre>recommendations finished on 110000/210000 queries. users per second: 271382</pre>"
      ],
      "text/plain": [
       "recommendations finished on 110000/210000 queries. users per second: 271382"
      ]
     },
     "metadata": {},
     "output_type": "display_data"
    },
    {
     "data": {
      "text/html": [
       "<pre>recommendations finished on 111000/210000 queries. users per second: 272166</pre>"
      ],
      "text/plain": [
       "recommendations finished on 111000/210000 queries. users per second: 272166"
      ]
     },
     "metadata": {},
     "output_type": "display_data"
    },
    {
     "data": {
      "text/html": [
       "<pre>recommendations finished on 112000/210000 queries. users per second: 273131</pre>"
      ],
      "text/plain": [
       "recommendations finished on 112000/210000 queries. users per second: 273131"
      ]
     },
     "metadata": {},
     "output_type": "display_data"
    },
    {
     "data": {
      "text/html": [
       "<pre>recommendations finished on 113000/210000 queries. users per second: 272755</pre>"
      ],
      "text/plain": [
       "recommendations finished on 113000/210000 queries. users per second: 272755"
      ]
     },
     "metadata": {},
     "output_type": "display_data"
    },
    {
     "data": {
      "text/html": [
       "<pre>recommendations finished on 114000/210000 queries. users per second: 273284</pre>"
      ],
      "text/plain": [
       "recommendations finished on 114000/210000 queries. users per second: 273284"
      ]
     },
     "metadata": {},
     "output_type": "display_data"
    },
    {
     "data": {
      "text/html": [
       "<pre>recommendations finished on 115000/210000 queries. users per second: 273178</pre>"
      ],
      "text/plain": [
       "recommendations finished on 115000/210000 queries. users per second: 273178"
      ]
     },
     "metadata": {},
     "output_type": "display_data"
    },
    {
     "data": {
      "text/html": [
       "<pre>recommendations finished on 116000/210000 queries. users per second: 274121</pre>"
      ],
      "text/plain": [
       "recommendations finished on 116000/210000 queries. users per second: 274121"
      ]
     },
     "metadata": {},
     "output_type": "display_data"
    },
    {
     "data": {
      "text/html": [
       "<pre>recommendations finished on 117000/210000 queries. users per second: 272457</pre>"
      ],
      "text/plain": [
       "recommendations finished on 117000/210000 queries. users per second: 272457"
      ]
     },
     "metadata": {},
     "output_type": "display_data"
    },
    {
     "data": {
      "text/html": [
       "<pre>recommendations finished on 118000/210000 queries. users per second: 271678</pre>"
      ],
      "text/plain": [
       "recommendations finished on 118000/210000 queries. users per second: 271678"
      ]
     },
     "metadata": {},
     "output_type": "display_data"
    },
    {
     "data": {
      "text/html": [
       "<pre>recommendations finished on 119000/210000 queries. users per second: 270799</pre>"
      ],
      "text/plain": [
       "recommendations finished on 119000/210000 queries. users per second: 270799"
      ]
     },
     "metadata": {},
     "output_type": "display_data"
    },
    {
     "data": {
      "text/html": [
       "<pre>recommendations finished on 120000/210000 queries. users per second: 271204</pre>"
      ],
      "text/plain": [
       "recommendations finished on 120000/210000 queries. users per second: 271204"
      ]
     },
     "metadata": {},
     "output_type": "display_data"
    },
    {
     "data": {
      "text/html": [
       "<pre>recommendations finished on 121000/210000 queries. users per second: 271236</pre>"
      ],
      "text/plain": [
       "recommendations finished on 121000/210000 queries. users per second: 271236"
      ]
     },
     "metadata": {},
     "output_type": "display_data"
    },
    {
     "data": {
      "text/html": [
       "<pre>recommendations finished on 122000/210000 queries. users per second: 270945</pre>"
      ],
      "text/plain": [
       "recommendations finished on 122000/210000 queries. users per second: 270945"
      ]
     },
     "metadata": {},
     "output_type": "display_data"
    },
    {
     "data": {
      "text/html": [
       "<pre>recommendations finished on 123000/210000 queries. users per second: 270630</pre>"
      ],
      "text/plain": [
       "recommendations finished on 123000/210000 queries. users per second: 270630"
      ]
     },
     "metadata": {},
     "output_type": "display_data"
    },
    {
     "data": {
      "text/html": [
       "<pre>recommendations finished on 124000/210000 queries. users per second: 270891</pre>"
      ],
      "text/plain": [
       "recommendations finished on 124000/210000 queries. users per second: 270891"
      ]
     },
     "metadata": {},
     "output_type": "display_data"
    },
    {
     "data": {
      "text/html": [
       "<pre>recommendations finished on 125000/210000 queries. users per second: 272086</pre>"
      ],
      "text/plain": [
       "recommendations finished on 125000/210000 queries. users per second: 272086"
      ]
     },
     "metadata": {},
     "output_type": "display_data"
    },
    {
     "data": {
      "text/html": [
       "<pre>recommendations finished on 126000/210000 queries. users per second: 270855</pre>"
      ],
      "text/plain": [
       "recommendations finished on 126000/210000 queries. users per second: 270855"
      ]
     },
     "metadata": {},
     "output_type": "display_data"
    },
    {
     "data": {
      "text/html": [
       "<pre>recommendations finished on 127000/210000 queries. users per second: 271833</pre>"
      ],
      "text/plain": [
       "recommendations finished on 127000/210000 queries. users per second: 271833"
      ]
     },
     "metadata": {},
     "output_type": "display_data"
    },
    {
     "data": {
      "text/html": [
       "<pre>recommendations finished on 128000/210000 queries. users per second: 273016</pre>"
      ],
      "text/plain": [
       "recommendations finished on 128000/210000 queries. users per second: 273016"
      ]
     },
     "metadata": {},
     "output_type": "display_data"
    },
    {
     "data": {
      "text/html": [
       "<pre>recommendations finished on 129000/210000 queries. users per second: 273889</pre>"
      ],
      "text/plain": [
       "recommendations finished on 129000/210000 queries. users per second: 273889"
      ]
     },
     "metadata": {},
     "output_type": "display_data"
    },
    {
     "data": {
      "text/html": [
       "<pre>recommendations finished on 130000/210000 queries. users per second: 275242</pre>"
      ],
      "text/plain": [
       "recommendations finished on 130000/210000 queries. users per second: 275242"
      ]
     },
     "metadata": {},
     "output_type": "display_data"
    },
    {
     "data": {
      "text/html": [
       "<pre>recommendations finished on 131000/210000 queries. users per second: 276555</pre>"
      ],
      "text/plain": [
       "recommendations finished on 131000/210000 queries. users per second: 276555"
      ]
     },
     "metadata": {},
     "output_type": "display_data"
    },
    {
     "data": {
      "text/html": [
       "<pre>recommendations finished on 132000/210000 queries. users per second: 277359</pre>"
      ],
      "text/plain": [
       "recommendations finished on 132000/210000 queries. users per second: 277359"
      ]
     },
     "metadata": {},
     "output_type": "display_data"
    },
    {
     "data": {
      "text/html": [
       "<pre>recommendations finished on 133000/210000 queries. users per second: 278021</pre>"
      ],
      "text/plain": [
       "recommendations finished on 133000/210000 queries. users per second: 278021"
      ]
     },
     "metadata": {},
     "output_type": "display_data"
    },
    {
     "data": {
      "text/html": [
       "<pre>recommendations finished on 134000/210000 queries. users per second: 278970</pre>"
      ],
      "text/plain": [
       "recommendations finished on 134000/210000 queries. users per second: 278970"
      ]
     },
     "metadata": {},
     "output_type": "display_data"
    },
    {
     "data": {
      "text/html": [
       "<pre>recommendations finished on 135000/210000 queries. users per second: 280119</pre>"
      ],
      "text/plain": [
       "recommendations finished on 135000/210000 queries. users per second: 280119"
      ]
     },
     "metadata": {},
     "output_type": "display_data"
    },
    {
     "data": {
      "text/html": [
       "<pre>recommendations finished on 136000/210000 queries. users per second: 281352</pre>"
      ],
      "text/plain": [
       "recommendations finished on 136000/210000 queries. users per second: 281352"
      ]
     },
     "metadata": {},
     "output_type": "display_data"
    },
    {
     "data": {
      "text/html": [
       "<pre>recommendations finished on 137000/210000 queries. users per second: 282570</pre>"
      ],
      "text/plain": [
       "recommendations finished on 137000/210000 queries. users per second: 282570"
      ]
     },
     "metadata": {},
     "output_type": "display_data"
    },
    {
     "data": {
      "text/html": [
       "<pre>recommendations finished on 138000/210000 queries. users per second: 283536</pre>"
      ],
      "text/plain": [
       "recommendations finished on 138000/210000 queries. users per second: 283536"
      ]
     },
     "metadata": {},
     "output_type": "display_data"
    },
    {
     "data": {
      "text/html": [
       "<pre>recommendations finished on 139000/210000 queries. users per second: 284696</pre>"
      ],
      "text/plain": [
       "recommendations finished on 139000/210000 queries. users per second: 284696"
      ]
     },
     "metadata": {},
     "output_type": "display_data"
    },
    {
     "data": {
      "text/html": [
       "<pre>recommendations finished on 140000/210000 queries. users per second: 285587</pre>"
      ],
      "text/plain": [
       "recommendations finished on 140000/210000 queries. users per second: 285587"
      ]
     },
     "metadata": {},
     "output_type": "display_data"
    },
    {
     "data": {
      "text/html": [
       "<pre>recommendations finished on 141000/210000 queries. users per second: 286523</pre>"
      ],
      "text/plain": [
       "recommendations finished on 141000/210000 queries. users per second: 286523"
      ]
     },
     "metadata": {},
     "output_type": "display_data"
    },
    {
     "data": {
      "text/html": [
       "<pre>recommendations finished on 142000/210000 queries. users per second: 287276</pre>"
      ],
      "text/plain": [
       "recommendations finished on 142000/210000 queries. users per second: 287276"
      ]
     },
     "metadata": {},
     "output_type": "display_data"
    },
    {
     "data": {
      "text/html": [
       "<pre>recommendations finished on 143000/210000 queries. users per second: 288014</pre>"
      ],
      "text/plain": [
       "recommendations finished on 143000/210000 queries. users per second: 288014"
      ]
     },
     "metadata": {},
     "output_type": "display_data"
    },
    {
     "data": {
      "text/html": [
       "<pre>recommendations finished on 144000/210000 queries. users per second: 288969</pre>"
      ],
      "text/plain": [
       "recommendations finished on 144000/210000 queries. users per second: 288969"
      ]
     },
     "metadata": {},
     "output_type": "display_data"
    },
    {
     "data": {
      "text/html": [
       "<pre>recommendations finished on 145000/210000 queries. users per second: 289819</pre>"
      ],
      "text/plain": [
       "recommendations finished on 145000/210000 queries. users per second: 289819"
      ]
     },
     "metadata": {},
     "output_type": "display_data"
    },
    {
     "data": {
      "text/html": [
       "<pre>recommendations finished on 146000/210000 queries. users per second: 289962</pre>"
      ],
      "text/plain": [
       "recommendations finished on 146000/210000 queries. users per second: 289962"
      ]
     },
     "metadata": {},
     "output_type": "display_data"
    },
    {
     "data": {
      "text/html": [
       "<pre>recommendations finished on 147000/210000 queries. users per second: 289693</pre>"
      ],
      "text/plain": [
       "recommendations finished on 147000/210000 queries. users per second: 289693"
      ]
     },
     "metadata": {},
     "output_type": "display_data"
    },
    {
     "data": {
      "text/html": [
       "<pre>recommendations finished on 148000/210000 queries. users per second: 290406</pre>"
      ],
      "text/plain": [
       "recommendations finished on 148000/210000 queries. users per second: 290406"
      ]
     },
     "metadata": {},
     "output_type": "display_data"
    },
    {
     "data": {
      "text/html": [
       "<pre>recommendations finished on 149000/210000 queries. users per second: 290603</pre>"
      ],
      "text/plain": [
       "recommendations finished on 149000/210000 queries. users per second: 290603"
      ]
     },
     "metadata": {},
     "output_type": "display_data"
    },
    {
     "data": {
      "text/html": [
       "<pre>recommendations finished on 150000/210000 queries. users per second: 291047</pre>"
      ],
      "text/plain": [
       "recommendations finished on 150000/210000 queries. users per second: 291047"
      ]
     },
     "metadata": {},
     "output_type": "display_data"
    },
    {
     "data": {
      "text/html": [
       "<pre>recommendations finished on 151000/210000 queries. users per second: 290817</pre>"
      ],
      "text/plain": [
       "recommendations finished on 151000/210000 queries. users per second: 290817"
      ]
     },
     "metadata": {},
     "output_type": "display_data"
    },
    {
     "data": {
      "text/html": [
       "<pre>recommendations finished on 152000/210000 queries. users per second: 291471</pre>"
      ],
      "text/plain": [
       "recommendations finished on 152000/210000 queries. users per second: 291471"
      ]
     },
     "metadata": {},
     "output_type": "display_data"
    },
    {
     "data": {
      "text/html": [
       "<pre>recommendations finished on 153000/210000 queries. users per second: 292215</pre>"
      ],
      "text/plain": [
       "recommendations finished on 153000/210000 queries. users per second: 292215"
      ]
     },
     "metadata": {},
     "output_type": "display_data"
    },
    {
     "data": {
      "text/html": [
       "<pre>recommendations finished on 154000/210000 queries. users per second: 291584</pre>"
      ],
      "text/plain": [
       "recommendations finished on 154000/210000 queries. users per second: 291584"
      ]
     },
     "metadata": {},
     "output_type": "display_data"
    },
    {
     "data": {
      "text/html": [
       "<pre>recommendations finished on 155000/210000 queries. users per second: 292203</pre>"
      ],
      "text/plain": [
       "recommendations finished on 155000/210000 queries. users per second: 292203"
      ]
     },
     "metadata": {},
     "output_type": "display_data"
    },
    {
     "data": {
      "text/html": [
       "<pre>recommendations finished on 156000/210000 queries. users per second: 292925</pre>"
      ],
      "text/plain": [
       "recommendations finished on 156000/210000 queries. users per second: 292925"
      ]
     },
     "metadata": {},
     "output_type": "display_data"
    },
    {
     "data": {
      "text/html": [
       "<pre>recommendations finished on 157000/210000 queries. users per second: 291372</pre>"
      ],
      "text/plain": [
       "recommendations finished on 157000/210000 queries. users per second: 291372"
      ]
     },
     "metadata": {},
     "output_type": "display_data"
    },
    {
     "data": {
      "text/html": [
       "<pre>recommendations finished on 158000/210000 queries. users per second: 291705</pre>"
      ],
      "text/plain": [
       "recommendations finished on 158000/210000 queries. users per second: 291705"
      ]
     },
     "metadata": {},
     "output_type": "display_data"
    },
    {
     "data": {
      "text/html": [
       "<pre>recommendations finished on 159000/210000 queries. users per second: 292615</pre>"
      ],
      "text/plain": [
       "recommendations finished on 159000/210000 queries. users per second: 292615"
      ]
     },
     "metadata": {},
     "output_type": "display_data"
    },
    {
     "data": {
      "text/html": [
       "<pre>recommendations finished on 160000/210000 queries. users per second: 293278</pre>"
      ],
      "text/plain": [
       "recommendations finished on 160000/210000 queries. users per second: 293278"
      ]
     },
     "metadata": {},
     "output_type": "display_data"
    },
    {
     "data": {
      "text/html": [
       "<pre>recommendations finished on 161000/210000 queries. users per second: 292899</pre>"
      ],
      "text/plain": [
       "recommendations finished on 161000/210000 queries. users per second: 292899"
      ]
     },
     "metadata": {},
     "output_type": "display_data"
    },
    {
     "data": {
      "text/html": [
       "<pre>recommendations finished on 162000/210000 queries. users per second: 293409</pre>"
      ],
      "text/plain": [
       "recommendations finished on 162000/210000 queries. users per second: 293409"
      ]
     },
     "metadata": {},
     "output_type": "display_data"
    },
    {
     "data": {
      "text/html": [
       "<pre>recommendations finished on 163000/210000 queries. users per second: 293838</pre>"
      ],
      "text/plain": [
       "recommendations finished on 163000/210000 queries. users per second: 293838"
      ]
     },
     "metadata": {},
     "output_type": "display_data"
    },
    {
     "data": {
      "text/html": [
       "<pre>recommendations finished on 164000/210000 queries. users per second: 294727</pre>"
      ],
      "text/plain": [
       "recommendations finished on 164000/210000 queries. users per second: 294727"
      ]
     },
     "metadata": {},
     "output_type": "display_data"
    },
    {
     "data": {
      "text/html": [
       "<pre>recommendations finished on 165000/210000 queries. users per second: 294458</pre>"
      ],
      "text/plain": [
       "recommendations finished on 165000/210000 queries. users per second: 294458"
      ]
     },
     "metadata": {},
     "output_type": "display_data"
    },
    {
     "data": {
      "text/html": [
       "<pre>recommendations finished on 166000/210000 queries. users per second: 294715</pre>"
      ],
      "text/plain": [
       "recommendations finished on 166000/210000 queries. users per second: 294715"
      ]
     },
     "metadata": {},
     "output_type": "display_data"
    },
    {
     "data": {
      "text/html": [
       "<pre>recommendations finished on 167000/210000 queries. users per second: 295419</pre>"
      ],
      "text/plain": [
       "recommendations finished on 167000/210000 queries. users per second: 295419"
      ]
     },
     "metadata": {},
     "output_type": "display_data"
    },
    {
     "data": {
      "text/html": [
       "<pre>recommendations finished on 168000/210000 queries. users per second: 296110</pre>"
      ],
      "text/plain": [
       "recommendations finished on 168000/210000 queries. users per second: 296110"
      ]
     },
     "metadata": {},
     "output_type": "display_data"
    },
    {
     "data": {
      "text/html": [
       "<pre>recommendations finished on 169000/210000 queries. users per second: 296683</pre>"
      ],
      "text/plain": [
       "recommendations finished on 169000/210000 queries. users per second: 296683"
      ]
     },
     "metadata": {},
     "output_type": "display_data"
    },
    {
     "data": {
      "text/html": [
       "<pre>recommendations finished on 170000/210000 queries. users per second: 297048</pre>"
      ],
      "text/plain": [
       "recommendations finished on 170000/210000 queries. users per second: 297048"
      ]
     },
     "metadata": {},
     "output_type": "display_data"
    },
    {
     "data": {
      "text/html": [
       "<pre>recommendations finished on 171000/210000 queries. users per second: 297591</pre>"
      ],
      "text/plain": [
       "recommendations finished on 171000/210000 queries. users per second: 297591"
      ]
     },
     "metadata": {},
     "output_type": "display_data"
    },
    {
     "data": {
      "text/html": [
       "<pre>recommendations finished on 172000/210000 queries. users per second: 298221</pre>"
      ],
      "text/plain": [
       "recommendations finished on 172000/210000 queries. users per second: 298221"
      ]
     },
     "metadata": {},
     "output_type": "display_data"
    },
    {
     "data": {
      "text/html": [
       "<pre>recommendations finished on 173000/210000 queries. users per second: 298536</pre>"
      ],
      "text/plain": [
       "recommendations finished on 173000/210000 queries. users per second: 298536"
      ]
     },
     "metadata": {},
     "output_type": "display_data"
    },
    {
     "data": {
      "text/html": [
       "<pre>recommendations finished on 174000/210000 queries. users per second: 299187</pre>"
      ],
      "text/plain": [
       "recommendations finished on 174000/210000 queries. users per second: 299187"
      ]
     },
     "metadata": {},
     "output_type": "display_data"
    },
    {
     "data": {
      "text/html": [
       "<pre>recommendations finished on 175000/210000 queries. users per second: 299258</pre>"
      ],
      "text/plain": [
       "recommendations finished on 175000/210000 queries. users per second: 299258"
      ]
     },
     "metadata": {},
     "output_type": "display_data"
    },
    {
     "data": {
      "text/html": [
       "<pre>recommendations finished on 176000/210000 queries. users per second: 298283</pre>"
      ],
      "text/plain": [
       "recommendations finished on 176000/210000 queries. users per second: 298283"
      ]
     },
     "metadata": {},
     "output_type": "display_data"
    },
    {
     "data": {
      "text/html": [
       "<pre>recommendations finished on 177000/210000 queries. users per second: 294270</pre>"
      ],
      "text/plain": [
       "recommendations finished on 177000/210000 queries. users per second: 294270"
      ]
     },
     "metadata": {},
     "output_type": "display_data"
    },
    {
     "data": {
      "text/html": [
       "<pre>recommendations finished on 178000/210000 queries. users per second: 282832</pre>"
      ],
      "text/plain": [
       "recommendations finished on 178000/210000 queries. users per second: 282832"
      ]
     },
     "metadata": {},
     "output_type": "display_data"
    },
    {
     "data": {
      "text/html": [
       "<pre>recommendations finished on 179000/210000 queries. users per second: 282987</pre>"
      ],
      "text/plain": [
       "recommendations finished on 179000/210000 queries. users per second: 282987"
      ]
     },
     "metadata": {},
     "output_type": "display_data"
    },
    {
     "data": {
      "text/html": [
       "<pre>recommendations finished on 180000/210000 queries. users per second: 283415</pre>"
      ],
      "text/plain": [
       "recommendations finished on 180000/210000 queries. users per second: 283415"
      ]
     },
     "metadata": {},
     "output_type": "display_data"
    },
    {
     "data": {
      "text/html": [
       "<pre>recommendations finished on 181000/210000 queries. users per second: 282538</pre>"
      ],
      "text/plain": [
       "recommendations finished on 181000/210000 queries. users per second: 282538"
      ]
     },
     "metadata": {},
     "output_type": "display_data"
    },
    {
     "data": {
      "text/html": [
       "<pre>recommendations finished on 182000/210000 queries. users per second: 282904</pre>"
      ],
      "text/plain": [
       "recommendations finished on 182000/210000 queries. users per second: 282904"
      ]
     },
     "metadata": {},
     "output_type": "display_data"
    },
    {
     "data": {
      "text/html": [
       "<pre>recommendations finished on 183000/210000 queries. users per second: 283445</pre>"
      ],
      "text/plain": [
       "recommendations finished on 183000/210000 queries. users per second: 283445"
      ]
     },
     "metadata": {},
     "output_type": "display_data"
    },
    {
     "data": {
      "text/html": [
       "<pre>recommendations finished on 184000/210000 queries. users per second: 283023</pre>"
      ],
      "text/plain": [
       "recommendations finished on 184000/210000 queries. users per second: 283023"
      ]
     },
     "metadata": {},
     "output_type": "display_data"
    },
    {
     "data": {
      "text/html": [
       "<pre>recommendations finished on 185000/210000 queries. users per second: 283823</pre>"
      ],
      "text/plain": [
       "recommendations finished on 185000/210000 queries. users per second: 283823"
      ]
     },
     "metadata": {},
     "output_type": "display_data"
    },
    {
     "data": {
      "text/html": [
       "<pre>recommendations finished on 186000/210000 queries. users per second: 283924</pre>"
      ],
      "text/plain": [
       "recommendations finished on 186000/210000 queries. users per second: 283924"
      ]
     },
     "metadata": {},
     "output_type": "display_data"
    },
    {
     "data": {
      "text/html": [
       "<pre>recommendations finished on 187000/210000 queries. users per second: 284043</pre>"
      ],
      "text/plain": [
       "recommendations finished on 187000/210000 queries. users per second: 284043"
      ]
     },
     "metadata": {},
     "output_type": "display_data"
    },
    {
     "data": {
      "text/html": [
       "<pre>recommendations finished on 188000/210000 queries. users per second: 284668</pre>"
      ],
      "text/plain": [
       "recommendations finished on 188000/210000 queries. users per second: 284668"
      ]
     },
     "metadata": {},
     "output_type": "display_data"
    },
    {
     "data": {
      "text/html": [
       "<pre>recommendations finished on 189000/210000 queries. users per second: 285320</pre>"
      ],
      "text/plain": [
       "recommendations finished on 189000/210000 queries. users per second: 285320"
      ]
     },
     "metadata": {},
     "output_type": "display_data"
    },
    {
     "data": {
      "text/html": [
       "<pre>recommendations finished on 190000/210000 queries. users per second: 285488</pre>"
      ],
      "text/plain": [
       "recommendations finished on 190000/210000 queries. users per second: 285488"
      ]
     },
     "metadata": {},
     "output_type": "display_data"
    },
    {
     "data": {
      "text/html": [
       "<pre>recommendations finished on 191000/210000 queries. users per second: 285587</pre>"
      ],
      "text/plain": [
       "recommendations finished on 191000/210000 queries. users per second: 285587"
      ]
     },
     "metadata": {},
     "output_type": "display_data"
    },
    {
     "data": {
      "text/html": [
       "<pre>recommendations finished on 192000/210000 queries. users per second: 285066</pre>"
      ],
      "text/plain": [
       "recommendations finished on 192000/210000 queries. users per second: 285066"
      ]
     },
     "metadata": {},
     "output_type": "display_data"
    },
    {
     "data": {
      "text/html": [
       "<pre>recommendations finished on 193000/210000 queries. users per second: 284738</pre>"
      ],
      "text/plain": [
       "recommendations finished on 193000/210000 queries. users per second: 284738"
      ]
     },
     "metadata": {},
     "output_type": "display_data"
    },
    {
     "data": {
      "text/html": [
       "<pre>recommendations finished on 194000/210000 queries. users per second: 284687</pre>"
      ],
      "text/plain": [
       "recommendations finished on 194000/210000 queries. users per second: 284687"
      ]
     },
     "metadata": {},
     "output_type": "display_data"
    },
    {
     "data": {
      "text/html": [
       "<pre>recommendations finished on 195000/210000 queries. users per second: 284877</pre>"
      ],
      "text/plain": [
       "recommendations finished on 195000/210000 queries. users per second: 284877"
      ]
     },
     "metadata": {},
     "output_type": "display_data"
    },
    {
     "data": {
      "text/html": [
       "<pre>recommendations finished on 196000/210000 queries. users per second: 284250</pre>"
      ],
      "text/plain": [
       "recommendations finished on 196000/210000 queries. users per second: 284250"
      ]
     },
     "metadata": {},
     "output_type": "display_data"
    },
    {
     "data": {
      "text/html": [
       "<pre>recommendations finished on 197000/210000 queries. users per second: 284728</pre>"
      ],
      "text/plain": [
       "recommendations finished on 197000/210000 queries. users per second: 284728"
      ]
     },
     "metadata": {},
     "output_type": "display_data"
    },
    {
     "data": {
      "text/html": [
       "<pre>recommendations finished on 198000/210000 queries. users per second: 284565</pre>"
      ],
      "text/plain": [
       "recommendations finished on 198000/210000 queries. users per second: 284565"
      ]
     },
     "metadata": {},
     "output_type": "display_data"
    },
    {
     "data": {
      "text/html": [
       "<pre>recommendations finished on 199000/210000 queries. users per second: 283673</pre>"
      ],
      "text/plain": [
       "recommendations finished on 199000/210000 queries. users per second: 283673"
      ]
     },
     "metadata": {},
     "output_type": "display_data"
    },
    {
     "data": {
      "text/html": [
       "<pre>recommendations finished on 200000/210000 queries. users per second: 283823</pre>"
      ],
      "text/plain": [
       "recommendations finished on 200000/210000 queries. users per second: 283823"
      ]
     },
     "metadata": {},
     "output_type": "display_data"
    },
    {
     "data": {
      "text/html": [
       "<pre>recommendations finished on 201000/210000 queries. users per second: 280401</pre>"
      ],
      "text/plain": [
       "recommendations finished on 201000/210000 queries. users per second: 280401"
      ]
     },
     "metadata": {},
     "output_type": "display_data"
    },
    {
     "data": {
      "text/html": [
       "<pre>recommendations finished on 202000/210000 queries. users per second: 280772</pre>"
      ],
      "text/plain": [
       "recommendations finished on 202000/210000 queries. users per second: 280772"
      ]
     },
     "metadata": {},
     "output_type": "display_data"
    },
    {
     "data": {
      "text/html": [
       "<pre>recommendations finished on 203000/210000 queries. users per second: 280831</pre>"
      ],
      "text/plain": [
       "recommendations finished on 203000/210000 queries. users per second: 280831"
      ]
     },
     "metadata": {},
     "output_type": "display_data"
    },
    {
     "data": {
      "text/html": [
       "<pre>recommendations finished on 204000/210000 queries. users per second: 280974</pre>"
      ],
      "text/plain": [
       "recommendations finished on 204000/210000 queries. users per second: 280974"
      ]
     },
     "metadata": {},
     "output_type": "display_data"
    },
    {
     "data": {
      "text/html": [
       "<pre>recommendations finished on 205000/210000 queries. users per second: 279984</pre>"
      ],
      "text/plain": [
       "recommendations finished on 205000/210000 queries. users per second: 279984"
      ]
     },
     "metadata": {},
     "output_type": "display_data"
    },
    {
     "data": {
      "text/html": [
       "<pre>recommendations finished on 206000/210000 queries. users per second: 279632</pre>"
      ],
      "text/plain": [
       "recommendations finished on 206000/210000 queries. users per second: 279632"
      ]
     },
     "metadata": {},
     "output_type": "display_data"
    },
    {
     "data": {
      "text/html": [
       "<pre>recommendations finished on 207000/210000 queries. users per second: 279271</pre>"
      ],
      "text/plain": [
       "recommendations finished on 207000/210000 queries. users per second: 279271"
      ]
     },
     "metadata": {},
     "output_type": "display_data"
    },
    {
     "data": {
      "text/html": [
       "<pre>recommendations finished on 208000/210000 queries. users per second: 278974</pre>"
      ],
      "text/plain": [
       "recommendations finished on 208000/210000 queries. users per second: 278974"
      ]
     },
     "metadata": {},
     "output_type": "display_data"
    },
    {
     "data": {
      "text/html": [
       "<pre>recommendations finished on 209000/210000 queries. users per second: 276394</pre>"
      ],
      "text/plain": [
       "recommendations finished on 209000/210000 queries. users per second: 276394"
      ]
     },
     "metadata": {},
     "output_type": "display_data"
    },
    {
     "data": {
      "text/html": [
       "<pre>recommendations finished on 210000/210000 queries. users per second: 275000</pre>"
      ],
      "text/plain": [
       "recommendations finished on 210000/210000 queries. users per second: 275000"
      ]
     },
     "metadata": {},
     "output_type": "display_data"
    },
    {
     "name": "stdout",
     "output_type": "stream",
     "text": [
      "+---------+---------------+-----------------------+------+\n",
      "| user_id | department_id |         score         | rank |\n",
      "+---------+---------------+-----------------------+------+\n",
      "|    1    |       20      |  0.006485053471156529 |  1   |\n",
      "|    1    |       3       | 0.0064370036125183105 |  2   |\n",
      "|    1    |       1       |  0.005931488105228969 |  3   |\n",
      "|    1    |       9       | 0.0054250189236232215 |  4   |\n",
      "|    1    |       15      |  0.005082113402230399 |  5   |\n",
      "|    1    |       12      |  0.004921879087175641 |  6   |\n",
      "|    1    |       11      | 0.0043566056660243446 |  7   |\n",
      "|    1    |       6       |  0.004169966493334089 |  8   |\n",
      "|    1    |       18      |  0.002666107245853969 |  9   |\n",
      "|    1    |       21      | 0.0024454593658447266 |  10  |\n",
      "|    2    |       9       |  0.017091246751638558 |  1   |\n",
      "|    2    |       17      |  0.010590475339155931 |  2   |\n",
      "|    2    |       18      |  0.007967164883246789 |  3   |\n",
      "|    2    |       21      |  0.006143235243283785 |  4   |\n",
      "|    2    |       10      |  0.004756501087775597 |  5   |\n",
      "|    2    |       8       |  0.004136319343860333 |  6   |\n",
      "|    2    |       2       |  0.003876837400289682 |  7   |\n",
      "|    2    |       5       |  0.002580509735987737 |  8   |\n",
      "|    3    |       3       |  0.010645316706763374 |  1   |\n",
      "|    3    |       15      |  0.010390632682376437 |  2   |\n",
      "|    3    |       12      |  0.009794116020202637 |  3   |\n",
      "|    3    |       14      |  0.007981757322947184 |  4   |\n",
      "|    3    |       6       |  0.007658799489339192 |  5   |\n",
      "|    3    |       11      |  0.00623742077085707  |  6   |\n",
      "|    3    |       18      |  0.004956318272484673 |  7   |\n",
      "|    3    |       21      |  0.003434386518266466 |  8   |\n",
      "|    3    |       10      | 0.0027568207846747506 |  9   |\n",
      "|    3    |       2       | 0.0022611618041992188 |  10  |\n",
      "|    4    |       16      | 0.0018461677763197157 |  1   |\n",
      "|    4    |       13      |  0.001815689934624566 |  2   |\n",
      "+---------+---------------+-----------------------+------+\n",
      "[1801275 rows x 4 columns]\n",
      "\n"
     ]
    }
   ],
   "source": [
    "# Using Cosine similarity and sclaed_purchase_freq\n",
    "name = 'cosine' \n",
    "target = 'scaled_purchase_freq' \n",
    "cos_norm = model(data_norm, name, user_id, depart_id, target, users_to_recommend, n_rec, n_display)"
   ]
  },
  {
   "cell_type": "code",
   "execution_count": 163,
   "metadata": {},
   "outputs": [
    {
     "data": {
      "text/html": [
       "<pre>Preparing data set.</pre>"
      ],
      "text/plain": [
       "Preparing data set."
      ]
     },
     "metadata": {},
     "output_type": "display_data"
    },
    {
     "data": {
      "text/html": [
       "<pre>    Data has 107488 observations with 10000 users and 21 items.</pre>"
      ],
      "text/plain": [
       "    Data has 107488 observations with 10000 users and 21 items."
      ]
     },
     "metadata": {},
     "output_type": "display_data"
    },
    {
     "data": {
      "text/html": [
       "<pre>    Data prepared in: 0.130123s</pre>"
      ],
      "text/plain": [
       "    Data prepared in: 0.130123s"
      ]
     },
     "metadata": {},
     "output_type": "display_data"
    },
    {
     "data": {
      "text/html": [
       "<pre>Training model from provided data.</pre>"
      ],
      "text/plain": [
       "Training model from provided data."
      ]
     },
     "metadata": {},
     "output_type": "display_data"
    },
    {
     "data": {
      "text/html": [
       "<pre>Gathering per-item and per-user statistics.</pre>"
      ],
      "text/plain": [
       "Gathering per-item and per-user statistics."
      ]
     },
     "metadata": {},
     "output_type": "display_data"
    },
    {
     "data": {
      "text/html": [
       "<pre>+--------------------------------+------------+</pre>"
      ],
      "text/plain": [
       "+--------------------------------+------------+"
      ]
     },
     "metadata": {},
     "output_type": "display_data"
    },
    {
     "data": {
      "text/html": [
       "<pre>| Elapsed Time (Item Statistics) | % Complete |</pre>"
      ],
      "text/plain": [
       "| Elapsed Time (Item Statistics) | % Complete |"
      ]
     },
     "metadata": {},
     "output_type": "display_data"
    },
    {
     "data": {
      "text/html": [
       "<pre>+--------------------------------+------------+</pre>"
      ],
      "text/plain": [
       "+--------------------------------+------------+"
      ]
     },
     "metadata": {},
     "output_type": "display_data"
    },
    {
     "data": {
      "text/html": [
       "<pre>| 2.534ms                        | 10         |</pre>"
      ],
      "text/plain": [
       "| 2.534ms                        | 10         |"
      ]
     },
     "metadata": {},
     "output_type": "display_data"
    },
    {
     "data": {
      "text/html": [
       "<pre>| 7.031ms                        | 100        |</pre>"
      ],
      "text/plain": [
       "| 7.031ms                        | 100        |"
      ]
     },
     "metadata": {},
     "output_type": "display_data"
    },
    {
     "data": {
      "text/html": [
       "<pre>+--------------------------------+------------+</pre>"
      ],
      "text/plain": [
       "+--------------------------------+------------+"
      ]
     },
     "metadata": {},
     "output_type": "display_data"
    },
    {
     "data": {
      "text/html": [
       "<pre>Setting up lookup tables.</pre>"
      ],
      "text/plain": [
       "Setting up lookup tables."
      ]
     },
     "metadata": {},
     "output_type": "display_data"
    },
    {
     "data": {
      "text/html": [
       "<pre>Processing data in one pass using dense lookup tables.</pre>"
      ],
      "text/plain": [
       "Processing data in one pass using dense lookup tables."
      ]
     },
     "metadata": {},
     "output_type": "display_data"
    },
    {
     "data": {
      "text/html": [
       "<pre>+-------------------------------------+------------------+-----------------+</pre>"
      ],
      "text/plain": [
       "+-------------------------------------+------------------+-----------------+"
      ]
     },
     "metadata": {},
     "output_type": "display_data"
    },
    {
     "data": {
      "text/html": [
       "<pre>| Elapsed Time (Constructing Lookups) | Total % Complete | Items Processed |</pre>"
      ],
      "text/plain": [
       "| Elapsed Time (Constructing Lookups) | Total % Complete | Items Processed |"
      ]
     },
     "metadata": {},
     "output_type": "display_data"
    },
    {
     "data": {
      "text/html": [
       "<pre>+-------------------------------------+------------------+-----------------+</pre>"
      ],
      "text/plain": [
       "+-------------------------------------+------------------+-----------------+"
      ]
     },
     "metadata": {},
     "output_type": "display_data"
    },
    {
     "data": {
      "text/html": [
       "<pre>| 7.684ms                             | 0                | 0               |</pre>"
      ],
      "text/plain": [
       "| 7.684ms                             | 0                | 0               |"
      ]
     },
     "metadata": {},
     "output_type": "display_data"
    },
    {
     "data": {
      "text/html": [
       "<pre>| 21.2ms                              | 100              | 21              |</pre>"
      ],
      "text/plain": [
       "| 21.2ms                              | 100              | 21              |"
      ]
     },
     "metadata": {},
     "output_type": "display_data"
    },
    {
     "data": {
      "text/html": [
       "<pre>+-------------------------------------+------------------+-----------------+</pre>"
      ],
      "text/plain": [
       "+-------------------------------------+------------------+-----------------+"
      ]
     },
     "metadata": {},
     "output_type": "display_data"
    },
    {
     "data": {
      "text/html": [
       "<pre>Finalizing lookup tables.</pre>"
      ],
      "text/plain": [
       "Finalizing lookup tables."
      ]
     },
     "metadata": {},
     "output_type": "display_data"
    },
    {
     "data": {
      "text/html": [
       "<pre>Generating candidate set for working with new users.</pre>"
      ],
      "text/plain": [
       "Generating candidate set for working with new users."
      ]
     },
     "metadata": {},
     "output_type": "display_data"
    },
    {
     "data": {
      "text/html": [
       "<pre>Finished training in 0.037044s</pre>"
      ],
      "text/plain": [
       "Finished training in 0.037044s"
      ]
     },
     "metadata": {},
     "output_type": "display_data"
    },
    {
     "data": {
      "text/html": [
       "<pre>recommendations finished on 1000/210000 queries. users per second: 346620</pre>"
      ],
      "text/plain": [
       "recommendations finished on 1000/210000 queries. users per second: 346620"
      ]
     },
     "metadata": {},
     "output_type": "display_data"
    },
    {
     "data": {
      "text/html": [
       "<pre>recommendations finished on 2000/210000 queries. users per second: 452591</pre>"
      ],
      "text/plain": [
       "recommendations finished on 2000/210000 queries. users per second: 452591"
      ]
     },
     "metadata": {},
     "output_type": "display_data"
    },
    {
     "data": {
      "text/html": [
       "<pre>recommendations finished on 3000/210000 queries. users per second: 494397</pre>"
      ],
      "text/plain": [
       "recommendations finished on 3000/210000 queries. users per second: 494397"
      ]
     },
     "metadata": {},
     "output_type": "display_data"
    },
    {
     "data": {
      "text/html": [
       "<pre>recommendations finished on 4000/210000 queries. users per second: 472534</pre>"
      ],
      "text/plain": [
       "recommendations finished on 4000/210000 queries. users per second: 472534"
      ]
     },
     "metadata": {},
     "output_type": "display_data"
    },
    {
     "data": {
      "text/html": [
       "<pre>recommendations finished on 5000/210000 queries. users per second: 477509</pre>"
      ],
      "text/plain": [
       "recommendations finished on 5000/210000 queries. users per second: 477509"
      ]
     },
     "metadata": {},
     "output_type": "display_data"
    },
    {
     "data": {
      "text/html": [
       "<pre>recommendations finished on 6000/210000 queries. users per second: 464828</pre>"
      ],
      "text/plain": [
       "recommendations finished on 6000/210000 queries. users per second: 464828"
      ]
     },
     "metadata": {},
     "output_type": "display_data"
    },
    {
     "data": {
      "text/html": [
       "<pre>recommendations finished on 7000/210000 queries. users per second: 475996</pre>"
      ],
      "text/plain": [
       "recommendations finished on 7000/210000 queries. users per second: 475996"
      ]
     },
     "metadata": {},
     "output_type": "display_data"
    },
    {
     "data": {
      "text/html": [
       "<pre>recommendations finished on 8000/210000 queries. users per second: 489956</pre>"
      ],
      "text/plain": [
       "recommendations finished on 8000/210000 queries. users per second: 489956"
      ]
     },
     "metadata": {},
     "output_type": "display_data"
    },
    {
     "data": {
      "text/html": [
       "<pre>recommendations finished on 9000/210000 queries. users per second: 488705</pre>"
      ],
      "text/plain": [
       "recommendations finished on 9000/210000 queries. users per second: 488705"
      ]
     },
     "metadata": {},
     "output_type": "display_data"
    },
    {
     "data": {
      "text/html": [
       "<pre>recommendations finished on 10000/210000 queries. users per second: 499151</pre>"
      ],
      "text/plain": [
       "recommendations finished on 10000/210000 queries. users per second: 499151"
      ]
     },
     "metadata": {},
     "output_type": "display_data"
    },
    {
     "data": {
      "text/html": [
       "<pre>recommendations finished on 11000/210000 queries. users per second: 499796</pre>"
      ],
      "text/plain": [
       "recommendations finished on 11000/210000 queries. users per second: 499796"
      ]
     },
     "metadata": {},
     "output_type": "display_data"
    },
    {
     "data": {
      "text/html": [
       "<pre>recommendations finished on 12000/210000 queries. users per second: 483520</pre>"
      ],
      "text/plain": [
       "recommendations finished on 12000/210000 queries. users per second: 483520"
      ]
     },
     "metadata": {},
     "output_type": "display_data"
    },
    {
     "data": {
      "text/html": [
       "<pre>recommendations finished on 13000/210000 queries. users per second: 477924</pre>"
      ],
      "text/plain": [
       "recommendations finished on 13000/210000 queries. users per second: 477924"
      ]
     },
     "metadata": {},
     "output_type": "display_data"
    },
    {
     "data": {
      "text/html": [
       "<pre>recommendations finished on 14000/210000 queries. users per second: 468494</pre>"
      ],
      "text/plain": [
       "recommendations finished on 14000/210000 queries. users per second: 468494"
      ]
     },
     "metadata": {},
     "output_type": "display_data"
    },
    {
     "data": {
      "text/html": [
       "<pre>recommendations finished on 15000/210000 queries. users per second: 472977</pre>"
      ],
      "text/plain": [
       "recommendations finished on 15000/210000 queries. users per second: 472977"
      ]
     },
     "metadata": {},
     "output_type": "display_data"
    },
    {
     "data": {
      "text/html": [
       "<pre>recommendations finished on 16000/210000 queries. users per second: 478999</pre>"
      ],
      "text/plain": [
       "recommendations finished on 16000/210000 queries. users per second: 478999"
      ]
     },
     "metadata": {},
     "output_type": "display_data"
    },
    {
     "data": {
      "text/html": [
       "<pre>recommendations finished on 17000/210000 queries. users per second: 472800</pre>"
      ],
      "text/plain": [
       "recommendations finished on 17000/210000 queries. users per second: 472800"
      ]
     },
     "metadata": {},
     "output_type": "display_data"
    },
    {
     "data": {
      "text/html": [
       "<pre>recommendations finished on 18000/210000 queries. users per second: 464348</pre>"
      ],
      "text/plain": [
       "recommendations finished on 18000/210000 queries. users per second: 464348"
      ]
     },
     "metadata": {},
     "output_type": "display_data"
    },
    {
     "data": {
      "text/html": [
       "<pre>recommendations finished on 19000/210000 queries. users per second: 471207</pre>"
      ],
      "text/plain": [
       "recommendations finished on 19000/210000 queries. users per second: 471207"
      ]
     },
     "metadata": {},
     "output_type": "display_data"
    },
    {
     "data": {
      "text/html": [
       "<pre>recommendations finished on 20000/210000 queries. users per second: 479582</pre>"
      ],
      "text/plain": [
       "recommendations finished on 20000/210000 queries. users per second: 479582"
      ]
     },
     "metadata": {},
     "output_type": "display_data"
    },
    {
     "data": {
      "text/html": [
       "<pre>recommendations finished on 21000/210000 queries. users per second: 488895</pre>"
      ],
      "text/plain": [
       "recommendations finished on 21000/210000 queries. users per second: 488895"
      ]
     },
     "metadata": {},
     "output_type": "display_data"
    },
    {
     "data": {
      "text/html": [
       "<pre>recommendations finished on 22000/210000 queries. users per second: 490885</pre>"
      ],
      "text/plain": [
       "recommendations finished on 22000/210000 queries. users per second: 490885"
      ]
     },
     "metadata": {},
     "output_type": "display_data"
    },
    {
     "data": {
      "text/html": [
       "<pre>recommendations finished on 23000/210000 queries. users per second: 492949</pre>"
      ],
      "text/plain": [
       "recommendations finished on 23000/210000 queries. users per second: 492949"
      ]
     },
     "metadata": {},
     "output_type": "display_data"
    },
    {
     "data": {
      "text/html": [
       "<pre>recommendations finished on 24000/210000 queries. users per second: 489766</pre>"
      ],
      "text/plain": [
       "recommendations finished on 24000/210000 queries. users per second: 489766"
      ]
     },
     "metadata": {},
     "output_type": "display_data"
    },
    {
     "data": {
      "text/html": [
       "<pre>recommendations finished on 25000/210000 queries. users per second: 494834</pre>"
      ],
      "text/plain": [
       "recommendations finished on 25000/210000 queries. users per second: 494834"
      ]
     },
     "metadata": {},
     "output_type": "display_data"
    },
    {
     "data": {
      "text/html": [
       "<pre>recommendations finished on 26000/210000 queries. users per second: 495455</pre>"
      ],
      "text/plain": [
       "recommendations finished on 26000/210000 queries. users per second: 495455"
      ]
     },
     "metadata": {},
     "output_type": "display_data"
    },
    {
     "data": {
      "text/html": [
       "<pre>recommendations finished on 27000/210000 queries. users per second: 496789</pre>"
      ],
      "text/plain": [
       "recommendations finished on 27000/210000 queries. users per second: 496789"
      ]
     },
     "metadata": {},
     "output_type": "display_data"
    },
    {
     "data": {
      "text/html": [
       "<pre>recommendations finished on 28000/210000 queries. users per second: 492161</pre>"
      ],
      "text/plain": [
       "recommendations finished on 28000/210000 queries. users per second: 492161"
      ]
     },
     "metadata": {},
     "output_type": "display_data"
    },
    {
     "data": {
      "text/html": [
       "<pre>recommendations finished on 29000/210000 queries. users per second: 482762</pre>"
      ],
      "text/plain": [
       "recommendations finished on 29000/210000 queries. users per second: 482762"
      ]
     },
     "metadata": {},
     "output_type": "display_data"
    },
    {
     "data": {
      "text/html": [
       "<pre>recommendations finished on 30000/210000 queries. users per second: 482307</pre>"
      ],
      "text/plain": [
       "recommendations finished on 30000/210000 queries. users per second: 482307"
      ]
     },
     "metadata": {},
     "output_type": "display_data"
    },
    {
     "data": {
      "text/html": [
       "<pre>recommendations finished on 31000/210000 queries. users per second: 482085</pre>"
      ],
      "text/plain": [
       "recommendations finished on 31000/210000 queries. users per second: 482085"
      ]
     },
     "metadata": {},
     "output_type": "display_data"
    },
    {
     "data": {
      "text/html": [
       "<pre>recommendations finished on 32000/210000 queries. users per second: 476723</pre>"
      ],
      "text/plain": [
       "recommendations finished on 32000/210000 queries. users per second: 476723"
      ]
     },
     "metadata": {},
     "output_type": "display_data"
    },
    {
     "data": {
      "text/html": [
       "<pre>recommendations finished on 33000/210000 queries. users per second: 473539</pre>"
      ],
      "text/plain": [
       "recommendations finished on 33000/210000 queries. users per second: 473539"
      ]
     },
     "metadata": {},
     "output_type": "display_data"
    },
    {
     "data": {
      "text/html": [
       "<pre>recommendations finished on 34000/210000 queries. users per second: 474363</pre>"
      ],
      "text/plain": [
       "recommendations finished on 34000/210000 queries. users per second: 474363"
      ]
     },
     "metadata": {},
     "output_type": "display_data"
    },
    {
     "data": {
      "text/html": [
       "<pre>recommendations finished on 35000/210000 queries. users per second: 475298</pre>"
      ],
      "text/plain": [
       "recommendations finished on 35000/210000 queries. users per second: 475298"
      ]
     },
     "metadata": {},
     "output_type": "display_data"
    },
    {
     "data": {
      "text/html": [
       "<pre>recommendations finished on 36000/210000 queries. users per second: 475763</pre>"
      ],
      "text/plain": [
       "recommendations finished on 36000/210000 queries. users per second: 475763"
      ]
     },
     "metadata": {},
     "output_type": "display_data"
    },
    {
     "data": {
      "text/html": [
       "<pre>recommendations finished on 37000/210000 queries. users per second: 477167</pre>"
      ],
      "text/plain": [
       "recommendations finished on 37000/210000 queries. users per second: 477167"
      ]
     },
     "metadata": {},
     "output_type": "display_data"
    },
    {
     "data": {
      "text/html": [
       "<pre>recommendations finished on 38000/210000 queries. users per second: 478060</pre>"
      ],
      "text/plain": [
       "recommendations finished on 38000/210000 queries. users per second: 478060"
      ]
     },
     "metadata": {},
     "output_type": "display_data"
    },
    {
     "data": {
      "text/html": [
       "<pre>recommendations finished on 39000/210000 queries. users per second: 469229</pre>"
      ],
      "text/plain": [
       "recommendations finished on 39000/210000 queries. users per second: 469229"
      ]
     },
     "metadata": {},
     "output_type": "display_data"
    },
    {
     "data": {
      "text/html": [
       "<pre>recommendations finished on 40000/210000 queries. users per second: 448979</pre>"
      ],
      "text/plain": [
       "recommendations finished on 40000/210000 queries. users per second: 448979"
      ]
     },
     "metadata": {},
     "output_type": "display_data"
    },
    {
     "data": {
      "text/html": [
       "<pre>recommendations finished on 41000/210000 queries. users per second: 438972</pre>"
      ],
      "text/plain": [
       "recommendations finished on 41000/210000 queries. users per second: 438972"
      ]
     },
     "metadata": {},
     "output_type": "display_data"
    },
    {
     "data": {
      "text/html": [
       "<pre>recommendations finished on 42000/210000 queries. users per second: 434378</pre>"
      ],
      "text/plain": [
       "recommendations finished on 42000/210000 queries. users per second: 434378"
      ]
     },
     "metadata": {},
     "output_type": "display_data"
    },
    {
     "data": {
      "text/html": [
       "<pre>recommendations finished on 43000/210000 queries. users per second: 423695</pre>"
      ],
      "text/plain": [
       "recommendations finished on 43000/210000 queries. users per second: 423695"
      ]
     },
     "metadata": {},
     "output_type": "display_data"
    },
    {
     "data": {
      "text/html": [
       "<pre>recommendations finished on 44000/210000 queries. users per second: 411119</pre>"
      ],
      "text/plain": [
       "recommendations finished on 44000/210000 queries. users per second: 411119"
      ]
     },
     "metadata": {},
     "output_type": "display_data"
    },
    {
     "data": {
      "text/html": [
       "<pre>recommendations finished on 45000/210000 queries. users per second: 402432</pre>"
      ],
      "text/plain": [
       "recommendations finished on 45000/210000 queries. users per second: 402432"
      ]
     },
     "metadata": {},
     "output_type": "display_data"
    },
    {
     "data": {
      "text/html": [
       "<pre>recommendations finished on 46000/210000 queries. users per second: 394816</pre>"
      ],
      "text/plain": [
       "recommendations finished on 46000/210000 queries. users per second: 394816"
      ]
     },
     "metadata": {},
     "output_type": "display_data"
    },
    {
     "data": {
      "text/html": [
       "<pre>recommendations finished on 47000/210000 queries. users per second: 389392</pre>"
      ],
      "text/plain": [
       "recommendations finished on 47000/210000 queries. users per second: 389392"
      ]
     },
     "metadata": {},
     "output_type": "display_data"
    },
    {
     "data": {
      "text/html": [
       "<pre>recommendations finished on 48000/210000 queries. users per second: 360509</pre>"
      ],
      "text/plain": [
       "recommendations finished on 48000/210000 queries. users per second: 360509"
      ]
     },
     "metadata": {},
     "output_type": "display_data"
    },
    {
     "data": {
      "text/html": [
       "<pre>recommendations finished on 49000/210000 queries. users per second: 355549</pre>"
      ],
      "text/plain": [
       "recommendations finished on 49000/210000 queries. users per second: 355549"
      ]
     },
     "metadata": {},
     "output_type": "display_data"
    },
    {
     "data": {
      "text/html": [
       "<pre>recommendations finished on 50000/210000 queries. users per second: 354771</pre>"
      ],
      "text/plain": [
       "recommendations finished on 50000/210000 queries. users per second: 354771"
      ]
     },
     "metadata": {},
     "output_type": "display_data"
    },
    {
     "data": {
      "text/html": [
       "<pre>recommendations finished on 51000/210000 queries. users per second: 356324</pre>"
      ],
      "text/plain": [
       "recommendations finished on 51000/210000 queries. users per second: 356324"
      ]
     },
     "metadata": {},
     "output_type": "display_data"
    },
    {
     "data": {
      "text/html": [
       "<pre>recommendations finished on 52000/210000 queries. users per second: 355558</pre>"
      ],
      "text/plain": [
       "recommendations finished on 52000/210000 queries. users per second: 355558"
      ]
     },
     "metadata": {},
     "output_type": "display_data"
    },
    {
     "data": {
      "text/html": [
       "<pre>recommendations finished on 53000/210000 queries. users per second: 356427</pre>"
      ],
      "text/plain": [
       "recommendations finished on 53000/210000 queries. users per second: 356427"
      ]
     },
     "metadata": {},
     "output_type": "display_data"
    },
    {
     "data": {
      "text/html": [
       "<pre>recommendations finished on 54000/210000 queries. users per second: 354976</pre>"
      ],
      "text/plain": [
       "recommendations finished on 54000/210000 queries. users per second: 354976"
      ]
     },
     "metadata": {},
     "output_type": "display_data"
    },
    {
     "data": {
      "text/html": [
       "<pre>recommendations finished on 55000/210000 queries. users per second: 356229</pre>"
      ],
      "text/plain": [
       "recommendations finished on 55000/210000 queries. users per second: 356229"
      ]
     },
     "metadata": {},
     "output_type": "display_data"
    },
    {
     "data": {
      "text/html": [
       "<pre>recommendations finished on 56000/210000 queries. users per second: 357674</pre>"
      ],
      "text/plain": [
       "recommendations finished on 56000/210000 queries. users per second: 357674"
      ]
     },
     "metadata": {},
     "output_type": "display_data"
    },
    {
     "data": {
      "text/html": [
       "<pre>recommendations finished on 57000/210000 queries. users per second: 355056</pre>"
      ],
      "text/plain": [
       "recommendations finished on 57000/210000 queries. users per second: 355056"
      ]
     },
     "metadata": {},
     "output_type": "display_data"
    },
    {
     "data": {
      "text/html": [
       "<pre>recommendations finished on 58000/210000 queries. users per second: 353146</pre>"
      ],
      "text/plain": [
       "recommendations finished on 58000/210000 queries. users per second: 353146"
      ]
     },
     "metadata": {},
     "output_type": "display_data"
    },
    {
     "data": {
      "text/html": [
       "<pre>recommendations finished on 59000/210000 queries. users per second: 353579</pre>"
      ],
      "text/plain": [
       "recommendations finished on 59000/210000 queries. users per second: 353579"
      ]
     },
     "metadata": {},
     "output_type": "display_data"
    },
    {
     "data": {
      "text/html": [
       "<pre>recommendations finished on 60000/210000 queries. users per second: 351952</pre>"
      ],
      "text/plain": [
       "recommendations finished on 60000/210000 queries. users per second: 351952"
      ]
     },
     "metadata": {},
     "output_type": "display_data"
    },
    {
     "data": {
      "text/html": [
       "<pre>recommendations finished on 61000/210000 queries. users per second: 351828</pre>"
      ],
      "text/plain": [
       "recommendations finished on 61000/210000 queries. users per second: 351828"
      ]
     },
     "metadata": {},
     "output_type": "display_data"
    },
    {
     "data": {
      "text/html": [
       "<pre>recommendations finished on 62000/210000 queries. users per second: 349445</pre>"
      ],
      "text/plain": [
       "recommendations finished on 62000/210000 queries. users per second: 349445"
      ]
     },
     "metadata": {},
     "output_type": "display_data"
    },
    {
     "data": {
      "text/html": [
       "<pre>recommendations finished on 63000/210000 queries. users per second: 349617</pre>"
      ],
      "text/plain": [
       "recommendations finished on 63000/210000 queries. users per second: 349617"
      ]
     },
     "metadata": {},
     "output_type": "display_data"
    },
    {
     "data": {
      "text/html": [
       "<pre>recommendations finished on 64000/210000 queries. users per second: 346669</pre>"
      ],
      "text/plain": [
       "recommendations finished on 64000/210000 queries. users per second: 346669"
      ]
     },
     "metadata": {},
     "output_type": "display_data"
    },
    {
     "data": {
      "text/html": [
       "<pre>recommendations finished on 65000/210000 queries. users per second: 345397</pre>"
      ],
      "text/plain": [
       "recommendations finished on 65000/210000 queries. users per second: 345397"
      ]
     },
     "metadata": {},
     "output_type": "display_data"
    },
    {
     "data": {
      "text/html": [
       "<pre>recommendations finished on 66000/210000 queries. users per second: 345526</pre>"
      ],
      "text/plain": [
       "recommendations finished on 66000/210000 queries. users per second: 345526"
      ]
     },
     "metadata": {},
     "output_type": "display_data"
    },
    {
     "data": {
      "text/html": [
       "<pre>recommendations finished on 67000/210000 queries. users per second: 347384</pre>"
      ],
      "text/plain": [
       "recommendations finished on 67000/210000 queries. users per second: 347384"
      ]
     },
     "metadata": {},
     "output_type": "display_data"
    },
    {
     "data": {
      "text/html": [
       "<pre>recommendations finished on 68000/210000 queries. users per second: 349535</pre>"
      ],
      "text/plain": [
       "recommendations finished on 68000/210000 queries. users per second: 349535"
      ]
     },
     "metadata": {},
     "output_type": "display_data"
    },
    {
     "data": {
      "text/html": [
       "<pre>recommendations finished on 69000/210000 queries. users per second: 351272</pre>"
      ],
      "text/plain": [
       "recommendations finished on 69000/210000 queries. users per second: 351272"
      ]
     },
     "metadata": {},
     "output_type": "display_data"
    },
    {
     "data": {
      "text/html": [
       "<pre>recommendations finished on 70000/210000 queries. users per second: 353719</pre>"
      ],
      "text/plain": [
       "recommendations finished on 70000/210000 queries. users per second: 353719"
      ]
     },
     "metadata": {},
     "output_type": "display_data"
    },
    {
     "data": {
      "text/html": [
       "<pre>recommendations finished on 71000/210000 queries. users per second: 353631</pre>"
      ],
      "text/plain": [
       "recommendations finished on 71000/210000 queries. users per second: 353631"
      ]
     },
     "metadata": {},
     "output_type": "display_data"
    },
    {
     "data": {
      "text/html": [
       "<pre>recommendations finished on 72000/210000 queries. users per second: 355326</pre>"
      ],
      "text/plain": [
       "recommendations finished on 72000/210000 queries. users per second: 355326"
      ]
     },
     "metadata": {},
     "output_type": "display_data"
    },
    {
     "data": {
      "text/html": [
       "<pre>recommendations finished on 73000/210000 queries. users per second: 346282</pre>"
      ],
      "text/plain": [
       "recommendations finished on 73000/210000 queries. users per second: 346282"
      ]
     },
     "metadata": {},
     "output_type": "display_data"
    },
    {
     "data": {
      "text/html": [
       "<pre>recommendations finished on 74000/210000 queries. users per second: 346332</pre>"
      ],
      "text/plain": [
       "recommendations finished on 74000/210000 queries. users per second: 346332"
      ]
     },
     "metadata": {},
     "output_type": "display_data"
    },
    {
     "data": {
      "text/html": [
       "<pre>recommendations finished on 75000/210000 queries. users per second: 346097</pre>"
      ],
      "text/plain": [
       "recommendations finished on 75000/210000 queries. users per second: 346097"
      ]
     },
     "metadata": {},
     "output_type": "display_data"
    },
    {
     "data": {
      "text/html": [
       "<pre>recommendations finished on 76000/210000 queries. users per second: 345940</pre>"
      ],
      "text/plain": [
       "recommendations finished on 76000/210000 queries. users per second: 345940"
      ]
     },
     "metadata": {},
     "output_type": "display_data"
    },
    {
     "data": {
      "text/html": [
       "<pre>recommendations finished on 77000/210000 queries. users per second: 345281</pre>"
      ],
      "text/plain": [
       "recommendations finished on 77000/210000 queries. users per second: 345281"
      ]
     },
     "metadata": {},
     "output_type": "display_data"
    },
    {
     "data": {
      "text/html": [
       "<pre>recommendations finished on 78000/210000 queries. users per second: 345153</pre>"
      ],
      "text/plain": [
       "recommendations finished on 78000/210000 queries. users per second: 345153"
      ]
     },
     "metadata": {},
     "output_type": "display_data"
    },
    {
     "data": {
      "text/html": [
       "<pre>recommendations finished on 79000/210000 queries. users per second: 344933</pre>"
      ],
      "text/plain": [
       "recommendations finished on 79000/210000 queries. users per second: 344933"
      ]
     },
     "metadata": {},
     "output_type": "display_data"
    },
    {
     "data": {
      "text/html": [
       "<pre>recommendations finished on 80000/210000 queries. users per second: 345298</pre>"
      ],
      "text/plain": [
       "recommendations finished on 80000/210000 queries. users per second: 345298"
      ]
     },
     "metadata": {},
     "output_type": "display_data"
    },
    {
     "data": {
      "text/html": [
       "<pre>recommendations finished on 81000/210000 queries. users per second: 346099</pre>"
      ],
      "text/plain": [
       "recommendations finished on 81000/210000 queries. users per second: 346099"
      ]
     },
     "metadata": {},
     "output_type": "display_data"
    },
    {
     "data": {
      "text/html": [
       "<pre>recommendations finished on 82000/210000 queries. users per second: 347434</pre>"
      ],
      "text/plain": [
       "recommendations finished on 82000/210000 queries. users per second: 347434"
      ]
     },
     "metadata": {},
     "output_type": "display_data"
    },
    {
     "data": {
      "text/html": [
       "<pre>recommendations finished on 83000/210000 queries. users per second: 345360</pre>"
      ],
      "text/plain": [
       "recommendations finished on 83000/210000 queries. users per second: 345360"
      ]
     },
     "metadata": {},
     "output_type": "display_data"
    },
    {
     "data": {
      "text/html": [
       "<pre>recommendations finished on 84000/210000 queries. users per second: 343758</pre>"
      ],
      "text/plain": [
       "recommendations finished on 84000/210000 queries. users per second: 343758"
      ]
     },
     "metadata": {},
     "output_type": "display_data"
    },
    {
     "data": {
      "text/html": [
       "<pre>recommendations finished on 85000/210000 queries. users per second: 341974</pre>"
      ],
      "text/plain": [
       "recommendations finished on 85000/210000 queries. users per second: 341974"
      ]
     },
     "metadata": {},
     "output_type": "display_data"
    },
    {
     "data": {
      "text/html": [
       "<pre>recommendations finished on 86000/210000 queries. users per second: 341845</pre>"
      ],
      "text/plain": [
       "recommendations finished on 86000/210000 queries. users per second: 341845"
      ]
     },
     "metadata": {},
     "output_type": "display_data"
    },
    {
     "data": {
      "text/html": [
       "<pre>recommendations finished on 87000/210000 queries. users per second: 342856</pre>"
      ],
      "text/plain": [
       "recommendations finished on 87000/210000 queries. users per second: 342856"
      ]
     },
     "metadata": {},
     "output_type": "display_data"
    },
    {
     "data": {
      "text/html": [
       "<pre>recommendations finished on 88000/210000 queries. users per second: 341409</pre>"
      ],
      "text/plain": [
       "recommendations finished on 88000/210000 queries. users per second: 341409"
      ]
     },
     "metadata": {},
     "output_type": "display_data"
    },
    {
     "data": {
      "text/html": [
       "<pre>recommendations finished on 89000/210000 queries. users per second: 339616</pre>"
      ],
      "text/plain": [
       "recommendations finished on 89000/210000 queries. users per second: 339616"
      ]
     },
     "metadata": {},
     "output_type": "display_data"
    },
    {
     "data": {
      "text/html": [
       "<pre>recommendations finished on 90000/210000 queries. users per second: 336491</pre>"
      ],
      "text/plain": [
       "recommendations finished on 90000/210000 queries. users per second: 336491"
      ]
     },
     "metadata": {},
     "output_type": "display_data"
    },
    {
     "data": {
      "text/html": [
       "<pre>recommendations finished on 91000/210000 queries. users per second: 335458</pre>"
      ],
      "text/plain": [
       "recommendations finished on 91000/210000 queries. users per second: 335458"
      ]
     },
     "metadata": {},
     "output_type": "display_data"
    },
    {
     "data": {
      "text/html": [
       "<pre>recommendations finished on 92000/210000 queries. users per second: 333550</pre>"
      ],
      "text/plain": [
       "recommendations finished on 92000/210000 queries. users per second: 333550"
      ]
     },
     "metadata": {},
     "output_type": "display_data"
    },
    {
     "data": {
      "text/html": [
       "<pre>recommendations finished on 94000/210000 queries. users per second: 332197</pre>"
      ],
      "text/plain": [
       "recommendations finished on 94000/210000 queries. users per second: 332197"
      ]
     },
     "metadata": {},
     "output_type": "display_data"
    },
    {
     "data": {
      "text/html": [
       "<pre>recommendations finished on 93000/210000 queries. users per second: 334066</pre>"
      ],
      "text/plain": [
       "recommendations finished on 93000/210000 queries. users per second: 334066"
      ]
     },
     "metadata": {},
     "output_type": "display_data"
    },
    {
     "data": {
      "text/html": [
       "<pre>recommendations finished on 95000/210000 queries. users per second: 332747</pre>"
      ],
      "text/plain": [
       "recommendations finished on 95000/210000 queries. users per second: 332747"
      ]
     },
     "metadata": {},
     "output_type": "display_data"
    },
    {
     "data": {
      "text/html": [
       "<pre>recommendations finished on 96000/210000 queries. users per second: 333168</pre>"
      ],
      "text/plain": [
       "recommendations finished on 96000/210000 queries. users per second: 333168"
      ]
     },
     "metadata": {},
     "output_type": "display_data"
    },
    {
     "data": {
      "text/html": [
       "<pre>recommendations finished on 97000/210000 queries. users per second: 333785</pre>"
      ],
      "text/plain": [
       "recommendations finished on 97000/210000 queries. users per second: 333785"
      ]
     },
     "metadata": {},
     "output_type": "display_data"
    },
    {
     "data": {
      "text/html": [
       "<pre>recommendations finished on 98000/210000 queries. users per second: 334054</pre>"
      ],
      "text/plain": [
       "recommendations finished on 98000/210000 queries. users per second: 334054"
      ]
     },
     "metadata": {},
     "output_type": "display_data"
    },
    {
     "data": {
      "text/html": [
       "<pre>recommendations finished on 99000/210000 queries. users per second: 331404</pre>"
      ],
      "text/plain": [
       "recommendations finished on 99000/210000 queries. users per second: 331404"
      ]
     },
     "metadata": {},
     "output_type": "display_data"
    },
    {
     "data": {
      "text/html": [
       "<pre>recommendations finished on 100000/210000 queries. users per second: 329489</pre>"
      ],
      "text/plain": [
       "recommendations finished on 100000/210000 queries. users per second: 329489"
      ]
     },
     "metadata": {},
     "output_type": "display_data"
    },
    {
     "data": {
      "text/html": [
       "<pre>recommendations finished on 101000/210000 queries. users per second: 330792</pre>"
      ],
      "text/plain": [
       "recommendations finished on 101000/210000 queries. users per second: 330792"
      ]
     },
     "metadata": {},
     "output_type": "display_data"
    },
    {
     "data": {
      "text/html": [
       "<pre>recommendations finished on 102000/210000 queries. users per second: 331454</pre>"
      ],
      "text/plain": [
       "recommendations finished on 102000/210000 queries. users per second: 331454"
      ]
     },
     "metadata": {},
     "output_type": "display_data"
    },
    {
     "data": {
      "text/html": [
       "<pre>recommendations finished on 103000/210000 queries. users per second: 332470</pre>"
      ],
      "text/plain": [
       "recommendations finished on 103000/210000 queries. users per second: 332470"
      ]
     },
     "metadata": {},
     "output_type": "display_data"
    },
    {
     "data": {
      "text/html": [
       "<pre>recommendations finished on 104000/210000 queries. users per second: 332892</pre>"
      ],
      "text/plain": [
       "recommendations finished on 104000/210000 queries. users per second: 332892"
      ]
     },
     "metadata": {},
     "output_type": "display_data"
    },
    {
     "data": {
      "text/html": [
       "<pre>recommendations finished on 105000/210000 queries. users per second: 334229</pre>"
      ],
      "text/plain": [
       "recommendations finished on 105000/210000 queries. users per second: 334229"
      ]
     },
     "metadata": {},
     "output_type": "display_data"
    },
    {
     "data": {
      "text/html": [
       "<pre>recommendations finished on 106000/210000 queries. users per second: 335490</pre>"
      ],
      "text/plain": [
       "recommendations finished on 106000/210000 queries. users per second: 335490"
      ]
     },
     "metadata": {},
     "output_type": "display_data"
    },
    {
     "data": {
      "text/html": [
       "<pre>recommendations finished on 107000/210000 queries. users per second: 336316</pre>"
      ],
      "text/plain": [
       "recommendations finished on 107000/210000 queries. users per second: 336316"
      ]
     },
     "metadata": {},
     "output_type": "display_data"
    },
    {
     "data": {
      "text/html": [
       "<pre>recommendations finished on 108000/210000 queries. users per second: 336571</pre>"
      ],
      "text/plain": [
       "recommendations finished on 108000/210000 queries. users per second: 336571"
      ]
     },
     "metadata": {},
     "output_type": "display_data"
    },
    {
     "data": {
      "text/html": [
       "<pre>recommendations finished on 109000/210000 queries. users per second: 323606</pre>"
      ],
      "text/plain": [
       "recommendations finished on 109000/210000 queries. users per second: 323606"
      ]
     },
     "metadata": {},
     "output_type": "display_data"
    },
    {
     "data": {
      "text/html": [
       "<pre>recommendations finished on 110000/210000 queries. users per second: 324216</pre>"
      ],
      "text/plain": [
       "recommendations finished on 110000/210000 queries. users per second: 324216"
      ]
     },
     "metadata": {},
     "output_type": "display_data"
    },
    {
     "data": {
      "text/html": [
       "<pre>recommendations finished on 111000/210000 queries. users per second: 324981</pre>"
      ],
      "text/plain": [
       "recommendations finished on 111000/210000 queries. users per second: 324981"
      ]
     },
     "metadata": {},
     "output_type": "display_data"
    },
    {
     "data": {
      "text/html": [
       "<pre>recommendations finished on 112000/210000 queries. users per second: 325232</pre>"
      ],
      "text/plain": [
       "recommendations finished on 112000/210000 queries. users per second: 325232"
      ]
     },
     "metadata": {},
     "output_type": "display_data"
    },
    {
     "data": {
      "text/html": [
       "<pre>recommendations finished on 113000/210000 queries. users per second: 325466</pre>"
      ],
      "text/plain": [
       "recommendations finished on 113000/210000 queries. users per second: 325466"
      ]
     },
     "metadata": {},
     "output_type": "display_data"
    },
    {
     "data": {
      "text/html": [
       "<pre>recommendations finished on 114000/210000 queries. users per second: 324141</pre>"
      ],
      "text/plain": [
       "recommendations finished on 114000/210000 queries. users per second: 324141"
      ]
     },
     "metadata": {},
     "output_type": "display_data"
    },
    {
     "data": {
      "text/html": [
       "<pre>recommendations finished on 115000/210000 queries. users per second: 324175</pre>"
      ],
      "text/plain": [
       "recommendations finished on 115000/210000 queries. users per second: 324175"
      ]
     },
     "metadata": {},
     "output_type": "display_data"
    },
    {
     "data": {
      "text/html": [
       "<pre>recommendations finished on 116000/210000 queries. users per second: 325117</pre>"
      ],
      "text/plain": [
       "recommendations finished on 116000/210000 queries. users per second: 325117"
      ]
     },
     "metadata": {},
     "output_type": "display_data"
    },
    {
     "data": {
      "text/html": [
       "<pre>recommendations finished on 117000/210000 queries. users per second: 322895</pre>"
      ],
      "text/plain": [
       "recommendations finished on 117000/210000 queries. users per second: 322895"
      ]
     },
     "metadata": {},
     "output_type": "display_data"
    },
    {
     "data": {
      "text/html": [
       "<pre>recommendations finished on 118000/210000 queries. users per second: 317912</pre>"
      ],
      "text/plain": [
       "recommendations finished on 118000/210000 queries. users per second: 317912"
      ]
     },
     "metadata": {},
     "output_type": "display_data"
    },
    {
     "data": {
      "text/html": [
       "<pre>recommendations finished on 119000/210000 queries. users per second: 316883</pre>"
      ],
      "text/plain": [
       "recommendations finished on 119000/210000 queries. users per second: 316883"
      ]
     },
     "metadata": {},
     "output_type": "display_data"
    },
    {
     "data": {
      "text/html": [
       "<pre>recommendations finished on 120000/210000 queries. users per second: 316669</pre>"
      ],
      "text/plain": [
       "recommendations finished on 120000/210000 queries. users per second: 316669"
      ]
     },
     "metadata": {},
     "output_type": "display_data"
    },
    {
     "data": {
      "text/html": [
       "<pre>recommendations finished on 121000/210000 queries. users per second: 316458</pre>"
      ],
      "text/plain": [
       "recommendations finished on 121000/210000 queries. users per second: 316458"
      ]
     },
     "metadata": {},
     "output_type": "display_data"
    },
    {
     "data": {
      "text/html": [
       "<pre>recommendations finished on 122000/210000 queries. users per second: 315649</pre>"
      ],
      "text/plain": [
       "recommendations finished on 122000/210000 queries. users per second: 315649"
      ]
     },
     "metadata": {},
     "output_type": "display_data"
    },
    {
     "data": {
      "text/html": [
       "<pre>recommendations finished on 123000/210000 queries. users per second: 315267</pre>"
      ],
      "text/plain": [
       "recommendations finished on 123000/210000 queries. users per second: 315267"
      ]
     },
     "metadata": {},
     "output_type": "display_data"
    },
    {
     "data": {
      "text/html": [
       "<pre>recommendations finished on 124000/210000 queries. users per second: 314073</pre>"
      ],
      "text/plain": [
       "recommendations finished on 124000/210000 queries. users per second: 314073"
      ]
     },
     "metadata": {},
     "output_type": "display_data"
    },
    {
     "data": {
      "text/html": [
       "<pre>recommendations finished on 125000/210000 queries. users per second: 311818</pre>"
      ],
      "text/plain": [
       "recommendations finished on 125000/210000 queries. users per second: 311818"
      ]
     },
     "metadata": {},
     "output_type": "display_data"
    },
    {
     "data": {
      "text/html": [
       "<pre>recommendations finished on 126000/210000 queries. users per second: 287374</pre>"
      ],
      "text/plain": [
       "recommendations finished on 126000/210000 queries. users per second: 287374"
      ]
     },
     "metadata": {},
     "output_type": "display_data"
    },
    {
     "data": {
      "text/html": [
       "<pre>recommendations finished on 127000/210000 queries. users per second: 288137</pre>"
      ],
      "text/plain": [
       "recommendations finished on 127000/210000 queries. users per second: 288137"
      ]
     },
     "metadata": {},
     "output_type": "display_data"
    },
    {
     "data": {
      "text/html": [
       "<pre>recommendations finished on 128000/210000 queries. users per second: 289120</pre>"
      ],
      "text/plain": [
       "recommendations finished on 128000/210000 queries. users per second: 289120"
      ]
     },
     "metadata": {},
     "output_type": "display_data"
    },
    {
     "data": {
      "text/html": [
       "<pre>recommendations finished on 129000/210000 queries. users per second: 290077</pre>"
      ],
      "text/plain": [
       "recommendations finished on 129000/210000 queries. users per second: 290077"
      ]
     },
     "metadata": {},
     "output_type": "display_data"
    },
    {
     "data": {
      "text/html": [
       "<pre>recommendations finished on 130000/210000 queries. users per second: 290571</pre>"
      ],
      "text/plain": [
       "recommendations finished on 130000/210000 queries. users per second: 290571"
      ]
     },
     "metadata": {},
     "output_type": "display_data"
    },
    {
     "data": {
      "text/html": [
       "<pre>recommendations finished on 131000/210000 queries. users per second: 286027</pre>"
      ],
      "text/plain": [
       "recommendations finished on 131000/210000 queries. users per second: 286027"
      ]
     },
     "metadata": {},
     "output_type": "display_data"
    },
    {
     "data": {
      "text/html": [
       "<pre>recommendations finished on 132000/210000 queries. users per second: 287298</pre>"
      ],
      "text/plain": [
       "recommendations finished on 132000/210000 queries. users per second: 287298"
      ]
     },
     "metadata": {},
     "output_type": "display_data"
    },
    {
     "data": {
      "text/html": [
       "<pre>recommendations finished on 133000/210000 queries. users per second: 288444</pre>"
      ],
      "text/plain": [
       "recommendations finished on 133000/210000 queries. users per second: 288444"
      ]
     },
     "metadata": {},
     "output_type": "display_data"
    },
    {
     "data": {
      "text/html": [
       "<pre>recommendations finished on 134000/210000 queries. users per second: 289082</pre>"
      ],
      "text/plain": [
       "recommendations finished on 134000/210000 queries. users per second: 289082"
      ]
     },
     "metadata": {},
     "output_type": "display_data"
    },
    {
     "data": {
      "text/html": [
       "<pre>recommendations finished on 135000/210000 queries. users per second: 289689</pre>"
      ],
      "text/plain": [
       "recommendations finished on 135000/210000 queries. users per second: 289689"
      ]
     },
     "metadata": {},
     "output_type": "display_data"
    },
    {
     "data": {
      "text/html": [
       "<pre>recommendations finished on 136000/210000 queries. users per second: 289931</pre>"
      ],
      "text/plain": [
       "recommendations finished on 136000/210000 queries. users per second: 289931"
      ]
     },
     "metadata": {},
     "output_type": "display_data"
    },
    {
     "data": {
      "text/html": [
       "<pre>recommendations finished on 137000/210000 queries. users per second: 290306</pre>"
      ],
      "text/plain": [
       "recommendations finished on 137000/210000 queries. users per second: 290306"
      ]
     },
     "metadata": {},
     "output_type": "display_data"
    },
    {
     "data": {
      "text/html": [
       "<pre>recommendations finished on 138000/210000 queries. users per second: 291154</pre>"
      ],
      "text/plain": [
       "recommendations finished on 138000/210000 queries. users per second: 291154"
      ]
     },
     "metadata": {},
     "output_type": "display_data"
    },
    {
     "data": {
      "text/html": [
       "<pre>recommendations finished on 139000/210000 queries. users per second: 291994</pre>"
      ],
      "text/plain": [
       "recommendations finished on 139000/210000 queries. users per second: 291994"
      ]
     },
     "metadata": {},
     "output_type": "display_data"
    },
    {
     "data": {
      "text/html": [
       "<pre>recommendations finished on 140000/210000 queries. users per second: 292977</pre>"
      ],
      "text/plain": [
       "recommendations finished on 140000/210000 queries. users per second: 292977"
      ]
     },
     "metadata": {},
     "output_type": "display_data"
    },
    {
     "data": {
      "text/html": [
       "<pre>recommendations finished on 141000/210000 queries. users per second: 292076</pre>"
      ],
      "text/plain": [
       "recommendations finished on 141000/210000 queries. users per second: 292076"
      ]
     },
     "metadata": {},
     "output_type": "display_data"
    },
    {
     "data": {
      "text/html": [
       "<pre>recommendations finished on 142000/210000 queries. users per second: 288599</pre>"
      ],
      "text/plain": [
       "recommendations finished on 142000/210000 queries. users per second: 288599"
      ]
     },
     "metadata": {},
     "output_type": "display_data"
    },
    {
     "data": {
      "text/html": [
       "<pre>recommendations finished on 143000/210000 queries. users per second: 286021</pre>"
      ],
      "text/plain": [
       "recommendations finished on 143000/210000 queries. users per second: 286021"
      ]
     },
     "metadata": {},
     "output_type": "display_data"
    },
    {
     "data": {
      "text/html": [
       "<pre>recommendations finished on 144000/210000 queries. users per second: 286585</pre>"
      ],
      "text/plain": [
       "recommendations finished on 144000/210000 queries. users per second: 286585"
      ]
     },
     "metadata": {},
     "output_type": "display_data"
    },
    {
     "data": {
      "text/html": [
       "<pre>recommendations finished on 145000/210000 queries. users per second: 285916</pre>"
      ],
      "text/plain": [
       "recommendations finished on 145000/210000 queries. users per second: 285916"
      ]
     },
     "metadata": {},
     "output_type": "display_data"
    },
    {
     "data": {
      "text/html": [
       "<pre>recommendations finished on 146000/210000 queries. users per second: 284601</pre>"
      ],
      "text/plain": [
       "recommendations finished on 146000/210000 queries. users per second: 284601"
      ]
     },
     "metadata": {},
     "output_type": "display_data"
    },
    {
     "data": {
      "text/html": [
       "<pre>recommendations finished on 147000/210000 queries. users per second: 284191</pre>"
      ],
      "text/plain": [
       "recommendations finished on 147000/210000 queries. users per second: 284191"
      ]
     },
     "metadata": {},
     "output_type": "display_data"
    },
    {
     "data": {
      "text/html": [
       "<pre>recommendations finished on 148000/210000 queries. users per second: 283536</pre>"
      ],
      "text/plain": [
       "recommendations finished on 148000/210000 queries. users per second: 283536"
      ]
     },
     "metadata": {},
     "output_type": "display_data"
    },
    {
     "data": {
      "text/html": [
       "<pre>recommendations finished on 149000/210000 queries. users per second: 283738</pre>"
      ],
      "text/plain": [
       "recommendations finished on 149000/210000 queries. users per second: 283738"
      ]
     },
     "metadata": {},
     "output_type": "display_data"
    },
    {
     "data": {
      "text/html": [
       "<pre>recommendations finished on 150000/210000 queries. users per second: 282476</pre>"
      ],
      "text/plain": [
       "recommendations finished on 150000/210000 queries. users per second: 282476"
      ]
     },
     "metadata": {},
     "output_type": "display_data"
    },
    {
     "data": {
      "text/html": [
       "<pre>recommendations finished on 151000/210000 queries. users per second: 282991</pre>"
      ],
      "text/plain": [
       "recommendations finished on 151000/210000 queries. users per second: 282991"
      ]
     },
     "metadata": {},
     "output_type": "display_data"
    },
    {
     "data": {
      "text/html": [
       "<pre>recommendations finished on 152000/210000 queries. users per second: 283654</pre>"
      ],
      "text/plain": [
       "recommendations finished on 152000/210000 queries. users per second: 283654"
      ]
     },
     "metadata": {},
     "output_type": "display_data"
    },
    {
     "data": {
      "text/html": [
       "<pre>recommendations finished on 153000/210000 queries. users per second: 284334</pre>"
      ],
      "text/plain": [
       "recommendations finished on 153000/210000 queries. users per second: 284334"
      ]
     },
     "metadata": {},
     "output_type": "display_data"
    },
    {
     "data": {
      "text/html": [
       "<pre>recommendations finished on 154000/210000 queries. users per second: 285467</pre>"
      ],
      "text/plain": [
       "recommendations finished on 154000/210000 queries. users per second: 285467"
      ]
     },
     "metadata": {},
     "output_type": "display_data"
    },
    {
     "data": {
      "text/html": [
       "<pre>recommendations finished on 155000/210000 queries. users per second: 286520</pre>"
      ],
      "text/plain": [
       "recommendations finished on 155000/210000 queries. users per second: 286520"
      ]
     },
     "metadata": {},
     "output_type": "display_data"
    },
    {
     "data": {
      "text/html": [
       "<pre>recommendations finished on 156000/210000 queries. users per second: 287366</pre>"
      ],
      "text/plain": [
       "recommendations finished on 156000/210000 queries. users per second: 287366"
      ]
     },
     "metadata": {},
     "output_type": "display_data"
    },
    {
     "data": {
      "text/html": [
       "<pre>recommendations finished on 157000/210000 queries. users per second: 288161</pre>"
      ],
      "text/plain": [
       "recommendations finished on 157000/210000 queries. users per second: 288161"
      ]
     },
     "metadata": {},
     "output_type": "display_data"
    },
    {
     "data": {
      "text/html": [
       "<pre>recommendations finished on 158000/210000 queries. users per second: 289155</pre>"
      ],
      "text/plain": [
       "recommendations finished on 158000/210000 queries. users per second: 289155"
      ]
     },
     "metadata": {},
     "output_type": "display_data"
    },
    {
     "data": {
      "text/html": [
       "<pre>recommendations finished on 159000/210000 queries. users per second: 290082</pre>"
      ],
      "text/plain": [
       "recommendations finished on 159000/210000 queries. users per second: 290082"
      ]
     },
     "metadata": {},
     "output_type": "display_data"
    },
    {
     "data": {
      "text/html": [
       "<pre>recommendations finished on 160000/210000 queries. users per second: 290959</pre>"
      ],
      "text/plain": [
       "recommendations finished on 160000/210000 queries. users per second: 290959"
      ]
     },
     "metadata": {},
     "output_type": "display_data"
    },
    {
     "data": {
      "text/html": [
       "<pre>recommendations finished on 161000/210000 queries. users per second: 290875</pre>"
      ],
      "text/plain": [
       "recommendations finished on 161000/210000 queries. users per second: 290875"
      ]
     },
     "metadata": {},
     "output_type": "display_data"
    },
    {
     "data": {
      "text/html": [
       "<pre>recommendations finished on 162000/210000 queries. users per second: 291601</pre>"
      ],
      "text/plain": [
       "recommendations finished on 162000/210000 queries. users per second: 291601"
      ]
     },
     "metadata": {},
     "output_type": "display_data"
    },
    {
     "data": {
      "text/html": [
       "<pre>recommendations finished on 163000/210000 queries. users per second: 292430</pre>"
      ],
      "text/plain": [
       "recommendations finished on 163000/210000 queries. users per second: 292430"
      ]
     },
     "metadata": {},
     "output_type": "display_data"
    },
    {
     "data": {
      "text/html": [
       "<pre>recommendations finished on 164000/210000 queries. users per second: 292991</pre>"
      ],
      "text/plain": [
       "recommendations finished on 164000/210000 queries. users per second: 292991"
      ]
     },
     "metadata": {},
     "output_type": "display_data"
    },
    {
     "data": {
      "text/html": [
       "<pre>recommendations finished on 165000/210000 queries. users per second: 293678</pre>"
      ],
      "text/plain": [
       "recommendations finished on 165000/210000 queries. users per second: 293678"
      ]
     },
     "metadata": {},
     "output_type": "display_data"
    },
    {
     "data": {
      "text/html": [
       "<pre>recommendations finished on 166000/210000 queries. users per second: 294659</pre>"
      ],
      "text/plain": [
       "recommendations finished on 166000/210000 queries. users per second: 294659"
      ]
     },
     "metadata": {},
     "output_type": "display_data"
    },
    {
     "data": {
      "text/html": [
       "<pre>recommendations finished on 167000/210000 queries. users per second: 295000</pre>"
      ],
      "text/plain": [
       "recommendations finished on 167000/210000 queries. users per second: 295000"
      ]
     },
     "metadata": {},
     "output_type": "display_data"
    },
    {
     "data": {
      "text/html": [
       "<pre>recommendations finished on 168000/210000 queries. users per second: 294450</pre>"
      ],
      "text/plain": [
       "recommendations finished on 168000/210000 queries. users per second: 294450"
      ]
     },
     "metadata": {},
     "output_type": "display_data"
    },
    {
     "data": {
      "text/html": [
       "<pre>recommendations finished on 169000/210000 queries. users per second: 293051</pre>"
      ],
      "text/plain": [
       "recommendations finished on 169000/210000 queries. users per second: 293051"
      ]
     },
     "metadata": {},
     "output_type": "display_data"
    },
    {
     "data": {
      "text/html": [
       "<pre>recommendations finished on 170000/210000 queries. users per second: 292113</pre>"
      ],
      "text/plain": [
       "recommendations finished on 170000/210000 queries. users per second: 292113"
      ]
     },
     "metadata": {},
     "output_type": "display_data"
    },
    {
     "data": {
      "text/html": [
       "<pre>recommendations finished on 171000/210000 queries. users per second: 291845</pre>"
      ],
      "text/plain": [
       "recommendations finished on 171000/210000 queries. users per second: 291845"
      ]
     },
     "metadata": {},
     "output_type": "display_data"
    },
    {
     "data": {
      "text/html": [
       "<pre>recommendations finished on 172000/210000 queries. users per second: 292245</pre>"
      ],
      "text/plain": [
       "recommendations finished on 172000/210000 queries. users per second: 292245"
      ]
     },
     "metadata": {},
     "output_type": "display_data"
    },
    {
     "data": {
      "text/html": [
       "<pre>recommendations finished on 173000/210000 queries. users per second: 291789</pre>"
      ],
      "text/plain": [
       "recommendations finished on 173000/210000 queries. users per second: 291789"
      ]
     },
     "metadata": {},
     "output_type": "display_data"
    },
    {
     "data": {
      "text/html": [
       "<pre>recommendations finished on 174000/210000 queries. users per second: 292268</pre>"
      ],
      "text/plain": [
       "recommendations finished on 174000/210000 queries. users per second: 292268"
      ]
     },
     "metadata": {},
     "output_type": "display_data"
    },
    {
     "data": {
      "text/html": [
       "<pre>recommendations finished on 175000/210000 queries. users per second: 292920</pre>"
      ],
      "text/plain": [
       "recommendations finished on 175000/210000 queries. users per second: 292920"
      ]
     },
     "metadata": {},
     "output_type": "display_data"
    },
    {
     "data": {
      "text/html": [
       "<pre>recommendations finished on 176000/210000 queries. users per second: 293291</pre>"
      ],
      "text/plain": [
       "recommendations finished on 176000/210000 queries. users per second: 293291"
      ]
     },
     "metadata": {},
     "output_type": "display_data"
    },
    {
     "data": {
      "text/html": [
       "<pre>recommendations finished on 177000/210000 queries. users per second: 292829</pre>"
      ],
      "text/plain": [
       "recommendations finished on 177000/210000 queries. users per second: 292829"
      ]
     },
     "metadata": {},
     "output_type": "display_data"
    },
    {
     "data": {
      "text/html": [
       "<pre>recommendations finished on 178000/210000 queries. users per second: 292156</pre>"
      ],
      "text/plain": [
       "recommendations finished on 178000/210000 queries. users per second: 292156"
      ]
     },
     "metadata": {},
     "output_type": "display_data"
    },
    {
     "data": {
      "text/html": [
       "<pre>recommendations finished on 179000/210000 queries. users per second: 291459</pre>"
      ],
      "text/plain": [
       "recommendations finished on 179000/210000 queries. users per second: 291459"
      ]
     },
     "metadata": {},
     "output_type": "display_data"
    },
    {
     "data": {
      "text/html": [
       "<pre>recommendations finished on 180000/210000 queries. users per second: 290511</pre>"
      ],
      "text/plain": [
       "recommendations finished on 180000/210000 queries. users per second: 290511"
      ]
     },
     "metadata": {},
     "output_type": "display_data"
    },
    {
     "data": {
      "text/html": [
       "<pre>recommendations finished on 181000/210000 queries. users per second: 288683</pre>"
      ],
      "text/plain": [
       "recommendations finished on 181000/210000 queries. users per second: 288683"
      ]
     },
     "metadata": {},
     "output_type": "display_data"
    },
    {
     "data": {
      "text/html": [
       "<pre>recommendations finished on 182000/210000 queries. users per second: 287910</pre>"
      ],
      "text/plain": [
       "recommendations finished on 182000/210000 queries. users per second: 287910"
      ]
     },
     "metadata": {},
     "output_type": "display_data"
    },
    {
     "data": {
      "text/html": [
       "<pre>recommendations finished on 183000/210000 queries. users per second: 287153</pre>"
      ],
      "text/plain": [
       "recommendations finished on 183000/210000 queries. users per second: 287153"
      ]
     },
     "metadata": {},
     "output_type": "display_data"
    },
    {
     "data": {
      "text/html": [
       "<pre>recommendations finished on 184000/210000 queries. users per second: 282845</pre>"
      ],
      "text/plain": [
       "recommendations finished on 184000/210000 queries. users per second: 282845"
      ]
     },
     "metadata": {},
     "output_type": "display_data"
    },
    {
     "data": {
      "text/html": [
       "<pre>recommendations finished on 185000/210000 queries. users per second: 279694</pre>"
      ],
      "text/plain": [
       "recommendations finished on 185000/210000 queries. users per second: 279694"
      ]
     },
     "metadata": {},
     "output_type": "display_data"
    },
    {
     "data": {
      "text/html": [
       "<pre>recommendations finished on 186000/210000 queries. users per second: 278911</pre>"
      ],
      "text/plain": [
       "recommendations finished on 186000/210000 queries. users per second: 278911"
      ]
     },
     "metadata": {},
     "output_type": "display_data"
    },
    {
     "data": {
      "text/html": [
       "<pre>recommendations finished on 187000/210000 queries. users per second: 278908</pre>"
      ],
      "text/plain": [
       "recommendations finished on 187000/210000 queries. users per second: 278908"
      ]
     },
     "metadata": {},
     "output_type": "display_data"
    },
    {
     "data": {
      "text/html": [
       "<pre>recommendations finished on 188000/210000 queries. users per second: 278908</pre>"
      ],
      "text/plain": [
       "recommendations finished on 188000/210000 queries. users per second: 278908"
      ]
     },
     "metadata": {},
     "output_type": "display_data"
    },
    {
     "data": {
      "text/html": [
       "<pre>recommendations finished on 189000/210000 queries. users per second: 278889</pre>"
      ],
      "text/plain": [
       "recommendations finished on 189000/210000 queries. users per second: 278889"
      ]
     },
     "metadata": {},
     "output_type": "display_data"
    },
    {
     "data": {
      "text/html": [
       "<pre>recommendations finished on 190000/210000 queries. users per second: 279305</pre>"
      ],
      "text/plain": [
       "recommendations finished on 190000/210000 queries. users per second: 279305"
      ]
     },
     "metadata": {},
     "output_type": "display_data"
    },
    {
     "data": {
      "text/html": [
       "<pre>recommendations finished on 191000/210000 queries. users per second: 279417</pre>"
      ],
      "text/plain": [
       "recommendations finished on 191000/210000 queries. users per second: 279417"
      ]
     },
     "metadata": {},
     "output_type": "display_data"
    },
    {
     "data": {
      "text/html": [
       "<pre>recommendations finished on 192000/210000 queries. users per second: 279213</pre>"
      ],
      "text/plain": [
       "recommendations finished on 192000/210000 queries. users per second: 279213"
      ]
     },
     "metadata": {},
     "output_type": "display_data"
    },
    {
     "data": {
      "text/html": [
       "<pre>recommendations finished on 193000/210000 queries. users per second: 277756</pre>"
      ],
      "text/plain": [
       "recommendations finished on 193000/210000 queries. users per second: 277756"
      ]
     },
     "metadata": {},
     "output_type": "display_data"
    },
    {
     "data": {
      "text/html": [
       "<pre>recommendations finished on 194000/210000 queries. users per second: 277892</pre>"
      ],
      "text/plain": [
       "recommendations finished on 194000/210000 queries. users per second: 277892"
      ]
     },
     "metadata": {},
     "output_type": "display_data"
    },
    {
     "data": {
      "text/html": [
       "<pre>recommendations finished on 195000/210000 queries. users per second: 278238</pre>"
      ],
      "text/plain": [
       "recommendations finished on 195000/210000 queries. users per second: 278238"
      ]
     },
     "metadata": {},
     "output_type": "display_data"
    },
    {
     "data": {
      "text/html": [
       "<pre>recommendations finished on 196000/210000 queries. users per second: 278664</pre>"
      ],
      "text/plain": [
       "recommendations finished on 196000/210000 queries. users per second: 278664"
      ]
     },
     "metadata": {},
     "output_type": "display_data"
    },
    {
     "data": {
      "text/html": [
       "<pre>recommendations finished on 197000/210000 queries. users per second: 279070</pre>"
      ],
      "text/plain": [
       "recommendations finished on 197000/210000 queries. users per second: 279070"
      ]
     },
     "metadata": {},
     "output_type": "display_data"
    },
    {
     "data": {
      "text/html": [
       "<pre>recommendations finished on 198000/210000 queries. users per second: 278931</pre>"
      ],
      "text/plain": [
       "recommendations finished on 198000/210000 queries. users per second: 278931"
      ]
     },
     "metadata": {},
     "output_type": "display_data"
    },
    {
     "data": {
      "text/html": [
       "<pre>recommendations finished on 199000/210000 queries. users per second: 278833</pre>"
      ],
      "text/plain": [
       "recommendations finished on 199000/210000 queries. users per second: 278833"
      ]
     },
     "metadata": {},
     "output_type": "display_data"
    },
    {
     "data": {
      "text/html": [
       "<pre>recommendations finished on 200000/210000 queries. users per second: 278803</pre>"
      ],
      "text/plain": [
       "recommendations finished on 200000/210000 queries. users per second: 278803"
      ]
     },
     "metadata": {},
     "output_type": "display_data"
    },
    {
     "data": {
      "text/html": [
       "<pre>recommendations finished on 201000/210000 queries. users per second: 279025</pre>"
      ],
      "text/plain": [
       "recommendations finished on 201000/210000 queries. users per second: 279025"
      ]
     },
     "metadata": {},
     "output_type": "display_data"
    },
    {
     "data": {
      "text/html": [
       "<pre>recommendations finished on 202000/210000 queries. users per second: 279144</pre>"
      ],
      "text/plain": [
       "recommendations finished on 202000/210000 queries. users per second: 279144"
      ]
     },
     "metadata": {},
     "output_type": "display_data"
    },
    {
     "data": {
      "text/html": [
       "<pre>recommendations finished on 203000/210000 queries. users per second: 278809</pre>"
      ],
      "text/plain": [
       "recommendations finished on 203000/210000 queries. users per second: 278809"
      ]
     },
     "metadata": {},
     "output_type": "display_data"
    },
    {
     "data": {
      "text/html": [
       "<pre>recommendations finished on 204000/210000 queries. users per second: 278569</pre>"
      ],
      "text/plain": [
       "recommendations finished on 204000/210000 queries. users per second: 278569"
      ]
     },
     "metadata": {},
     "output_type": "display_data"
    },
    {
     "data": {
      "text/html": [
       "<pre>recommendations finished on 205000/210000 queries. users per second: 278207</pre>"
      ],
      "text/plain": [
       "recommendations finished on 205000/210000 queries. users per second: 278207"
      ]
     },
     "metadata": {},
     "output_type": "display_data"
    },
    {
     "data": {
      "text/html": [
       "<pre>recommendations finished on 206000/210000 queries. users per second: 277643</pre>"
      ],
      "text/plain": [
       "recommendations finished on 206000/210000 queries. users per second: 277643"
      ]
     },
     "metadata": {},
     "output_type": "display_data"
    },
    {
     "data": {
      "text/html": [
       "<pre>recommendations finished on 207000/210000 queries. users per second: 278015</pre>"
      ],
      "text/plain": [
       "recommendations finished on 207000/210000 queries. users per second: 278015"
      ]
     },
     "metadata": {},
     "output_type": "display_data"
    },
    {
     "data": {
      "text/html": [
       "<pre>recommendations finished on 208000/210000 queries. users per second: 277832</pre>"
      ],
      "text/plain": [
       "recommendations finished on 208000/210000 queries. users per second: 277832"
      ]
     },
     "metadata": {},
     "output_type": "display_data"
    },
    {
     "data": {
      "text/html": [
       "<pre>recommendations finished on 209000/210000 queries. users per second: 276157</pre>"
      ],
      "text/plain": [
       "recommendations finished on 209000/210000 queries. users per second: 276157"
      ]
     },
     "metadata": {},
     "output_type": "display_data"
    },
    {
     "data": {
      "text/html": [
       "<pre>recommendations finished on 210000/210000 queries. users per second: 273363</pre>"
      ],
      "text/plain": [
       "recommendations finished on 210000/210000 queries. users per second: 273363"
      ]
     },
     "metadata": {},
     "output_type": "display_data"
    },
    {
     "name": "stdout",
     "output_type": "stream",
     "text": [
      "+---------+---------------+----------------------+------+\n",
      "| user_id | department_id |        score         | rank |\n",
      "+---------+---------------+----------------------+------+\n",
      "|    1    |       12      | 0.05976207386591055  |  1   |\n",
      "|    1    |       1       |  0.0549572109323951  |  2   |\n",
      "|    1    |       9       | 0.03948992370231094  |  3   |\n",
      "|    1    |       5       | 0.036175910479217956 |  4   |\n",
      "|    1    |       10      | 0.03573141761312243  |  5   |\n",
      "|    1    |       3       | 0.030884250241282236 |  6   |\n",
      "|    1    |       6       | 0.030147741789511552 |  7   |\n",
      "|    1    |       21      | 0.02740860944071774  |  8   |\n",
      "|    1    |       15      | 0.026857078090249648 |  9   |\n",
      "|    1    |       18      | 0.024007948825323106 |  10  |\n",
      "|    2    |       9       | 0.045595894907676474 |  1   |\n",
      "|    2    |       10      | 0.03709835320162374  |  2   |\n",
      "|    2    |       5       | 0.036837854119245686 |  3   |\n",
      "|    2    |       21      | 0.02921286430793609  |  4   |\n",
      "|    2    |       18      | 0.026548884352160466 |  5   |\n",
      "|    2    |       8       | 0.021227225628925428 |  6   |\n",
      "|    2    |       17      | 0.019435859684391404 |  7   |\n",
      "|    2    |       2       | 0.016196652246198467 |  8   |\n",
      "|    3    |       12      | 0.061127884971668975 |  1   |\n",
      "|    3    |       5       | 0.036123704379238494 |  2   |\n",
      "|    3    |       10      | 0.03579834889867783  |  3   |\n",
      "|    3    |       3       | 0.031623976050530904 |  4   |\n",
      "|    3    |       6       | 0.030734107686069555 |  5   |\n",
      "|    3    |       15      | 0.027993665815994953 |  6   |\n",
      "|    3    |       21      | 0.02736167598653722  |  7   |\n",
      "|    3    |       18      | 0.02426627914020154  |  8   |\n",
      "|    3    |       11      | 0.020064339332410724 |  9   |\n",
      "|    3    |       8       | 0.01978541678164478  |  10  |\n",
      "|    4    |       12      | 0.05788664399342801  |  1   |\n",
      "|    4    |       9       | 0.036695180171976954 |  2   |\n",
      "+---------+---------------+----------------------+------+\n",
      "[1801275 rows x 4 columns]\n",
      "\n"
     ]
    }
   ],
   "source": [
    "name = 'pearson' \n",
    "target = 'scaled_purchase_freq' \n",
    "pearson_norm = model(data_norm, name, user_id, depart_id, target, users_to_recommend, n_rec, n_display)"
   ]
  },
  {
   "cell_type": "code",
   "execution_count": 176,
   "metadata": {},
   "outputs": [
    {
     "data": {
      "text/html": [
       "<div>\n",
       "<style scoped>\n",
       "    .dataframe tbody tr th:only-of-type {\n",
       "        vertical-align: middle;\n",
       "    }\n",
       "\n",
       "    .dataframe tbody tr th {\n",
       "        vertical-align: top;\n",
       "    }\n",
       "\n",
       "    .dataframe thead th {\n",
       "        text-align: right;\n",
       "    }\n",
       "</style>\n",
       "<table border=\"1\" class=\"dataframe\">\n",
       "  <thead>\n",
       "    <tr style=\"text-align: right;\">\n",
       "      <th></th>\n",
       "      <th>user_id</th>\n",
       "      <th>department_id</th>\n",
       "      <th>unique_departments</th>\n",
       "      <th>max_freq_departments</th>\n",
       "      <th>max_freq_departments_cnt</th>\n",
       "    </tr>\n",
       "  </thead>\n",
       "  <tbody>\n",
       "    <tr>\n",
       "      <th>0</th>\n",
       "      <td>1</td>\n",
       "      <td>[7, 7, 7, 7, 7, 7, 7, 7, 7, 7, 16, 19, 19, 19,...</td>\n",
       "      <td>7</td>\n",
       "      <td>[19]</td>\n",
       "      <td>22</td>\n",
       "    </tr>\n",
       "    <tr>\n",
       "      <th>1</th>\n",
       "      <td>2</td>\n",
       "      <td>[4, 4, 4, 19, 19, 19, 19, 19, 19, 19, 19, 19, ...</td>\n",
       "      <td>13</td>\n",
       "      <td>[16]</td>\n",
       "      <td>48</td>\n",
       "    </tr>\n",
       "    <tr>\n",
       "      <th>2</th>\n",
       "      <td>3</td>\n",
       "      <td>[4, 4, 4, 4, 4, 4, 4, 4, 4, 4, 4, 4, 4, 4, 4, ...</td>\n",
       "      <td>9</td>\n",
       "      <td>[4]</td>\n",
       "      <td>38</td>\n",
       "    </tr>\n",
       "    <tr>\n",
       "      <th>3</th>\n",
       "      <td>4</td>\n",
       "      <td>[4, 4, 3, 7, 1, 1, 17, 5, 17, 15, 7, 3, 1, 5, ...</td>\n",
       "      <td>9</td>\n",
       "      <td>[7, 1]</td>\n",
       "      <td>3</td>\n",
       "    </tr>\n",
       "    <tr>\n",
       "      <th>4</th>\n",
       "      <td>5</td>\n",
       "      <td>[20, 13, 6, 6, 4, 4, 4, 4, 4, 4, 4, 4, 4, 4, 4...</td>\n",
       "      <td>9</td>\n",
       "      <td>[4]</td>\n",
       "      <td>19</td>\n",
       "    </tr>\n",
       "  </tbody>\n",
       "</table>\n",
       "</div>"
      ],
      "text/plain": [
       "   user_id                                      department_id  \\\n",
       "0        1  [7, 7, 7, 7, 7, 7, 7, 7, 7, 7, 16, 19, 19, 19,...   \n",
       "1        2  [4, 4, 4, 19, 19, 19, 19, 19, 19, 19, 19, 19, ...   \n",
       "2        3  [4, 4, 4, 4, 4, 4, 4, 4, 4, 4, 4, 4, 4, 4, 4, ...   \n",
       "3        4  [4, 4, 3, 7, 1, 1, 17, 5, 17, 15, 7, 3, 1, 5, ...   \n",
       "4        5  [20, 13, 6, 6, 4, 4, 4, 4, 4, 4, 4, 4, 4, 4, 4...   \n",
       "\n",
       "   unique_departments max_freq_departments  max_freq_departments_cnt  \n",
       "0                   7                 [19]                        22  \n",
       "1                  13                 [16]                        48  \n",
       "2                   9                  [4]                        38  \n",
       "3                   9               [7, 1]                         3  \n",
       "4                   9                  [4]                        19  "
      ]
     },
     "execution_count": 176,
     "metadata": {},
     "output_type": "execute_result"
    }
   ],
   "source": [
    "user_items_types_sample = user_items_types.iloc[:10000,]\n",
    "user_items_types_sample.head()"
   ]
  },
  {
   "cell_type": "code",
   "execution_count": 179,
   "metadata": {},
   "outputs": [
    {
     "data": {
      "text/html": [
       "<pre>Preparing data set.</pre>"
      ],
      "text/plain": [
       "Preparing data set."
      ]
     },
     "metadata": {},
     "output_type": "display_data"
    },
    {
     "data": {
      "text/html": [
       "<pre>    Data has 107488 observations with 10000 users and 21 items.</pre>"
      ],
      "text/plain": [
       "    Data has 107488 observations with 10000 users and 21 items."
      ]
     },
     "metadata": {},
     "output_type": "display_data"
    },
    {
     "data": {
      "text/html": [
       "<pre>    Data prepared in: 0.103023s</pre>"
      ],
      "text/plain": [
       "    Data prepared in: 0.103023s"
      ]
     },
     "metadata": {},
     "output_type": "display_data"
    },
    {
     "data": {
      "text/html": [
       "<pre>Training model from provided data.</pre>"
      ],
      "text/plain": [
       "Training model from provided data."
      ]
     },
     "metadata": {},
     "output_type": "display_data"
    },
    {
     "data": {
      "text/html": [
       "<pre>Gathering per-item and per-user statistics.</pre>"
      ],
      "text/plain": [
       "Gathering per-item and per-user statistics."
      ]
     },
     "metadata": {},
     "output_type": "display_data"
    },
    {
     "data": {
      "text/html": [
       "<pre>+--------------------------------+------------+</pre>"
      ],
      "text/plain": [
       "+--------------------------------+------------+"
      ]
     },
     "metadata": {},
     "output_type": "display_data"
    },
    {
     "data": {
      "text/html": [
       "<pre>| Elapsed Time (Item Statistics) | % Complete |</pre>"
      ],
      "text/plain": [
       "| Elapsed Time (Item Statistics) | % Complete |"
      ]
     },
     "metadata": {},
     "output_type": "display_data"
    },
    {
     "data": {
      "text/html": [
       "<pre>+--------------------------------+------------+</pre>"
      ],
      "text/plain": [
       "+--------------------------------+------------+"
      ]
     },
     "metadata": {},
     "output_type": "display_data"
    },
    {
     "data": {
      "text/html": [
       "<pre>| 934us                          | 10         |</pre>"
      ],
      "text/plain": [
       "| 934us                          | 10         |"
      ]
     },
     "metadata": {},
     "output_type": "display_data"
    },
    {
     "data": {
      "text/html": [
       "<pre>| 6.311ms                        | 100        |</pre>"
      ],
      "text/plain": [
       "| 6.311ms                        | 100        |"
      ]
     },
     "metadata": {},
     "output_type": "display_data"
    },
    {
     "data": {
      "text/html": [
       "<pre>+--------------------------------+------------+</pre>"
      ],
      "text/plain": [
       "+--------------------------------+------------+"
      ]
     },
     "metadata": {},
     "output_type": "display_data"
    },
    {
     "data": {
      "text/html": [
       "<pre>Setting up lookup tables.</pre>"
      ],
      "text/plain": [
       "Setting up lookup tables."
      ]
     },
     "metadata": {},
     "output_type": "display_data"
    },
    {
     "data": {
      "text/html": [
       "<pre>Processing data in one pass using dense lookup tables.</pre>"
      ],
      "text/plain": [
       "Processing data in one pass using dense lookup tables."
      ]
     },
     "metadata": {},
     "output_type": "display_data"
    },
    {
     "data": {
      "text/html": [
       "<pre>+-------------------------------------+------------------+-----------------+</pre>"
      ],
      "text/plain": [
       "+-------------------------------------+------------------+-----------------+"
      ]
     },
     "metadata": {},
     "output_type": "display_data"
    },
    {
     "data": {
      "text/html": [
       "<pre>| Elapsed Time (Constructing Lookups) | Total % Complete | Items Processed |</pre>"
      ],
      "text/plain": [
       "| Elapsed Time (Constructing Lookups) | Total % Complete | Items Processed |"
      ]
     },
     "metadata": {},
     "output_type": "display_data"
    },
    {
     "data": {
      "text/html": [
       "<pre>+-------------------------------------+------------------+-----------------+</pre>"
      ],
      "text/plain": [
       "+-------------------------------------+------------------+-----------------+"
      ]
     },
     "metadata": {},
     "output_type": "display_data"
    },
    {
     "data": {
      "text/html": [
       "<pre>| 7.392ms                             | 0                | 0               |</pre>"
      ],
      "text/plain": [
       "| 7.392ms                             | 0                | 0               |"
      ]
     },
     "metadata": {},
     "output_type": "display_data"
    },
    {
     "data": {
      "text/html": [
       "<pre>| 27.764ms                            | 100              | 21              |</pre>"
      ],
      "text/plain": [
       "| 27.764ms                            | 100              | 21              |"
      ]
     },
     "metadata": {},
     "output_type": "display_data"
    },
    {
     "data": {
      "text/html": [
       "<pre>+-------------------------------------+------------------+-----------------+</pre>"
      ],
      "text/plain": [
       "+-------------------------------------+------------------+-----------------+"
      ]
     },
     "metadata": {},
     "output_type": "display_data"
    },
    {
     "data": {
      "text/html": [
       "<pre>Finalizing lookup tables.</pre>"
      ],
      "text/plain": [
       "Finalizing lookup tables."
      ]
     },
     "metadata": {},
     "output_type": "display_data"
    },
    {
     "data": {
      "text/html": [
       "<pre>Generating candidate set for working with new users.</pre>"
      ],
      "text/plain": [
       "Generating candidate set for working with new users."
      ]
     },
     "metadata": {},
     "output_type": "display_data"
    },
    {
     "data": {
      "text/html": [
       "<pre>Finished training in 0.047261s</pre>"
      ],
      "text/plain": [
       "Finished training in 0.047261s"
      ]
     },
     "metadata": {},
     "output_type": "display_data"
    },
    {
     "data": {
      "text/html": [
       "<pre>recommendations finished on 1000/107488 queries. users per second: 317561</pre>"
      ],
      "text/plain": [
       "recommendations finished on 1000/107488 queries. users per second: 317561"
      ]
     },
     "metadata": {},
     "output_type": "display_data"
    },
    {
     "data": {
      "text/html": [
       "<pre>recommendations finished on 2000/107488 queries. users per second: 451060</pre>"
      ],
      "text/plain": [
       "recommendations finished on 2000/107488 queries. users per second: 451060"
      ]
     },
     "metadata": {},
     "output_type": "display_data"
    },
    {
     "data": {
      "text/html": [
       "<pre>recommendations finished on 3000/107488 queries. users per second: 495376</pre>"
      ],
      "text/plain": [
       "recommendations finished on 3000/107488 queries. users per second: 495376"
      ]
     },
     "metadata": {},
     "output_type": "display_data"
    },
    {
     "data": {
      "text/html": [
       "<pre>recommendations finished on 4000/107488 queries. users per second: 525279</pre>"
      ],
      "text/plain": [
       "recommendations finished on 4000/107488 queries. users per second: 525279"
      ]
     },
     "metadata": {},
     "output_type": "display_data"
    },
    {
     "data": {
      "text/html": [
       "<pre>recommendations finished on 5000/107488 queries. users per second: 527649</pre>"
      ],
      "text/plain": [
       "recommendations finished on 5000/107488 queries. users per second: 527649"
      ]
     },
     "metadata": {},
     "output_type": "display_data"
    },
    {
     "data": {
      "text/html": [
       "<pre>recommendations finished on 6000/107488 queries. users per second: 545951</pre>"
      ],
      "text/plain": [
       "recommendations finished on 6000/107488 queries. users per second: 545951"
      ]
     },
     "metadata": {},
     "output_type": "display_data"
    },
    {
     "data": {
      "text/html": [
       "<pre>recommendations finished on 7000/107488 queries. users per second: 533415</pre>"
      ],
      "text/plain": [
       "recommendations finished on 7000/107488 queries. users per second: 533415"
      ]
     },
     "metadata": {},
     "output_type": "display_data"
    },
    {
     "data": {
      "text/html": [
       "<pre>recommendations finished on 8000/107488 queries. users per second: 540614</pre>"
      ],
      "text/plain": [
       "recommendations finished on 8000/107488 queries. users per second: 540614"
      ]
     },
     "metadata": {},
     "output_type": "display_data"
    },
    {
     "data": {
      "text/html": [
       "<pre>recommendations finished on 9000/107488 queries. users per second: 526193</pre>"
      ],
      "text/plain": [
       "recommendations finished on 9000/107488 queries. users per second: 526193"
      ]
     },
     "metadata": {},
     "output_type": "display_data"
    },
    {
     "data": {
      "text/html": [
       "<pre>recommendations finished on 10000/107488 queries. users per second: 526482</pre>"
      ],
      "text/plain": [
       "recommendations finished on 10000/107488 queries. users per second: 526482"
      ]
     },
     "metadata": {},
     "output_type": "display_data"
    },
    {
     "data": {
      "text/html": [
       "<pre>recommendations finished on 11000/107488 queries. users per second: 529457</pre>"
      ],
      "text/plain": [
       "recommendations finished on 11000/107488 queries. users per second: 529457"
      ]
     },
     "metadata": {},
     "output_type": "display_data"
    },
    {
     "data": {
      "text/html": [
       "<pre>recommendations finished on 12000/107488 queries. users per second: 524980</pre>"
      ],
      "text/plain": [
       "recommendations finished on 12000/107488 queries. users per second: 524980"
      ]
     },
     "metadata": {},
     "output_type": "display_data"
    },
    {
     "data": {
      "text/html": [
       "<pre>recommendations finished on 13000/107488 queries. users per second: 517145</pre>"
      ],
      "text/plain": [
       "recommendations finished on 13000/107488 queries. users per second: 517145"
      ]
     },
     "metadata": {},
     "output_type": "display_data"
    },
    {
     "data": {
      "text/html": [
       "<pre>recommendations finished on 14000/107488 queries. users per second: 511303</pre>"
      ],
      "text/plain": [
       "recommendations finished on 14000/107488 queries. users per second: 511303"
      ]
     },
     "metadata": {},
     "output_type": "display_data"
    },
    {
     "data": {
      "text/html": [
       "<pre>recommendations finished on 15000/107488 queries. users per second: 518296</pre>"
      ],
      "text/plain": [
       "recommendations finished on 15000/107488 queries. users per second: 518296"
      ]
     },
     "metadata": {},
     "output_type": "display_data"
    },
    {
     "data": {
      "text/html": [
       "<pre>recommendations finished on 16000/107488 queries. users per second: 522534</pre>"
      ],
      "text/plain": [
       "recommendations finished on 16000/107488 queries. users per second: 522534"
      ]
     },
     "metadata": {},
     "output_type": "display_data"
    },
    {
     "data": {
      "text/html": [
       "<pre>recommendations finished on 17000/107488 queries. users per second: 531399</pre>"
      ],
      "text/plain": [
       "recommendations finished on 17000/107488 queries. users per second: 531399"
      ]
     },
     "metadata": {},
     "output_type": "display_data"
    },
    {
     "data": {
      "text/html": [
       "<pre>recommendations finished on 18000/107488 queries. users per second: 536513</pre>"
      ],
      "text/plain": [
       "recommendations finished on 18000/107488 queries. users per second: 536513"
      ]
     },
     "metadata": {},
     "output_type": "display_data"
    },
    {
     "data": {
      "text/html": [
       "<pre>recommendations finished on 19000/107488 queries. users per second: 538686</pre>"
      ],
      "text/plain": [
       "recommendations finished on 19000/107488 queries. users per second: 538686"
      ]
     },
     "metadata": {},
     "output_type": "display_data"
    },
    {
     "data": {
      "text/html": [
       "<pre>recommendations finished on 20000/107488 queries. users per second: 546269</pre>"
      ],
      "text/plain": [
       "recommendations finished on 20000/107488 queries. users per second: 546269"
      ]
     },
     "metadata": {},
     "output_type": "display_data"
    },
    {
     "data": {
      "text/html": [
       "<pre>recommendations finished on 21000/107488 queries. users per second: 541894</pre>"
      ],
      "text/plain": [
       "recommendations finished on 21000/107488 queries. users per second: 541894"
      ]
     },
     "metadata": {},
     "output_type": "display_data"
    },
    {
     "data": {
      "text/html": [
       "<pre>recommendations finished on 22000/107488 queries. users per second: 534733</pre>"
      ],
      "text/plain": [
       "recommendations finished on 22000/107488 queries. users per second: 534733"
      ]
     },
     "metadata": {},
     "output_type": "display_data"
    },
    {
     "data": {
      "text/html": [
       "<pre>recommendations finished on 23000/107488 queries. users per second: 525750</pre>"
      ],
      "text/plain": [
       "recommendations finished on 23000/107488 queries. users per second: 525750"
      ]
     },
     "metadata": {},
     "output_type": "display_data"
    },
    {
     "data": {
      "text/html": [
       "<pre>recommendations finished on 24000/107488 queries. users per second: 516796</pre>"
      ],
      "text/plain": [
       "recommendations finished on 24000/107488 queries. users per second: 516796"
      ]
     },
     "metadata": {},
     "output_type": "display_data"
    },
    {
     "data": {
      "text/html": [
       "<pre>recommendations finished on 25000/107488 queries. users per second: 515772</pre>"
      ],
      "text/plain": [
       "recommendations finished on 25000/107488 queries. users per second: 515772"
      ]
     },
     "metadata": {},
     "output_type": "display_data"
    },
    {
     "data": {
      "text/html": [
       "<pre>recommendations finished on 26000/107488 queries. users per second: 510996</pre>"
      ],
      "text/plain": [
       "recommendations finished on 26000/107488 queries. users per second: 510996"
      ]
     },
     "metadata": {},
     "output_type": "display_data"
    },
    {
     "data": {
      "text/html": [
       "<pre>recommendations finished on 27000/107488 queries. users per second: 516717</pre>"
      ],
      "text/plain": [
       "recommendations finished on 27000/107488 queries. users per second: 516717"
      ]
     },
     "metadata": {},
     "output_type": "display_data"
    },
    {
     "data": {
      "text/html": [
       "<pre>recommendations finished on 28000/107488 queries. users per second: 515891</pre>"
      ],
      "text/plain": [
       "recommendations finished on 28000/107488 queries. users per second: 515891"
      ]
     },
     "metadata": {},
     "output_type": "display_data"
    },
    {
     "data": {
      "text/html": [
       "<pre>recommendations finished on 29000/107488 queries. users per second: 517072</pre>"
      ],
      "text/plain": [
       "recommendations finished on 29000/107488 queries. users per second: 517072"
      ]
     },
     "metadata": {},
     "output_type": "display_data"
    },
    {
     "data": {
      "text/html": [
       "<pre>recommendations finished on 30000/107488 queries. users per second: 516849</pre>"
      ],
      "text/plain": [
       "recommendations finished on 30000/107488 queries. users per second: 516849"
      ]
     },
     "metadata": {},
     "output_type": "display_data"
    },
    {
     "data": {
      "text/html": [
       "<pre>recommendations finished on 31000/107488 queries. users per second: 508622</pre>"
      ],
      "text/plain": [
       "recommendations finished on 31000/107488 queries. users per second: 508622"
      ]
     },
     "metadata": {},
     "output_type": "display_data"
    },
    {
     "data": {
      "text/html": [
       "<pre>recommendations finished on 32000/107488 queries. users per second: 511812</pre>"
      ],
      "text/plain": [
       "recommendations finished on 32000/107488 queries. users per second: 511812"
      ]
     },
     "metadata": {},
     "output_type": "display_data"
    },
    {
     "data": {
      "text/html": [
       "<pre>recommendations finished on 33000/107488 queries. users per second: 517972</pre>"
      ],
      "text/plain": [
       "recommendations finished on 33000/107488 queries. users per second: 517972"
      ]
     },
     "metadata": {},
     "output_type": "display_data"
    },
    {
     "data": {
      "text/html": [
       "<pre>recommendations finished on 34000/107488 queries. users per second: 521392</pre>"
      ],
      "text/plain": [
       "recommendations finished on 34000/107488 queries. users per second: 521392"
      ]
     },
     "metadata": {},
     "output_type": "display_data"
    },
    {
     "data": {
      "text/html": [
       "<pre>recommendations finished on 35000/107488 queries. users per second: 517606</pre>"
      ],
      "text/plain": [
       "recommendations finished on 35000/107488 queries. users per second: 517606"
      ]
     },
     "metadata": {},
     "output_type": "display_data"
    },
    {
     "data": {
      "text/html": [
       "<pre>recommendations finished on 36000/107488 queries. users per second: 504527</pre>"
      ],
      "text/plain": [
       "recommendations finished on 36000/107488 queries. users per second: 504527"
      ]
     },
     "metadata": {},
     "output_type": "display_data"
    },
    {
     "data": {
      "text/html": [
       "<pre>recommendations finished on 37000/107488 queries. users per second: 501111</pre>"
      ],
      "text/plain": [
       "recommendations finished on 37000/107488 queries. users per second: 501111"
      ]
     },
     "metadata": {},
     "output_type": "display_data"
    },
    {
     "data": {
      "text/html": [
       "<pre>recommendations finished on 38000/107488 queries. users per second: 505716</pre>"
      ],
      "text/plain": [
       "recommendations finished on 38000/107488 queries. users per second: 505716"
      ]
     },
     "metadata": {},
     "output_type": "display_data"
    },
    {
     "data": {
      "text/html": [
       "<pre>recommendations finished on 39000/107488 queries. users per second: 507971</pre>"
      ],
      "text/plain": [
       "recommendations finished on 39000/107488 queries. users per second: 507971"
      ]
     },
     "metadata": {},
     "output_type": "display_data"
    },
    {
     "data": {
      "text/html": [
       "<pre>recommendations finished on 40000/107488 queries. users per second: 508641</pre>"
      ],
      "text/plain": [
       "recommendations finished on 40000/107488 queries. users per second: 508641"
      ]
     },
     "metadata": {},
     "output_type": "display_data"
    },
    {
     "data": {
      "text/html": [
       "<pre>recommendations finished on 41000/107488 queries. users per second: 497337</pre>"
      ],
      "text/plain": [
       "recommendations finished on 41000/107488 queries. users per second: 497337"
      ]
     },
     "metadata": {},
     "output_type": "display_data"
    },
    {
     "data": {
      "text/html": [
       "<pre>recommendations finished on 42000/107488 queries. users per second: 496571</pre>"
      ],
      "text/plain": [
       "recommendations finished on 42000/107488 queries. users per second: 496571"
      ]
     },
     "metadata": {},
     "output_type": "display_data"
    },
    {
     "data": {
      "text/html": [
       "<pre>recommendations finished on 43000/107488 queries. users per second: 501294</pre>"
      ],
      "text/plain": [
       "recommendations finished on 43000/107488 queries. users per second: 501294"
      ]
     },
     "metadata": {},
     "output_type": "display_data"
    },
    {
     "data": {
      "text/html": [
       "<pre>recommendations finished on 44000/107488 queries. users per second: 505439</pre>"
      ],
      "text/plain": [
       "recommendations finished on 44000/107488 queries. users per second: 505439"
      ]
     },
     "metadata": {},
     "output_type": "display_data"
    },
    {
     "data": {
      "text/html": [
       "<pre>recommendations finished on 45000/107488 queries. users per second: 508078</pre>"
      ],
      "text/plain": [
       "recommendations finished on 45000/107488 queries. users per second: 508078"
      ]
     },
     "metadata": {},
     "output_type": "display_data"
    },
    {
     "data": {
      "text/html": [
       "<pre>recommendations finished on 46000/107488 queries. users per second: 509526</pre>"
      ],
      "text/plain": [
       "recommendations finished on 46000/107488 queries. users per second: 509526"
      ]
     },
     "metadata": {},
     "output_type": "display_data"
    },
    {
     "data": {
      "text/html": [
       "<pre>recommendations finished on 47000/107488 queries. users per second: 510055</pre>"
      ],
      "text/plain": [
       "recommendations finished on 47000/107488 queries. users per second: 510055"
      ]
     },
     "metadata": {},
     "output_type": "display_data"
    },
    {
     "data": {
      "text/html": [
       "<pre>recommendations finished on 48000/107488 queries. users per second: 511013</pre>"
      ],
      "text/plain": [
       "recommendations finished on 48000/107488 queries. users per second: 511013"
      ]
     },
     "metadata": {},
     "output_type": "display_data"
    },
    {
     "data": {
      "text/html": [
       "<pre>recommendations finished on 49000/107488 queries. users per second: 500838</pre>"
      ],
      "text/plain": [
       "recommendations finished on 49000/107488 queries. users per second: 500838"
      ]
     },
     "metadata": {},
     "output_type": "display_data"
    },
    {
     "data": {
      "text/html": [
       "<pre>recommendations finished on 50000/107488 queries. users per second: 496455</pre>"
      ],
      "text/plain": [
       "recommendations finished on 50000/107488 queries. users per second: 496455"
      ]
     },
     "metadata": {},
     "output_type": "display_data"
    },
    {
     "data": {
      "text/html": [
       "<pre>recommendations finished on 51000/107488 queries. users per second: 494172</pre>"
      ],
      "text/plain": [
       "recommendations finished on 51000/107488 queries. users per second: 494172"
      ]
     },
     "metadata": {},
     "output_type": "display_data"
    },
    {
     "data": {
      "text/html": [
       "<pre>recommendations finished on 52000/107488 queries. users per second: 495762</pre>"
      ],
      "text/plain": [
       "recommendations finished on 52000/107488 queries. users per second: 495762"
      ]
     },
     "metadata": {},
     "output_type": "display_data"
    },
    {
     "data": {
      "text/html": [
       "<pre>recommendations finished on 53000/107488 queries. users per second: 498828</pre>"
      ],
      "text/plain": [
       "recommendations finished on 53000/107488 queries. users per second: 498828"
      ]
     },
     "metadata": {},
     "output_type": "display_data"
    },
    {
     "data": {
      "text/html": [
       "<pre>recommendations finished on 54000/107488 queries. users per second: 498523</pre>"
      ],
      "text/plain": [
       "recommendations finished on 54000/107488 queries. users per second: 498523"
      ]
     },
     "metadata": {},
     "output_type": "display_data"
    },
    {
     "data": {
      "text/html": [
       "<pre>recommendations finished on 55000/107488 queries. users per second: 499292</pre>"
      ],
      "text/plain": [
       "recommendations finished on 55000/107488 queries. users per second: 499292"
      ]
     },
     "metadata": {},
     "output_type": "display_data"
    },
    {
     "data": {
      "text/html": [
       "<pre>recommendations finished on 56000/107488 queries. users per second: 500375</pre>"
      ],
      "text/plain": [
       "recommendations finished on 56000/107488 queries. users per second: 500375"
      ]
     },
     "metadata": {},
     "output_type": "display_data"
    },
    {
     "data": {
      "text/html": [
       "<pre>recommendations finished on 57000/107488 queries. users per second: 501244</pre>"
      ],
      "text/plain": [
       "recommendations finished on 57000/107488 queries. users per second: 501244"
      ]
     },
     "metadata": {},
     "output_type": "display_data"
    },
    {
     "data": {
      "text/html": [
       "<pre>recommendations finished on 58000/107488 queries. users per second: 500578</pre>"
      ],
      "text/plain": [
       "recommendations finished on 58000/107488 queries. users per second: 500578"
      ]
     },
     "metadata": {},
     "output_type": "display_data"
    },
    {
     "data": {
      "text/html": [
       "<pre>recommendations finished on 59000/107488 queries. users per second: 496207</pre>"
      ],
      "text/plain": [
       "recommendations finished on 59000/107488 queries. users per second: 496207"
      ]
     },
     "metadata": {},
     "output_type": "display_data"
    },
    {
     "data": {
      "text/html": [
       "<pre>recommendations finished on 60000/107488 queries. users per second: 495638</pre>"
      ],
      "text/plain": [
       "recommendations finished on 60000/107488 queries. users per second: 495638"
      ]
     },
     "metadata": {},
     "output_type": "display_data"
    },
    {
     "data": {
      "text/html": [
       "<pre>recommendations finished on 61000/107488 queries. users per second: 496238</pre>"
      ],
      "text/plain": [
       "recommendations finished on 61000/107488 queries. users per second: 496238"
      ]
     },
     "metadata": {},
     "output_type": "display_data"
    },
    {
     "data": {
      "text/html": [
       "<pre>recommendations finished on 62000/107488 queries. users per second: 497976</pre>"
      ],
      "text/plain": [
       "recommendations finished on 62000/107488 queries. users per second: 497976"
      ]
     },
     "metadata": {},
     "output_type": "display_data"
    },
    {
     "data": {
      "text/html": [
       "<pre>recommendations finished on 63000/107488 queries. users per second: 498343</pre>"
      ],
      "text/plain": [
       "recommendations finished on 63000/107488 queries. users per second: 498343"
      ]
     },
     "metadata": {},
     "output_type": "display_data"
    },
    {
     "data": {
      "text/html": [
       "<pre>recommendations finished on 64000/107488 queries. users per second: 498446</pre>"
      ],
      "text/plain": [
       "recommendations finished on 64000/107488 queries. users per second: 498446"
      ]
     },
     "metadata": {},
     "output_type": "display_data"
    },
    {
     "data": {
      "text/html": [
       "<pre>recommendations finished on 65000/107488 queries. users per second: 498493</pre>"
      ],
      "text/plain": [
       "recommendations finished on 65000/107488 queries. users per second: 498493"
      ]
     },
     "metadata": {},
     "output_type": "display_data"
    },
    {
     "data": {
      "text/html": [
       "<pre>recommendations finished on 66000/107488 queries. users per second: 499308</pre>"
      ],
      "text/plain": [
       "recommendations finished on 66000/107488 queries. users per second: 499308"
      ]
     },
     "metadata": {},
     "output_type": "display_data"
    },
    {
     "data": {
      "text/html": [
       "<pre>recommendations finished on 67000/107488 queries. users per second: 499631</pre>"
      ],
      "text/plain": [
       "recommendations finished on 67000/107488 queries. users per second: 499631"
      ]
     },
     "metadata": {},
     "output_type": "display_data"
    },
    {
     "data": {
      "text/html": [
       "<pre>recommendations finished on 68000/107488 queries. users per second: 498231</pre>"
      ],
      "text/plain": [
       "recommendations finished on 68000/107488 queries. users per second: 498231"
      ]
     },
     "metadata": {},
     "output_type": "display_data"
    },
    {
     "data": {
      "text/html": [
       "<pre>recommendations finished on 69000/107488 queries. users per second: 496968</pre>"
      ],
      "text/plain": [
       "recommendations finished on 69000/107488 queries. users per second: 496968"
      ]
     },
     "metadata": {},
     "output_type": "display_data"
    },
    {
     "data": {
      "text/html": [
       "<pre>recommendations finished on 70000/107488 queries. users per second: 483937</pre>"
      ],
      "text/plain": [
       "recommendations finished on 70000/107488 queries. users per second: 483937"
      ]
     },
     "metadata": {},
     "output_type": "display_data"
    },
    {
     "data": {
      "text/html": [
       "<pre>recommendations finished on 71000/107488 queries. users per second: 484423</pre>"
      ],
      "text/plain": [
       "recommendations finished on 71000/107488 queries. users per second: 484423"
      ]
     },
     "metadata": {},
     "output_type": "display_data"
    },
    {
     "data": {
      "text/html": [
       "<pre>recommendations finished on 72000/107488 queries. users per second: 484271</pre>"
      ],
      "text/plain": [
       "recommendations finished on 72000/107488 queries. users per second: 484271"
      ]
     },
     "metadata": {},
     "output_type": "display_data"
    },
    {
     "data": {
      "text/html": [
       "<pre>recommendations finished on 73000/107488 queries. users per second: 481191</pre>"
      ],
      "text/plain": [
       "recommendations finished on 73000/107488 queries. users per second: 481191"
      ]
     },
     "metadata": {},
     "output_type": "display_data"
    },
    {
     "data": {
      "text/html": [
       "<pre>recommendations finished on 74000/107488 queries. users per second: 479902</pre>"
      ],
      "text/plain": [
       "recommendations finished on 74000/107488 queries. users per second: 479902"
      ]
     },
     "metadata": {},
     "output_type": "display_data"
    },
    {
     "data": {
      "text/html": [
       "<pre>recommendations finished on 75000/107488 queries. users per second: 481393</pre>"
      ],
      "text/plain": [
       "recommendations finished on 75000/107488 queries. users per second: 481393"
      ]
     },
     "metadata": {},
     "output_type": "display_data"
    },
    {
     "data": {
      "text/html": [
       "<pre>recommendations finished on 76000/107488 queries. users per second: 484070</pre>"
      ],
      "text/plain": [
       "recommendations finished on 76000/107488 queries. users per second: 484070"
      ]
     },
     "metadata": {},
     "output_type": "display_data"
    },
    {
     "data": {
      "text/html": [
       "<pre>recommendations finished on 77000/107488 queries. users per second: 485624</pre>"
      ],
      "text/plain": [
       "recommendations finished on 77000/107488 queries. users per second: 485624"
      ]
     },
     "metadata": {},
     "output_type": "display_data"
    },
    {
     "data": {
      "text/html": [
       "<pre>recommendations finished on 78000/107488 queries. users per second: 482859</pre>"
      ],
      "text/plain": [
       "recommendations finished on 78000/107488 queries. users per second: 482859"
      ]
     },
     "metadata": {},
     "output_type": "display_data"
    },
    {
     "data": {
      "text/html": [
       "<pre>recommendations finished on 79000/107488 queries. users per second: 483384</pre>"
      ],
      "text/plain": [
       "recommendations finished on 79000/107488 queries. users per second: 483384"
      ]
     },
     "metadata": {},
     "output_type": "display_data"
    },
    {
     "data": {
      "text/html": [
       "<pre>recommendations finished on 80000/107488 queries. users per second: 485298</pre>"
      ],
      "text/plain": [
       "recommendations finished on 80000/107488 queries. users per second: 485298"
      ]
     },
     "metadata": {},
     "output_type": "display_data"
    },
    {
     "data": {
      "text/html": [
       "<pre>recommendations finished on 81000/107488 queries. users per second: 482611</pre>"
      ],
      "text/plain": [
       "recommendations finished on 81000/107488 queries. users per second: 482611"
      ]
     },
     "metadata": {},
     "output_type": "display_data"
    },
    {
     "data": {
      "text/html": [
       "<pre>recommendations finished on 82000/107488 queries. users per second: 481455</pre>"
      ],
      "text/plain": [
       "recommendations finished on 82000/107488 queries. users per second: 481455"
      ]
     },
     "metadata": {},
     "output_type": "display_data"
    },
    {
     "data": {
      "text/html": [
       "<pre>recommendations finished on 83000/107488 queries. users per second: 483587</pre>"
      ],
      "text/plain": [
       "recommendations finished on 83000/107488 queries. users per second: 483587"
      ]
     },
     "metadata": {},
     "output_type": "display_data"
    },
    {
     "data": {
      "text/html": [
       "<pre>recommendations finished on 84000/107488 queries. users per second: 484362</pre>"
      ],
      "text/plain": [
       "recommendations finished on 84000/107488 queries. users per second: 484362"
      ]
     },
     "metadata": {},
     "output_type": "display_data"
    },
    {
     "data": {
      "text/html": [
       "<pre>recommendations finished on 85000/107488 queries. users per second: 482998</pre>"
      ],
      "text/plain": [
       "recommendations finished on 85000/107488 queries. users per second: 482998"
      ]
     },
     "metadata": {},
     "output_type": "display_data"
    },
    {
     "data": {
      "text/html": [
       "<pre>recommendations finished on 86000/107488 queries. users per second: 479341</pre>"
      ],
      "text/plain": [
       "recommendations finished on 86000/107488 queries. users per second: 479341"
      ]
     },
     "metadata": {},
     "output_type": "display_data"
    },
    {
     "data": {
      "text/html": [
       "<pre>recommendations finished on 87000/107488 queries. users per second: 479579</pre>"
      ],
      "text/plain": [
       "recommendations finished on 87000/107488 queries. users per second: 479579"
      ]
     },
     "metadata": {},
     "output_type": "display_data"
    },
    {
     "data": {
      "text/html": [
       "<pre>recommendations finished on 88000/107488 queries. users per second: 479933</pre>"
      ],
      "text/plain": [
       "recommendations finished on 88000/107488 queries. users per second: 479933"
      ]
     },
     "metadata": {},
     "output_type": "display_data"
    },
    {
     "data": {
      "text/html": [
       "<pre>recommendations finished on 89000/107488 queries. users per second: 481331</pre>"
      ],
      "text/plain": [
       "recommendations finished on 89000/107488 queries. users per second: 481331"
      ]
     },
     "metadata": {},
     "output_type": "display_data"
    },
    {
     "data": {
      "text/html": [
       "<pre>recommendations finished on 90000/107488 queries. users per second: 468323</pre>"
      ],
      "text/plain": [
       "recommendations finished on 90000/107488 queries. users per second: 468323"
      ]
     },
     "metadata": {},
     "output_type": "display_data"
    },
    {
     "data": {
      "text/html": [
       "<pre>recommendations finished on 91000/107488 queries. users per second: 468023</pre>"
      ],
      "text/plain": [
       "recommendations finished on 91000/107488 queries. users per second: 468023"
      ]
     },
     "metadata": {},
     "output_type": "display_data"
    },
    {
     "data": {
      "text/html": [
       "<pre>recommendations finished on 92000/107488 queries. users per second: 467005</pre>"
      ],
      "text/plain": [
       "recommendations finished on 92000/107488 queries. users per second: 467005"
      ]
     },
     "metadata": {},
     "output_type": "display_data"
    },
    {
     "data": {
      "text/html": [
       "<pre>recommendations finished on 93000/107488 queries. users per second: 466128</pre>"
      ],
      "text/plain": [
       "recommendations finished on 93000/107488 queries. users per second: 466128"
      ]
     },
     "metadata": {},
     "output_type": "display_data"
    },
    {
     "data": {
      "text/html": [
       "<pre>recommendations finished on 94000/107488 queries. users per second: 463246</pre>"
      ],
      "text/plain": [
       "recommendations finished on 94000/107488 queries. users per second: 463246"
      ]
     },
     "metadata": {},
     "output_type": "display_data"
    },
    {
     "data": {
      "text/html": [
       "<pre>recommendations finished on 95000/107488 queries. users per second: 452914</pre>"
      ],
      "text/plain": [
       "recommendations finished on 95000/107488 queries. users per second: 452914"
      ]
     },
     "metadata": {},
     "output_type": "display_data"
    },
    {
     "data": {
      "text/html": [
       "<pre>recommendations finished on 96000/107488 queries. users per second: 450651</pre>"
      ],
      "text/plain": [
       "recommendations finished on 96000/107488 queries. users per second: 450651"
      ]
     },
     "metadata": {},
     "output_type": "display_data"
    },
    {
     "data": {
      "text/html": [
       "<pre>recommendations finished on 97000/107488 queries. users per second: 450223</pre>"
      ],
      "text/plain": [
       "recommendations finished on 97000/107488 queries. users per second: 450223"
      ]
     },
     "metadata": {},
     "output_type": "display_data"
    },
    {
     "data": {
      "text/html": [
       "<pre>recommendations finished on 98000/107488 queries. users per second: 450956</pre>"
      ],
      "text/plain": [
       "recommendations finished on 98000/107488 queries. users per second: 450956"
      ]
     },
     "metadata": {},
     "output_type": "display_data"
    },
    {
     "data": {
      "text/html": [
       "<pre>recommendations finished on 99000/107488 queries. users per second: 447371</pre>"
      ],
      "text/plain": [
       "recommendations finished on 99000/107488 queries. users per second: 447371"
      ]
     },
     "metadata": {},
     "output_type": "display_data"
    },
    {
     "data": {
      "text/html": [
       "<pre>recommendations finished on 100000/107488 queries. users per second: 422256</pre>"
      ],
      "text/plain": [
       "recommendations finished on 100000/107488 queries. users per second: 422256"
      ]
     },
     "metadata": {},
     "output_type": "display_data"
    },
    {
     "data": {
      "text/html": [
       "<pre>recommendations finished on 101000/107488 queries. users per second: 416440</pre>"
      ],
      "text/plain": [
       "recommendations finished on 101000/107488 queries. users per second: 416440"
      ]
     },
     "metadata": {},
     "output_type": "display_data"
    },
    {
     "data": {
      "text/html": [
       "<pre>recommendations finished on 102000/107488 queries. users per second: 415590</pre>"
      ],
      "text/plain": [
       "recommendations finished on 102000/107488 queries. users per second: 415590"
      ]
     },
     "metadata": {},
     "output_type": "display_data"
    },
    {
     "data": {
      "text/html": [
       "<pre>recommendations finished on 103000/107488 queries. users per second: 409686</pre>"
      ],
      "text/plain": [
       "recommendations finished on 103000/107488 queries. users per second: 409686"
      ]
     },
     "metadata": {},
     "output_type": "display_data"
    },
    {
     "data": {
      "text/html": [
       "<pre>recommendations finished on 104000/107488 queries. users per second: 406163</pre>"
      ],
      "text/plain": [
       "recommendations finished on 104000/107488 queries. users per second: 406163"
      ]
     },
     "metadata": {},
     "output_type": "display_data"
    },
    {
     "data": {
      "text/html": [
       "<pre>recommendations finished on 105000/107488 queries. users per second: 398679</pre>"
      ],
      "text/plain": [
       "recommendations finished on 105000/107488 queries. users per second: 398679"
      ]
     },
     "metadata": {},
     "output_type": "display_data"
    },
    {
     "data": {
      "text/html": [
       "<pre>recommendations finished on 106000/107488 queries. users per second: 393284</pre>"
      ],
      "text/plain": [
       "recommendations finished on 106000/107488 queries. users per second: 393284"
      ]
     },
     "metadata": {},
     "output_type": "display_data"
    },
    {
     "data": {
      "text/html": [
       "<pre>recommendations finished on 107000/107488 queries. users per second: 383341</pre>"
      ],
      "text/plain": [
       "recommendations finished on 107000/107488 queries. users per second: 383341"
      ]
     },
     "metadata": {},
     "output_type": "display_data"
    },
    {
     "name": "stdout",
     "output_type": "stream",
     "text": [
      "+---------+---------------+----------------------+------+\n",
      "| user_id | department_id |        score         | rank |\n",
      "+---------+---------------+----------------------+------+\n",
      "|    2    |       9       | 0.045595894907676564 |  1   |\n",
      "|    2    |       10      | 0.03709835320162373  |  2   |\n",
      "|    2    |       5       | 0.03683785411924565  |  3   |\n",
      "|    2    |       21      | 0.02921286430793611  |  4   |\n",
      "|    2    |       18      | 0.02654888435216044  |  5   |\n",
      "|    3    |       12      | 0.061127884971668656 |  1   |\n",
      "|    3    |       5       | 0.03612370437923846  |  2   |\n",
      "|    3    |       10      | 0.03579834889867782  |  3   |\n",
      "|    3    |       3       | 0.03162397605053096  |  4   |\n",
      "|    3    |       6       | 0.03073410768606961  |  5   |\n",
      "|    4    |       12      | 0.05788664399342769  |  1   |\n",
      "|    4    |       9       | 0.03669518017197705  |  2   |\n",
      "|    4    |       10      | 0.035260979912336135 |  3   |\n",
      "|    4    |       13      | 0.030475874809106837 |  4   |\n",
      "|    4    |       6       | 0.02857413470048408  |  5   |\n",
      "|    5    |       12      |  0.055149088754492   |  1   |\n",
      "|    5    |       5       | 0.035809779960683095 |  2   |\n",
      "|    5    |       10      | 0.03491113376119613  |  3   |\n",
      "|    5    |       21      | 0.026305269753491446 |  4   |\n",
      "|    5    |       3       | 0.02551695699696583  |  5   |\n",
      "|    7    |       9       | 0.04746938198895974  |  1   |\n",
      "|    7    |       10      | 0.03730848058891508  |  2   |\n",
      "|    7    |       5       | 0.03694659782658462  |  3   |\n",
      "|    7    |       6       | 0.03575812193385793  |  4   |\n",
      "|    7    |       21      | 0.029184533379696044 |  5   |\n",
      "|    9    |       9       | 0.03731357734263891  |  1   |\n",
      "|    9    |       5       | 0.036073149451640765 |  2   |\n",
      "|    9    |       10      |  0.0355368398877434  |  3   |\n",
      "|    9    |       6       | 0.029115998488371524 |  4   |\n",
      "|    9    |       21      | 0.02727187114563424  |  5   |\n",
      "+---------+---------------+----------------------+------+\n",
      "[528197 rows x 4 columns]\n",
      "\n"
     ]
    }
   ],
   "source": [
    "final_model = tc.item_similarity_recommender.create(tc.SFrame(data_norm), \n",
    "                                            user_id=user_id, \n",
    "                                            item_id=depart_id, \n",
    "                                            target='scaled_purchase_freq', similarity_type='pearson')\n",
    "recom = final_model.recommend(users=users_to_recommend, k=n_rec)\n",
    "recom.print_rows(n_display)"
   ]
  },
  {
   "cell_type": "code",
   "execution_count": 180,
   "metadata": {},
   "outputs": [
    {
     "name": "stdout",
     "output_type": "stream",
     "text": [
      "(528197, 4)\n"
     ]
    },
    {
     "data": {
      "text/html": [
       "<div>\n",
       "<style scoped>\n",
       "    .dataframe tbody tr th:only-of-type {\n",
       "        vertical-align: middle;\n",
       "    }\n",
       "\n",
       "    .dataframe tbody tr th {\n",
       "        vertical-align: top;\n",
       "    }\n",
       "\n",
       "    .dataframe thead th {\n",
       "        text-align: right;\n",
       "    }\n",
       "</style>\n",
       "<table border=\"1\" class=\"dataframe\">\n",
       "  <thead>\n",
       "    <tr style=\"text-align: right;\">\n",
       "      <th></th>\n",
       "      <th>user_id</th>\n",
       "      <th>department_id</th>\n",
       "      <th>score</th>\n",
       "      <th>rank</th>\n",
       "    </tr>\n",
       "  </thead>\n",
       "  <tbody>\n",
       "    <tr>\n",
       "      <th>0</th>\n",
       "      <td>2</td>\n",
       "      <td>9</td>\n",
       "      <td>0.045596</td>\n",
       "      <td>1</td>\n",
       "    </tr>\n",
       "    <tr>\n",
       "      <th>1</th>\n",
       "      <td>2</td>\n",
       "      <td>10</td>\n",
       "      <td>0.037098</td>\n",
       "      <td>2</td>\n",
       "    </tr>\n",
       "    <tr>\n",
       "      <th>2</th>\n",
       "      <td>2</td>\n",
       "      <td>5</td>\n",
       "      <td>0.036838</td>\n",
       "      <td>3</td>\n",
       "    </tr>\n",
       "    <tr>\n",
       "      <th>3</th>\n",
       "      <td>2</td>\n",
       "      <td>21</td>\n",
       "      <td>0.029213</td>\n",
       "      <td>4</td>\n",
       "    </tr>\n",
       "    <tr>\n",
       "      <th>4</th>\n",
       "      <td>2</td>\n",
       "      <td>18</td>\n",
       "      <td>0.026549</td>\n",
       "      <td>5</td>\n",
       "    </tr>\n",
       "  </tbody>\n",
       "</table>\n",
       "</div>"
      ],
      "text/plain": [
       "   user_id  department_id     score  rank\n",
       "0        2              9  0.045596     1\n",
       "1        2             10  0.037098     2\n",
       "2        2              5  0.036838     3\n",
       "3        2             21  0.029213     4\n",
       "4        2             18  0.026549     5"
      ]
     },
     "execution_count": 180,
     "metadata": {},
     "output_type": "execute_result"
    }
   ],
   "source": [
    "df_rec = recom.to_dataframe()\n",
    "print(df_rec.shape)\n",
    "df_rec.head()"
   ]
  },
  {
   "cell_type": "code",
   "execution_count": 186,
   "metadata": {},
   "outputs": [
    {
     "data": {
      "text/html": [
       "<div>\n",
       "<style scoped>\n",
       "    .dataframe tbody tr th:only-of-type {\n",
       "        vertical-align: middle;\n",
       "    }\n",
       "\n",
       "    .dataframe tbody tr th {\n",
       "        vertical-align: top;\n",
       "    }\n",
       "\n",
       "    .dataframe thead th {\n",
       "        text-align: right;\n",
       "    }\n",
       "</style>\n",
       "<table border=\"1\" class=\"dataframe\">\n",
       "  <thead>\n",
       "    <tr style=\"text-align: right;\">\n",
       "      <th></th>\n",
       "      <th>user_id</th>\n",
       "      <th>department_id</th>\n",
       "      <th>score</th>\n",
       "      <th>rank</th>\n",
       "    </tr>\n",
       "  </thead>\n",
       "  <tbody>\n",
       "    <tr>\n",
       "      <th>0</th>\n",
       "      <td>2</td>\n",
       "      <td>9</td>\n",
       "      <td>0.045596</td>\n",
       "      <td>1</td>\n",
       "    </tr>\n",
       "    <tr>\n",
       "      <th>1</th>\n",
       "      <td>2</td>\n",
       "      <td>10</td>\n",
       "      <td>0.037098</td>\n",
       "      <td>2</td>\n",
       "    </tr>\n",
       "    <tr>\n",
       "      <th>2</th>\n",
       "      <td>2</td>\n",
       "      <td>5</td>\n",
       "      <td>0.036838</td>\n",
       "      <td>3</td>\n",
       "    </tr>\n",
       "    <tr>\n",
       "      <th>3</th>\n",
       "      <td>2</td>\n",
       "      <td>21</td>\n",
       "      <td>0.029213</td>\n",
       "      <td>4</td>\n",
       "    </tr>\n",
       "    <tr>\n",
       "      <th>4</th>\n",
       "      <td>2</td>\n",
       "      <td>18</td>\n",
       "      <td>0.026549</td>\n",
       "      <td>5</td>\n",
       "    </tr>\n",
       "    <tr>\n",
       "      <th>5</th>\n",
       "      <td>3</td>\n",
       "      <td>12</td>\n",
       "      <td>0.061128</td>\n",
       "      <td>1</td>\n",
       "    </tr>\n",
       "    <tr>\n",
       "      <th>6</th>\n",
       "      <td>3</td>\n",
       "      <td>5</td>\n",
       "      <td>0.036124</td>\n",
       "      <td>2</td>\n",
       "    </tr>\n",
       "    <tr>\n",
       "      <th>7</th>\n",
       "      <td>3</td>\n",
       "      <td>10</td>\n",
       "      <td>0.035798</td>\n",
       "      <td>3</td>\n",
       "    </tr>\n",
       "    <tr>\n",
       "      <th>8</th>\n",
       "      <td>3</td>\n",
       "      <td>3</td>\n",
       "      <td>0.031624</td>\n",
       "      <td>4</td>\n",
       "    </tr>\n",
       "    <tr>\n",
       "      <th>9</th>\n",
       "      <td>3</td>\n",
       "      <td>6</td>\n",
       "      <td>0.030734</td>\n",
       "      <td>5</td>\n",
       "    </tr>\n",
       "    <tr>\n",
       "      <th>10</th>\n",
       "      <td>4</td>\n",
       "      <td>12</td>\n",
       "      <td>0.057887</td>\n",
       "      <td>1</td>\n",
       "    </tr>\n",
       "    <tr>\n",
       "      <th>11</th>\n",
       "      <td>4</td>\n",
       "      <td>9</td>\n",
       "      <td>0.036695</td>\n",
       "      <td>2</td>\n",
       "    </tr>\n",
       "    <tr>\n",
       "      <th>12</th>\n",
       "      <td>4</td>\n",
       "      <td>10</td>\n",
       "      <td>0.035261</td>\n",
       "      <td>3</td>\n",
       "    </tr>\n",
       "    <tr>\n",
       "      <th>13</th>\n",
       "      <td>4</td>\n",
       "      <td>13</td>\n",
       "      <td>0.030476</td>\n",
       "      <td>4</td>\n",
       "    </tr>\n",
       "    <tr>\n",
       "      <th>14</th>\n",
       "      <td>4</td>\n",
       "      <td>6</td>\n",
       "      <td>0.028574</td>\n",
       "      <td>5</td>\n",
       "    </tr>\n",
       "    <tr>\n",
       "      <th>15</th>\n",
       "      <td>5</td>\n",
       "      <td>12</td>\n",
       "      <td>0.055149</td>\n",
       "      <td>1</td>\n",
       "    </tr>\n",
       "    <tr>\n",
       "      <th>16</th>\n",
       "      <td>5</td>\n",
       "      <td>5</td>\n",
       "      <td>0.035810</td>\n",
       "      <td>2</td>\n",
       "    </tr>\n",
       "    <tr>\n",
       "      <th>17</th>\n",
       "      <td>5</td>\n",
       "      <td>10</td>\n",
       "      <td>0.034911</td>\n",
       "      <td>3</td>\n",
       "    </tr>\n",
       "    <tr>\n",
       "      <th>18</th>\n",
       "      <td>5</td>\n",
       "      <td>21</td>\n",
       "      <td>0.026305</td>\n",
       "      <td>4</td>\n",
       "    </tr>\n",
       "    <tr>\n",
       "      <th>19</th>\n",
       "      <td>5</td>\n",
       "      <td>3</td>\n",
       "      <td>0.025517</td>\n",
       "      <td>5</td>\n",
       "    </tr>\n",
       "  </tbody>\n",
       "</table>\n",
       "</div>"
      ],
      "text/plain": [
       "    user_id  department_id     score  rank\n",
       "0         2              9  0.045596     1\n",
       "1         2             10  0.037098     2\n",
       "2         2              5  0.036838     3\n",
       "3         2             21  0.029213     4\n",
       "4         2             18  0.026549     5\n",
       "5         3             12  0.061128     1\n",
       "6         3              5  0.036124     2\n",
       "7         3             10  0.035798     3\n",
       "8         3              3  0.031624     4\n",
       "9         3              6  0.030734     5\n",
       "10        4             12  0.057887     1\n",
       "11        4              9  0.036695     2\n",
       "12        4             10  0.035261     3\n",
       "13        4             13  0.030476     4\n",
       "14        4              6  0.028574     5\n",
       "15        5             12  0.055149     1\n",
       "16        5              5  0.035810     2\n",
       "17        5             10  0.034911     3\n",
       "18        5             21  0.026305     4\n",
       "19        5              3  0.025517     5"
      ]
     },
     "execution_count": 186,
     "metadata": {},
     "output_type": "execute_result"
    }
   ],
   "source": [
    "df_rec.head(20)"
   ]
  },
  {
   "cell_type": "code",
   "execution_count": 189,
   "metadata": {},
   "outputs": [],
   "source": [
    "def create_output(model, users_to_recommend, n_rec, print_csv=True):\n",
    "    recomendation = model.recommend(users=users_to_recommend, k=n_rec)\n",
    "    df_rec = recom.to_dataframe()\n",
    "    rec_depart = df_rec.groupby([\"user_id\"])[\"department_id\"] \\\n",
    "        .transform(lambda x: ','.join(x.astype(str)))\n",
    "    df_output = df_rec[['user_id', 'recommendedDepartments']].drop_duplicates() \\\n",
    "        .sort_values('user_id').set_index('user_id')\n",
    "    if print_csv:\n",
    "        df_output.to_csv('recommendation.csv')\n",
    "        print(\"CSV succeed\")\n",
    "    return df_output"
   ]
  },
  {
   "cell_type": "code",
   "execution_count": 190,
   "metadata": {},
   "outputs": [
    {
     "data": {
      "text/html": [
       "<pre>recommendations finished on 1000/107488 queries. users per second: 360231</pre>"
      ],
      "text/plain": [
       "recommendations finished on 1000/107488 queries. users per second: 360231"
      ]
     },
     "metadata": {},
     "output_type": "display_data"
    },
    {
     "data": {
      "text/html": [
       "<pre>recommendations finished on 2000/107488 queries. users per second: 427350</pre>"
      ],
      "text/plain": [
       "recommendations finished on 2000/107488 queries. users per second: 427350"
      ]
     },
     "metadata": {},
     "output_type": "display_data"
    },
    {
     "data": {
      "text/html": [
       "<pre>recommendations finished on 3000/107488 queries. users per second: 452011</pre>"
      ],
      "text/plain": [
       "recommendations finished on 3000/107488 queries. users per second: 452011"
      ]
     },
     "metadata": {},
     "output_type": "display_data"
    },
    {
     "data": {
      "text/html": [
       "<pre>recommendations finished on 4000/107488 queries. users per second: 483384</pre>"
      ],
      "text/plain": [
       "recommendations finished on 4000/107488 queries. users per second: 483384"
      ]
     },
     "metadata": {},
     "output_type": "display_data"
    },
    {
     "data": {
      "text/html": [
       "<pre>recommendations finished on 5000/107488 queries. users per second: 505919</pre>"
      ],
      "text/plain": [
       "recommendations finished on 5000/107488 queries. users per second: 505919"
      ]
     },
     "metadata": {},
     "output_type": "display_data"
    },
    {
     "data": {
      "text/html": [
       "<pre>recommendations finished on 6000/107488 queries. users per second: 502302</pre>"
      ],
      "text/plain": [
       "recommendations finished on 6000/107488 queries. users per second: 502302"
      ]
     },
     "metadata": {},
     "output_type": "display_data"
    },
    {
     "data": {
      "text/html": [
       "<pre>recommendations finished on 7000/107488 queries. users per second: 508167</pre>"
      ],
      "text/plain": [
       "recommendations finished on 7000/107488 queries. users per second: 508167"
      ]
     },
     "metadata": {},
     "output_type": "display_data"
    },
    {
     "data": {
      "text/html": [
       "<pre>recommendations finished on 8000/107488 queries. users per second: 493553</pre>"
      ],
      "text/plain": [
       "recommendations finished on 8000/107488 queries. users per second: 493553"
      ]
     },
     "metadata": {},
     "output_type": "display_data"
    },
    {
     "data": {
      "text/html": [
       "<pre>recommendations finished on 9000/107488 queries. users per second: 502793</pre>"
      ],
      "text/plain": [
       "recommendations finished on 9000/107488 queries. users per second: 502793"
      ]
     },
     "metadata": {},
     "output_type": "display_data"
    },
    {
     "data": {
      "text/html": [
       "<pre>recommendations finished on 10000/107488 queries. users per second: 504236</pre>"
      ],
      "text/plain": [
       "recommendations finished on 10000/107488 queries. users per second: 504236"
      ]
     },
     "metadata": {},
     "output_type": "display_data"
    },
    {
     "data": {
      "text/html": [
       "<pre>recommendations finished on 11000/107488 queries. users per second: 488563</pre>"
      ],
      "text/plain": [
       "recommendations finished on 11000/107488 queries. users per second: 488563"
      ]
     },
     "metadata": {},
     "output_type": "display_data"
    },
    {
     "data": {
      "text/html": [
       "<pre>recommendations finished on 12000/107488 queries. users per second: 493746</pre>"
      ],
      "text/plain": [
       "recommendations finished on 12000/107488 queries. users per second: 493746"
      ]
     },
     "metadata": {},
     "output_type": "display_data"
    },
    {
     "data": {
      "text/html": [
       "<pre>recommendations finished on 13000/107488 queries. users per second: 505188</pre>"
      ],
      "text/plain": [
       "recommendations finished on 13000/107488 queries. users per second: 505188"
      ]
     },
     "metadata": {},
     "output_type": "display_data"
    },
    {
     "data": {
      "text/html": [
       "<pre>recommendations finished on 14000/107488 queries. users per second: 504323</pre>"
      ],
      "text/plain": [
       "recommendations finished on 14000/107488 queries. users per second: 504323"
      ]
     },
     "metadata": {},
     "output_type": "display_data"
    },
    {
     "data": {
      "text/html": [
       "<pre>recommendations finished on 15000/107488 queries. users per second: 503322</pre>"
      ],
      "text/plain": [
       "recommendations finished on 15000/107488 queries. users per second: 503322"
      ]
     },
     "metadata": {},
     "output_type": "display_data"
    },
    {
     "data": {
      "text/html": [
       "<pre>recommendations finished on 16000/107488 queries. users per second: 508728</pre>"
      ],
      "text/plain": [
       "recommendations finished on 16000/107488 queries. users per second: 508728"
      ]
     },
     "metadata": {},
     "output_type": "display_data"
    },
    {
     "data": {
      "text/html": [
       "<pre>recommendations finished on 17000/107488 queries. users per second: 500854</pre>"
      ],
      "text/plain": [
       "recommendations finished on 17000/107488 queries. users per second: 500854"
      ]
     },
     "metadata": {},
     "output_type": "display_data"
    },
    {
     "data": {
      "text/html": [
       "<pre>recommendations finished on 18000/107488 queries. users per second: 501253</pre>"
      ],
      "text/plain": [
       "recommendations finished on 18000/107488 queries. users per second: 501253"
      ]
     },
     "metadata": {},
     "output_type": "display_data"
    },
    {
     "data": {
      "text/html": [
       "<pre>recommendations finished on 19000/107488 queries. users per second: 493289</pre>"
      ],
      "text/plain": [
       "recommendations finished on 19000/107488 queries. users per second: 493289"
      ]
     },
     "metadata": {},
     "output_type": "display_data"
    },
    {
     "data": {
      "text/html": [
       "<pre>recommendations finished on 20000/107488 queries. users per second: 497364</pre>"
      ],
      "text/plain": [
       "recommendations finished on 20000/107488 queries. users per second: 497364"
      ]
     },
     "metadata": {},
     "output_type": "display_data"
    },
    {
     "data": {
      "text/html": [
       "<pre>recommendations finished on 21000/107488 queries. users per second: 500703</pre>"
      ],
      "text/plain": [
       "recommendations finished on 21000/107488 queries. users per second: 500703"
      ]
     },
     "metadata": {},
     "output_type": "display_data"
    },
    {
     "data": {
      "text/html": [
       "<pre>recommendations finished on 22000/107488 queries. users per second: 507322</pre>"
      ],
      "text/plain": [
       "recommendations finished on 22000/107488 queries. users per second: 507322"
      ]
     },
     "metadata": {},
     "output_type": "display_data"
    },
    {
     "data": {
      "text/html": [
       "<pre>recommendations finished on 23000/107488 queries. users per second: 512056</pre>"
      ],
      "text/plain": [
       "recommendations finished on 23000/107488 queries. users per second: 512056"
      ]
     },
     "metadata": {},
     "output_type": "display_data"
    },
    {
     "data": {
      "text/html": [
       "<pre>recommendations finished on 24000/107488 queries. users per second: 513622</pre>"
      ],
      "text/plain": [
       "recommendations finished on 24000/107488 queries. users per second: 513622"
      ]
     },
     "metadata": {},
     "output_type": "display_data"
    },
    {
     "data": {
      "text/html": [
       "<pre>recommendations finished on 25000/107488 queries. users per second: 511331</pre>"
      ],
      "text/plain": [
       "recommendations finished on 25000/107488 queries. users per second: 511331"
      ]
     },
     "metadata": {},
     "output_type": "display_data"
    },
    {
     "data": {
      "text/html": [
       "<pre>recommendations finished on 26000/107488 queries. users per second: 515300</pre>"
      ],
      "text/plain": [
       "recommendations finished on 26000/107488 queries. users per second: 515300"
      ]
     },
     "metadata": {},
     "output_type": "display_data"
    },
    {
     "data": {
      "text/html": [
       "<pre>recommendations finished on 27000/107488 queries. users per second: 519481</pre>"
      ],
      "text/plain": [
       "recommendations finished on 27000/107488 queries. users per second: 519481"
      ]
     },
     "metadata": {},
     "output_type": "display_data"
    },
    {
     "data": {
      "text/html": [
       "<pre>recommendations finished on 28000/107488 queries. users per second: 509369</pre>"
      ],
      "text/plain": [
       "recommendations finished on 28000/107488 queries. users per second: 509369"
      ]
     },
     "metadata": {},
     "output_type": "display_data"
    },
    {
     "data": {
      "text/html": [
       "<pre>recommendations finished on 29000/107488 queries. users per second: 509111</pre>"
      ],
      "text/plain": [
       "recommendations finished on 29000/107488 queries. users per second: 509111"
      ]
     },
     "metadata": {},
     "output_type": "display_data"
    },
    {
     "data": {
      "text/html": [
       "<pre>recommendations finished on 30000/107488 queries. users per second: 508759</pre>"
      ],
      "text/plain": [
       "recommendations finished on 30000/107488 queries. users per second: 508759"
      ]
     },
     "metadata": {},
     "output_type": "display_data"
    },
    {
     "data": {
      "text/html": [
       "<pre>recommendations finished on 31000/107488 queries. users per second: 511830</pre>"
      ],
      "text/plain": [
       "recommendations finished on 31000/107488 queries. users per second: 511830"
      ]
     },
     "metadata": {},
     "output_type": "display_data"
    },
    {
     "data": {
      "text/html": [
       "<pre>recommendations finished on 32000/107488 queries. users per second: 516046</pre>"
      ],
      "text/plain": [
       "recommendations finished on 32000/107488 queries. users per second: 516046"
      ]
     },
     "metadata": {},
     "output_type": "display_data"
    },
    {
     "data": {
      "text/html": [
       "<pre>recommendations finished on 33000/107488 queries. users per second: 518127</pre>"
      ],
      "text/plain": [
       "recommendations finished on 33000/107488 queries. users per second: 518127"
      ]
     },
     "metadata": {},
     "output_type": "display_data"
    },
    {
     "data": {
      "text/html": [
       "<pre>recommendations finished on 34000/107488 queries. users per second: 516106</pre>"
      ],
      "text/plain": [
       "recommendations finished on 34000/107488 queries. users per second: 516106"
      ]
     },
     "metadata": {},
     "output_type": "display_data"
    },
    {
     "data": {
      "text/html": [
       "<pre>recommendations finished on 35000/107488 queries. users per second: 513761</pre>"
      ],
      "text/plain": [
       "recommendations finished on 35000/107488 queries. users per second: 513761"
      ]
     },
     "metadata": {},
     "output_type": "display_data"
    },
    {
     "data": {
      "text/html": [
       "<pre>recommendations finished on 36000/107488 queries. users per second: 511117</pre>"
      ],
      "text/plain": [
       "recommendations finished on 36000/107488 queries. users per second: 511117"
      ]
     },
     "metadata": {},
     "output_type": "display_data"
    },
    {
     "data": {
      "text/html": [
       "<pre>recommendations finished on 37000/107488 queries. users per second: 510134</pre>"
      ],
      "text/plain": [
       "recommendations finished on 37000/107488 queries. users per second: 510134"
      ]
     },
     "metadata": {},
     "output_type": "display_data"
    },
    {
     "data": {
      "text/html": [
       "<pre>recommendations finished on 38000/107488 queries. users per second: 507716</pre>"
      ],
      "text/plain": [
       "recommendations finished on 38000/107488 queries. users per second: 507716"
      ]
     },
     "metadata": {},
     "output_type": "display_data"
    },
    {
     "data": {
      "text/html": [
       "<pre>recommendations finished on 39000/107488 queries. users per second: 510411</pre>"
      ],
      "text/plain": [
       "recommendations finished on 39000/107488 queries. users per second: 510411"
      ]
     },
     "metadata": {},
     "output_type": "display_data"
    },
    {
     "data": {
      "text/html": [
       "<pre>recommendations finished on 40000/107488 queries. users per second: 511653</pre>"
      ],
      "text/plain": [
       "recommendations finished on 40000/107488 queries. users per second: 511653"
      ]
     },
     "metadata": {},
     "output_type": "display_data"
    },
    {
     "data": {
      "text/html": [
       "<pre>recommendations finished on 41000/107488 queries. users per second: 514804</pre>"
      ],
      "text/plain": [
       "recommendations finished on 41000/107488 queries. users per second: 514804"
      ]
     },
     "metadata": {},
     "output_type": "display_data"
    },
    {
     "data": {
      "text/html": [
       "<pre>recommendations finished on 42000/107488 queries. users per second: 514706</pre>"
      ],
      "text/plain": [
       "recommendations finished on 42000/107488 queries. users per second: 514706"
      ]
     },
     "metadata": {},
     "output_type": "display_data"
    },
    {
     "data": {
      "text/html": [
       "<pre>recommendations finished on 43000/107488 queries. users per second: 512167</pre>"
      ],
      "text/plain": [
       "recommendations finished on 43000/107488 queries. users per second: 512167"
      ]
     },
     "metadata": {},
     "output_type": "display_data"
    },
    {
     "data": {
      "text/html": [
       "<pre>recommendations finished on 44000/107488 queries. users per second: 511497</pre>"
      ],
      "text/plain": [
       "recommendations finished on 44000/107488 queries. users per second: 511497"
      ]
     },
     "metadata": {},
     "output_type": "display_data"
    },
    {
     "data": {
      "text/html": [
       "<pre>recommendations finished on 45000/107488 queries. users per second: 509390</pre>"
      ],
      "text/plain": [
       "recommendations finished on 45000/107488 queries. users per second: 509390"
      ]
     },
     "metadata": {},
     "output_type": "display_data"
    },
    {
     "data": {
      "text/html": [
       "<pre>recommendations finished on 46000/107488 queries. users per second: 503789</pre>"
      ],
      "text/plain": [
       "recommendations finished on 46000/107488 queries. users per second: 503789"
      ]
     },
     "metadata": {},
     "output_type": "display_data"
    },
    {
     "data": {
      "text/html": [
       "<pre>recommendations finished on 47000/107488 queries. users per second: 502276</pre>"
      ],
      "text/plain": [
       "recommendations finished on 47000/107488 queries. users per second: 502276"
      ]
     },
     "metadata": {},
     "output_type": "display_data"
    },
    {
     "data": {
      "text/html": [
       "<pre>recommendations finished on 48000/107488 queries. users per second: 501326</pre>"
      ],
      "text/plain": [
       "recommendations finished on 48000/107488 queries. users per second: 501326"
      ]
     },
     "metadata": {},
     "output_type": "display_data"
    },
    {
     "data": {
      "text/html": [
       "<pre>recommendations finished on 49000/107488 queries. users per second: 504069</pre>"
      ],
      "text/plain": [
       "recommendations finished on 49000/107488 queries. users per second: 504069"
      ]
     },
     "metadata": {},
     "output_type": "display_data"
    },
    {
     "data": {
      "text/html": [
       "<pre>recommendations finished on 50000/107488 queries. users per second: 504770</pre>"
      ],
      "text/plain": [
       "recommendations finished on 50000/107488 queries. users per second: 504770"
      ]
     },
     "metadata": {},
     "output_type": "display_data"
    },
    {
     "data": {
      "text/html": [
       "<pre>recommendations finished on 51000/107488 queries. users per second: 501268</pre>"
      ],
      "text/plain": [
       "recommendations finished on 51000/107488 queries. users per second: 501268"
      ]
     },
     "metadata": {},
     "output_type": "display_data"
    },
    {
     "data": {
      "text/html": [
       "<pre>recommendations finished on 52000/107488 queries. users per second: 503495</pre>"
      ],
      "text/plain": [
       "recommendations finished on 52000/107488 queries. users per second: 503495"
      ]
     },
     "metadata": {},
     "output_type": "display_data"
    },
    {
     "data": {
      "text/html": [
       "<pre>recommendations finished on 53000/107488 queries. users per second: 507527</pre>"
      ],
      "text/plain": [
       "recommendations finished on 53000/107488 queries. users per second: 507527"
      ]
     },
     "metadata": {},
     "output_type": "display_data"
    },
    {
     "data": {
      "text/html": [
       "<pre>recommendations finished on 54000/107488 queries. users per second: 506481</pre>"
      ],
      "text/plain": [
       "recommendations finished on 54000/107488 queries. users per second: 506481"
      ]
     },
     "metadata": {},
     "output_type": "display_data"
    },
    {
     "data": {
      "text/html": [
       "<pre>recommendations finished on 55000/107488 queries. users per second: 501669</pre>"
      ],
      "text/plain": [
       "recommendations finished on 55000/107488 queries. users per second: 501669"
      ]
     },
     "metadata": {},
     "output_type": "display_data"
    },
    {
     "data": {
      "text/html": [
       "<pre>recommendations finished on 56000/107488 queries. users per second: 501181</pre>"
      ],
      "text/plain": [
       "recommendations finished on 56000/107488 queries. users per second: 501181"
      ]
     },
     "metadata": {},
     "output_type": "display_data"
    },
    {
     "data": {
      "text/html": [
       "<pre>recommendations finished on 57000/107488 queries. users per second: 500637</pre>"
      ],
      "text/plain": [
       "recommendations finished on 57000/107488 queries. users per second: 500637"
      ]
     },
     "metadata": {},
     "output_type": "display_data"
    },
    {
     "data": {
      "text/html": [
       "<pre>recommendations finished on 58000/107488 queries. users per second: 498290</pre>"
      ],
      "text/plain": [
       "recommendations finished on 58000/107488 queries. users per second: 498290"
      ]
     },
     "metadata": {},
     "output_type": "display_data"
    },
    {
     "data": {
      "text/html": [
       "<pre>recommendations finished on 59000/107488 queries. users per second: 498046</pre>"
      ],
      "text/plain": [
       "recommendations finished on 59000/107488 queries. users per second: 498046"
      ]
     },
     "metadata": {},
     "output_type": "display_data"
    },
    {
     "data": {
      "text/html": [
       "<pre>recommendations finished on 60000/107488 queries. users per second: 497500</pre>"
      ],
      "text/plain": [
       "recommendations finished on 60000/107488 queries. users per second: 497500"
      ]
     },
     "metadata": {},
     "output_type": "display_data"
    },
    {
     "data": {
      "text/html": [
       "<pre>recommendations finished on 61000/107488 queries. users per second: 498163</pre>"
      ],
      "text/plain": [
       "recommendations finished on 61000/107488 queries. users per second: 498163"
      ]
     },
     "metadata": {},
     "output_type": "display_data"
    },
    {
     "data": {
      "text/html": [
       "<pre>recommendations finished on 62000/107488 queries. users per second: 499022</pre>"
      ],
      "text/plain": [
       "recommendations finished on 62000/107488 queries. users per second: 499022"
      ]
     },
     "metadata": {},
     "output_type": "display_data"
    },
    {
     "data": {
      "text/html": [
       "<pre>recommendations finished on 63000/107488 queries. users per second: 493688</pre>"
      ],
      "text/plain": [
       "recommendations finished on 63000/107488 queries. users per second: 493688"
      ]
     },
     "metadata": {},
     "output_type": "display_data"
    },
    {
     "data": {
      "text/html": [
       "<pre>recommendations finished on 64000/107488 queries. users per second: 491948</pre>"
      ],
      "text/plain": [
       "recommendations finished on 64000/107488 queries. users per second: 491948"
      ]
     },
     "metadata": {},
     "output_type": "display_data"
    },
    {
     "data": {
      "text/html": [
       "<pre>recommendations finished on 65000/107488 queries. users per second: 492846</pre>"
      ],
      "text/plain": [
       "recommendations finished on 65000/107488 queries. users per second: 492846"
      ]
     },
     "metadata": {},
     "output_type": "display_data"
    },
    {
     "data": {
      "text/html": [
       "<pre>recommendations finished on 66000/107488 queries. users per second: 492137</pre>"
      ],
      "text/plain": [
       "recommendations finished on 66000/107488 queries. users per second: 492137"
      ]
     },
     "metadata": {},
     "output_type": "display_data"
    },
    {
     "data": {
      "text/html": [
       "<pre>recommendations finished on 67000/107488 queries. users per second: 492538</pre>"
      ],
      "text/plain": [
       "recommendations finished on 67000/107488 queries. users per second: 492538"
      ]
     },
     "metadata": {},
     "output_type": "display_data"
    },
    {
     "data": {
      "text/html": [
       "<pre>recommendations finished on 68000/107488 queries. users per second: 492062</pre>"
      ],
      "text/plain": [
       "recommendations finished on 68000/107488 queries. users per second: 492062"
      ]
     },
     "metadata": {},
     "output_type": "display_data"
    },
    {
     "data": {
      "text/html": [
       "<pre>recommendations finished on 69000/107488 queries. users per second: 490942</pre>"
      ],
      "text/plain": [
       "recommendations finished on 69000/107488 queries. users per second: 490942"
      ]
     },
     "metadata": {},
     "output_type": "display_data"
    },
    {
     "data": {
      "text/html": [
       "<pre>recommendations finished on 70000/107488 queries. users per second: 491673</pre>"
      ],
      "text/plain": [
       "recommendations finished on 70000/107488 queries. users per second: 491673"
      ]
     },
     "metadata": {},
     "output_type": "display_data"
    },
    {
     "data": {
      "text/html": [
       "<pre>recommendations finished on 71000/107488 queries. users per second: 493436</pre>"
      ],
      "text/plain": [
       "recommendations finished on 71000/107488 queries. users per second: 493436"
      ]
     },
     "metadata": {},
     "output_type": "display_data"
    },
    {
     "data": {
      "text/html": [
       "<pre>recommendations finished on 72000/107488 queries. users per second: 493411</pre>"
      ],
      "text/plain": [
       "recommendations finished on 72000/107488 queries. users per second: 493411"
      ]
     },
     "metadata": {},
     "output_type": "display_data"
    },
    {
     "data": {
      "text/html": [
       "<pre>recommendations finished on 73000/107488 queries. users per second: 490667</pre>"
      ],
      "text/plain": [
       "recommendations finished on 73000/107488 queries. users per second: 490667"
      ]
     },
     "metadata": {},
     "output_type": "display_data"
    },
    {
     "data": {
      "text/html": [
       "<pre>recommendations finished on 74000/107488 queries. users per second: 486583</pre>"
      ],
      "text/plain": [
       "recommendations finished on 74000/107488 queries. users per second: 486583"
      ]
     },
     "metadata": {},
     "output_type": "display_data"
    },
    {
     "data": {
      "text/html": [
       "<pre>recommendations finished on 75000/107488 queries. users per second: 484556</pre>"
      ],
      "text/plain": [
       "recommendations finished on 75000/107488 queries. users per second: 484556"
      ]
     },
     "metadata": {},
     "output_type": "display_data"
    },
    {
     "data": {
      "text/html": [
       "<pre>recommendations finished on 76000/107488 queries. users per second: 481074</pre>"
      ],
      "text/plain": [
       "recommendations finished on 76000/107488 queries. users per second: 481074"
      ]
     },
     "metadata": {},
     "output_type": "display_data"
    },
    {
     "data": {
      "text/html": [
       "<pre>recommendations finished on 77000/107488 queries. users per second: 478184</pre>"
      ],
      "text/plain": [
       "recommendations finished on 77000/107488 queries. users per second: 478184"
      ]
     },
     "metadata": {},
     "output_type": "display_data"
    },
    {
     "data": {
      "text/html": [
       "<pre>recommendations finished on 78000/107488 queries. users per second: 475935</pre>"
      ],
      "text/plain": [
       "recommendations finished on 78000/107488 queries. users per second: 475935"
      ]
     },
     "metadata": {},
     "output_type": "display_data"
    },
    {
     "data": {
      "text/html": [
       "<pre>recommendations finished on 79000/107488 queries. users per second: 474688</pre>"
      ],
      "text/plain": [
       "recommendations finished on 79000/107488 queries. users per second: 474688"
      ]
     },
     "metadata": {},
     "output_type": "display_data"
    },
    {
     "data": {
      "text/html": [
       "<pre>recommendations finished on 80000/107488 queries. users per second: 469519</pre>"
      ],
      "text/plain": [
       "recommendations finished on 80000/107488 queries. users per second: 469519"
      ]
     },
     "metadata": {},
     "output_type": "display_data"
    },
    {
     "data": {
      "text/html": [
       "<pre>recommendations finished on 81000/107488 queries. users per second: 463907</pre>"
      ],
      "text/plain": [
       "recommendations finished on 81000/107488 queries. users per second: 463907"
      ]
     },
     "metadata": {},
     "output_type": "display_data"
    },
    {
     "data": {
      "text/html": [
       "<pre>recommendations finished on 82000/107488 queries. users per second: 458014</pre>"
      ],
      "text/plain": [
       "recommendations finished on 82000/107488 queries. users per second: 458014"
      ]
     },
     "metadata": {},
     "output_type": "display_data"
    },
    {
     "data": {
      "text/html": [
       "<pre>recommendations finished on 83000/107488 queries. users per second: 452457</pre>"
      ],
      "text/plain": [
       "recommendations finished on 83000/107488 queries. users per second: 452457"
      ]
     },
     "metadata": {},
     "output_type": "display_data"
    },
    {
     "data": {
      "text/html": [
       "<pre>recommendations finished on 84000/107488 queries. users per second: 444219</pre>"
      ],
      "text/plain": [
       "recommendations finished on 84000/107488 queries. users per second: 444219"
      ]
     },
     "metadata": {},
     "output_type": "display_data"
    },
    {
     "data": {
      "text/html": [
       "<pre>recommendations finished on 85000/107488 queries. users per second: 431002</pre>"
      ],
      "text/plain": [
       "recommendations finished on 85000/107488 queries. users per second: 431002"
      ]
     },
     "metadata": {},
     "output_type": "display_data"
    },
    {
     "data": {
      "text/html": [
       "<pre>recommendations finished on 86000/107488 queries. users per second: 407394</pre>"
      ],
      "text/plain": [
       "recommendations finished on 86000/107488 queries. users per second: 407394"
      ]
     },
     "metadata": {},
     "output_type": "display_data"
    },
    {
     "data": {
      "text/html": [
       "<pre>recommendations finished on 87000/107488 queries. users per second: 401985</pre>"
      ],
      "text/plain": [
       "recommendations finished on 87000/107488 queries. users per second: 401985"
      ]
     },
     "metadata": {},
     "output_type": "display_data"
    },
    {
     "data": {
      "text/html": [
       "<pre>recommendations finished on 88000/107488 queries. users per second: 394805</pre>"
      ],
      "text/plain": [
       "recommendations finished on 88000/107488 queries. users per second: 394805"
      ]
     },
     "metadata": {},
     "output_type": "display_data"
    },
    {
     "data": {
      "text/html": [
       "<pre>recommendations finished on 89000/107488 queries. users per second: 392698</pre>"
      ],
      "text/plain": [
       "recommendations finished on 89000/107488 queries. users per second: 392698"
      ]
     },
     "metadata": {},
     "output_type": "display_data"
    },
    {
     "data": {
      "text/html": [
       "<pre>recommendations finished on 90000/107488 queries. users per second: 381049</pre>"
      ],
      "text/plain": [
       "recommendations finished on 90000/107488 queries. users per second: 381049"
      ]
     },
     "metadata": {},
     "output_type": "display_data"
    },
    {
     "data": {
      "text/html": [
       "<pre>recommendations finished on 91000/107488 queries. users per second: 370486</pre>"
      ],
      "text/plain": [
       "recommendations finished on 91000/107488 queries. users per second: 370486"
      ]
     },
     "metadata": {},
     "output_type": "display_data"
    },
    {
     "data": {
      "text/html": [
       "<pre>recommendations finished on 92000/107488 queries. users per second: 368643</pre>"
      ],
      "text/plain": [
       "recommendations finished on 92000/107488 queries. users per second: 368643"
      ]
     },
     "metadata": {},
     "output_type": "display_data"
    },
    {
     "data": {
      "text/html": [
       "<pre>recommendations finished on 93000/107488 queries. users per second: 358702</pre>"
      ],
      "text/plain": [
       "recommendations finished on 93000/107488 queries. users per second: 358702"
      ]
     },
     "metadata": {},
     "output_type": "display_data"
    },
    {
     "data": {
      "text/html": [
       "<pre>recommendations finished on 94000/107488 queries. users per second: 357921</pre>"
      ],
      "text/plain": [
       "recommendations finished on 94000/107488 queries. users per second: 357921"
      ]
     },
     "metadata": {},
     "output_type": "display_data"
    },
    {
     "data": {
      "text/html": [
       "<pre>recommendations finished on 95000/107488 queries. users per second: 359119</pre>"
      ],
      "text/plain": [
       "recommendations finished on 95000/107488 queries. users per second: 359119"
      ]
     },
     "metadata": {},
     "output_type": "display_data"
    },
    {
     "data": {
      "text/html": [
       "<pre>recommendations finished on 96000/107488 queries. users per second: 360181</pre>"
      ],
      "text/plain": [
       "recommendations finished on 96000/107488 queries. users per second: 360181"
      ]
     },
     "metadata": {},
     "output_type": "display_data"
    },
    {
     "data": {
      "text/html": [
       "<pre>recommendations finished on 97000/107488 queries. users per second: 359867</pre>"
      ],
      "text/plain": [
       "recommendations finished on 97000/107488 queries. users per second: 359867"
      ]
     },
     "metadata": {},
     "output_type": "display_data"
    },
    {
     "data": {
      "text/html": [
       "<pre>recommendations finished on 98000/107488 queries. users per second: 361080</pre>"
      ],
      "text/plain": [
       "recommendations finished on 98000/107488 queries. users per second: 361080"
      ]
     },
     "metadata": {},
     "output_type": "display_data"
    },
    {
     "data": {
      "text/html": [
       "<pre>recommendations finished on 99000/107488 queries. users per second: 361586</pre>"
      ],
      "text/plain": [
       "recommendations finished on 99000/107488 queries. users per second: 361586"
      ]
     },
     "metadata": {},
     "output_type": "display_data"
    },
    {
     "data": {
      "text/html": [
       "<pre>recommendations finished on 101000/107488 queries. users per second: 363536</pre>"
      ],
      "text/plain": [
       "recommendations finished on 101000/107488 queries. users per second: 363536"
      ]
     },
     "metadata": {},
     "output_type": "display_data"
    },
    {
     "data": {
      "text/html": [
       "<pre>recommendations finished on 102000/107488 queries. users per second: 362222</pre>"
      ],
      "text/plain": [
       "recommendations finished on 102000/107488 queries. users per second: 362222"
      ]
     },
     "metadata": {},
     "output_type": "display_data"
    },
    {
     "data": {
      "text/html": [
       "<pre>recommendations finished on 100000/107488 queries. users per second: 362822</pre>"
      ],
      "text/plain": [
       "recommendations finished on 100000/107488 queries. users per second: 362822"
      ]
     },
     "metadata": {},
     "output_type": "display_data"
    },
    {
     "data": {
      "text/html": [
       "<pre>recommendations finished on 103000/107488 queries. users per second: 361998</pre>"
      ],
      "text/plain": [
       "recommendations finished on 103000/107488 queries. users per second: 361998"
      ]
     },
     "metadata": {},
     "output_type": "display_data"
    },
    {
     "data": {
      "text/html": [
       "<pre>recommendations finished on 104000/107488 queries. users per second: 359291</pre>"
      ],
      "text/plain": [
       "recommendations finished on 104000/107488 queries. users per second: 359291"
      ]
     },
     "metadata": {},
     "output_type": "display_data"
    },
    {
     "data": {
      "text/html": [
       "<pre>recommendations finished on 105000/107488 queries. users per second: 356273</pre>"
      ],
      "text/plain": [
       "recommendations finished on 105000/107488 queries. users per second: 356273"
      ]
     },
     "metadata": {},
     "output_type": "display_data"
    },
    {
     "data": {
      "text/html": [
       "<pre>recommendations finished on 106000/107488 queries. users per second: 352375</pre>"
      ],
      "text/plain": [
       "recommendations finished on 106000/107488 queries. users per second: 352375"
      ]
     },
     "metadata": {},
     "output_type": "display_data"
    },
    {
     "data": {
      "text/html": [
       "<pre>recommendations finished on 107000/107488 queries. users per second: 347666</pre>"
      ],
      "text/plain": [
       "recommendations finished on 107000/107488 queries. users per second: 347666"
      ]
     },
     "metadata": {},
     "output_type": "display_data"
    },
    {
     "name": "stdout",
     "output_type": "stream",
     "text": [
      "CSV succeed\n",
      "(10000, 1)\n"
     ]
    },
    {
     "data": {
      "text/html": [
       "<div>\n",
       "<style scoped>\n",
       "    .dataframe tbody tr th:only-of-type {\n",
       "        vertical-align: middle;\n",
       "    }\n",
       "\n",
       "    .dataframe tbody tr th {\n",
       "        vertical-align: top;\n",
       "    }\n",
       "\n",
       "    .dataframe thead th {\n",
       "        text-align: right;\n",
       "    }\n",
       "</style>\n",
       "<table border=\"1\" class=\"dataframe\">\n",
       "  <thead>\n",
       "    <tr style=\"text-align: right;\">\n",
       "      <th></th>\n",
       "      <th>recommendedDepartments</th>\n",
       "    </tr>\n",
       "    <tr>\n",
       "      <th>user_id</th>\n",
       "      <th></th>\n",
       "    </tr>\n",
       "  </thead>\n",
       "  <tbody>\n",
       "    <tr>\n",
       "      <th>1</th>\n",
       "      <td>12,1,9,5,10,12,1,9,5,10,12,1,9,5,10,12,1,9,5,1...</td>\n",
       "    </tr>\n",
       "    <tr>\n",
       "      <th>2</th>\n",
       "      <td>9,10,5,21,18,9,10,5,21,18,9,10,5,21,18,9,10,5,...</td>\n",
       "    </tr>\n",
       "    <tr>\n",
       "      <th>3</th>\n",
       "      <td>12,5,10,3,6,12,5,10,3,6,12,5,10,3,6,12,5,10,3,...</td>\n",
       "    </tr>\n",
       "    <tr>\n",
       "      <th>4</th>\n",
       "      <td>12,9,10,13,6,12,9,10,13,6,12,9,10,13,6,12,9,10...</td>\n",
       "    </tr>\n",
       "    <tr>\n",
       "      <th>5</th>\n",
       "      <td>12,5,10,21,3,12,5,10,21,3,12,5,10,21,3,12,5,10...</td>\n",
       "    </tr>\n",
       "  </tbody>\n",
       "</table>\n",
       "</div>"
      ],
      "text/plain": [
       "                                    recommendedDepartments\n",
       "user_id                                                   \n",
       "1        12,1,9,5,10,12,1,9,5,10,12,1,9,5,10,12,1,9,5,1...\n",
       "2        9,10,5,21,18,9,10,5,21,18,9,10,5,21,18,9,10,5,...\n",
       "3        12,5,10,3,6,12,5,10,3,6,12,5,10,3,6,12,5,10,3,...\n",
       "4        12,9,10,13,6,12,9,10,13,6,12,9,10,13,6,12,9,10...\n",
       "5        12,5,10,21,3,12,5,10,21,3,12,5,10,21,3,12,5,10..."
      ]
     },
     "execution_count": 190,
     "metadata": {},
     "output_type": "execute_result"
    }
   ],
   "source": [
    "df_output = create_output(pearson_norm, users_to_recommend, n_rec, print_csv=True)\n",
    "print(df_output.shape)\n",
    "df_output.head()"
   ]
  },
  {
   "cell_type": "code",
   "execution_count": 194,
   "metadata": {
    "scrolled": true
   },
   "outputs": [
    {
     "data": {
      "text/html": [
       "<div>\n",
       "<style scoped>\n",
       "    .dataframe tbody tr th:only-of-type {\n",
       "        vertical-align: middle;\n",
       "    }\n",
       "\n",
       "    .dataframe tbody tr th {\n",
       "        vertical-align: top;\n",
       "    }\n",
       "\n",
       "    .dataframe thead th {\n",
       "        text-align: right;\n",
       "    }\n",
       "</style>\n",
       "<table border=\"1\" class=\"dataframe\">\n",
       "  <thead>\n",
       "    <tr style=\"text-align: right;\">\n",
       "      <th></th>\n",
       "      <th>recommendedDepartments</th>\n",
       "    </tr>\n",
       "    <tr>\n",
       "      <th>user_id</th>\n",
       "      <th></th>\n",
       "    </tr>\n",
       "  </thead>\n",
       "  <tbody>\n",
       "    <tr>\n",
       "      <th>1</th>\n",
       "      <td>12,1,9,5,10,12,1,9,5,10,12,1,9,5,10,12,1,9,5,1...</td>\n",
       "    </tr>\n",
       "    <tr>\n",
       "      <th>2</th>\n",
       "      <td>9,10,5,21,18,9,10,5,21,18,9,10,5,21,18,9,10,5,...</td>\n",
       "    </tr>\n",
       "    <tr>\n",
       "      <th>3</th>\n",
       "      <td>12,5,10,3,6,12,5,10,3,6,12,5,10,3,6,12,5,10,3,...</td>\n",
       "    </tr>\n",
       "    <tr>\n",
       "      <th>4</th>\n",
       "      <td>12,9,10,13,6,12,9,10,13,6,12,9,10,13,6,12,9,10...</td>\n",
       "    </tr>\n",
       "    <tr>\n",
       "      <th>5</th>\n",
       "      <td>12,5,10,21,3,12,5,10,21,3,12,5,10,21,3,12,5,10...</td>\n",
       "    </tr>\n",
       "    <tr>\n",
       "      <th>6</th>\n",
       "      <td>1,5,10,9,21,1,5,10,9,21,1,5,10,9,21,1,5,10,9,2...</td>\n",
       "    </tr>\n",
       "    <tr>\n",
       "      <th>7</th>\n",
       "      <td>9,10,5,6,21,9,10,5,6,21,9,10,5,6,21,9,10,5,6,2...</td>\n",
       "    </tr>\n",
       "    <tr>\n",
       "      <th>8</th>\n",
       "      <td>12,1,5,10,3,12,1,5,10,3,12,1,5,10,3,12,1,5,10,...</td>\n",
       "    </tr>\n",
       "    <tr>\n",
       "      <th>9</th>\n",
       "      <td>9,5,10,6,21,9,5,10,6,21,9,5,10,6,21,9,5,10,6,2...</td>\n",
       "    </tr>\n",
       "    <tr>\n",
       "      <th>10</th>\n",
       "      <td>9,3,10,5,21,9,3,10,5,21,9,3,10,5,21,9,3,10,5,2...</td>\n",
       "    </tr>\n",
       "    <tr>\n",
       "      <th>11</th>\n",
       "      <td>12,9,5,10,18,12,9,5,10,18,12,9,5,10,18,12,9,5,...</td>\n",
       "    </tr>\n",
       "    <tr>\n",
       "      <th>12</th>\n",
       "      <td>5,10,6,21,18,5,10,6,21,18,5,10,6,21,18,5,10,6,...</td>\n",
       "    </tr>\n",
       "    <tr>\n",
       "      <th>13</th>\n",
       "      <td>12,1,10,5,18,12,1,10,5,18,12,1,10,5,18,12,1,10...</td>\n",
       "    </tr>\n",
       "    <tr>\n",
       "      <th>14</th>\n",
       "      <td>10,18,11,8,10,18,11,8,10,18,11,8,10,18,11,8,10...</td>\n",
       "    </tr>\n",
       "    <tr>\n",
       "      <th>15</th>\n",
       "      <td>12,1,4,9,13,12,1,4,9,13,12,1,4,9,13</td>\n",
       "    </tr>\n",
       "    <tr>\n",
       "      <th>16</th>\n",
       "      <td>5,10,6,3,21,5,10,6,3,21,5,10,6,3,21,5,10,6,3,2...</td>\n",
       "    </tr>\n",
       "    <tr>\n",
       "      <th>17</th>\n",
       "      <td>12,6,10,11,21,12,6,10,11,21,12,6,10,11,21,12,6...</td>\n",
       "    </tr>\n",
       "    <tr>\n",
       "      <th>18</th>\n",
       "      <td>1,5,10,6,21,1,5,10,6,21,1,5,10,6,21,1,5,10,6,2...</td>\n",
       "    </tr>\n",
       "    <tr>\n",
       "      <th>19</th>\n",
       "      <td>10,5,21,18,8,10,5,21,18,8,10,5,21,18,8,10,5,21...</td>\n",
       "    </tr>\n",
       "    <tr>\n",
       "      <th>20</th>\n",
       "      <td>12,1,9,5,10,12,1,9,5,10</td>\n",
       "    </tr>\n",
       "    <tr>\n",
       "      <th>21</th>\n",
       "      <td>12,10,15,21,18,12,10,15,21,18,12,10,15,21,18,1...</td>\n",
       "    </tr>\n",
       "    <tr>\n",
       "      <th>22</th>\n",
       "      <td>9,5,10,21,15,9,5,10,21,15,9,5,10,21,15,9,5,10,...</td>\n",
       "    </tr>\n",
       "    <tr>\n",
       "      <th>23</th>\n",
       "      <td>9,5,10,6,21,9,5,10,6,21,9,5,10,6,21,9,5,10,6,2...</td>\n",
       "    </tr>\n",
       "    <tr>\n",
       "      <th>24</th>\n",
       "      <td>1,9,5,10,6,1,9,5,10,6,1,9,5,10,6,1,9,5,10,6,1,...</td>\n",
       "    </tr>\n",
       "    <tr>\n",
       "      <th>25</th>\n",
       "      <td>5,10,13,21,15,5,10,13,21,15,5,10,13,21,15,5,10...</td>\n",
       "    </tr>\n",
       "    <tr>\n",
       "      <th>26</th>\n",
       "      <td>12,9,10,3,6,12,9,10,3,6,12,9,10,3,6,12,9,10,3,...</td>\n",
       "    </tr>\n",
       "    <tr>\n",
       "      <th>27</th>\n",
       "      <td>1,12,9,15,10,1,12,9,15,10,1,12,9,15,10,1,12,9,...</td>\n",
       "    </tr>\n",
       "    <tr>\n",
       "      <th>28</th>\n",
       "      <td>10,5,21,18,17,10,5,21,18,17,10,5,21,18,17,10,5...</td>\n",
       "    </tr>\n",
       "    <tr>\n",
       "      <th>29</th>\n",
       "      <td>12,9,6,10,5,12,9,6,10,5,12,9,6,10,5,12,9,6,10,...</td>\n",
       "    </tr>\n",
       "    <tr>\n",
       "      <th>30</th>\n",
       "      <td>12,1,9,5,10,12,1,9,5,10,12,1,9,5,10,12,1,9,5,10</td>\n",
       "    </tr>\n",
       "  </tbody>\n",
       "</table>\n",
       "</div>"
      ],
      "text/plain": [
       "                                    recommendedDepartments\n",
       "user_id                                                   \n",
       "1        12,1,9,5,10,12,1,9,5,10,12,1,9,5,10,12,1,9,5,1...\n",
       "2        9,10,5,21,18,9,10,5,21,18,9,10,5,21,18,9,10,5,...\n",
       "3        12,5,10,3,6,12,5,10,3,6,12,5,10,3,6,12,5,10,3,...\n",
       "4        12,9,10,13,6,12,9,10,13,6,12,9,10,13,6,12,9,10...\n",
       "5        12,5,10,21,3,12,5,10,21,3,12,5,10,21,3,12,5,10...\n",
       "6        1,5,10,9,21,1,5,10,9,21,1,5,10,9,21,1,5,10,9,2...\n",
       "7        9,10,5,6,21,9,10,5,6,21,9,10,5,6,21,9,10,5,6,2...\n",
       "8        12,1,5,10,3,12,1,5,10,3,12,1,5,10,3,12,1,5,10,...\n",
       "9        9,5,10,6,21,9,5,10,6,21,9,5,10,6,21,9,5,10,6,2...\n",
       "10       9,3,10,5,21,9,3,10,5,21,9,3,10,5,21,9,3,10,5,2...\n",
       "11       12,9,5,10,18,12,9,5,10,18,12,9,5,10,18,12,9,5,...\n",
       "12       5,10,6,21,18,5,10,6,21,18,5,10,6,21,18,5,10,6,...\n",
       "13       12,1,10,5,18,12,1,10,5,18,12,1,10,5,18,12,1,10...\n",
       "14       10,18,11,8,10,18,11,8,10,18,11,8,10,18,11,8,10...\n",
       "15                     12,1,4,9,13,12,1,4,9,13,12,1,4,9,13\n",
       "16       5,10,6,3,21,5,10,6,3,21,5,10,6,3,21,5,10,6,3,2...\n",
       "17       12,6,10,11,21,12,6,10,11,21,12,6,10,11,21,12,6...\n",
       "18       1,5,10,6,21,1,5,10,6,21,1,5,10,6,21,1,5,10,6,2...\n",
       "19       10,5,21,18,8,10,5,21,18,8,10,5,21,18,8,10,5,21...\n",
       "20                                 12,1,9,5,10,12,1,9,5,10\n",
       "21       12,10,15,21,18,12,10,15,21,18,12,10,15,21,18,1...\n",
       "22       9,5,10,21,15,9,5,10,21,15,9,5,10,21,15,9,5,10,...\n",
       "23       9,5,10,6,21,9,5,10,6,21,9,5,10,6,21,9,5,10,6,2...\n",
       "24       1,9,5,10,6,1,9,5,10,6,1,9,5,10,6,1,9,5,10,6,1,...\n",
       "25       5,10,13,21,15,5,10,13,21,15,5,10,13,21,15,5,10...\n",
       "26       12,9,10,3,6,12,9,10,3,6,12,9,10,3,6,12,9,10,3,...\n",
       "27       1,12,9,15,10,1,12,9,15,10,1,12,9,15,10,1,12,9,...\n",
       "28       10,5,21,18,17,10,5,21,18,17,10,5,21,18,17,10,5...\n",
       "29       12,9,6,10,5,12,9,6,10,5,12,9,6,10,5,12,9,6,10,...\n",
       "30         12,1,9,5,10,12,1,9,5,10,12,1,9,5,10,12,1,9,5,10"
      ]
     },
     "execution_count": 194,
     "metadata": {},
     "output_type": "execute_result"
    }
   ],
   "source": [
    "df_output.head(30)"
   ]
  },
  {
   "cell_type": "code",
   "execution_count": 205,
   "metadata": {},
   "outputs": [],
   "source": [
    "rec_depart = df_rec.groupby([\"user_id\"])[\"department_id\"].agg(pd.Series.tolist).reset_index()\n",
    "rec_depart "
   ]
  },
  {
   "cell_type": "code",
   "execution_count": 207,
   "metadata": {},
   "outputs": [],
   "source": [
    "rec_depart_test = rec_depart['department_id'].apply(set)"
   ]
  },
  {
   "cell_type": "code",
   "execution_count": 210,
   "metadata": {},
   "outputs": [],
   "source": [
    "rec_depart_test2 = [list(x) for x in  rec_depart_test]"
   ]
  },
  {
   "cell_type": "code",
   "execution_count": 211,
   "metadata": {},
   "outputs": [
    {
     "data": {
      "text/plain": [
       "[[1, 5, 9, 10, 12],\n",
       " [5, 9, 10, 18, 21],\n",
       " [3, 5, 6, 10, 12],\n",
       " [6, 9, 10, 12, 13],\n",
       " [3, 5, 10, 12, 21],\n",
       " [1, 5, 9, 10, 21],\n",
       " [5, 6, 9, 10, 21],\n",
       " [1, 3, 5, 10, 12],\n",
       " [5, 6, 9, 10, 21],\n",
       " [3, 5, 9, 10, 21],\n",
       " [5, 9, 10, 12, 18],\n",
       " [5, 6, 10, 18, 21],\n",
       " [1, 5, 10, 12, 18],\n",
       " [11, 8, 10, 18],\n",
       " [1, 4, 9, 12, 13],\n",
       " [3, 5, 6, 10, 21],\n",
       " [6, 10, 11, 12, 21],\n",
       " [1, 5, 6, 10, 21],\n",
       " [5, 8, 10, 18, 21],\n",
       " [1, 5, 9, 10, 12],\n",
       " [10, 12, 15, 18, 21],\n",
       " [5, 9, 10, 15, 21],\n",
       " [5, 6, 9, 10, 21],\n",
       " [1, 5, 6, 9, 10],\n",
       " [5, 10, 13, 15, 21],\n",
       " [3, 6, 9, 10, 12],\n",
       " [1, 9, 10, 12, 15],\n",
       " [5, 10, 17, 18, 21],\n",
       " [5, 6, 9, 10, 12],\n",
       " [1, 5, 9, 10, 12],\n",
       " [8, 9, 10, 18, 21],\n",
       " [5, 6, 10, 11, 21],\n",
       " [5, 6, 9, 10, 12],\n",
       " [3, 5, 6, 10, 12],\n",
       " [5, 10, 12, 18, 21],\n",
       " [1, 10, 12, 18, 21],\n",
       " [5, 6, 8, 10, 17],\n",
       " [5, 8, 10, 18, 21],\n",
       " [5, 8, 10, 11, 18],\n",
       " [5, 6, 10, 13, 15],\n",
       " [5, 6, 10, 15, 21],\n",
       " [5, 6, 10, 12, 21],\n",
       " [2, 5, 8, 10, 18],\n",
       " [5, 6, 9, 10, 21],\n",
       " [4, 5, 9, 10, 12],\n",
       " [5, 6, 10, 18, 21],\n",
       " [2, 5, 8, 9, 10],\n",
       " [5, 10, 11, 18, 21],\n",
       " [3, 5, 10, 18, 21],\n",
       " [1, 6, 10, 12, 15],\n",
       " [1, 5, 9, 10, 13],\n",
       " [1, 5, 6, 10, 12],\n",
       " [3, 5, 6, 10, 12],\n",
       " [5, 8, 10, 18, 21],\n",
       " [5, 6, 9, 10, 21],\n",
       " [3, 5, 6, 10, 18],\n",
       " [5, 6, 10, 15, 18],\n",
       " [5, 8, 10, 18, 21],\n",
       " [3, 5, 6, 10, 21],\n",
       " [5, 6, 10, 12, 21],\n",
       " [5, 8, 10, 20, 21],\n",
       " [5, 10, 11, 18, 21],\n",
       " [5, 10, 17, 18, 21],\n",
       " [5, 6, 10, 12, 21],\n",
       " [2, 21, 18, 5],\n",
       " [5, 6, 9, 10, 12],\n",
       " [5, 9, 10, 12, 13],\n",
       " [5, 11, 12, 18, 21],\n",
       " [5, 6, 10, 12, 13],\n",
       " [11, 10, 21, 5],\n",
       " [5, 6, 7, 10, 18],\n",
       " [1, 3, 5, 9, 10],\n",
       " [5, 6, 9, 10, 12],\n",
       " [3, 5, 10, 12, 21],\n",
       " [5, 6, 7, 10, 12],\n",
       " [4, 5, 9, 10, 12],\n",
       " [5, 8, 10, 11, 21],\n",
       " [5, 6, 9, 10, 12],\n",
       " [1, 5, 6, 10, 12],\n",
       " [5, 6, 10, 11, 18],\n",
       " [1, 5, 9, 10, 12],\n",
       " [3, 5, 9, 10, 12],\n",
       " [5, 6, 10, 18, 21],\n",
       " [5, 6, 9, 10, 21],\n",
       " [1, 5, 9, 10, 12],\n",
       " [5, 6, 10, 18, 21],\n",
       " [6, 8, 10, 15, 21],\n",
       " [1, 4, 5, 9, 12],\n",
       " [3, 5, 6, 10, 12],\n",
       " [1, 3, 4, 9, 12],\n",
       " [5, 6, 10, 18, 21],\n",
       " [1, 5, 9, 10, 12],\n",
       " [4, 5, 10, 16, 21],\n",
       " [5, 10, 11, 18, 21],\n",
       " [5, 6, 10, 12, 21],\n",
       " [5, 6, 10, 12, 21],\n",
       " [4, 6, 10, 13, 21],\n",
       " [3, 6, 9, 10, 21],\n",
       " [5, 8, 10, 18, 21],\n",
       " [5, 6, 9, 10, 13],\n",
       " [5, 6, 10, 18, 21],\n",
       " [5, 9, 10, 12, 13],\n",
       " [5, 6, 9, 10, 12],\n",
       " [1, 4, 9, 12, 13],\n",
       " [1, 5, 9, 10, 12],\n",
       " [1, 5, 6, 10, 21],\n",
       " [5, 6, 9, 10, 21],\n",
       " [3, 5, 9, 10, 21],\n",
       " [2, 10, 11, 12, 21],\n",
       " [5, 8, 10, 11, 17],\n",
       " [5, 6, 10, 15, 21],\n",
       " [1, 5, 10, 15, 21],\n",
       " [1, 4, 9, 12, 13],\n",
       " [3, 5, 6, 10, 21],\n",
       " [5, 10, 11, 18, 21],\n",
       " [9, 10, 12, 13, 21],\n",
       " [4, 5, 10, 12, 15],\n",
       " [3, 5, 9, 10, 12],\n",
       " [5, 6, 10, 18, 21],\n",
       " [1, 4, 9, 12, 13],\n",
       " [1, 5, 6, 10, 21],\n",
       " [8, 10, 15, 18, 21],\n",
       " [5, 9, 10, 18, 21],\n",
       " [3, 5, 10, 16, 21],\n",
       " [2, 6, 8, 10, 21],\n",
       " [5, 9, 10, 18, 21],\n",
       " [5, 6, 8, 10, 21],\n",
       " [2, 5, 8, 10, 18],\n",
       " [5, 6, 10, 18, 21],\n",
       " [1, 5, 9, 10, 13],\n",
       " [3, 5, 6, 9, 10],\n",
       " [3, 5, 6, 9, 10],\n",
       " [8, 2, 10, 18],\n",
       " [3, 5, 9, 10, 21],\n",
       " [5, 6, 9, 10, 21],\n",
       " [1, 5, 10, 15, 18],\n",
       " [4, 5, 6, 10, 12],\n",
       " [3, 5, 6, 9, 15],\n",
       " [1, 5, 9, 10, 12],\n",
       " [8, 2, 11, 5],\n",
       " [5, 9, 10, 15, 18],\n",
       " [5, 6, 10, 15, 21],\n",
       " [3, 5, 10, 18, 21],\n",
       " [1, 4, 5, 10, 12],\n",
       " [1, 5, 6, 10, 21],\n",
       " [5, 8, 10, 18, 21],\n",
       " [3, 5, 9, 10, 12],\n",
       " [1, 5, 8, 10, 21],\n",
       " [5, 6, 9, 18, 21],\n",
       " [8, 10, 18, 5],\n",
       " [2, 5, 8, 11, 18],\n",
       " [2, 5, 8, 10, 12],\n",
       " [5, 6, 10, 18, 21],\n",
       " [2, 10, 21, 5],\n",
       " [3, 6, 10, 12, 15],\n",
       " [6, 9, 10, 12, 13],\n",
       " [1, 5, 6, 10, 12],\n",
       " [3, 5, 9, 10, 12],\n",
       " [5, 6, 10, 18, 21],\n",
       " [2, 5, 6, 10, 11],\n",
       " [2, 5, 8, 10, 11],\n",
       " [3, 5, 10, 18, 21],\n",
       " [1, 5, 6, 9, 10],\n",
       " [5, 10, 12, 18, 21],\n",
       " [5, 6, 9, 10, 12],\n",
       " [1, 5, 10, 12, 21],\n",
       " [5, 6, 10, 18, 21],\n",
       " [5, 10, 12, 18, 21],\n",
       " [5, 6, 10, 15, 21],\n",
       " [1, 4, 9, 12, 13],\n",
       " [5, 6, 10, 15, 21],\n",
       " [5, 6, 9, 10, 21],\n",
       " [2, 5, 8, 10, 21],\n",
       " [5, 6, 10, 18, 21],\n",
       " [5, 6, 10, 18, 21],\n",
       " [3, 5, 6, 10, 21],\n",
       " [5, 10, 12, 15, 21],\n",
       " [3, 5, 10, 12, 21],\n",
       " [5, 6, 10, 12, 21],\n",
       " [5, 8, 10, 18, 21],\n",
       " [5, 6, 9, 10, 21],\n",
       " [5, 8, 10, 18, 21],\n",
       " [3, 5, 10, 18, 21],\n",
       " [9, 10, 12, 18, 21],\n",
       " [1, 9, 10, 12, 13],\n",
       " [3, 5, 9, 12, 18],\n",
       " [3, 6, 10, 12, 13],\n",
       " [5, 6, 10, 15, 21],\n",
       " [3, 5, 6, 10, 13],\n",
       " [1, 3, 5, 10, 21],\n",
       " [5, 6, 10, 12, 21],\n",
       " [5, 6, 10, 12, 13],\n",
       " [1, 5, 9, 10, 12],\n",
       " [5, 6, 10, 15, 21],\n",
       " [5, 9, 10, 12, 16],\n",
       " [1, 5, 9, 10, 12],\n",
       " [2, 5, 8, 14, 18],\n",
       " [5, 6, 9, 10, 12],\n",
       " [1, 5, 9, 10, 12],\n",
       " [5, 10, 12, 18, 21],\n",
       " [5, 6, 9, 10, 12],\n",
       " [5, 6, 10, 18, 21],\n",
       " [4, 5, 9, 10, 12],\n",
       " [8, 18, 11, 5],\n",
       " [3, 5, 9, 10, 13],\n",
       " [5, 10, 11, 18, 21],\n",
       " [1, 5, 9, 10, 12],\n",
       " [3, 5, 10, 18, 21],\n",
       " [1, 3, 12, 13, 16],\n",
       " [10, 11, 12, 17, 21],\n",
       " [3, 5, 10, 13, 21],\n",
       " [1, 5, 9, 10, 12],\n",
       " [6, 9, 10, 13, 21],\n",
       " [5, 8, 10, 17, 21],\n",
       " [1, 5, 10, 12, 21],\n",
       " [5, 10, 12, 15, 21],\n",
       " [5, 6, 10, 12, 21],\n",
       " [1, 4, 9, 12, 13],\n",
       " [2, 5, 10, 18, 21],\n",
       " [5, 6, 9, 10, 15],\n",
       " [3, 5, 10, 13, 18],\n",
       " [5, 9, 10, 15, 18],\n",
       " [5, 6, 9, 10, 15],\n",
       " [1, 5, 6, 10, 21],\n",
       " [1, 5, 9, 10, 12],\n",
       " [5, 6, 8, 10, 21],\n",
       " [8, 2, 12, 5],\n",
       " [5, 6, 10, 18, 21],\n",
       " [3, 5, 6, 10, 12],\n",
       " [5, 6, 10, 18, 21],\n",
       " [1, 5, 6, 9, 10],\n",
       " [5, 10, 11, 18, 21],\n",
       " [3, 5, 6, 10, 12],\n",
       " [2, 10, 18, 5],\n",
       " [6, 8, 10, 12, 21],\n",
       " [10, 18, 5],\n",
       " [5, 9, 10, 18, 21],\n",
       " [2, 10, 21, 5],\n",
       " [3, 5, 6, 10, 21],\n",
       " [1, 5, 6, 9, 12],\n",
       " [2, 8, 10, 18, 21],\n",
       " [5, 8, 10, 18, 19],\n",
       " [1, 5, 10, 11, 18],\n",
       " [5, 6, 10, 15, 21],\n",
       " [5, 9, 10, 13, 21],\n",
       " [1, 5, 9, 10, 12],\n",
       " [5, 6, 9, 10, 12],\n",
       " [3, 6, 10, 12, 20],\n",
       " [1, 5, 9, 10, 12],\n",
       " [4, 5, 6, 10, 21],\n",
       " [5, 6, 10, 12, 15],\n",
       " [1, 5, 6, 10, 12],\n",
       " [8, 10, 12, 13, 18],\n",
       " [5, 6, 9, 10, 21],\n",
       " [1, 5, 9, 10, 12],\n",
       " [5, 8, 10, 18, 21],\n",
       " [5, 6, 10, 12, 21],\n",
       " [5, 6, 10, 18, 21],\n",
       " [5, 6, 9, 10, 21],\n",
       " [3, 5, 9, 10, 12],\n",
       " [5, 6, 10, 12, 18],\n",
       " [5, 9, 10, 12, 18],\n",
       " [4, 5, 9, 10, 12],\n",
       " [5, 10, 17, 18, 21],\n",
       " [5, 6, 10, 12, 21],\n",
       " [5, 6, 10, 13, 21],\n",
       " [5, 8, 10, 18, 21],\n",
       " [3, 4, 5, 10, 12],\n",
       " [5, 6, 9, 10, 12],\n",
       " [3, 5, 9, 10, 12],\n",
       " [1, 4, 9, 12, 13],\n",
       " [1, 3, 5, 10, 12],\n",
       " [5, 6, 10, 18, 21],\n",
       " [10, 12, 5],\n",
       " [5, 8, 10, 11, 18],\n",
       " [5, 9, 10, 12, 13],\n",
       " [1, 5, 9, 10, 12],\n",
       " [5, 6, 10, 12, 18],\n",
       " [5, 6, 9, 10, 12],\n",
       " [2, 5, 8, 10, 21],\n",
       " [5, 8, 10, 17, 21],\n",
       " [5, 6, 10, 13, 21],\n",
       " [5, 6, 10, 15, 21],\n",
       " [8, 21, 2, 5],\n",
       " [3, 5, 9, 10, 21],\n",
       " [3, 4, 5, 6, 10],\n",
       " [1, 4, 9, 12, 13],\n",
       " [1, 5, 6, 10, 12],\n",
       " [5, 6, 10, 12, 20],\n",
       " [10, 5],\n",
       " [1, 6, 9, 10, 13],\n",
       " [8, 10, 11, 18, 21],\n",
       " [5, 9, 10, 12, 21],\n",
       " [5, 10, 12, 18, 21],\n",
       " [5, 6, 9, 10, 15],\n",
       " [5, 6, 9, 10, 12],\n",
       " [5, 6, 9, 10, 12],\n",
       " [3, 5, 6, 10, 21],\n",
       " [3, 5, 6, 10, 21],\n",
       " [3, 5, 10, 18, 21],\n",
       " [5, 10, 12, 15, 21],\n",
       " [5, 6, 9, 10, 12],\n",
       " [5, 6, 9, 10, 21],\n",
       " [5, 6, 10, 11, 18],\n",
       " [5, 6, 10, 18, 21],\n",
       " [5, 6, 9, 10, 21],\n",
       " [1, 5, 6, 10, 12],\n",
       " [1, 5, 9, 10, 12],\n",
       " [8, 18, 5],\n",
       " [8, 10, 18, 12],\n",
       " [5, 9, 10, 12, 13],\n",
       " [5, 9, 10, 12, 13],\n",
       " [5, 7, 10, 14, 21],\n",
       " [4, 9, 10, 12, 13],\n",
       " [6, 10, 15, 18, 21],\n",
       " [5, 8, 18, 20, 21],\n",
       " [5, 10, 15, 18, 21],\n",
       " [1, 4, 9, 12, 13],\n",
       " [5, 6, 10, 18, 21],\n",
       " [5, 8, 10, 17, 18],\n",
       " [5, 10, 12, 15, 18],\n",
       " [1, 5, 6, 10, 18],\n",
       " [9, 10, 12, 15, 18],\n",
       " [5, 6, 10, 18, 21],\n",
       " [3, 5, 9, 10, 21],\n",
       " [1, 3, 5, 10, 12],\n",
       " [8, 10, 2, 5],\n",
       " [5, 6, 10, 12, 21],\n",
       " [1, 5, 6, 10, 12],\n",
       " [1, 4, 5, 10, 12],\n",
       " [1, 4, 5, 10, 12],\n",
       " [5, 8, 10, 18, 21],\n",
       " [5, 6, 10, 12, 16],\n",
       " [5, 10, 11, 18, 21],\n",
       " [5, 8, 9, 10, 18],\n",
       " [4, 5, 9, 10, 12],\n",
       " [5, 8, 10, 18, 21],\n",
       " [5, 9, 10, 12, 13],\n",
       " [5, 6, 9, 10, 12],\n",
       " [5, 6, 10, 18, 21],\n",
       " [5, 6, 9, 10, 21],\n",
       " [5, 6, 10, 18, 21],\n",
       " [1, 5, 9, 10, 12],\n",
       " [1, 5, 9, 10, 12],\n",
       " [1, 4, 5, 9, 12],\n",
       " [3, 5, 6, 10, 21],\n",
       " [1, 4, 9, 12, 13],\n",
       " [2, 8, 10, 17, 18],\n",
       " [1, 5, 6, 10, 12],\n",
       " [3, 5, 6, 10, 21],\n",
       " [5, 6, 10, 12, 21],\n",
       " [5, 6, 10, 18, 21],\n",
       " [1, 8, 10, 12, 18],\n",
       " [1, 4, 5, 9, 12],\n",
       " [5, 6, 10, 18, 21],\n",
       " [5, 6, 9, 10, 12],\n",
       " [5, 6, 10, 12, 15],\n",
       " [5, 6, 9, 10, 21],\n",
       " [5, 8, 10, 11, 21],\n",
       " [1, 4, 10, 12, 13],\n",
       " [5, 6, 10, 18, 21],\n",
       " [5, 6, 8, 17, 18],\n",
       " [5, 8, 11, 18, 21],\n",
       " [5, 6, 8, 18, 21],\n",
       " [1, 5, 9, 10, 13],\n",
       " [5, 6, 10, 18, 21],\n",
       " [5, 8, 10, 11, 21],\n",
       " [1, 5, 9, 10, 12],\n",
       " [5, 10, 12, 15, 21],\n",
       " [21, 12, 5],\n",
       " [5, 6, 10, 12, 13],\n",
       " [3, 6, 9, 10, 21],\n",
       " [3, 5, 10, 11, 18],\n",
       " [4, 5, 9, 10, 12],\n",
       " [1, 5, 9, 10, 12],\n",
       " [4, 5, 6, 10, 16],\n",
       " [1, 3, 6, 10, 21],\n",
       " [1, 4, 5, 9, 12],\n",
       " [2, 5, 8, 10, 21],\n",
       " [1, 3, 5, 9, 10],\n",
       " [5, 8, 11, 18, 21],\n",
       " [5, 9, 10, 18, 21],\n",
       " [5, 10, 15, 18, 21],\n",
       " [1, 5, 9, 10, 12],\n",
       " [5, 9, 10, 12, 15],\n",
       " [5, 6, 10, 18, 21],\n",
       " [1, 5, 9, 10, 12],\n",
       " [1, 4, 5, 9, 10],\n",
       " [5, 8, 10, 18, 21],\n",
       " [5, 6, 8, 10, 21],\n",
       " [3, 5, 9, 10, 21],\n",
       " [1, 4, 9, 12, 13],\n",
       " [5, 6, 10, 18, 21],\n",
       " [2, 5, 8, 10, 12],\n",
       " [5, 6, 9, 10, 12],\n",
       " [5, 6, 10, 12, 21],\n",
       " [1, 5, 9, 10, 12],\n",
       " [5, 6, 7, 10, 15],\n",
       " [5, 9, 10, 11, 18],\n",
       " [1, 5, 9, 10, 12],\n",
       " [5, 6, 9, 10, 12],\n",
       " [1, 4, 9, 12, 13],\n",
       " [5, 10, 17, 18, 21],\n",
       " [5, 6, 9, 10, 21],\n",
       " [5, 6, 9, 10, 12],\n",
       " [5, 10, 11, 18, 21],\n",
       " [5, 6, 10, 18, 21],\n",
       " [5, 6, 9, 10, 13],\n",
       " [3, 5, 6, 10, 21],\n",
       " [8, 10, 5],\n",
       " [5, 6, 10, 13, 15],\n",
       " [5, 10, 12, 15, 21],\n",
       " [8, 10, 2, 5],\n",
       " [5, 6, 9, 10, 12],\n",
       " [1, 5, 9, 10, 12],\n",
       " [5, 6, 9, 10, 21],\n",
       " [5, 6, 9, 10, 21],\n",
       " [5, 8, 10, 18, 21],\n",
       " [3, 4, 9, 12, 13],\n",
       " [4, 5, 9, 10, 12],\n",
       " [5, 6, 9, 10, 12],\n",
       " [2, 3, 5, 18, 21],\n",
       " [5, 6, 9, 10, 21],\n",
       " [1, 5, 9, 10, 12],\n",
       " [5, 8, 10, 11, 18],\n",
       " [1, 5, 9, 10, 12],\n",
       " [5, 6, 9, 10, 13],\n",
       " [5, 6, 10, 12, 21],\n",
       " [4, 5, 10, 15, 21],\n",
       " [5, 10, 12, 15, 18],\n",
       " [1, 3, 4, 9, 13],\n",
       " [2, 5, 8, 18, 21],\n",
       " [5, 6, 9, 10, 21],\n",
       " [3, 5, 6, 10, 21],\n",
       " [3, 5, 6, 9, 10],\n",
       " [1, 5, 6, 10, 12],\n",
       " [2, 6, 10, 18, 21],\n",
       " [5, 10, 12, 18, 21],\n",
       " [5, 6, 10, 18, 21],\n",
       " [5, 6, 10, 12, 13],\n",
       " [1, 5, 9, 10, 12],\n",
       " [2, 5, 10, 18, 21],\n",
       " [2, 8, 10, 18, 21],\n",
       " [7, 9, 11, 17, 18],\n",
       " [1, 5, 9, 10, 12],\n",
       " [3, 6, 9, 10, 12],\n",
       " [5, 6, 9, 12, 21],\n",
       " [5, 10, 11, 18, 21],\n",
       " [5, 6, 10, 18, 21],\n",
       " [5, 6, 10, 18, 21],\n",
       " [1, 3, 9, 12, 15],\n",
       " [2, 5, 8, 10, 18],\n",
       " [5, 6, 10, 15, 21],\n",
       " [2, 5, 8, 10, 18],\n",
       " [3, 5, 6, 10, 15],\n",
       " [5, 6, 9, 10, 12],\n",
       " [3, 5, 6, 9, 10],\n",
       " [1, 5, 9, 10, 12],\n",
       " [3, 5, 9, 10, 12],\n",
       " [5, 6, 9, 10, 21],\n",
       " [4, 5, 9, 10, 12],\n",
       " [5, 6, 8, 10, 21],\n",
       " [5, 6, 10, 11, 21],\n",
       " [3, 5, 9, 10, 18],\n",
       " [5, 6, 8, 10, 21],\n",
       " [8, 17, 2, 5],\n",
       " [3, 5, 9, 10, 13],\n",
       " [5, 6, 9, 10, 12],\n",
       " [3, 5, 10, 12, 21],\n",
       " [1, 5, 9, 10, 12],\n",
       " [5, 6, 10, 18, 21],\n",
       " [1, 5, 9, 10, 12],\n",
       " [5, 8, 10, 18, 21],\n",
       " [2, 5, 8, 10, 21],\n",
       " [5, 10, 11, 18, 21],\n",
       " [2, 5, 8, 11, 17],\n",
       " [1, 5, 9, 10, 12],\n",
       " [5, 6, 10, 18, 21],\n",
       " [5, 6, 8, 10, 21],\n",
       " [5, 6, 8, 10, 18],\n",
       " [5, 6, 10, 18, 21],\n",
       " [5, 6, 10, 15, 21],\n",
       " [1, 4, 5, 9, 12],\n",
       " [5, 6, 9, 10, 12],\n",
       " [1, 3, 5, 6, 10],\n",
       " [5, 10, 12, 18, 21],\n",
       " [8, 10, 2, 5],\n",
       " [1, 3, 5, 10, 21],\n",
       " [5, 6, 9, 10, 12],\n",
       " [1, 5, 9, 10, 12],\n",
       " [5, 6, 9, 10, 12],\n",
       " [5, 6, 10, 12, 13],\n",
       " [3, 5, 6, 10, 12],\n",
       " [5, 10, 12, 18, 21],\n",
       " [5, 11, 12, 18, 21],\n",
       " [5, 10, 11, 15, 21],\n",
       " [2, 5, 8, 10, 21],\n",
       " [3, 5, 10, 18, 21],\n",
       " [5, 6, 9, 10, 12],\n",
       " [5, 6, 9, 10, 12],\n",
       " [5, 6, 9, 10, 21],\n",
       " [5, 6, 10, 18, 21],\n",
       " [5, 10, 11, 18, 21],\n",
       " [5, 6, 9, 10, 21],\n",
       " [1, 6, 9, 10, 12],\n",
       " [1, 5, 9, 10, 13],\n",
       " [3, 5, 6, 8, 10],\n",
       " [3, 6, 9, 10, 15],\n",
       " [5, 8, 10, 11, 21],\n",
       " [4, 5, 6, 10, 21],\n",
       " [5, 6, 10, 15, 21],\n",
       " [5, 10, 12, 18, 21],\n",
       " [5, 9, 10, 12, 21],\n",
       " [1, 5, 9, 10, 12],\n",
       " [1, 5, 9, 12, 13],\n",
       " [5, 8, 10, 11, 21],\n",
       " [1, 5, 9, 10, 12],\n",
       " [1, 5, 9, 10, 12],\n",
       " [4, 5, 9, 10, 12],\n",
       " [5, 10, 11, 17, 18],\n",
       " [5, 9, 10, 12, 21],\n",
       " [5, 8, 10, 18, 21],\n",
       " [3, 5, 9, 10, 12],\n",
       " [5, 6, 11, 18, 21],\n",
       " [6, 8, 10, 18, 21],\n",
       " [3, 4, 5, 6, 10],\n",
       " [1, 5, 9, 10, 12],\n",
       " [5, 10, 18, 20, 21],\n",
       " [5, 6, 10, 18, 21],\n",
       " [1, 3, 5, 6, 10],\n",
       " [6, 9, 10, 12, 15],\n",
       " [1, 5, 6, 10, 21],\n",
       " [5, 6, 8, 10, 21],\n",
       " [5, 9, 10, 12, 21],\n",
       " [1, 9, 10, 12, 15],\n",
       " [5, 6, 9, 10, 12],\n",
       " [1, 4, 5, 9, 12],\n",
       " [5, 8, 10, 18, 21],\n",
       " [5, 9, 10, 18, 21],\n",
       " [1, 5, 10, 18, 21],\n",
       " [5, 6, 9, 10, 12],\n",
       " [1, 5, 9, 10, 12],\n",
       " [5, 10, 11, 18, 21],\n",
       " [6, 8, 10, 18, 21],\n",
       " [5, 8, 12, 18, 21],\n",
       " [1, 4, 9, 10, 12],\n",
       " [5, 6, 10, 18, 21],\n",
       " [1, 5, 9, 10, 12],\n",
       " [5, 10, 11, 18, 21],\n",
       " [2, 5, 10, 17, 21],\n",
       " [5, 7, 8, 10, 21],\n",
       " [1, 5, 9, 12, 13],\n",
       " [5, 6, 10, 18, 21],\n",
       " [5, 6, 10, 13, 21],\n",
       " [3, 5, 6, 10, 12],\n",
       " [3, 5, 9, 10, 12],\n",
       " [5, 8, 10, 17, 21],\n",
       " [5, 8, 10, 17, 18],\n",
       " [3, 5, 6, 9, 10],\n",
       " [1, 3, 9, 10, 12],\n",
       " [1, 5, 9, 10, 12],\n",
       " [1, 5, 9, 10, 12],\n",
       " [1, 5, 9, 10, 12],\n",
       " [5, 6, 9, 10, 21],\n",
       " [5, 9, 10, 12, 13],\n",
       " [5, 6, 10, 18, 21],\n",
       " [5, 6, 10, 18, 21],\n",
       " [5, 9, 10, 12, 21],\n",
       " [1, 4, 9, 12, 13],\n",
       " [5, 10, 13, 18, 21],\n",
       " [3, 5, 9, 10, 12],\n",
       " [5, 6, 9, 10, 12],\n",
       " [1, 9, 10, 12, 13],\n",
       " [3, 5, 6, 10, 12],\n",
       " [5, 6, 10, 12, 21],\n",
       " [3, 5, 10, 12, 13],\n",
       " [3, 5, 6, 10, 21],\n",
       " [1, 5, 6, 9, 10],\n",
       " [1, 5, 9, 10, 12],\n",
       " [5, 10, 11, 17, 18],\n",
       " [5, 10, 12, 15, 21],\n",
       " [2, 5, 8, 10, 21],\n",
       " [5, 8, 10, 11, 18],\n",
       " [5, 9, 10, 12, 13],\n",
       " [1, 5, 9, 10, 12],\n",
       " [5, 6, 9, 10, 12],\n",
       " [2, 5, 8, 18, 21],\n",
       " [5, 6, 10, 12, 18],\n",
       " [5, 9, 10, 12, 13],\n",
       " [3, 5, 9, 10, 13],\n",
       " [1, 6, 9, 10, 12],\n",
       " [5, 6, 9, 10, 13],\n",
       " [1, 5, 9, 10, 12],\n",
       " [5, 9, 10, 12, 13],\n",
       " [5, 6, 10, 18, 21],\n",
       " [5, 8, 10, 11, 21],\n",
       " [5, 6, 10, 18, 21],\n",
       " [5, 6, 10, 12, 21],\n",
       " [10, 12, 15, 18, 21],\n",
       " [5, 6, 8, 11, 21],\n",
       " [5, 6, 10, 18, 21],\n",
       " [1, 5, 9, 10, 12],\n",
       " [3, 5, 6, 10, 13],\n",
       " [18, 2, 5],\n",
       " [6, 10, 11, 18, 21],\n",
       " [2, 5, 8, 10, 17],\n",
       " [5, 6, 9, 10, 21],\n",
       " [1, 3, 9, 12, 13],\n",
       " [3, 5, 6, 10, 21],\n",
       " [5, 6, 9, 10, 21],\n",
       " [5, 6, 10, 12, 21],\n",
       " [5, 10, 11, 14, 21],\n",
       " [1, 5, 10, 12, 15],\n",
       " [1, 5, 10, 12, 13],\n",
       " [5, 9, 10, 12, 13],\n",
       " [2, 5, 8, 11, 18],\n",
       " [5, 10, 12, 15, 21],\n",
       " [2, 10, 18],\n",
       " [1, 4, 9, 12, 13],\n",
       " [1, 4, 9, 12, 13],\n",
       " [5, 6, 10, 18, 21],\n",
       " [1, 3, 6, 10, 21],\n",
       " [5, 6, 9, 12, 15],\n",
       " [5, 9, 10, 15, 21],\n",
       " [1, 4, 9, 12, 13],\n",
       " [8, 9, 10, 18, 21],\n",
       " [4, 5, 9, 10, 12],\n",
       " [5, 6, 9, 10, 21],\n",
       " [5, 9, 10, 12, 21],\n",
       " [1, 9, 10, 12, 15],\n",
       " [1, 5, 9, 10, 12],\n",
       " [1, 5, 10, 12, 21],\n",
       " [5, 6, 9, 10, 12],\n",
       " [3, 5, 9, 10, 12],\n",
       " [3, 5, 6, 12, 13],\n",
       " [5, 9, 10, 12, 13],\n",
       " [4, 5, 6, 10, 21],\n",
       " [5, 6, 10, 12, 21],\n",
       " [5, 6, 10, 12, 21],\n",
       " [5, 10, 16, 18, 21],\n",
       " [5, 6, 10, 15, 18],\n",
       " [5, 6, 9, 10, 21],\n",
       " [5, 9, 10, 18, 21],\n",
       " [5, 9, 10, 12, 21],\n",
       " [8, 10, 11, 18, 21],\n",
       " [5, 6, 12, 18, 21],\n",
       " [5, 6, 10, 18, 21],\n",
       " [5, 6, 9, 18, 21],\n",
       " [5, 10, 11, 17, 21],\n",
       " [5, 6, 9, 18, 21],\n",
       " [5, 6, 8, 10, 18],\n",
       " [3, 5, 6, 9, 15],\n",
       " [5, 6, 8, 10, 21],\n",
       " [5, 6, 9, 10, 12],\n",
       " [8, 10, 2, 5],\n",
       " [5, 6, 10, 15, 21],\n",
       " [8, 18, 5],\n",
       " [5, 9, 10, 18, 21],\n",
       " [1, 3, 5, 10, 21],\n",
       " [5, 6, 10, 12, 13],\n",
       " [3, 5, 6, 10, 21],\n",
       " [3, 5, 6, 10, 21],\n",
       " [5, 6, 9, 10, 12],\n",
       " [3, 5, 10, 15, 21],\n",
       " [1, 5, 6, 10, 12],\n",
       " [1, 4, 5, 9, 12],\n",
       " [10, 12, 14, 15, 18],\n",
       " [8, 10, 2, 5],\n",
       " [2, 5, 8, 10, 21],\n",
       " [3, 5, 10, 18, 21],\n",
       " [5, 8, 10, 18, 21],\n",
       " [5, 9, 10, 18, 21],\n",
       " [1, 5, 10, 11, 21],\n",
       " [5, 6, 8, 10, 18],\n",
       " [5, 6, 10, 12, 21],\n",
       " [1, 5, 9, 10, 12],\n",
       " [1, 5, 9, 10, 21],\n",
       " [5, 8, 10, 18, 21],\n",
       " [3, 5, 6, 9, 10],\n",
       " [1, 5, 10, 12, 21],\n",
       " [5, 10, 11, 18, 21],\n",
       " [5, 6, 10, 12, 21],\n",
       " [5, 8, 10, 18, 21],\n",
       " [5, 9, 10, 12, 13],\n",
       " [1, 5, 6, 10, 21],\n",
       " [4, 5, 9, 10, 12],\n",
       " [2, 5, 6, 8, 10],\n",
       " [1, 5, 9, 10, 12],\n",
       " [5, 6, 9, 10, 12],\n",
       " [8, 21, 2, 5],\n",
       " [3, 5, 9, 10, 12],\n",
       " [3, 5, 9, 10, 21],\n",
       " [5, 6, 9, 10, 12],\n",
       " [1, 3, 5, 10, 21],\n",
       " [5, 6, 9, 10, 12],\n",
       " [5, 6, 10, 12, 21],\n",
       " [1, 5, 9, 10, 12],\n",
       " [5, 6, 10, 15, 21],\n",
       " [5, 8, 10, 18, 21],\n",
       " [5, 9, 10, 12, 13],\n",
       " [5, 10, 15, 18, 21],\n",
       " [5, 6, 9, 10, 12],\n",
       " [5, 6, 10, 18, 21],\n",
       " [5, 8, 10, 18, 21],\n",
       " [5, 6, 9, 10, 21],\n",
       " [5, 9, 10, 12, 21],\n",
       " [5, 6, 9, 10, 12],\n",
       " [1, 5, 9, 10, 12],\n",
       " [2, 10, 18, 5],\n",
       " [5, 9, 10, 12, 21],\n",
       " [5, 9, 10, 12, 13],\n",
       " [5, 6, 9, 10, 12],\n",
       " [5, 6, 10, 18, 21],\n",
       " [5, 6, 9, 10, 12],\n",
       " [5, 6, 10, 12, 21],\n",
       " [3, 5, 6, 9, 10],\n",
       " [5, 6, 10, 12, 21],\n",
       " [1, 5, 9, 10, 12],\n",
       " [2, 5, 8, 10, 18],\n",
       " [5, 7, 10, 11, 21],\n",
       " [5, 10, 11, 17, 18],\n",
       " [3, 5, 9, 10, 12],\n",
       " [5, 7, 10, 11, 21],\n",
       " [3, 5, 9, 10, 21],\n",
       " [3, 5, 6, 9, 10],\n",
       " [1, 5, 6, 9, 10],\n",
       " [3, 6, 10, 11, 20],\n",
       " [8, 10, 21, 5],\n",
       " [6, 9, 10, 12, 15],\n",
       " [5, 10, 11, 15, 18],\n",
       " [3, 5, 10, 12, 21],\n",
       " [5, 6, 9, 10, 15],\n",
       " [1, 5, 6, 10, 12],\n",
       " [18, 10, 21, 5],\n",
       " [5, 10, 11, 18, 21],\n",
       " [5, 6, 10, 18, 21],\n",
       " [5, 6, 10, 12, 21],\n",
       " [5, 10, 11, 18, 21],\n",
       " [3, 5, 6, 9, 10],\n",
       " [5, 6, 9, 10, 21],\n",
       " [5, 11, 12, 18, 21],\n",
       " [6, 8, 10, 18, 21],\n",
       " [3, 5, 6, 9, 10],\n",
       " [5, 6, 9, 10, 12],\n",
       " [1, 5, 6, 10, 21],\n",
       " [1, 5, 9, 10, 12],\n",
       " [5, 6, 9, 10, 21],\n",
       " [1, 5, 9, 10, 12],\n",
       " [5, 10, 11, 18, 21],\n",
       " [5, 6, 9, 10, 12],\n",
       " [1, 5, 9, 10, 12],\n",
       " [1, 5, 6, 9, 10],\n",
       " [3, 5, 6, 10, 12],\n",
       " [3, 5, 9, 13, 21],\n",
       " [5, 6, 9, 10, 12],\n",
       " [5, 6, 12, 18, 21],\n",
       " [5, 6, 10, 12, 21],\n",
       " [5, 8, 10, 11, 18],\n",
       " [1, 9, 10, 12, 21],\n",
       " [1, 4, 5, 9, 12],\n",
       " [5, 6, 10, 12, 21],\n",
       " [5, 8, 14, 18, 21],\n",
       " [5, 6, 9, 10, 21],\n",
       " [1, 5, 9, 12, 13],\n",
       " [5, 9, 10, 12, 13],\n",
       " [3, 5, 6, 9, 10],\n",
       " [2, 5, 8, 10, 18],\n",
       " [8, 18, 2, 5],\n",
       " [5, 6, 9, 10, 15],\n",
       " [5, 9, 10, 12, 13],\n",
       " [1, 5, 10, 12, 13],\n",
       " [5, 6, 9, 10, 12],\n",
       " [5, 6, 9, 10, 12],\n",
       " [5, 8, 10, 18, 21],\n",
       " [1, 5, 9, 10, 12],\n",
       " [1, 5, 9, 10, 12],\n",
       " [1, 5, 9, 10, 13],\n",
       " [5, 8, 10, 15, 21],\n",
       " [5, 6, 10, 12, 18],\n",
       " [1, 3, 4, 9, 10],\n",
       " [1, 4, 9, 12, 13],\n",
       " [5, 8, 10, 12, 21],\n",
       " [1, 4, 5, 9, 10],\n",
       " [1, 5, 10, 15, 21],\n",
       " [1, 5, 6, 10, 21],\n",
       " [5, 8, 9, 10, 21],\n",
       " [6, 10, 12, 18, 21],\n",
       " [4, 6, 9, 10, 12],\n",
       " [1, 5, 9, 10, 12],\n",
       " [1, 5, 10, 12, 21],\n",
       " [5, 9, 10, 12, 21],\n",
       " [5, 6, 10, 15, 21],\n",
       " [1, 4, 5, 9, 12],\n",
       " [5, 6, 9, 10, 12],\n",
       " [5, 6, 9, 10, 12],\n",
       " [5, 6, 10, 12, 15],\n",
       " [8, 10, 17, 18, 21],\n",
       " [1, 5, 9, 10, 12],\n",
       " [1, 3, 9, 10, 12],\n",
       " [1, 5, 6, 9, 10],\n",
       " [5, 9, 10, 12, 13],\n",
       " [5, 6, 8, 10, 21],\n",
       " [1, 5, 10, 11, 18],\n",
       " [5, 6, 9, 10, 12],\n",
       " [3, 5, 6, 9, 10],\n",
       " [1, 5, 10, 12, 21],\n",
       " [1, 5, 9, 10, 12],\n",
       " [1, 5, 9, 10, 21],\n",
       " [5, 6, 9, 10, 21],\n",
       " [5, 6, 10, 12, 21],\n",
       " [5, 6, 10, 18, 21],\n",
       " [2, 5, 6, 8, 10],\n",
       " [5, 6, 9, 10, 12],\n",
       " [1, 5, 9, 10, 12],\n",
       " [1, 5, 6, 10, 21],\n",
       " [2, 5, 8, 10, 21],\n",
       " [5, 6, 9, 12, 21],\n",
       " [5, 10, 15, 18, 21],\n",
       " [5, 9, 10, 12, 13],\n",
       " [5, 9, 10, 12, 13],\n",
       " [5, 9, 10, 12, 13],\n",
       " [5, 6, 10, 12, 13],\n",
       " [1, 5, 9, 10, 12],\n",
       " [5, 9, 10, 18, 21],\n",
       " [1, 5, 9, 12, 13],\n",
       " [1, 4, 5, 9, 12],\n",
       " [1, 5, 6, 10, 12],\n",
       " [4, 5, 9, 10, 12],\n",
       " [1, 6, 9, 10, 12],\n",
       " [3, 5, 6, 9, 10],\n",
       " [3, 5, 6, 10, 12],\n",
       " [3, 5, 10, 18, 21],\n",
       " [2, 5, 6, 18, 21],\n",
       " [8, 10, 2, 21],\n",
       " [1, 5, 6, 10, 12],\n",
       " [1, 4, 5, 9, 10],\n",
       " [5, 9, 10, 15, 21],\n",
       " [4, 6, 9, 10, 12],\n",
       " [5, 8, 10, 18, 21],\n",
       " [5, 6, 10, 18, 21],\n",
       " [5, 10, 11, 18, 21],\n",
       " [5, 6, 9, 10, 21],\n",
       " [5, 6, 10, 12, 21],\n",
       " [3, 5, 6, 10, 12],\n",
       " [5, 8, 10, 18, 21],\n",
       " [5, 8, 10, 18, 21],\n",
       " [5, 6, 10, 20, 21],\n",
       " [5, 6, 10, 12, 18],\n",
       " [5, 10, 11, 18, 21],\n",
       " [1, 5, 6, 9, 10],\n",
       " [6, 8, 10, 12, 18],\n",
       " [5, 10, 12, 18, 21],\n",
       " [1, 5, 9, 10, 12],\n",
       " [5, 8, 10, 18, 20],\n",
       " [2, 8, 10, 11, 21],\n",
       " [5, 6, 9, 10, 12],\n",
       " [2, 5, 6, 8, 21],\n",
       " [1, 3, 4, 9, 12],\n",
       " [5, 8, 9, 10, 18],\n",
       " [6, 8, 10, 12, 18],\n",
       " [5, 9, 10, 12, 21],\n",
       " [3, 5, 6, 9, 10],\n",
       " [2, 5, 10, 18, 21],\n",
       " [3, 5, 6, 10, 12],\n",
       " [1, 4, 5, 9, 12],\n",
       " [5, 6, 10, 18, 21],\n",
       " [1, 4, 9, 12, 13],\n",
       " [5, 6, 8, 10, 17],\n",
       " [5, 6, 10, 12, 21],\n",
       " [5, 8, 10, 17, 21],\n",
       " [4, 5, 9, 10, 12],\n",
       " [1, 5, 6, 10, 21],\n",
       " [5, 6, 10, 18, 21],\n",
       " [5, 6, 10, 18, 21],\n",
       " [4, 5, 9, 10, 12],\n",
       " [1, 5, 10, 12, 15],\n",
       " [2, 5, 8, 10, 21],\n",
       " [3, 4, 10, 15, 21],\n",
       " [2, 5, 6],\n",
       " [5, 6, 10, 12, 21],\n",
       " [2, 8, 10, 18, 21],\n",
       " [5, 6, 9, 10, 12],\n",
       " [1, 5, 6, 10, 12],\n",
       " [5, 6, 10, 12, 21],\n",
       " [3, 5, 9, 10, 12],\n",
       " [5, 8, 10, 18, 21],\n",
       " [5, 6, 9, 10, 21],\n",
       " [5, 6, 10, 11, 15],\n",
       " [1, 5, 6, 10, 21],\n",
       " [5, 6, 10, 12, 18],\n",
       " [5, 6, 10, 18, 21],\n",
       " [5, 8, 10, 11, 21],\n",
       " [5, 6, 10, 15, 21],\n",
       " [8, 10, 2, 21],\n",
       " [5, 9, 10, 12, 21],\n",
       " [3, 5, 10, 18, 21],\n",
       " [5, 9, 10, 12, 13],\n",
       " [5, 10, 17, 18, 21],\n",
       " [3, 5, 6, 10, 18],\n",
       " [1, 5, 6, 9, 15],\n",
       " [1, 4, 9, 10, 12],\n",
       " [1, 5, 10, 18, 21],\n",
       " [5, 6, 9, 10, 21],\n",
       " [1, 5, 9, 10, 12],\n",
       " [5, 6, 9, 10, 21],\n",
       " [1, 5, 9, 10, 18],\n",
       " [5, 6, 9, 10, 21],\n",
       " [8, 10],\n",
       " [1, 4, 5, 9, 10],\n",
       " [1, 5, 9, 10, 12],\n",
       " [2, 5, 8, 10, 18],\n",
       " [5, 6, 10, 12, 21],\n",
       " [3, 5, 9, 10, 12],\n",
       " [2, 5, 6],\n",
       " [3, 5, 10, 18, 21],\n",
       " [1, 5, 9, 10, 12],\n",
       " [2, 10, 21, 5],\n",
       " [4, 5, 9, 10, 12],\n",
       " [5, 10, 12, 18, 21],\n",
       " [1, 5, 9, 10, 12],\n",
       " [1, 6, 10, 12, 13],\n",
       " [3, 5, 9, 10, 13],\n",
       " [9, 10, 12, 15, 21],\n",
       " [5, 8, 10, 18, 21],\n",
       " [1, 4, 5, 9, 12],\n",
       " [1, 5, 9, 10, 13],\n",
       " [3, 5, 10, 15, 18],\n",
       " [1, 4, 9, 12, 13],\n",
       " [5, 8, 10, 14, 21],\n",
       " [1, 5, 6, 10, 12],\n",
       " [1, 5, 6, 10, 21],\n",
       " [3, 5, 6, 10, 15],\n",
       " [2, 5, 8, 10, 18],\n",
       " [1, 4, 9, 12, 13],\n",
       " [8, 10, 2, 21],\n",
       " [5, 6, 10, 12, 21],\n",
       " [5, 10, 12, 15, 21],\n",
       " [5, 9, 10, 12, 13],\n",
       " [5, 9, 10, 18, 21],\n",
       " [5, 6, 10, 18, 21],\n",
       " [5, 6, 8, 10, 11],\n",
       " [1, 3, 5, 6, 10],\n",
       " [4, 5, 9, 10, 12],\n",
       " [5, 6, 10, 18, 21],\n",
       " [5, 6, 12, 15, 21],\n",
       " [5, 10, 11, 17, 18],\n",
       " [3, 5, 6, 10, 21],\n",
       " [5, 8, 10, 18, 21],\n",
       " [5, 9, 10, 12, 13],\n",
       " [5, 9, 10, 12, 13],\n",
       " [3, 5, 6, 10, 21],\n",
       " [1, 5, 9, 10, 12],\n",
       " [5, 10, 11, 18, 21],\n",
       " [5, 10, 11, 15, 21],\n",
       " [5, 6, 9, 10, 12],\n",
       " [5, 10, 11, 18, 21],\n",
       " [3, 5, 10, 16, 18],\n",
       " [5, 6, 9, 10, 18],\n",
       " [3, 5, 6, 10, 12],\n",
       " [5, 6, 10, 18, 21],\n",
       " [5, 10, 17, 18, 21],\n",
       " [5, 6, 10, 12, 18],\n",
       " [5, 10, 11, 18, 20],\n",
       " [2, 10, 21, 5],\n",
       " [3, 5, 10, 12, 13],\n",
       " [5, 8, 10, 18, 21],\n",
       " [3, 5, 6, 9, 10],\n",
       " [5, 8, 10, 11, 17],\n",
       " [5, 6, 7, 18, 20],\n",
       " [1, 5, 9, 10, 12],\n",
       " [1, 4, 5, 9, 12],\n",
       " [1, 9, 10, 12, 15],\n",
       " [2, 5, 8, 10, 21],\n",
       " [5, 6, 10, 18, 21],\n",
       " [8, 10, 11, 18, 21],\n",
       " [5, 6, 9, 12, 21],\n",
       " [5, 6, 10, 12, 21],\n",
       " [2, 10, 21, 5],\n",
       " [5, 6, 9, 10, 21],\n",
       " [5, 8, 11, 17, 21],\n",
       " [5, 9, 10, 18, 21],\n",
       " [5, 8, 10, 18, 21],\n",
       " [5, 8, 10, 18, 21],\n",
       " [2, 10, 18, 21],\n",
       " [1, 6, 9, 10, 21],\n",
       " [1, 4, 9, 12, 13],\n",
       " [5, 6, 10, 18, 21],\n",
       " [1, 5, 9, 10, 12],\n",
       " [1, 5, 9, 10, 12],\n",
       " [3, 5, 9, 10, 12],\n",
       " [1, 5, 9, 10, 12],\n",
       " [1, 6, 9, 10, 21],\n",
       " [1, 5, 6, 10, 21],\n",
       " [1, 5, 9, 10, 12],\n",
       " [5, 6, 10, 17, 20],\n",
       " [5, 6, 10, 12, 21],\n",
       " [5, 8, 10, 18, 21],\n",
       " [10, 2, 6, 14],\n",
       " [2, 5, 6, 8, 10],\n",
       " [5, 6, 9, 10, 12],\n",
       " ...]"
      ]
     },
     "execution_count": 211,
     "metadata": {},
     "output_type": "execute_result"
    }
   ],
   "source": [
    "rec_depart_test2"
   ]
  },
  {
   "cell_type": "code",
   "execution_count": 212,
   "metadata": {},
   "outputs": [],
   "source": [
    "result_rc = pd.DataFrame({\"user_id\":range(1,10001),\"recommend\":rec_depart_test2})"
   ]
  },
  {
   "cell_type": "code",
   "execution_count": 214,
   "metadata": {},
   "outputs": [
    {
     "data": {
      "text/html": [
       "<div>\n",
       "<style scoped>\n",
       "    .dataframe tbody tr th:only-of-type {\n",
       "        vertical-align: middle;\n",
       "    }\n",
       "\n",
       "    .dataframe tbody tr th {\n",
       "        vertical-align: top;\n",
       "    }\n",
       "\n",
       "    .dataframe thead th {\n",
       "        text-align: right;\n",
       "    }\n",
       "</style>\n",
       "<table border=\"1\" class=\"dataframe\">\n",
       "  <thead>\n",
       "    <tr style=\"text-align: right;\">\n",
       "      <th></th>\n",
       "      <th>user_id</th>\n",
       "      <th>recommend</th>\n",
       "    </tr>\n",
       "  </thead>\n",
       "  <tbody>\n",
       "    <tr>\n",
       "      <th>9990</th>\n",
       "      <td>9991</td>\n",
       "      <td>[1, 5, 6, 10, 12]</td>\n",
       "    </tr>\n",
       "    <tr>\n",
       "      <th>9991</th>\n",
       "      <td>9992</td>\n",
       "      <td>[5, 8, 10, 11, 21]</td>\n",
       "    </tr>\n",
       "    <tr>\n",
       "      <th>9992</th>\n",
       "      <td>9993</td>\n",
       "      <td>[4, 5, 9, 10, 21]</td>\n",
       "    </tr>\n",
       "    <tr>\n",
       "      <th>9993</th>\n",
       "      <td>9994</td>\n",
       "      <td>[5, 6, 10, 12, 21]</td>\n",
       "    </tr>\n",
       "    <tr>\n",
       "      <th>9994</th>\n",
       "      <td>9995</td>\n",
       "      <td>[5, 6, 10, 18, 21]</td>\n",
       "    </tr>\n",
       "    <tr>\n",
       "      <th>9995</th>\n",
       "      <td>9996</td>\n",
       "      <td>[2, 6, 8, 10, 21]</td>\n",
       "    </tr>\n",
       "    <tr>\n",
       "      <th>9996</th>\n",
       "      <td>9997</td>\n",
       "      <td>[3, 5, 6, 10, 21]</td>\n",
       "    </tr>\n",
       "    <tr>\n",
       "      <th>9997</th>\n",
       "      <td>9998</td>\n",
       "      <td>[1, 4, 10, 12, 13]</td>\n",
       "    </tr>\n",
       "    <tr>\n",
       "      <th>9998</th>\n",
       "      <td>9999</td>\n",
       "      <td>[3, 5, 6, 10, 21]</td>\n",
       "    </tr>\n",
       "    <tr>\n",
       "      <th>9999</th>\n",
       "      <td>10000</td>\n",
       "      <td>[2, 5, 8, 18, 21]</td>\n",
       "    </tr>\n",
       "  </tbody>\n",
       "</table>\n",
       "</div>"
      ],
      "text/plain": [
       "      user_id           recommend\n",
       "9990     9991   [1, 5, 6, 10, 12]\n",
       "9991     9992  [5, 8, 10, 11, 21]\n",
       "9992     9993   [4, 5, 9, 10, 21]\n",
       "9993     9994  [5, 6, 10, 12, 21]\n",
       "9994     9995  [5, 6, 10, 18, 21]\n",
       "9995     9996   [2, 6, 8, 10, 21]\n",
       "9996     9997   [3, 5, 6, 10, 21]\n",
       "9997     9998  [1, 4, 10, 12, 13]\n",
       "9998     9999   [3, 5, 6, 10, 21]\n",
       "9999    10000   [2, 5, 8, 18, 21]"
      ]
     },
     "execution_count": 214,
     "metadata": {},
     "output_type": "execute_result"
    }
   ],
   "source": [
    "result_rc.tail(10)"
   ]
  },
  {
   "cell_type": "code",
   "execution_count": 215,
   "metadata": {},
   "outputs": [],
   "source": [
    "result_rc[\"max_freq_departments\"] = user_items_types_sample.iloc[:10000,3]"
   ]
  },
  {
   "cell_type": "code",
   "execution_count": 218,
   "metadata": {},
   "outputs": [
    {
     "data": {
      "text/html": [
       "<div>\n",
       "<style scoped>\n",
       "    .dataframe tbody tr th:only-of-type {\n",
       "        vertical-align: middle;\n",
       "    }\n",
       "\n",
       "    .dataframe tbody tr th {\n",
       "        vertical-align: top;\n",
       "    }\n",
       "\n",
       "    .dataframe thead th {\n",
       "        text-align: right;\n",
       "    }\n",
       "</style>\n",
       "<table border=\"1\" class=\"dataframe\">\n",
       "  <thead>\n",
       "    <tr style=\"text-align: right;\">\n",
       "      <th></th>\n",
       "      <th>user_id</th>\n",
       "      <th>recommend</th>\n",
       "      <th>max_freq_departments</th>\n",
       "    </tr>\n",
       "  </thead>\n",
       "  <tbody>\n",
       "    <tr>\n",
       "      <th>0</th>\n",
       "      <td>1</td>\n",
       "      <td>[1, 5, 9, 10, 12]</td>\n",
       "      <td>[19]</td>\n",
       "    </tr>\n",
       "    <tr>\n",
       "      <th>1</th>\n",
       "      <td>2</td>\n",
       "      <td>[5, 9, 10, 18, 21]</td>\n",
       "      <td>[16]</td>\n",
       "    </tr>\n",
       "    <tr>\n",
       "      <th>2</th>\n",
       "      <td>3</td>\n",
       "      <td>[3, 5, 6, 10, 12]</td>\n",
       "      <td>[4]</td>\n",
       "    </tr>\n",
       "    <tr>\n",
       "      <th>3</th>\n",
       "      <td>4</td>\n",
       "      <td>[6, 9, 10, 12, 13]</td>\n",
       "      <td>[7, 1]</td>\n",
       "    </tr>\n",
       "    <tr>\n",
       "      <th>4</th>\n",
       "      <td>5</td>\n",
       "      <td>[3, 5, 10, 12, 21]</td>\n",
       "      <td>[4]</td>\n",
       "    </tr>\n",
       "    <tr>\n",
       "      <th>5</th>\n",
       "      <td>6</td>\n",
       "      <td>[1, 5, 9, 10, 21]</td>\n",
       "      <td>[4]</td>\n",
       "    </tr>\n",
       "    <tr>\n",
       "      <th>6</th>\n",
       "      <td>7</td>\n",
       "      <td>[5, 6, 9, 10, 21]</td>\n",
       "      <td>[4]</td>\n",
       "    </tr>\n",
       "    <tr>\n",
       "      <th>7</th>\n",
       "      <td>8</td>\n",
       "      <td>[1, 3, 5, 10, 12]</td>\n",
       "      <td>[4]</td>\n",
       "    </tr>\n",
       "    <tr>\n",
       "      <th>8</th>\n",
       "      <td>9</td>\n",
       "      <td>[5, 6, 9, 10, 21]</td>\n",
       "      <td>[16]</td>\n",
       "    </tr>\n",
       "    <tr>\n",
       "      <th>9</th>\n",
       "      <td>10</td>\n",
       "      <td>[3, 5, 9, 10, 21]</td>\n",
       "      <td>[4]</td>\n",
       "    </tr>\n",
       "  </tbody>\n",
       "</table>\n",
       "</div>"
      ],
      "text/plain": [
       "   user_id           recommend max_freq_departments\n",
       "0        1   [1, 5, 9, 10, 12]                 [19]\n",
       "1        2  [5, 9, 10, 18, 21]                 [16]\n",
       "2        3   [3, 5, 6, 10, 12]                  [4]\n",
       "3        4  [6, 9, 10, 12, 13]               [7, 1]\n",
       "4        5  [3, 5, 10, 12, 21]                  [4]\n",
       "5        6   [1, 5, 9, 10, 21]                  [4]\n",
       "6        7   [5, 6, 9, 10, 21]                  [4]\n",
       "7        8   [1, 3, 5, 10, 12]                  [4]\n",
       "8        9   [5, 6, 9, 10, 21]                 [16]\n",
       "9       10   [3, 5, 9, 10, 21]                  [4]"
      ]
     },
     "execution_count": 218,
     "metadata": {},
     "output_type": "execute_result"
    }
   ],
   "source": [
    "result_rc.head(10)"
   ]
  },
  {
   "cell_type": "code",
   "execution_count": 219,
   "metadata": {},
   "outputs": [],
   "source": [
    "#######################################\n",
    "###### Cluster Precision Test  ########\n",
    "#######################################"
   ]
  },
  {
   "cell_type": "code",
   "execution_count": 228,
   "metadata": {},
   "outputs": [
    {
     "data": {
      "text/html": [
       "<div>\n",
       "<style scoped>\n",
       "    .dataframe tbody tr th:only-of-type {\n",
       "        vertical-align: middle;\n",
       "    }\n",
       "\n",
       "    .dataframe tbody tr th {\n",
       "        vertical-align: top;\n",
       "    }\n",
       "\n",
       "    .dataframe thead th {\n",
       "        text-align: right;\n",
       "    }\n",
       "</style>\n",
       "<table border=\"1\" class=\"dataframe\">\n",
       "  <thead>\n",
       "    <tr style=\"text-align: right;\">\n",
       "      <th></th>\n",
       "      <th>days_since_prior_order_mean</th>\n",
       "      <th>order_dow1_cnt_norm</th>\n",
       "      <th>order_dow2_cnt_norm</th>\n",
       "      <th>order_hour_of_day1_cnt_norm</th>\n",
       "      <th>order_hour_of_day2_cnt_norm</th>\n",
       "      <th>order_hour_of_day3_cnt_norm</th>\n",
       "      <th>median_itemsCnt_per_order</th>\n",
       "      <th>Label</th>\n",
       "    </tr>\n",
       "    <tr>\n",
       "      <th>user_id</th>\n",
       "      <th></th>\n",
       "      <th></th>\n",
       "      <th></th>\n",
       "      <th></th>\n",
       "      <th></th>\n",
       "      <th></th>\n",
       "      <th></th>\n",
       "      <th></th>\n",
       "    </tr>\n",
       "  </thead>\n",
       "  <tbody>\n",
       "    <tr>\n",
       "      <th>9948</th>\n",
       "      <td>30.000000</td>\n",
       "      <td>0.25</td>\n",
       "      <td>0.75</td>\n",
       "      <td>1.000000</td>\n",
       "      <td>0.000000</td>\n",
       "      <td>0.00</td>\n",
       "      <td>4.5</td>\n",
       "      <td>0</td>\n",
       "    </tr>\n",
       "    <tr>\n",
       "      <th>3240</th>\n",
       "      <td>17.714286</td>\n",
       "      <td>0.00</td>\n",
       "      <td>1.00</td>\n",
       "      <td>0.750000</td>\n",
       "      <td>0.250000</td>\n",
       "      <td>0.00</td>\n",
       "      <td>11.0</td>\n",
       "      <td>0</td>\n",
       "    </tr>\n",
       "    <tr>\n",
       "      <th>1076</th>\n",
       "      <td>25.000000</td>\n",
       "      <td>0.00</td>\n",
       "      <td>1.00</td>\n",
       "      <td>0.571429</td>\n",
       "      <td>0.428571</td>\n",
       "      <td>0.00</td>\n",
       "      <td>3.0</td>\n",
       "      <td>0</td>\n",
       "    </tr>\n",
       "    <tr>\n",
       "      <th>2898</th>\n",
       "      <td>18.333333</td>\n",
       "      <td>0.50</td>\n",
       "      <td>0.50</td>\n",
       "      <td>0.000000</td>\n",
       "      <td>0.750000</td>\n",
       "      <td>0.25</td>\n",
       "      <td>3.5</td>\n",
       "      <td>0</td>\n",
       "    </tr>\n",
       "    <tr>\n",
       "      <th>6042</th>\n",
       "      <td>19.000000</td>\n",
       "      <td>0.50</td>\n",
       "      <td>0.50</td>\n",
       "      <td>0.333333</td>\n",
       "      <td>0.666667</td>\n",
       "      <td>0.00</td>\n",
       "      <td>12.5</td>\n",
       "      <td>0</td>\n",
       "    </tr>\n",
       "  </tbody>\n",
       "</table>\n",
       "</div>"
      ],
      "text/plain": [
       "         days_since_prior_order_mean  order_dow1_cnt_norm  \\\n",
       "user_id                                                     \n",
       "9948                       30.000000                 0.25   \n",
       "3240                       17.714286                 0.00   \n",
       "1076                       25.000000                 0.00   \n",
       "2898                       18.333333                 0.50   \n",
       "6042                       19.000000                 0.50   \n",
       "\n",
       "         order_dow2_cnt_norm  order_hour_of_day1_cnt_norm  \\\n",
       "user_id                                                     \n",
       "9948                    0.75                     1.000000   \n",
       "3240                    1.00                     0.750000   \n",
       "1076                    1.00                     0.571429   \n",
       "2898                    0.50                     0.000000   \n",
       "6042                    0.50                     0.333333   \n",
       "\n",
       "         order_hour_of_day2_cnt_norm  order_hour_of_day3_cnt_norm  \\\n",
       "user_id                                                             \n",
       "9948                        0.000000                         0.00   \n",
       "3240                        0.250000                         0.00   \n",
       "1076                        0.428571                         0.00   \n",
       "2898                        0.750000                         0.25   \n",
       "6042                        0.666667                         0.00   \n",
       "\n",
       "         median_itemsCnt_per_order  Label  \n",
       "user_id                                    \n",
       "9948                           4.5      0  \n",
       "3240                          11.0      0  \n",
       "1076                           3.0      0  \n",
       "2898                           3.5      0  \n",
       "6042                          12.5      0  "
      ]
     },
     "execution_count": 228,
     "metadata": {},
     "output_type": "execute_result"
    }
   ],
   "source": [
    "cluster_0 = X1[(X1['Label'] == 0) & (X1.index < 10000)]\n",
    "cluster_0.head(5)"
   ]
  },
  {
   "cell_type": "code",
   "execution_count": 229,
   "metadata": {},
   "outputs": [
    {
     "data": {
      "text/html": [
       "<div>\n",
       "<style scoped>\n",
       "    .dataframe tbody tr th:only-of-type {\n",
       "        vertical-align: middle;\n",
       "    }\n",
       "\n",
       "    .dataframe tbody tr th {\n",
       "        vertical-align: top;\n",
       "    }\n",
       "\n",
       "    .dataframe thead th {\n",
       "        text-align: right;\n",
       "    }\n",
       "</style>\n",
       "<table border=\"1\" class=\"dataframe\">\n",
       "  <thead>\n",
       "    <tr style=\"text-align: right;\">\n",
       "      <th></th>\n",
       "      <th>days_since_prior_order_mean</th>\n",
       "      <th>order_dow1_cnt_norm</th>\n",
       "      <th>order_dow2_cnt_norm</th>\n",
       "      <th>order_hour_of_day1_cnt_norm</th>\n",
       "      <th>order_hour_of_day2_cnt_norm</th>\n",
       "      <th>order_hour_of_day3_cnt_norm</th>\n",
       "      <th>median_itemsCnt_per_order</th>\n",
       "      <th>Label</th>\n",
       "    </tr>\n",
       "    <tr>\n",
       "      <th>user_id</th>\n",
       "      <th></th>\n",
       "      <th></th>\n",
       "      <th></th>\n",
       "      <th></th>\n",
       "      <th></th>\n",
       "      <th></th>\n",
       "      <th></th>\n",
       "      <th></th>\n",
       "    </tr>\n",
       "  </thead>\n",
       "  <tbody>\n",
       "    <tr>\n",
       "      <th>4313</th>\n",
       "      <td>7.700000</td>\n",
       "      <td>0.363636</td>\n",
       "      <td>0.636364</td>\n",
       "      <td>0.000000</td>\n",
       "      <td>0.454545</td>\n",
       "      <td>0.545455</td>\n",
       "      <td>14.0</td>\n",
       "      <td>1</td>\n",
       "    </tr>\n",
       "    <tr>\n",
       "      <th>8428</th>\n",
       "      <td>14.000000</td>\n",
       "      <td>1.000000</td>\n",
       "      <td>0.000000</td>\n",
       "      <td>0.666667</td>\n",
       "      <td>0.333333</td>\n",
       "      <td>0.000000</td>\n",
       "      <td>12.0</td>\n",
       "      <td>1</td>\n",
       "    </tr>\n",
       "    <tr>\n",
       "      <th>7764</th>\n",
       "      <td>9.428571</td>\n",
       "      <td>0.250000</td>\n",
       "      <td>0.750000</td>\n",
       "      <td>0.500000</td>\n",
       "      <td>0.250000</td>\n",
       "      <td>0.250000</td>\n",
       "      <td>3.0</td>\n",
       "      <td>1</td>\n",
       "    </tr>\n",
       "    <tr>\n",
       "      <th>2095</th>\n",
       "      <td>13.523810</td>\n",
       "      <td>0.272727</td>\n",
       "      <td>0.727273</td>\n",
       "      <td>0.454545</td>\n",
       "      <td>0.409091</td>\n",
       "      <td>0.136364</td>\n",
       "      <td>10.0</td>\n",
       "      <td>1</td>\n",
       "    </tr>\n",
       "    <tr>\n",
       "      <th>6</th>\n",
       "      <td>9.000000</td>\n",
       "      <td>0.000000</td>\n",
       "      <td>1.000000</td>\n",
       "      <td>0.000000</td>\n",
       "      <td>1.000000</td>\n",
       "      <td>0.000000</td>\n",
       "      <td>4.0</td>\n",
       "      <td>1</td>\n",
       "    </tr>\n",
       "  </tbody>\n",
       "</table>\n",
       "</div>"
      ],
      "text/plain": [
       "         days_since_prior_order_mean  order_dow1_cnt_norm  \\\n",
       "user_id                                                     \n",
       "4313                        7.700000             0.363636   \n",
       "8428                       14.000000             1.000000   \n",
       "7764                        9.428571             0.250000   \n",
       "2095                       13.523810             0.272727   \n",
       "6                           9.000000             0.000000   \n",
       "\n",
       "         order_dow2_cnt_norm  order_hour_of_day1_cnt_norm  \\\n",
       "user_id                                                     \n",
       "4313                0.636364                     0.000000   \n",
       "8428                0.000000                     0.666667   \n",
       "7764                0.750000                     0.500000   \n",
       "2095                0.727273                     0.454545   \n",
       "6                   1.000000                     0.000000   \n",
       "\n",
       "         order_hour_of_day2_cnt_norm  order_hour_of_day3_cnt_norm  \\\n",
       "user_id                                                             \n",
       "4313                        0.454545                     0.545455   \n",
       "8428                        0.333333                     0.000000   \n",
       "7764                        0.250000                     0.250000   \n",
       "2095                        0.409091                     0.136364   \n",
       "6                           1.000000                     0.000000   \n",
       "\n",
       "         median_itemsCnt_per_order  Label  \n",
       "user_id                                    \n",
       "4313                          14.0      1  \n",
       "8428                          12.0      1  \n",
       "7764                           3.0      1  \n",
       "2095                          10.0      1  \n",
       "6                              4.0      1  "
      ]
     },
     "execution_count": 229,
     "metadata": {},
     "output_type": "execute_result"
    }
   ],
   "source": [
    "cluster_1 = X1[(X1['Label'] == 1) & (X1.index < 10000)]\n",
    "cluster_1.head(5)"
   ]
  },
  {
   "cell_type": "code",
   "execution_count": 231,
   "metadata": {},
   "outputs": [
    {
     "data": {
      "text/html": [
       "<div>\n",
       "<style scoped>\n",
       "    .dataframe tbody tr th:only-of-type {\n",
       "        vertical-align: middle;\n",
       "    }\n",
       "\n",
       "    .dataframe tbody tr th {\n",
       "        vertical-align: top;\n",
       "    }\n",
       "\n",
       "    .dataframe thead th {\n",
       "        text-align: right;\n",
       "    }\n",
       "</style>\n",
       "<table border=\"1\" class=\"dataframe\">\n",
       "  <thead>\n",
       "    <tr style=\"text-align: right;\">\n",
       "      <th></th>\n",
       "      <th>days_since_prior_order_mean</th>\n",
       "      <th>order_dow1_cnt_norm</th>\n",
       "      <th>order_dow2_cnt_norm</th>\n",
       "      <th>order_hour_of_day1_cnt_norm</th>\n",
       "      <th>order_hour_of_day2_cnt_norm</th>\n",
       "      <th>order_hour_of_day3_cnt_norm</th>\n",
       "      <th>median_itemsCnt_per_order</th>\n",
       "      <th>Label</th>\n",
       "    </tr>\n",
       "    <tr>\n",
       "      <th>user_id</th>\n",
       "      <th></th>\n",
       "      <th></th>\n",
       "      <th></th>\n",
       "      <th></th>\n",
       "      <th></th>\n",
       "      <th></th>\n",
       "      <th></th>\n",
       "      <th></th>\n",
       "    </tr>\n",
       "  </thead>\n",
       "  <tbody>\n",
       "    <tr>\n",
       "      <th>1180</th>\n",
       "      <td>21.800</td>\n",
       "      <td>1.000000</td>\n",
       "      <td>0.000000</td>\n",
       "      <td>0.545455</td>\n",
       "      <td>0.454545</td>\n",
       "      <td>0.0</td>\n",
       "      <td>18.0</td>\n",
       "      <td>2</td>\n",
       "    </tr>\n",
       "    <tr>\n",
       "      <th>8802</th>\n",
       "      <td>19.000</td>\n",
       "      <td>0.750000</td>\n",
       "      <td>0.250000</td>\n",
       "      <td>0.750000</td>\n",
       "      <td>0.250000</td>\n",
       "      <td>0.0</td>\n",
       "      <td>17.5</td>\n",
       "      <td>2</td>\n",
       "    </tr>\n",
       "    <tr>\n",
       "      <th>8405</th>\n",
       "      <td>13.200</td>\n",
       "      <td>0.363636</td>\n",
       "      <td>0.636364</td>\n",
       "      <td>0.454545</td>\n",
       "      <td>0.545455</td>\n",
       "      <td>0.0</td>\n",
       "      <td>18.0</td>\n",
       "      <td>2</td>\n",
       "    </tr>\n",
       "    <tr>\n",
       "      <th>6535</th>\n",
       "      <td>16.500</td>\n",
       "      <td>0.428571</td>\n",
       "      <td>0.571429</td>\n",
       "      <td>0.142857</td>\n",
       "      <td>0.857143</td>\n",
       "      <td>0.0</td>\n",
       "      <td>12.0</td>\n",
       "      <td>2</td>\n",
       "    </tr>\n",
       "    <tr>\n",
       "      <th>564</th>\n",
       "      <td>24.625</td>\n",
       "      <td>0.111111</td>\n",
       "      <td>0.888889</td>\n",
       "      <td>0.111111</td>\n",
       "      <td>0.888889</td>\n",
       "      <td>0.0</td>\n",
       "      <td>20.0</td>\n",
       "      <td>2</td>\n",
       "    </tr>\n",
       "  </tbody>\n",
       "</table>\n",
       "</div>"
      ],
      "text/plain": [
       "         days_since_prior_order_mean  order_dow1_cnt_norm  \\\n",
       "user_id                                                     \n",
       "1180                          21.800             1.000000   \n",
       "8802                          19.000             0.750000   \n",
       "8405                          13.200             0.363636   \n",
       "6535                          16.500             0.428571   \n",
       "564                           24.625             0.111111   \n",
       "\n",
       "         order_dow2_cnt_norm  order_hour_of_day1_cnt_norm  \\\n",
       "user_id                                                     \n",
       "1180                0.000000                     0.545455   \n",
       "8802                0.250000                     0.750000   \n",
       "8405                0.636364                     0.454545   \n",
       "6535                0.571429                     0.142857   \n",
       "564                 0.888889                     0.111111   \n",
       "\n",
       "         order_hour_of_day2_cnt_norm  order_hour_of_day3_cnt_norm  \\\n",
       "user_id                                                             \n",
       "1180                        0.454545                          0.0   \n",
       "8802                        0.250000                          0.0   \n",
       "8405                        0.545455                          0.0   \n",
       "6535                        0.857143                          0.0   \n",
       "564                         0.888889                          0.0   \n",
       "\n",
       "         median_itemsCnt_per_order  Label  \n",
       "user_id                                    \n",
       "1180                          18.0      2  \n",
       "8802                          17.5      2  \n",
       "8405                          18.0      2  \n",
       "6535                          12.0      2  \n",
       "564                           20.0      2  "
      ]
     },
     "execution_count": 231,
     "metadata": {},
     "output_type": "execute_result"
    }
   ],
   "source": [
    "cluster_2 = X1[(X1['Label'] == 2) & (X1.index < 10000)]\n",
    "cluster_2.head(5)"
   ]
  },
  {
   "cell_type": "code",
   "execution_count": 232,
   "metadata": {},
   "outputs": [
    {
     "data": {
      "text/html": [
       "<div>\n",
       "<style scoped>\n",
       "    .dataframe tbody tr th:only-of-type {\n",
       "        vertical-align: middle;\n",
       "    }\n",
       "\n",
       "    .dataframe tbody tr th {\n",
       "        vertical-align: top;\n",
       "    }\n",
       "\n",
       "    .dataframe thead th {\n",
       "        text-align: right;\n",
       "    }\n",
       "</style>\n",
       "<table border=\"1\" class=\"dataframe\">\n",
       "  <thead>\n",
       "    <tr style=\"text-align: right;\">\n",
       "      <th></th>\n",
       "      <th>user_id</th>\n",
       "      <th>recommend</th>\n",
       "      <th>max_freq_departments</th>\n",
       "    </tr>\n",
       "  </thead>\n",
       "  <tbody>\n",
       "    <tr>\n",
       "      <th>9948</th>\n",
       "      <td>9949</td>\n",
       "      <td>[5, 8, 10, 11, 21]</td>\n",
       "      <td>[4]</td>\n",
       "    </tr>\n",
       "    <tr>\n",
       "      <th>3240</th>\n",
       "      <td>3241</td>\n",
       "      <td>[5, 6, 10, 18, 21]</td>\n",
       "      <td>[4]</td>\n",
       "    </tr>\n",
       "    <tr>\n",
       "      <th>1076</th>\n",
       "      <td>1077</td>\n",
       "      <td>[6, 8, 10, 18, 21]</td>\n",
       "      <td>[4]</td>\n",
       "    </tr>\n",
       "    <tr>\n",
       "      <th>2898</th>\n",
       "      <td>2899</td>\n",
       "      <td>[2, 5, 8, 17, 18]</td>\n",
       "      <td>[4]</td>\n",
       "    </tr>\n",
       "    <tr>\n",
       "      <th>6042</th>\n",
       "      <td>6043</td>\n",
       "      <td>[5, 10, 12, 18, 21]</td>\n",
       "      <td>[4]</td>\n",
       "    </tr>\n",
       "  </tbody>\n",
       "</table>\n",
       "</div>"
      ],
      "text/plain": [
       "      user_id            recommend max_freq_departments\n",
       "9948     9949   [5, 8, 10, 11, 21]                  [4]\n",
       "3240     3241   [5, 6, 10, 18, 21]                  [4]\n",
       "1076     1077   [6, 8, 10, 18, 21]                  [4]\n",
       "2898     2899    [2, 5, 8, 17, 18]                  [4]\n",
       "6042     6043  [5, 10, 12, 18, 21]                  [4]"
      ]
     },
     "execution_count": 232,
     "metadata": {},
     "output_type": "execute_result"
    }
   ],
   "source": [
    "# For cluster 0:\n",
    "result_rc.iloc[[9948,3240,1076,2898,6042],]"
   ]
  },
  {
   "cell_type": "code",
   "execution_count": null,
   "metadata": {},
   "outputs": [],
   "source": [
    "# 5: alcohol\n",
    "# 10: bulk\n",
    "# 18: babies"
   ]
  },
  {
   "cell_type": "code",
   "execution_count": 233,
   "metadata": {},
   "outputs": [
    {
     "data": {
      "text/html": [
       "<div>\n",
       "<style scoped>\n",
       "    .dataframe tbody tr th:only-of-type {\n",
       "        vertical-align: middle;\n",
       "    }\n",
       "\n",
       "    .dataframe tbody tr th {\n",
       "        vertical-align: top;\n",
       "    }\n",
       "\n",
       "    .dataframe thead th {\n",
       "        text-align: right;\n",
       "    }\n",
       "</style>\n",
       "<table border=\"1\" class=\"dataframe\">\n",
       "  <thead>\n",
       "    <tr style=\"text-align: right;\">\n",
       "      <th></th>\n",
       "      <th>user_id</th>\n",
       "      <th>recommend</th>\n",
       "      <th>max_freq_departments</th>\n",
       "    </tr>\n",
       "  </thead>\n",
       "  <tbody>\n",
       "    <tr>\n",
       "      <th>4313</th>\n",
       "      <td>4314</td>\n",
       "      <td>[5, 6, 10, 12, 21]</td>\n",
       "      <td>[16]</td>\n",
       "    </tr>\n",
       "    <tr>\n",
       "      <th>8428</th>\n",
       "      <td>8429</td>\n",
       "      <td>[1, 4, 5, 9, 12]</td>\n",
       "      <td>[19]</td>\n",
       "    </tr>\n",
       "    <tr>\n",
       "      <th>7764</th>\n",
       "      <td>7765</td>\n",
       "      <td>[3, 5, 9, 10, 12]</td>\n",
       "      <td>[4]</td>\n",
       "    </tr>\n",
       "    <tr>\n",
       "      <th>2095</th>\n",
       "      <td>2096</td>\n",
       "      <td>[3, 5, 6, 9, 10]</td>\n",
       "      <td>[4]</td>\n",
       "    </tr>\n",
       "    <tr>\n",
       "      <th>6</th>\n",
       "      <td>7</td>\n",
       "      <td>[5, 6, 9, 10, 21]</td>\n",
       "      <td>[4]</td>\n",
       "    </tr>\n",
       "  </tbody>\n",
       "</table>\n",
       "</div>"
      ],
      "text/plain": [
       "      user_id           recommend max_freq_departments\n",
       "4313     4314  [5, 6, 10, 12, 21]                 [16]\n",
       "8428     8429    [1, 4, 5, 9, 12]                 [19]\n",
       "7764     7765   [3, 5, 9, 10, 12]                  [4]\n",
       "2095     2096    [3, 5, 6, 9, 10]                  [4]\n",
       "6           7   [5, 6, 9, 10, 21]                  [4]"
      ]
     },
     "execution_count": 233,
     "metadata": {},
     "output_type": "execute_result"
    }
   ],
   "source": [
    "# For cluster 1:\n",
    "result_rc.iloc[[4313,8428,7764,2095,6],]"
   ]
  },
  {
   "cell_type": "code",
   "execution_count": null,
   "metadata": {},
   "outputs": [],
   "source": [
    "# 5: alcohol\n",
    "# 9: dry food and pasta\n",
    "# 10: bulk"
   ]
  },
  {
   "cell_type": "code",
   "execution_count": 234,
   "metadata": {},
   "outputs": [
    {
     "data": {
      "text/html": [
       "<div>\n",
       "<style scoped>\n",
       "    .dataframe tbody tr th:only-of-type {\n",
       "        vertical-align: middle;\n",
       "    }\n",
       "\n",
       "    .dataframe tbody tr th {\n",
       "        vertical-align: top;\n",
       "    }\n",
       "\n",
       "    .dataframe thead th {\n",
       "        text-align: right;\n",
       "    }\n",
       "</style>\n",
       "<table border=\"1\" class=\"dataframe\">\n",
       "  <thead>\n",
       "    <tr style=\"text-align: right;\">\n",
       "      <th></th>\n",
       "      <th>user_id</th>\n",
       "      <th>recommend</th>\n",
       "      <th>max_freq_departments</th>\n",
       "    </tr>\n",
       "  </thead>\n",
       "  <tbody>\n",
       "    <tr>\n",
       "      <th>1180</th>\n",
       "      <td>1181</td>\n",
       "      <td>[4, 5, 9, 10, 12]</td>\n",
       "      <td>[7]</td>\n",
       "    </tr>\n",
       "    <tr>\n",
       "      <th>8802</th>\n",
       "      <td>8803</td>\n",
       "      <td>[5, 6, 8, 10, 11]</td>\n",
       "      <td>[4]</td>\n",
       "    </tr>\n",
       "    <tr>\n",
       "      <th>8405</th>\n",
       "      <td>8406</td>\n",
       "      <td>[3, 9, 12, 15, 20]</td>\n",
       "      <td>[16]</td>\n",
       "    </tr>\n",
       "    <tr>\n",
       "      <th>6535</th>\n",
       "      <td>6536</td>\n",
       "      <td>[5, 10, 11, 18, 21]</td>\n",
       "      <td>[4]</td>\n",
       "    </tr>\n",
       "    <tr>\n",
       "      <th>564</th>\n",
       "      <td>565</td>\n",
       "      <td>[5, 9, 10, 12, 13]</td>\n",
       "      <td>[16]</td>\n",
       "    </tr>\n",
       "  </tbody>\n",
       "</table>\n",
       "</div>"
      ],
      "text/plain": [
       "      user_id            recommend max_freq_departments\n",
       "1180     1181    [4, 5, 9, 10, 12]                  [7]\n",
       "8802     8803    [5, 6, 8, 10, 11]                  [4]\n",
       "8405     8406   [3, 9, 12, 15, 20]                 [16]\n",
       "6535     6536  [5, 10, 11, 18, 21]                  [4]\n",
       "564       565   [5, 9, 10, 12, 13]                 [16]"
      ]
     },
     "execution_count": 234,
     "metadata": {},
     "output_type": "execute_result"
    }
   ],
   "source": [
    "# For cluster 2:\n",
    "result_rc.iloc[[1180,8802,8405,6535,564],]"
   ]
  },
  {
   "cell_type": "code",
   "execution_count": null,
   "metadata": {},
   "outputs": [],
   "source": [
    "# 5: alcohol\n",
    "# 10: bulk\n",
    "# 12: meat and seafood"
   ]
  },
  {
   "cell_type": "code",
   "execution_count": null,
   "metadata": {},
   "outputs": [],
   "source": []
  },
  {
   "cell_type": "code",
   "execution_count": null,
   "metadata": {},
   "outputs": [],
   "source": []
  }
 ],
 "metadata": {
  "kernelspec": {
   "display_name": "Python 3",
   "language": "python",
   "name": "python3"
  },
  "language_info": {
   "codemirror_mode": {
    "name": "ipython",
    "version": 3
   },
   "file_extension": ".py",
   "mimetype": "text/x-python",
   "name": "python",
   "nbconvert_exporter": "python",
   "pygments_lexer": "ipython3",
   "version": "3.7.3"
  }
 },
 "nbformat": 4,
 "nbformat_minor": 2
}
